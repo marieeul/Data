{
 "cells": [
  {
   "cell_type": "markdown",
   "id": "039fd6a5-1188-40fa-bdf2-4bdaa24bed62",
   "metadata": {
    "deletable": false,
    "editable": false,
    "nbgrader": {
     "cell_type": "markdown",
     "checksum": "a40b3c067da231bda148085242bd2478",
     "grade": false,
     "grade_id": "cell-0c662d66cb68a2e8",
     "locked": true,
     "schema_version": 3,
     "solution": false,
     "task": false
    },
    "tags": []
   },
   "source": [
    "# **Problem Set 11**"
   ]
  },
  {
   "cell_type": "markdown",
   "id": "ce418ace-50ac-4ce0-955b-4cc994e92878",
   "metadata": {
    "deletable": false,
    "editable": false,
    "nbgrader": {
     "cell_type": "markdown",
     "checksum": "e00bafc7369cfe2bce1eaf1ea9291e17",
     "grade": false,
     "grade_id": "cell-8835c50569f3da7d",
     "locked": true,
     "schema_version": 3,
     "solution": false,
     "task": false
    },
    "tags": []
   },
   "source": [
    "## **Tasks**\n",
    "- Assembling A and S matrices\n",
    "- Calculating d\n",
    "- Getting the direct and indirect GWP for both cases\n",
    "- Answering the multiple choice questions\n",
    "\n",
    "## **Passing requirement**\n",
    "- **At least 80 points**\n",
    "\n",
    "**_Please run the cell below before you start the assignment_**"
   ]
  },
  {
   "cell_type": "code",
   "execution_count": null,
   "id": "54004a2d-08f1-45b4-994b-ee652c5930b0",
   "metadata": {
    "deletable": false,
    "editable": false,
    "nbgrader": {
     "cell_type": "code",
     "checksum": "f39c94bfb550f78b349e8744a1b33cfc",
     "grade": false,
     "grade_id": "cell-38606f661bf64cb2",
     "locked": true,
     "schema_version": 3,
     "solution": false,
     "task": false
    },
    "tags": []
   },
   "outputs": [],
   "source": [
    "# Import required Python libraries\n",
    "import pandas as pd\n",
    "import numpy as np\n",
    "import matplotlib.pyplot as plt\n",
    "import seaborn as sns\n",
    "\n",
    "# Folder for the files\n",
    "files_folder = \"files_PS11_V1_0/\"\n",
    "\n",
    "### In case formulas are entered in the csv files & correcting the datatypes\n",
    "def convert_formulas(matrix):\n",
    "    for row in matrix.index:\n",
    "        for column in matrix.columns:\n",
    "            if type(matrix.loc[row, column]) == str:\n",
    "                if \" \" in matrix.loc[row, column]:\n",
    "                    matrix.loc[row, column] = matrix.loc[row, column].lstrip(' ')\n",
    "                if \"=\" in matrix.loc[row, column]:\n",
    "                    matrix.loc[row, column] = matrix.loc[row, column].lstrip('=')\n",
    "                matrix.loc[row, column] = pd.eval(matrix.loc[row, column])\n",
    "    ### Get the data types right in the DataFrames\n",
    "    s = matrix.select_dtypes(include='object').columns\n",
    "    matrix[s] = matrix[s].astype(\"float64\")\n",
    "    return matrix"
   ]
  },
  {
   "cell_type": "markdown",
   "id": "0ef730b3-fe4f-47cb-b70f-d5e24cb2715b",
   "metadata": {
    "deletable": false,
    "editable": false,
    "nbgrader": {
     "cell_type": "markdown",
     "checksum": "c638c24ce19c6e8d4baf1f7a6fb2567c",
     "grade": false,
     "grade_id": "cell-8ff345f1b17b0dca",
     "locked": true,
     "schema_version": 3,
     "solution": false,
     "task": false
    },
    "tags": []
   },
   "source": [
    "_**Disclaimer**: Mainstream LCA assessments normally use commercial LCI databases, such as Ecoinvent, for their background systems. These databases are, as the name indicates, commercial in nature and are as such not open access. We are therefore using an open-access mixed-unit version of EXIOBASE. This is an Input-Output database (IOT). So for your applications, you will in principle be using an IO-Hybrid LCA model rather than a conventional process-based LCA model. Have a look at [DOI: 10.5281/zenodo.7244918] and [DIO: 10.5281/zenodo.3583070] if you are interested in more details about the dataset you will be using. Please though note, that this dataset is only intended for training purposes in this course, so if you are planning to do project or thesis work on LCA, consult your supervisor to get access to suitable databases for your purpose._"
   ]
  },
  {
   "cell_type": "markdown",
   "id": "72c53c2d-dd98-409a-8a4c-07629c37882a",
   "metadata": {
    "deletable": false,
    "editable": false,
    "nbgrader": {
     "cell_type": "markdown",
     "checksum": "9c1d2055096e61447ba1b2678b4938c3",
     "grade": false,
     "grade_id": "cell-4a4a17e8991d0879",
     "locked": true,
     "schema_version": 3,
     "solution": false,
     "task": false
    },
    "tags": []
   },
   "source": [
    "## **LCA of Coal Power Production with and without Carbon Capture and Storage**\n",
    "\n",
    "In this problem set, you will compare the environmental impacts from producing one kWh of coal based electricity with and without carbon capture and storage (CCS).\n",
    "\n",
    "The inputs from the technosphere (background processes) to the coal power process required to produce 1 kWh of electricity without CCS are given in **Foreground_Background_list_PS11.csv**."
   ]
  },
  {
   "cell_type": "markdown",
   "id": "87d73fdc-84fa-400f-8ac6-252b5b1e2187",
   "metadata": {
    "deletable": false,
    "editable": false,
    "nbgrader": {
     "cell_type": "markdown",
     "checksum": "6a9125ba720b566dfcd64fdf010cb30a",
     "grade": false,
     "grade_id": "cell-c8a14dd1ee476e1b",
     "locked": true,
     "schema_version": 3,
     "solution": false,
     "task": false
    },
    "tags": []
   },
   "source": [
    "## **1. Flowcharts** _(0 points)_\n",
    "\n",
    "Sketch two flowcharts of the inputs and outputs of the coal power process, one with and one without CCS. The emissions to air have to be represented as \"Emissions to air\" and the CCS has to be represented as well in the flowchart representing the inputs and outputs of the coal power process with CCS.\n",
    "\n",
    "Even though this question will not be graded, it is strongly recommended to try to do a sketch on your own and ask questions during tutoring if there are any."
   ]
  },
  {
   "cell_type": "markdown",
   "id": "989103ae-2db2-40e7-b8a9-070ca2cf8c27",
   "metadata": {
    "deletable": false,
    "editable": false,
    "nbgrader": {
     "cell_type": "markdown",
     "checksum": "cd4439e9270537fc0422f758d81b0d0a",
     "grade": false,
     "grade_id": "cell-8321251be9b9d71c",
     "locked": true,
     "schema_version": 3,
     "solution": false,
     "task": false
    },
    "tags": []
   },
   "source": [
    "## **2. Environmental impacts of 1 kWh of electricity for both cases** _(60 points)_"
   ]
  },
  {
   "cell_type": "markdown",
   "id": "1edfbd04-b7d0-4022-bd4b-8abeb7eeb67c",
   "metadata": {
    "deletable": false,
    "editable": false,
    "nbgrader": {
     "cell_type": "markdown",
     "checksum": "0051239556abb4019bed1cb215368528",
     "grade": false,
     "grade_id": "cell-4e8e19b69705d1cf",
     "locked": true,
     "schema_version": 3,
     "solution": false,
     "task": false
    },
    "tags": []
   },
   "source": [
    "Run the cell below to import `Aff`, `Abf`, `Afb` and `Abb` as Pandas DataFrames."
   ]
  },
  {
   "cell_type": "code",
   "execution_count": null,
   "id": "8fedf617-a899-4334-83f7-570ff1cf4a51",
   "metadata": {
    "deletable": false,
    "editable": false,
    "nbgrader": {
     "cell_type": "code",
     "checksum": "b208cd34ff2e7fe42284e152510d88ad",
     "grade": false,
     "grade_id": "cell-7b7eb383256ed5e3",
     "locked": true,
     "schema_version": 3,
     "solution": false,
     "task": false
    },
    "tags": []
   },
   "outputs": [],
   "source": [
    "Aff = convert_formulas(pd.read_csv(files_folder + 'Aff.csv', sep = ',', index_col = [0]))\n",
    "Abf = convert_formulas(pd.read_csv(files_folder + 'Abf.csv', sep = ',', index_col = [0]))\n",
    "Afb = convert_formulas(pd.read_csv(files_folder + 'Afb.csv', sep = ',', index_col = [0]))\n",
    "Abb = convert_formulas(pd.read_csv(files_folder + 'Abb.csv', sep = ',', index_col = [0]))"
   ]
  },
  {
   "cell_type": "markdown",
   "id": "f942b22c-2f90-41b0-b036-4ca42654e665",
   "metadata": {
    "deletable": false,
    "editable": false,
    "nbgrader": {
     "cell_type": "markdown",
     "checksum": "d0fd3fa74ed3bdeb03d2c40f78508571",
     "grade": false,
     "grade_id": "cell-31d73216edc08436",
     "locked": true,
     "schema_version": 3,
     "solution": false,
     "task": false
    },
    "tags": []
   },
   "source": [
    "Run the cell below to get the `C` matrix."
   ]
  },
  {
   "cell_type": "code",
   "execution_count": null,
   "id": "1c057d77-23c1-46ce-954a-88de2b6c18b3",
   "metadata": {
    "deletable": false,
    "editable": false,
    "nbgrader": {
     "cell_type": "code",
     "checksum": "1d5422ca3bf20741b8891679c197adf4",
     "grade": false,
     "grade_id": "cell-df68966ced889980",
     "locked": true,
     "schema_version": 3,
     "solution": false,
     "task": false
    },
    "tags": []
   },
   "outputs": [],
   "source": [
    "C = pd.read_csv(files_folder + 'C.csv', sep = ',', index_col = [0])"
   ]
  },
  {
   "cell_type": "markdown",
   "id": "ee4f7355-1322-49da-935f-355ab7257ef7",
   "metadata": {
    "deletable": false,
    "editable": false,
    "nbgrader": {
     "cell_type": "markdown",
     "checksum": "77a347b5fdc5aae0809c5442eaf8c268",
     "grade": false,
     "grade_id": "cell-67e3727901121159",
     "locked": true,
     "schema_version": 3,
     "solution": false,
     "task": false
    },
    "tags": []
   },
   "source": [
    "Run the cell below to get the `Sb` matrix."
   ]
  },
  {
   "cell_type": "code",
   "execution_count": null,
   "id": "7f413e2e-33e2-4aca-aa6a-7dfc0f75ba97",
   "metadata": {
    "deletable": false,
    "editable": false,
    "nbgrader": {
     "cell_type": "code",
     "checksum": "23c3295fc9417cf9c1ca2b646ff73a15",
     "grade": false,
     "grade_id": "cell-7d67f3fa67b5f10e",
     "locked": true,
     "schema_version": 3,
     "solution": false,
     "task": false
    },
    "tags": []
   },
   "outputs": [],
   "source": [
    "Sb = pd.read_csv(files_folder + 'Sb.csv', sep = ',', index_col = [0])"
   ]
  },
  {
   "cell_type": "markdown",
   "id": "f314f3e6-1bff-4198-8ff0-dd1a6b2d55b0",
   "metadata": {
    "deletable": false,
    "editable": false,
    "nbgrader": {
     "cell_type": "markdown",
     "checksum": "00c3a1dbd38d346583e9126b3a76e631",
     "grade": false,
     "grade_id": "cell-61adcae9772adc13",
     "locked": true,
     "schema_version": 3,
     "solution": false,
     "task": false
    },
    "tags": []
   },
   "source": [
    "#### **2a)** _(20 points)_ Get the `S` matrix"
   ]
  },
  {
   "cell_type": "markdown",
   "id": "50bad1b6-5f27-4786-8306-4be5987f5427",
   "metadata": {
    "deletable": false,
    "editable": false,
    "nbgrader": {
     "cell_type": "markdown",
     "checksum": "06f8f6dad8ab24817431b69273e83789",
     "grade": false,
     "grade_id": "cell-dffb65c5e7e6f77b",
     "locked": true,
     "schema_version": 3,
     "solution": false,
     "task": false
    },
    "tags": []
   },
   "source": [
    "Define `Sf` and build the entire `S` matrix. In `S`, the stressors are in kg.\n",
    "\n",
    "The direct stressors (in kg) to air per kWh of electricity are given in **Direct_stressors_list_PS11.csv** but the table is incomplete. Only the direct stressors in the case of electricity production by coal without CCS is given and you have to calculate the direct stressors for the electricity production with CCS using the following information.\n",
    "- The coal power plant with CCS is assumed to have a CO2 capture efficiency of 90%.\n",
    "- The extra CCS inputs lead to extra stressor outputs (due to the degradation of the solvent used to capture the CO2 in the flue gas). On a per kg CO2 captured basis, they are the following:\n",
    "    - 35.5 mg NH3\n",
    "    - 4.29 * 10^(-4) g NMVOC\n",
    "- The CCS process also captures several other stressors, and on a per kg CO2 captured basis, they are the following:\n",
    "    - 33.5 mg PM10\n",
    "    - 36.6 mg NOx\n",
    "    - 761 mg SOx \n",
    "    \n",
    "For filling in **Direct_stressors_list_PS11.csv**, you have different options:\n",
    "1. The easiest option for you to fill in the table is to copy-paste the table in an Excel document, do the calculations and copy-paste the results in **Direct_stressors_list_PS11.csv**. You need to be careful with the type of decimal separator used in your Excel (comma VS dot). The results in **Direct_stressors_list_PS11.csv** should be using dot as this is for Python.\n",
    "2. You can also write formulas directly in **Direct_stressors_list_PS11.csv** but your formulas should not refer to other cells like \"=C6\" (as you would do in Excel), you need to write all the numbers you are using. It looks like it works in the csv file, but when imported to Python it does not work.\n",
    "3. You can also use the pandas loc function to calculate the values of stressors."
   ]
  },
  {
   "cell_type": "code",
   "execution_count": null,
   "id": "10f81a43-bb49-47ae-97ac-f65241cbbdd8",
   "metadata": {
    "deletable": false,
    "editable": false,
    "nbgrader": {
     "cell_type": "code",
     "checksum": "df89faa54bfb875deac92ad40181a179",
     "grade": false,
     "grade_id": "cell-f0998cfb76242b52",
     "locked": true,
     "schema_version": 3,
     "solution": false,
     "task": false
    },
    "tags": []
   },
   "outputs": [],
   "source": [
    "def fill_in_Sf_from_table(Sf, table):\n",
    "    for i in Sf.index:\n",
    "        for j in Sf.columns:\n",
    "            if table[(table['Stressor'] == i) & (table['Foreground process'] == j)]['Value'].empty == False:\n",
    "                Sf.loc[i, j] = table[(table['Stressor'] == i) & (table['Foreground process'] == j)]['Value'].values[0]\n",
    "    return Sf\n",
    "\n",
    "### This is importing the table\n",
    "Sf_list = convert_formulas(pd.read_csv(files_folder + 'Direct_stressors_list_PS11.csv', sep = ',', index_col = [0, 1])).reset_index()"
   ]
  },
  {
   "cell_type": "code",
   "execution_count": null,
   "id": "ec7a1430-745f-4b09-8db6-17bdcb0ef910",
   "metadata": {
    "deletable": false,
    "nbgrader": {
     "cell_type": "code",
     "checksum": "89588877259f53bb60167f10f61aabee",
     "grade": false,
     "grade_id": "cell-d6d71317c2a4426e",
     "locked": false,
     "schema_version": 3,
     "solution": true,
     "task": false
    },
    "tags": []
   },
   "outputs": [],
   "source": [
    "# Write your answer here."
   ]
  },
  {
   "cell_type": "markdown",
   "id": "407b6cb5-28e7-4527-bdc4-870deb00c2fb",
   "metadata": {
    "deletable": false,
    "editable": false,
    "nbgrader": {
     "cell_type": "markdown",
     "checksum": "33bf46bd85e461876f51efb6da4a2f36",
     "grade": false,
     "grade_id": "cell-13e44476b1ada6a8",
     "locked": true,
     "schema_version": 3,
     "solution": false,
     "task": false
    },
    "tags": []
   },
   "source": [
    "**_Run the cell under to check the format of your answer(s)_**"
   ]
  },
  {
   "cell_type": "code",
   "execution_count": null,
   "id": "a5c2c1e1-a052-4c3d-ae90-a954baee5dd5",
   "metadata": {
    "deletable": false,
    "editable": false,
    "nbgrader": {
     "cell_type": "code",
     "checksum": "d2c5884131c6a49e607decd96726eb90",
     "grade": true,
     "grade_id": "cell-e2bc5a40a2ae97d2",
     "locked": true,
     "points": 20,
     "schema_version": 3,
     "solution": false,
     "task": false
    },
    "tags": []
   },
   "outputs": [],
   "source": [
    "assert S.isnull().values.any() == False, 'There are still NaN values in the matrix'\n",
    "assert (S.index == Sb.index).all(), 'The index do not correspond'\n",
    "assert (S.columns == list(Aff.columns) + list(Abb.columns)).all(), 'The columns do not correspond'"
   ]
  },
  {
   "cell_type": "markdown",
   "id": "a36b5a87-cece-4384-8a6d-f81cfc9f0406",
   "metadata": {
    "deletable": false,
    "editable": false,
    "nbgrader": {
     "cell_type": "markdown",
     "checksum": "f7b1eb0e0048de8ea10ad58f5ff76996",
     "grade": false,
     "grade_id": "cell-ee543b2467979d37",
     "locked": true,
     "schema_version": 3,
     "solution": false,
     "task": false
    },
    "tags": []
   },
   "source": [
    "#### **2b)** _(5 points)_ Fill in `Aff`"
   ]
  },
  {
   "cell_type": "code",
   "execution_count": null,
   "id": "1e0237da-c965-4fea-9203-452e556a8125",
   "metadata": {
    "deletable": false,
    "nbgrader": {
     "cell_type": "code",
     "checksum": "957cce7b94ef8d1ab5c39dd9b43fa297",
     "grade": false,
     "grade_id": "cell-2562e8d25636c574",
     "locked": false,
     "schema_version": 3,
     "solution": true,
     "task": false
    },
    "tags": []
   },
   "outputs": [],
   "source": [
    "# Write your answer here."
   ]
  },
  {
   "cell_type": "markdown",
   "id": "120e8ef2-f495-4008-b60e-7cdd7197e353",
   "metadata": {
    "deletable": false,
    "editable": false,
    "nbgrader": {
     "cell_type": "markdown",
     "checksum": "33e007740894ed98906d15c7c7c47c47",
     "grade": false,
     "grade_id": "cell-64628cb5baa22f4b",
     "locked": true,
     "schema_version": 3,
     "solution": false,
     "task": false
    },
    "tags": []
   },
   "source": [
    "**_Run the cell under to check the format of your answer(s)_**"
   ]
  },
  {
   "cell_type": "code",
   "execution_count": null,
   "id": "fb94591a-4a68-40d5-a857-9ef63ffe15f8",
   "metadata": {
    "deletable": false,
    "editable": false,
    "nbgrader": {
     "cell_type": "code",
     "checksum": "eea3094a4479ab8212c84c7b4fbf9557",
     "grade": true,
     "grade_id": "cell-3130a835362333c2",
     "locked": true,
     "points": 5,
     "schema_version": 3,
     "solution": false,
     "task": false
    },
    "tags": []
   },
   "outputs": [],
   "source": [
    "assert Aff.isnull().values.any() == False, 'There are still NaN values in the matrix'\n",
    "assert (Aff.index == ['coal power without ccs', 'coal power with ccs']).all(), 'The index do not correspond'\n",
    "assert (Aff.columns == ['coal power without ccs', 'coal power with ccs']).all(), 'The columns do not correspond'"
   ]
  },
  {
   "cell_type": "markdown",
   "id": "1734f299-3e33-4fa2-b9af-244161fc79f0",
   "metadata": {
    "deletable": false,
    "editable": false,
    "nbgrader": {
     "cell_type": "markdown",
     "checksum": "f94966fbc43682dc2829041f4da525e2",
     "grade": false,
     "grade_id": "cell-f5bd25ef27c9ec73",
     "locked": true,
     "schema_version": 3,
     "solution": false,
     "task": false
    },
    "tags": []
   },
   "source": [
    "#### **2c)** _(20 points)_ Fill in `Abf`"
   ]
  },
  {
   "cell_type": "markdown",
   "id": "e6858c39-ba08-4e80-9ccb-c9572d156a67",
   "metadata": {
    "deletable": false,
    "editable": false,
    "nbgrader": {
     "cell_type": "markdown",
     "checksum": "b5890bb2fb44f9c39a01055d57b7388e",
     "grade": false,
     "grade_id": "cell-a1d02ac8edc32b28",
     "locked": true,
     "schema_version": 3,
     "solution": false,
     "task": false
    },
    "tags": []
   },
   "source": [
    "Use the file **Foreground_Background_list_PS11.csv** to fill in `Abf`. Inputs to the electricity production without CCS are given but the value of \"Electrical machinery and apparatus n.e.c. (31) - tonnes\" is missing. You have to calculate it knowing that the electricity production by coal requires 0.15 tonnes of \"Electrical machinery and apparatus n.e.c. (31) - tonnes\" per TJ of electricity produced.\n",
    "\n",
    "You also have to add rows to the table to generate the inputs required for the electricity production with CCS using the following information:\n",
    "- The CCS system requires additional inputs of coal: 15% more coal is required per kWh of electricity produced.\n",
    "- There are extra operational inputs required to run the CCS system. They are the following (values are written on a per kg CO2 captured basis):\n",
    "    - 1.60 g monoethanolamine as 'Chemicals nec - tonnes'\n",
    "    - 0.13 g sodium hydroxide as 'Chemicals nec - tonnes'\n",
    "    - 3.20 g reclaimer waste as 'Other waste for treatment: waste water treatment - tonnes'\n",
    "    \n",
    "For filling in **Foreground_Background_list_PS11.csv**, you have different options:\n",
    "1. The easiest option for you to fill in the table is to copy-paste the table in an Excel document, do the calculations and copy-paste the results in **Foreground_Background_list_PS11.csv**. You need to be careful with the type of decimal separator used in your Excel (comma VS dot). The results in **Foreground_Background_list_PS11.csv** should be using dot as this is for Python.\n",
    "2. You can also write formulas directly in **Foreground_Background_list_PS11.csv** but your formulas should not refer to other cells like \"=C6\" (as you would do in Excel), you need to write all the numbers you are using. It looks like it works in the csv file, but when imported to Python it does not work.\n",
    "3. You can also use the pandas loc function to calculate the values of inputs."
   ]
  },
  {
   "cell_type": "code",
   "execution_count": null,
   "id": "34a13353-8ee3-471a-8e9c-c717eb702229",
   "metadata": {
    "deletable": false,
    "editable": false,
    "nbgrader": {
     "cell_type": "code",
     "checksum": "691713041f672b8d2bf023ac3a67f3e1",
     "grade": false,
     "grade_id": "cell-3e1733dcdc940f65",
     "locked": true,
     "schema_version": 3,
     "solution": false,
     "task": false
    },
    "tags": []
   },
   "outputs": [],
   "source": [
    "def fill_in_Abf_from_table(Abf, table):\n",
    "    for i in Abf.index:\n",
    "        for j in Abf.columns:\n",
    "            if table[(table['Background process'] == i) & (table['Foreground process'] == j)]['Value'].empty == False:\n",
    "                Abf.loc[i, j] = table[(table['Background process'] == i) & (table['Foreground process'] == j)]['Value'].values[0]\n",
    "    return Abf\n",
    "\n",
    "### This is importing the table\n",
    "Abf_list = convert_formulas(pd.read_csv(files_folder + 'Foreground_Background_list_PS11.csv', sep = ',', index_col = [0, 1])).reset_index()"
   ]
  },
  {
   "cell_type": "code",
   "execution_count": null,
   "id": "9b7de1b6-2438-4fbd-bae2-b287ddd41874",
   "metadata": {
    "deletable": false,
    "nbgrader": {
     "cell_type": "code",
     "checksum": "482f3af77188eeaeca7b7c7d16ba99b9",
     "grade": false,
     "grade_id": "cell-5e4e473b13be2fd2",
     "locked": false,
     "schema_version": 3,
     "solution": true,
     "task": false
    },
    "tags": []
   },
   "outputs": [],
   "source": [
    "# Write your answer here."
   ]
  },
  {
   "cell_type": "markdown",
   "id": "3a282ec7-5e74-49f6-927a-47bc0050943a",
   "metadata": {
    "deletable": false,
    "editable": false,
    "nbgrader": {
     "cell_type": "markdown",
     "checksum": "1188134e5b345a40a00df860b10195b7",
     "grade": false,
     "grade_id": "cell-7d8440ff2e24e162",
     "locked": true,
     "schema_version": 3,
     "solution": false,
     "task": false
    },
    "tags": []
   },
   "source": [
    "**_Run the cell under to check the format of your answer(s)_**"
   ]
  },
  {
   "cell_type": "code",
   "execution_count": null,
   "id": "93851e32-cafb-4646-a35f-6bdcb9dafd1f",
   "metadata": {
    "deletable": false,
    "editable": false,
    "nbgrader": {
     "cell_type": "code",
     "checksum": "da3175a947cca9c993842d1a6995a507",
     "grade": true,
     "grade_id": "cell-7f47ce18ea29796f",
     "locked": true,
     "points": 20,
     "schema_version": 3,
     "solution": false,
     "task": false
    },
    "tags": []
   },
   "outputs": [],
   "source": [
    "assert Abf.isnull().values.any() == False, 'There are still NaN values in the matrix'\n",
    "assert (Abf.index == Abb.columns).all(), 'The index do not correspond'\n",
    "assert (Abf.columns == Aff.columns).all(), 'The columns do not correspond'"
   ]
  },
  {
   "cell_type": "markdown",
   "id": "24d9e288-0447-4b13-86ff-21925a46f11d",
   "metadata": {
    "deletable": false,
    "editable": false,
    "nbgrader": {
     "cell_type": "markdown",
     "checksum": "7f06f4c9e520b3f381de655eb1ffdfc0",
     "grade": false,
     "grade_id": "cell-cb5ea02a3705a28e",
     "locked": true,
     "schema_version": 3,
     "solution": false,
     "task": false
    },
    "tags": []
   },
   "source": [
    "#### **2d)** _(5 points)_ Fill in `Afb`, build the `A` matrix and calculate the `L` matrix"
   ]
  },
  {
   "cell_type": "code",
   "execution_count": null,
   "id": "79798e15-906c-4a8f-bd89-dca826afa65a",
   "metadata": {
    "deletable": false,
    "nbgrader": {
     "cell_type": "code",
     "checksum": "beee1578c4a33c8a6f7f106b119bec4a",
     "grade": false,
     "grade_id": "cell-7c21777ed6e637a2",
     "locked": false,
     "schema_version": 3,
     "solution": true,
     "task": false
    },
    "tags": []
   },
   "outputs": [],
   "source": [
    "# Write your answer here."
   ]
  },
  {
   "cell_type": "markdown",
   "id": "b064ac84-eb7c-4cf3-873b-ffb04c05458e",
   "metadata": {
    "deletable": false,
    "editable": false,
    "nbgrader": {
     "cell_type": "markdown",
     "checksum": "ed7fb55f75c395f8c0402d1ccdc0feac",
     "grade": false,
     "grade_id": "cell-e1755a2912e1b038",
     "locked": true,
     "schema_version": 3,
     "solution": false,
     "task": false
    },
    "tags": []
   },
   "source": [
    "**_Run the cell under to check the format of your answer(s)_**"
   ]
  },
  {
   "cell_type": "code",
   "execution_count": null,
   "id": "11c502c0-3af9-4574-89ca-6482efbd3b1e",
   "metadata": {
    "deletable": false,
    "editable": false,
    "nbgrader": {
     "cell_type": "code",
     "checksum": "ee27a765d72ec54b3f7f69ab87713396",
     "grade": true,
     "grade_id": "cell-7ee44980afe3d251",
     "locked": true,
     "points": 5,
     "schema_version": 3,
     "solution": false,
     "task": false
    },
    "tags": []
   },
   "outputs": [],
   "source": [
    "assert (L.index == list(Aff.columns) + list(Abb.columns)).all(), 'The index do not correspond'\n",
    "assert (L.columns == list(Aff.columns) + list(Abb.columns)).all(), 'The columns do not correspond'"
   ]
  },
  {
   "cell_type": "markdown",
   "id": "b6f9626b-335f-4dcf-badf-decdb0a63ec9",
   "metadata": {
    "deletable": false,
    "editable": false,
    "nbgrader": {
     "cell_type": "markdown",
     "checksum": "33e61e781ddd203492cf9b121ef121eb",
     "grade": false,
     "grade_id": "cell-9bd8dbad233755a4",
     "locked": true,
     "schema_version": 3,
     "solution": false,
     "task": false
    },
    "tags": []
   },
   "source": [
    "#### **2e)** _(5 points)_ Calculate the output vectors `x_withoutCCS` and `x_withCCS`"
   ]
  },
  {
   "cell_type": "markdown",
   "id": "80151033-0664-417c-99a6-e922bd93ac59",
   "metadata": {
    "deletable": false,
    "editable": false,
    "nbgrader": {
     "cell_type": "markdown",
     "checksum": "f9dc28d3944feefe572b4e0692f4f68c",
     "grade": false,
     "grade_id": "cell-5e62f732087225af",
     "locked": true,
     "schema_version": 3,
     "solution": false,
     "task": false
    },
    "tags": []
   },
   "source": [
    "Calculate `x_withoutCCS` and `x_withCCS` and rename their column into \"Output\". You have to define the two vectors for the final demand: (1) 1 kWh of electricity produced by coal without CCS and (2) 1 kWh of electricity produced by coal with CCS."
   ]
  },
  {
   "cell_type": "code",
   "execution_count": null,
   "id": "7115b6e5-57dd-476a-b903-dc29d0c72de4",
   "metadata": {
    "deletable": false,
    "nbgrader": {
     "cell_type": "code",
     "checksum": "a0d2aacf2474bf07d558611a7b2d3d3b",
     "grade": false,
     "grade_id": "cell-f385fd95f31b0e39",
     "locked": false,
     "schema_version": 3,
     "solution": true,
     "task": false
    },
    "tags": []
   },
   "outputs": [],
   "source": [
    "# Write your answer here."
   ]
  },
  {
   "cell_type": "markdown",
   "id": "febf30ef-d969-499b-8b40-1b33aa08fe36",
   "metadata": {
    "deletable": false,
    "editable": false,
    "nbgrader": {
     "cell_type": "markdown",
     "checksum": "b9d03844cc591668ac4a729fa38f5caa",
     "grade": false,
     "grade_id": "cell-ca3d1ade5d7b938f",
     "locked": true,
     "schema_version": 3,
     "solution": false,
     "task": false
    },
    "tags": []
   },
   "source": [
    "**_Run the cell under to check the format of your answer(s)_**"
   ]
  },
  {
   "cell_type": "code",
   "execution_count": null,
   "id": "bd5307ad-6856-40f6-b171-f62730a572c8",
   "metadata": {
    "deletable": false,
    "editable": false,
    "nbgrader": {
     "cell_type": "code",
     "checksum": "27e4dfddc6641c18a2b12480df38d58f",
     "grade": true,
     "grade_id": "cell-0b3ed46ec78b38e1",
     "locked": true,
     "points": 5,
     "schema_version": 3,
     "solution": false,
     "task": false
    },
    "tags": []
   },
   "outputs": [],
   "source": [
    "assert (x_withoutCCS.index == list(Aff.columns) + list(Abb.columns)).all(), 'The index do not correspond'\n",
    "assert (x_withoutCCS.columns == ['Output']).all(), 'The columns do not correspond'\n",
    "assert (x_withCCS.index == list(Aff.columns) + list(Abb.columns)).all(), 'The index do not correspond'\n",
    "assert (x_withCCS.columns == ['Output']).all(), 'The columns do not correspond'"
   ]
  },
  {
   "cell_type": "markdown",
   "id": "876783cb-4629-4ac7-81f3-7454ea4bca43",
   "metadata": {
    "deletable": false,
    "editable": false,
    "nbgrader": {
     "cell_type": "markdown",
     "checksum": "876f4674dc81e2144f005b7c4e8a9b20",
     "grade": false,
     "grade_id": "cell-fa28efd6f0d205e0",
     "locked": true,
     "schema_version": 3,
     "solution": false,
     "task": false
    },
    "tags": []
   },
   "source": [
    "#### **2f)** _(5 points)_ Calculate `d_withoutCCS` and `d_withCCS` and rename their column into \"Total impacts\""
   ]
  },
  {
   "cell_type": "code",
   "execution_count": null,
   "id": "2ce18780-2ee5-4c76-976c-252623192cf2",
   "metadata": {
    "deletable": false,
    "nbgrader": {
     "cell_type": "code",
     "checksum": "788cbbb75a0b4d44e2f81860cae5ae8d",
     "grade": false,
     "grade_id": "cell-25c162b3444cf9d5",
     "locked": false,
     "schema_version": 3,
     "solution": true,
     "task": false
    },
    "tags": []
   },
   "outputs": [],
   "source": [
    "# Write your answer here."
   ]
  },
  {
   "cell_type": "markdown",
   "id": "3a7699e5-a54c-415f-a93e-6a087f44023f",
   "metadata": {
    "deletable": false,
    "editable": false,
    "nbgrader": {
     "cell_type": "markdown",
     "checksum": "0ee938b154d8b274acf52ab153957c73",
     "grade": false,
     "grade_id": "cell-0b08882552a35b6c",
     "locked": true,
     "schema_version": 3,
     "solution": false,
     "task": false
    },
    "tags": []
   },
   "source": [
    "**_Run the cell under to check the format of your answer(s)_**"
   ]
  },
  {
   "cell_type": "code",
   "execution_count": null,
   "id": "0d3eb93f-b6bd-414f-976c-1d2449c331e1",
   "metadata": {
    "deletable": false,
    "editable": false,
    "nbgrader": {
     "cell_type": "code",
     "checksum": "d3d4c7fe6c9a2c5e81367adc72c59803",
     "grade": true,
     "grade_id": "cell-1b8c859c614dca7a",
     "locked": true,
     "points": 5,
     "schema_version": 3,
     "solution": false,
     "task": false
    },
    "tags": []
   },
   "outputs": [],
   "source": [
    "assert (d_withoutCCS.index == C.index).all(), 'The index do not correspond'\n",
    "assert (d_withoutCCS.columns == ['Total impacts']).all(), 'The columns do not correspond'\n",
    "assert (d_withCCS.index == C.index).all(), 'The index do not correspond'\n",
    "assert (d_withCCS.columns == ['Total impacts']).all(), 'The columns do not correspond'"
   ]
  },
  {
   "cell_type": "markdown",
   "id": "b63a6e0a-0026-4942-92dc-318a91640df5",
   "metadata": {
    "deletable": false,
    "editable": false,
    "nbgrader": {
     "cell_type": "markdown",
     "checksum": "26344248f69b1aedf42e7c263d009904",
     "grade": false,
     "grade_id": "cell-7d1fc3f4bec8dd0b",
     "locked": true,
     "schema_version": 3,
     "solution": false,
     "task": false
    },
    "tags": []
   },
   "source": [
    "## **3. Comparison GWP100 for both cases** _(20 points)_\n",
    "\n",
    "Compare the total GWP100 (Climate change) impacts for both cases. How much better is the CCS power plant?\n",
    "\n",
    "1. The GHG emissions are reduced by 75%.\n",
    "2. The GHG emissions are reduced by 57%.\n",
    "3. The GHG emissions are reduced by 65%.\n",
    "\n",
    "Define your answer as the variable `answer_3a` (e.g. `answer_3a = {1}` if you think the correct statement is statement {1} or `answer_3a = {1, 2}` if you think the correct statements are statements {1, 2})."
   ]
  },
  {
   "cell_type": "code",
   "execution_count": null,
   "id": "ae395c53-53f2-48b2-a35d-049d76b0479a",
   "metadata": {
    "deletable": false,
    "nbgrader": {
     "cell_type": "code",
     "checksum": "2156805445048ad37b30fb94e3cea1f9",
     "grade": false,
     "grade_id": "cell-8b557c22a345937f",
     "locked": false,
     "schema_version": 3,
     "solution": true,
     "task": false
    },
    "tags": []
   },
   "outputs": [],
   "source": [
    "# Write your answer here."
   ]
  },
  {
   "cell_type": "markdown",
   "id": "6b8d3c47-7004-4801-a8cb-6c01d2068e02",
   "metadata": {
    "deletable": false,
    "editable": false,
    "nbgrader": {
     "cell_type": "markdown",
     "checksum": "adeb9f5dae198ef91d176c8b7a3d1c80",
     "grade": false,
     "grade_id": "cell-d8ab61a3700861a7",
     "locked": true,
     "schema_version": 3,
     "solution": false,
     "task": false
    },
    "tags": []
   },
   "source": [
    "**_Run the cell under to check the format of your answer(s)_**"
   ]
  },
  {
   "cell_type": "code",
   "execution_count": null,
   "id": "d800e380-9483-4c4d-a322-39955896d3c9",
   "metadata": {
    "deletable": false,
    "editable": false,
    "nbgrader": {
     "cell_type": "code",
     "checksum": "6f0452380215fcf6354ecea01588dec9",
     "grade": true,
     "grade_id": "cell-9d68bd79f3d30a54",
     "locked": true,
     "points": 5,
     "schema_version": 3,
     "solution": false,
     "task": false
    },
    "tags": []
   },
   "outputs": [],
   "source": [
    "assert all (type(i) in [set] for i in [answer_3a]), 'The answer(s) must be a set of values'"
   ]
  },
  {
   "cell_type": "markdown",
   "id": "932d4a3b-7a66-43bb-8d70-835659491447",
   "metadata": {
    "deletable": false,
    "editable": false,
    "nbgrader": {
     "cell_type": "markdown",
     "checksum": "2560a92aeadc14d762f43158b10a5afb",
     "grade": false,
     "grade_id": "cell-227bd64fa57b05ac",
     "locked": true,
     "schema_version": 3,
     "solution": false,
     "task": false
    },
    "tags": []
   },
   "source": [
    "You have to fill in the table `GWP_comparison_direct_indirect` which is for breaking down the GWP impacts between direct (i.e. from operational coal power emissions) and indirect GWP impacts."
   ]
  },
  {
   "cell_type": "code",
   "execution_count": null,
   "id": "e7e120a7-7d2d-41d8-9381-317a1b9da306",
   "metadata": {
    "deletable": false,
    "editable": false,
    "nbgrader": {
     "cell_type": "code",
     "checksum": "9b7dbd7993221d7a2b83f1066eb92416",
     "grade": false,
     "grade_id": "cell-d90c3721616d0b63",
     "locked": true,
     "schema_version": 3,
     "solution": false,
     "task": false
    },
    "tags": []
   },
   "outputs": [],
   "source": [
    "GWP_comparison_direct_indirect = pd.DataFrame(index = ['direct impact', 'indirect impact'], columns = ['coal power without ccs', 'coal power with ccs'], dtype = float)\n",
    "display(GWP_comparison_direct_indirect)"
   ]
  },
  {
   "cell_type": "code",
   "execution_count": null,
   "id": "6ec2d4c0-db2c-4a66-ba16-d1fde679a678",
   "metadata": {
    "deletable": false,
    "nbgrader": {
     "cell_type": "code",
     "checksum": "debc8994f9e6153b37bc9bbfcfd5073e",
     "grade": false,
     "grade_id": "cell-b61fba51fbba9688",
     "locked": false,
     "schema_version": 3,
     "solution": true,
     "task": false
    },
    "tags": []
   },
   "outputs": [],
   "source": [
    "# Write your answer here."
   ]
  },
  {
   "cell_type": "markdown",
   "id": "b1fba711-a494-4804-8fb6-e509071e22cc",
   "metadata": {
    "deletable": false,
    "editable": false,
    "nbgrader": {
     "cell_type": "markdown",
     "checksum": "20d8299efba864f32c7cccfacba2dde9",
     "grade": false,
     "grade_id": "cell-b119772e71562ea2",
     "locked": true,
     "schema_version": 3,
     "solution": false,
     "task": false
    },
    "tags": []
   },
   "source": [
    "**_Run the cell under to check the format of your answer(s)_**"
   ]
  },
  {
   "cell_type": "code",
   "execution_count": null,
   "id": "628ade3b-9e5b-4944-9ea0-92acc4be308a",
   "metadata": {
    "deletable": false,
    "editable": false,
    "nbgrader": {
     "cell_type": "code",
     "checksum": "f8417661594b8d31ec809253750b769d",
     "grade": true,
     "grade_id": "cell-20984f5ea9b91fa4",
     "locked": true,
     "points": 10,
     "schema_version": 3,
     "solution": false,
     "task": false
    },
    "tags": []
   },
   "outputs": [],
   "source": [
    "assert GWP_comparison_direct_indirect.isnull().values.any() == False, 'There are still NaN values in the matrix'\n",
    "assert np.round(GWP_comparison_direct_indirect.sum().loc['coal power without ccs']) == np.round(d_withoutCCS.loc[\"Climate change - GWP100 (kg CO2-eq)\", 'Total impacts']), 'The sum of direct + indirect should be the same value as in d'\n",
    "assert np.round(GWP_comparison_direct_indirect.sum().loc['coal power with ccs']) == np.round(d_withCCS.loc[\"Climate change - GWP100 (kg CO2-eq)\", 'Total impacts']), 'The sum of direct + indirect should be the same value as in d'\n",
    "assert (GWP_comparison_direct_indirect.index == ['direct impact', 'indirect impact']).all(), 'The index do not correspond'\n",
    "assert (GWP_comparison_direct_indirect.columns == ['coal power without ccs', 'coal power with ccs']).all(), 'The columns do not correspond'"
   ]
  },
  {
   "cell_type": "markdown",
   "id": "0f0e78d6-38f5-4479-a1bf-f1dd2b4937a3",
   "metadata": {
    "deletable": false,
    "editable": false,
    "nbgrader": {
     "cell_type": "markdown",
     "checksum": "a207928dc4f542d247785b4afb7a4b8a",
     "grade": false,
     "grade_id": "cell-0f4864f4ae3f14a7",
     "locked": true,
     "schema_version": 3,
     "solution": false,
     "task": false
    },
    "tags": []
   },
   "source": [
    "How much potential GWP mitigation is lost due to the indirect impacts of the extra inputs and waste disposal required? \n",
    " \n",
    "1. CCS reduces direct impacts by 90%.\n",
    "2. CCS reduces direct impacts by 75%.\n",
    "3. CCS reduces indirect impacts by 75%.\n",
    "4. CCS increase indirect impacts by 19%.\n",
    "\n",
    "Define your answer as the variable `answer_3b` (e.g. `answer_3b = {1}` if you think the correct statement is statement {1} or `answer_3b = {1, 2}` if you think the correct statements are statements {1, 2})."
   ]
  },
  {
   "cell_type": "code",
   "execution_count": null,
   "id": "363e7211-b0b4-40cd-880b-8ae35223d939",
   "metadata": {
    "deletable": false,
    "nbgrader": {
     "cell_type": "code",
     "checksum": "fe90855b66ec38abee366204a247374c",
     "grade": false,
     "grade_id": "cell-f1934291a1d95b7f",
     "locked": false,
     "schema_version": 3,
     "solution": true,
     "task": false
    },
    "tags": []
   },
   "outputs": [],
   "source": [
    "# Write your answer here."
   ]
  },
  {
   "cell_type": "markdown",
   "id": "e454dfa7-3cdb-4f6c-9b69-d4b39dc9f3e3",
   "metadata": {
    "deletable": false,
    "editable": false,
    "nbgrader": {
     "cell_type": "markdown",
     "checksum": "84850f3b8b9a6fd63f6ac9b3f2ac5d00",
     "grade": false,
     "grade_id": "cell-ce491f81e41189d9",
     "locked": true,
     "schema_version": 3,
     "solution": false,
     "task": false
    },
    "tags": []
   },
   "source": [
    "**_Run the cell under to check the format of your answer(s)_**"
   ]
  },
  {
   "cell_type": "code",
   "execution_count": null,
   "id": "5349b2b1-5bfe-4914-a43e-d436d2e4662e",
   "metadata": {
    "deletable": false,
    "editable": false,
    "nbgrader": {
     "cell_type": "code",
     "checksum": "90926c77fa1f0f75dbe227bb32aadc69",
     "grade": true,
     "grade_id": "cell-902bdc73ad1dc46a",
     "locked": true,
     "points": 5,
     "schema_version": 3,
     "solution": false,
     "task": false
    },
    "tags": []
   },
   "outputs": [],
   "source": [
    "assert all (type(i) in [set] for i in [answer_3b]), 'The answer(s) must be a set of values'"
   ]
  },
  {
   "cell_type": "markdown",
   "id": "67a8cdd6-b3bf-4723-a072-395541bc9cee",
   "metadata": {
    "deletable": false,
    "editable": false,
    "nbgrader": {
     "cell_type": "markdown",
     "checksum": "90c842f44f2aa52d5857f577427aaf8d",
     "grade": false,
     "grade_id": "cell-86ce9c27a0130aa2",
     "locked": true,
     "schema_version": 3,
     "solution": false,
     "task": false
    },
    "tags": []
   },
   "source": [
    "## **4. Other impacts categories** _(20 points)_"
   ]
  },
  {
   "cell_type": "markdown",
   "id": "55683a45-23a2-4e1a-82a7-4afa34f28162",
   "metadata": {
    "deletable": false,
    "editable": false,
    "nbgrader": {
     "cell_type": "markdown",
     "checksum": "c9ae28e78573a348cbda46aa6692ebd7",
     "grade": false,
     "grade_id": "cell-da663fd790ca83bb",
     "locked": true,
     "schema_version": 3,
     "solution": false,
     "task": false
    },
    "tags": []
   },
   "source": [
    "Which one(s) of these statements are correct?\n",
    "\n",
    "1. CCS is reducing impacts for all categories.\n",
    "2. CCS is creating some problem shifting when it comes to the impacts generated by the electricity production.\n",
    "3. Only for acidification, climate change and photochemical oxidation, the CCS case reduces the impacts compared to the case without CCS.\n",
    "4. Human and freshwater toxicity increase by around 20% when the CCS is being used for the electricity production.\n",
    "\n",
    "Define your answer as the variable `answer_4a` (e.g. `answer_4a = {1}` if you think the correct statement is statement {1} or `answer_4a = {1, 2}` if you think the correct statements are statements {1, 2})."
   ]
  },
  {
   "cell_type": "code",
   "execution_count": null,
   "id": "3f1585f1-1eec-4b87-800a-0659ea223921",
   "metadata": {
    "deletable": false,
    "nbgrader": {
     "cell_type": "code",
     "checksum": "8f16694a8aefdee0b4fcad586a9c7ce2",
     "grade": false,
     "grade_id": "cell-d1d1720644f78c1b",
     "locked": false,
     "schema_version": 3,
     "solution": true,
     "task": false
    },
    "tags": []
   },
   "outputs": [],
   "source": [
    "# Write your answer here."
   ]
  },
  {
   "cell_type": "markdown",
   "id": "dfaef870-b47f-4883-abc5-dd5d81041e5e",
   "metadata": {
    "deletable": false,
    "editable": false,
    "nbgrader": {
     "cell_type": "markdown",
     "checksum": "e957f03abc2f75657a9300f5892e5c45",
     "grade": false,
     "grade_id": "cell-9aa6133d78585085",
     "locked": true,
     "schema_version": 3,
     "solution": false,
     "task": false
    },
    "tags": []
   },
   "source": [
    "**_Run the cell under to check the format of your answer(s)_**"
   ]
  },
  {
   "cell_type": "code",
   "execution_count": null,
   "id": "6c8efacb-6593-4fb1-8264-837103254225",
   "metadata": {
    "deletable": false,
    "editable": false,
    "nbgrader": {
     "cell_type": "code",
     "checksum": "d5e41e94032372b32d64cb61170fb4e4",
     "grade": true,
     "grade_id": "cell-898baff9cd3a6e1b",
     "locked": true,
     "points": 10,
     "schema_version": 3,
     "solution": false,
     "task": false
    },
    "tags": []
   },
   "outputs": [],
   "source": [
    "assert all (type(i) in [set] for i in [answer_4a]), 'The answer(s) must be a set of values'"
   ]
  },
  {
   "cell_type": "markdown",
   "id": "f70c71a0-057a-4cc9-abc6-ef4a01087b83",
   "metadata": {
    "deletable": false,
    "editable": false,
    "nbgrader": {
     "cell_type": "markdown",
     "checksum": "6468b24c38b2676be8dacffaeffc2c08",
     "grade": false,
     "grade_id": "cell-d326953fca318955",
     "locked": true,
     "schema_version": 3,
     "solution": false,
     "task": false
    },
    "tags": []
   },
   "source": [
    "1. With CCS, NH3 contributing to human toxicity increases by around 680%.\n",
    "2. With CCS, the CO2 contributing to climate change decreases by 90%.\n",
    "3. Besides CO2, all the other stressors contributing to climate change increase when CCS is implemented.\n",
    "4. NOx is the second largest contributor to acidification both for electricity produced without CCS and with CCS. \n",
    "\n",
    "Define your answer as the variable `answer_4b` (e.g. `answer_4b = {1}` if you think the correct statement is statement {1} or `answer_4b = {1, 2}` if you think the correct statements are statements {1, 2})."
   ]
  },
  {
   "cell_type": "code",
   "execution_count": null,
   "id": "4114fd75-5713-4693-8d2b-43bfacd8b172",
   "metadata": {
    "deletable": false,
    "nbgrader": {
     "cell_type": "code",
     "checksum": "0089064f8e2b16055b4a68872440054b",
     "grade": false,
     "grade_id": "cell-673f46ade6ba8e3b",
     "locked": false,
     "schema_version": 3,
     "solution": true,
     "task": false
    },
    "tags": []
   },
   "outputs": [],
   "source": [
    "# Write your answer here."
   ]
  },
  {
   "cell_type": "markdown",
   "id": "046b89cd-c691-4d6f-a461-e901daeeabd4",
   "metadata": {
    "deletable": false,
    "editable": false,
    "nbgrader": {
     "cell_type": "markdown",
     "checksum": "094ded03fc415fe71125e33c3b09853a",
     "grade": false,
     "grade_id": "cell-95d9b648a6fe487f",
     "locked": true,
     "schema_version": 3,
     "solution": false,
     "task": false
    },
    "tags": []
   },
   "source": [
    "**_Run the cell under to check the format of your answer(s)_**"
   ]
  },
  {
   "cell_type": "code",
   "execution_count": null,
   "id": "083363a5-1805-4a42-920a-fea72be9ec05",
   "metadata": {
    "deletable": false,
    "editable": false,
    "nbgrader": {
     "cell_type": "code",
     "checksum": "6aaba55607bf3374f1b2d7f013c285c5",
     "grade": true,
     "grade_id": "cell-1a3b53ae3e7c0fd6",
     "locked": true,
     "points": 10,
     "schema_version": 3,
     "solution": false,
     "task": false
    },
    "tags": []
   },
   "outputs": [],
   "source": [
    "assert all (type(i) in [set] for i in [answer_4b]), 'The answer(s) must be a set of values'"
   ]
  }
 ],
 "metadata": {
  "kernelspec": {
   "display_name": "Python 3 (ipykernel)",
   "language": "python",
   "name": "python3"
  },
  "language_info": {
   "codemirror_mode": {
    "name": "ipython",
    "version": 3
   },
   "file_extension": ".py",
   "mimetype": "text/x-python",
   "name": "python",
   "nbconvert_exporter": "python",
   "pygments_lexer": "ipython3",
   "version": "3.11.6"
  }
 },
 "nbformat": 4,
 "nbformat_minor": 5
}
