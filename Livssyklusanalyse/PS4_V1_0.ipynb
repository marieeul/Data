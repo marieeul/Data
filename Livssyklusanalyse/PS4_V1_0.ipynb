{
 "cells": [
  {
   "cell_type": "markdown",
   "id": "6ecfa271-9834-420c-a062-917cf49b542d",
   "metadata": {
    "deletable": false,
    "editable": false,
    "nbgrader": {
     "cell_type": "markdown",
     "checksum": "5a423484288ad5bddd135077fa4e1bdc",
     "grade": false,
     "grade_id": "cell-5675b570cba30588",
     "locked": true,
     "schema_version": 3,
     "solution": false,
     "task": false
    },
    "tags": []
   },
   "source": [
    "# **Problem Set 4**\n",
    "\n",
    "## **To keep in mind when completing the assignment: You should enter formulas when you are doing calculations, no rounded values.**  \n",
    "_Doing the calculations manually with a calculator and then enter the value might return your answer as incorrect if your rounding is not the same as the one from the autograding._"
   ]
  },
  {
   "cell_type": "markdown",
   "id": "8a94319b-f5d9-4bc8-93f2-cb2649e98eaa",
   "metadata": {
    "deletable": false,
    "editable": false,
    "nbgrader": {
     "cell_type": "markdown",
     "checksum": "bad2aadb96862f4fd55ad531c17c44c4",
     "grade": false,
     "grade_id": "cell-b73e9f21165b5a91",
     "locked": true,
     "schema_version": 3,
     "solution": false,
     "task": false
    },
    "tags": []
   },
   "source": [
    "## **Tasks**\n",
    "- For part 1, you should answer the multiple choice questions about the differences between the substitution approach and the partitioning approach, and pros and cons of both approaches.\n",
    "- For part 2, apply substitution allocation for electricity and heat production respectively, and partitioning based on energy and cost, using equations.\n",
    "- For part 3, construct and show the Aff, Abf and Sf matrices for electricity and heat production respectively, and partitioning based on energy and cost. Calculate the different emissions for all four cases.\n",
    "\n",
    "## **Passing requirement**\n",
    "- **At least 80 points**\n",
    "\n",
    "**_Please run the cell below before you start the assignment_**"
   ]
  },
  {
   "cell_type": "code",
   "execution_count": 1,
   "id": "368e0a30-86f1-463c-95cb-e31021cbaa5f",
   "metadata": {
    "deletable": false,
    "editable": false,
    "nbgrader": {
     "cell_type": "code",
     "checksum": "badc4aa43cf0de5320b0d322922c6bb6",
     "grade": false,
     "grade_id": "cell-62bcb2524f0b9e41",
     "locked": true,
     "schema_version": 3,
     "solution": false,
     "task": false
    },
    "tags": []
   },
   "outputs": [],
   "source": [
    "# Import required Python libraries\n",
    "import pandas as pd\n",
    "import numpy as np\n",
    "import matplotlib.pyplot as plt\n",
    "import seaborn as sns\n",
    "\n",
    "# Folder for the files\n",
    "files_folder = \"files_PS4_V1_0/\"\n",
    "\n",
    "### In case formulas are entered in the csv files & correcting the datatypes\n",
    "def convert_formulas(matrix):\n",
    "    for row in matrix.index:\n",
    "        for column in matrix.columns:\n",
    "            if type(matrix.loc[row, column]) == str:\n",
    "                if \" \" in matrix.loc[row, column]:\n",
    "                    matrix.loc[row, column] = matrix.loc[row, column].lstrip(' ')\n",
    "                if \"=\" in matrix.loc[row, column]:\n",
    "                    matrix.loc[row, column] = matrix.loc[row, column].lstrip('=')\n",
    "                matrix.loc[row, column] = pd.eval(matrix.loc[row, column])\n",
    "    ### Get the data types right in the DataFrames\n",
    "    s = matrix.select_dtypes(include='object').columns\n",
    "    matrix[s] = matrix[s].astype(\"float64\")\n",
    "    return matrix"
   ]
  },
  {
   "cell_type": "markdown",
   "id": "a405b703-8bbe-4cab-ad5f-bd223f1e13d4",
   "metadata": {
    "deletable": false,
    "editable": false,
    "nbgrader": {
     "cell_type": "markdown",
     "checksum": "1a3f47efcc98c8ac9fb27c514071073d",
     "grade": false,
     "grade_id": "cell-6edfdae6af5ca874",
     "locked": true,
     "schema_version": 3,
     "solution": false,
     "task": false
    },
    "tags": []
   },
   "source": [
    "## **Combined heat and power (CHP) Problem**\n",
    "\n",
    "Consider a combined heat and power (CHP) plant which uses natural gas as its input. This is a process that produces two joint products that cannot be disaggregated effectively. Thus, allocation is necessary in order to understand the impact due to each unit of its products.\n",
    "\n",
    "Assume this CHP has an overall efficiency of 87 per cent. Hence, for every kilowatt-hour (kWh) of natural gas input, it produces 0.31 kWh of electricity and 0.56 kWh of heat.\n",
    "\n",
    "The direct CO$_2$ emissions per kWh of electricity and heat from a natural gas fired CHP are 230 g CO$_2$ [1] (i.e. per kWh of useful energy output). Assume that there are no other emissions. Your task is to find the GWP allocated to the production of one unit of electricity and one unit of heat from the CHP plant, based on the information given below.\n",
    "\n",
    "References: \n",
    "[1] Nilsson, M. and Stromberg, P, 2000, Evaluation of different methods for allocation in co-generation, Final Report\n",
    "\n",
    "The figure below presents the CHP system - it is without numbers but gives an idea of how the system works:\n",
    "\n",
    "<img src=\"files_PS4_V1_0/figure_CHP_nonumbers.png\" width=\"700\">\n"
   ]
  },
  {
   "cell_type": "markdown",
   "id": "85bca770-de5e-47db-a46f-68f1ca22fd13",
   "metadata": {
    "deletable": false,
    "editable": false,
    "nbgrader": {
     "cell_type": "markdown",
     "checksum": "f96e0b924eafc444573d9dd84f9764de",
     "grade": false,
     "grade_id": "cell-173a3195dd5c7fc5",
     "locked": true,
     "schema_version": 3,
     "solution": false,
     "task": false
    },
    "tags": []
   },
   "source": [
    "## **Part 1. Allocation theory** _(20 points)_"
   ]
  },
  {
   "cell_type": "markdown",
   "id": "d9ce528e-41f7-4019-9076-fb034a14d7e3",
   "metadata": {
    "deletable": false,
    "editable": false,
    "nbgrader": {
     "cell_type": "markdown",
     "checksum": "c94e923630d70c7e5cc081d0711b6838",
     "grade": false,
     "grade_id": "cell-2e72c1c98046d744",
     "locked": true,
     "schema_version": 3,
     "solution": false,
     "task": false
    },
    "tags": []
   },
   "source": [
    "In this section, you have to answer multiple choice questions to show that you understand (1) what is meant with allocation, (2) the difference between the substitution approach and the partitioning approach and (3) give pros and cons of both approaches.\n",
    "\n",
    "As a point of reference you may want to look into what the ISO 14044:2006 guidelines (section 4.3.4 Allocation) say about allocation procedures in LCA on pg. 24 section 4.3.4.2. You can access this document at https://i.ntnu.no/wiki/-/wiki/English/Standards in the database ‘Standard.no’."
   ]
  },
  {
   "cell_type": "markdown",
   "id": "44a1773b-0a43-4f88-9a0c-759c2b1b820a",
   "metadata": {
    "deletable": false,
    "editable": false,
    "nbgrader": {
     "cell_type": "markdown",
     "checksum": "7238268a89062eb12a09c119645aecdf",
     "grade": false,
     "grade_id": "cell-c9b2c0b2dca600b1",
     "locked": true,
     "schema_version": 3,
     "solution": false,
     "task": false
    },
    "tags": []
   },
   "source": [
    "#### **1a)** _(5 points)_ Which one(s) of these statement(s) is/are correct?\n",
    "\n",
    "1. Allocation means dividing the emissions from a process producing more than one product on the different products.\n",
    "2. Allocation means giving the spatial location of different products produced by the process production.\n",
    "3. Allocation is a method for handling by-products.\n",
    " \n",
    "Define your answer as the variable `answer_1a` (e.g. `answer_1a = {1}` if you think the correct statement is statement {1} and `answer_1a = {1, 2}` if you think the correct statements are statements {1, 2})."
   ]
  },
  {
   "cell_type": "code",
   "execution_count": 2,
   "id": "604d490e-1ea2-448b-8025-2d4d023cfc03",
   "metadata": {
    "deletable": false,
    "nbgrader": {
     "cell_type": "code",
     "checksum": "10474a03778f9e92b967e6015e213985",
     "grade": false,
     "grade_id": "cell-632ddfc4a9c83b23",
     "locked": false,
     "schema_version": 3,
     "solution": true,
     "task": false
    },
    "tags": []
   },
   "outputs": [],
   "source": [
    "answer_1a = {1, 3}"
   ]
  },
  {
   "cell_type": "markdown",
   "id": "1ef5305e-07d1-43aa-8186-f67ddee920b6",
   "metadata": {
    "deletable": false,
    "editable": false,
    "nbgrader": {
     "cell_type": "markdown",
     "checksum": "017cedf9eacff4f478d3ebdd6741bd74",
     "grade": false,
     "grade_id": "cell-e9e85fab34c3c3cf",
     "locked": true,
     "schema_version": 3,
     "solution": false,
     "task": false
    },
    "tags": []
   },
   "source": [
    "**_Run the cell under to check the format of your answer(s)_**"
   ]
  },
  {
   "cell_type": "code",
   "execution_count": 3,
   "id": "c1dc7153-c8bc-4aa2-b24a-8064455b0419",
   "metadata": {
    "deletable": false,
    "editable": false,
    "nbgrader": {
     "cell_type": "code",
     "checksum": "4a2f1a7dd08eb9a5c55f4be990b75bee",
     "grade": true,
     "grade_id": "cell-fb9a243facd59255",
     "locked": true,
     "points": 5,
     "schema_version": 3,
     "solution": false,
     "task": false
    },
    "tags": []
   },
   "outputs": [],
   "source": [
    "assert all (type(i) in [set] for i in [answer_1a]), 'The answer(s) must be a set of values'"
   ]
  },
  {
   "cell_type": "markdown",
   "id": "a36a4d9b-c2c8-45d1-99e3-7df800285baa",
   "metadata": {
    "deletable": false,
    "editable": false,
    "nbgrader": {
     "cell_type": "markdown",
     "checksum": "383680d520a90db9ead3c2620cdf1648",
     "grade": false,
     "grade_id": "cell-575ad6a0c52a72ed",
     "locked": true,
     "schema_version": 3,
     "solution": false,
     "task": false
    },
    "tags": []
   },
   "source": [
    "#### **1b)** _(5 points)_ Substitution or partitioning?\n",
    "\n",
    "If we assume:\n",
    "1. Substitution\n",
    "2. Partitioning\n",
    "\n",
    "Which type of allocation \"divides the emissions by assuming that one of the products is produced using an alternative technology.\"?\n",
    "\n",
    "Define your answer as the variable `answer_1b` (e.g. `answer_1b = {1}` if you think the correct answer is \"1. Substitution\" and `answer_1b = {2}` if you think the correct answer is \"2. Partitioning\")."
   ]
  },
  {
   "cell_type": "code",
   "execution_count": 4,
   "id": "fbb0e8fc-6d73-4645-ac9e-08a62fa4ff28",
   "metadata": {
    "deletable": false,
    "nbgrader": {
     "cell_type": "code",
     "checksum": "4811ab1996a054722a72e160162c3645",
     "grade": false,
     "grade_id": "cell-743e60c1fc36dd04",
     "locked": false,
     "schema_version": 3,
     "solution": true,
     "task": false
    },
    "tags": []
   },
   "outputs": [],
   "source": [
    "answer_1b = {1}"
   ]
  },
  {
   "cell_type": "markdown",
   "id": "e72c8b97-1f39-4929-8bf3-437979f04085",
   "metadata": {
    "deletable": false,
    "editable": false,
    "nbgrader": {
     "cell_type": "markdown",
     "checksum": "81f43b659865aec089b4e54a3157c689",
     "grade": false,
     "grade_id": "cell-50f3b84c7220a3ce",
     "locked": true,
     "schema_version": 3,
     "solution": false,
     "task": false
    },
    "tags": []
   },
   "source": [
    "**_Run the cell under to check the format of your answer(s)_**"
   ]
  },
  {
   "cell_type": "code",
   "execution_count": 5,
   "id": "0830008e-8959-415b-8968-f4a397b128c0",
   "metadata": {
    "deletable": false,
    "editable": false,
    "nbgrader": {
     "cell_type": "code",
     "checksum": "3b0d4ab067d0743ed3adca770b28b113",
     "grade": true,
     "grade_id": "cell-c421167bfd4e77b9",
     "locked": true,
     "points": 5,
     "schema_version": 3,
     "solution": false,
     "task": false
    },
    "tags": []
   },
   "outputs": [],
   "source": [
    "assert all (type(i) in [set] for i in [answer_1b]), 'The answer(s) must be a set of values'"
   ]
  },
  {
   "cell_type": "markdown",
   "id": "f1fe1430-d315-4538-9809-72a50775a707",
   "metadata": {
    "deletable": false,
    "editable": false,
    "nbgrader": {
     "cell_type": "markdown",
     "checksum": "e95691e319f8f4fbe6c29ada89fa6c00",
     "grade": false,
     "grade_id": "cell-2f8b3377cfd97d8a",
     "locked": true,
     "schema_version": 3,
     "solution": false,
     "task": false
    },
    "tags": []
   },
   "source": [
    "#### **1c)** _(5 points)_ Substitution or partitioning?\n",
    "\n",
    "If we assume:\n",
    "1. Substitution\n",
    "2. Partitioning\n",
    "\n",
    "Which type of allocation \"divides the emissions based on an attribute of the products, e.g. energy content or price.\"?\n",
    "\n",
    "Define your answer as the variable `answer_1c` (e.g. `answer_1c = {1}` if you think the correct answer is \"1. Substitution\" and `answer_1c = {2}` if you think the correct answer is \"2. Partitioning\")."
   ]
  },
  {
   "cell_type": "code",
   "execution_count": 6,
   "id": "86d20c65-c972-40b4-8904-05b8523d05e4",
   "metadata": {
    "deletable": false,
    "nbgrader": {
     "cell_type": "code",
     "checksum": "1b8ffc2a48928f68eac8693e354d155d",
     "grade": false,
     "grade_id": "cell-2f8e357314ed4ae8",
     "locked": false,
     "schema_version": 3,
     "solution": true,
     "task": false
    },
    "tags": []
   },
   "outputs": [],
   "source": [
    "answer_1c = {2}"
   ]
  },
  {
   "cell_type": "markdown",
   "id": "48d01c54-c945-45bc-9627-f2131035c445",
   "metadata": {
    "deletable": false,
    "editable": false,
    "nbgrader": {
     "cell_type": "markdown",
     "checksum": "58893fe4e407b78aba2d5e787320567b",
     "grade": false,
     "grade_id": "cell-90c46c95ed5c4246",
     "locked": true,
     "schema_version": 3,
     "solution": false,
     "task": false
    },
    "tags": []
   },
   "source": [
    "**_Run the cell under to check the format of your answer(s)_**"
   ]
  },
  {
   "cell_type": "code",
   "execution_count": 7,
   "id": "1f4c2581-62ee-40a0-9c9a-b2ae6b86907c",
   "metadata": {
    "deletable": false,
    "editable": false,
    "nbgrader": {
     "cell_type": "code",
     "checksum": "5642f6194fe92c4c46e8cb82e673d440",
     "grade": true,
     "grade_id": "cell-bfb6ca72d9111dd6",
     "locked": true,
     "points": 5,
     "schema_version": 3,
     "solution": false,
     "task": false
    },
    "tags": []
   },
   "outputs": [],
   "source": [
    "assert all (type(i) in [set] for i in [answer_1c]), 'The answer(s) must be a set of values'"
   ]
  },
  {
   "cell_type": "markdown",
   "id": "041795db-c89f-48d8-a33e-d35f4079b10c",
   "metadata": {
    "deletable": false,
    "editable": false,
    "nbgrader": {
     "cell_type": "markdown",
     "checksum": "f190768cb3f6cedf8bc9672ce9aafc3b",
     "grade": false,
     "grade_id": "cell-7b7378af92daf377",
     "locked": true,
     "schema_version": 3,
     "solution": false,
     "task": false
    },
    "tags": []
   },
   "source": [
    "#### **1d)** _(5 points)_ Which one(s) of these statement(s) is/are correct?\n",
    "\n",
    "1. Results may differ very much based on which allocation method is chosen.\n",
    "2. When applying substitution allocation, it is crucial to select relevant products/processes to substitute original products/processes from the system under investigation.\n",
    "3. Substitution might be misused for greenwashing.\n",
    "4. Substitution may lead to negative emissions for the remaining process.\n",
    "5. For partitioning, it is important to know the system analysed to select the correct / most relevant partitioning coefficient, i.e. one that best represents the driving force of the multiple production.\n",
    " \n",
    "Define your answer as the variable `answer_1d` (e.g. `answer_1d = {1}` if you think the correct statement is statement {1} and `answer_1d = {1, 2}` if you think the correct statements are statements {1, 2})."
   ]
  },
  {
   "cell_type": "code",
   "execution_count": 8,
   "id": "0adae6b0-6aba-4f61-811d-352f86cbe218",
   "metadata": {
    "deletable": false,
    "nbgrader": {
     "cell_type": "code",
     "checksum": "71d0c920b2c6ad76266bc53b6013cf73",
     "grade": false,
     "grade_id": "cell-eeb6668769dc5cbe",
     "locked": false,
     "schema_version": 3,
     "solution": true,
     "task": false
    },
    "tags": []
   },
   "outputs": [],
   "source": [
    "answer_1d = {1, 2, 3, 4, 5}"
   ]
  },
  {
   "cell_type": "markdown",
   "id": "5d7c593b-b71c-46db-a1d4-1aae66589f98",
   "metadata": {
    "deletable": false,
    "editable": false,
    "nbgrader": {
     "cell_type": "markdown",
     "checksum": "a1816a4ac4ec55039062c973bb1f2bcc",
     "grade": false,
     "grade_id": "cell-bed589d2d79be266",
     "locked": true,
     "schema_version": 3,
     "solution": false,
     "task": false
    },
    "tags": []
   },
   "source": [
    "**_Run the cell under to check the format of your answer(s)_**"
   ]
  },
  {
   "cell_type": "code",
   "execution_count": 9,
   "id": "5633cd6f-ab31-49ea-bf06-6a585267a32a",
   "metadata": {
    "deletable": false,
    "editable": false,
    "nbgrader": {
     "cell_type": "code",
     "checksum": "57e5c65ea9b1e5420f2e62ca93d18cb1",
     "grade": true,
     "grade_id": "cell-7727f947830721d6",
     "locked": true,
     "points": 5,
     "schema_version": 3,
     "solution": false,
     "task": false
    },
    "tags": []
   },
   "outputs": [],
   "source": [
    "assert all (type(i) in [set] for i in [answer_1d]), 'The answer(s) must be a set of values'"
   ]
  },
  {
   "cell_type": "markdown",
   "id": "dbe1c6d6-2e11-4385-8292-38a01d783d91",
   "metadata": {
    "deletable": false,
    "editable": false,
    "nbgrader": {
     "cell_type": "markdown",
     "checksum": "15cfcba2768cb071c434680c87e9dc1e",
     "grade": false,
     "grade_id": "cell-c1944857bbb4690c",
     "locked": true,
     "schema_version": 3,
     "solution": false,
     "task": false
    },
    "tags": []
   },
   "source": [
    "## **Part 2. Principles and scalar form - without background processes** _(40 points)_"
   ]
  },
  {
   "cell_type": "markdown",
   "id": "4432dbcf-37dc-4990-9da5-4140a65f6b2b",
   "metadata": {
    "deletable": false,
    "editable": false,
    "nbgrader": {
     "cell_type": "markdown",
     "checksum": "92fb580ba31c1122c28ad0f363d682b5",
     "grade": false,
     "grade_id": "cell-1b99e29a07184f43",
     "locked": true,
     "schema_version": 3,
     "solution": false,
     "task": false
    },
    "tags": []
   },
   "source": [
    "Use the information given under each sub-task (2a.-2d.) to determine the global warming potential (GWP) of producing 1 kWh of electricity and 1 kWh of heat using formulas from the reader.\n",
    "\n",
    "_**You have to write the calculations you are performing directly in the cells.** Doing the calculations manually with a calculator and then enter the value might return your answer as incorrect if your rounding is not the same as the one from the autograding._"
   ]
  },
  {
   "cell_type": "markdown",
   "id": "c2173070-4599-43be-82e0-48daf31e9219",
   "metadata": {
    "deletable": false,
    "editable": false,
    "nbgrader": {
     "cell_type": "markdown",
     "checksum": "99ccc76a21b33a8279b057a2e9f27724",
     "grade": false,
     "grade_id": "cell-ae74712f9f7319b0",
     "locked": true,
     "schema_version": 3,
     "solution": false,
     "task": false
    },
    "tags": []
   },
   "source": [
    "#### **2a)** _(10 points)_ Substitution of heat - Impact of 1 kWh of electricity from CHP"
   ]
  },
  {
   "cell_type": "markdown",
   "id": "c9a3b406-743b-4f2a-b8ab-9d7e63499b11",
   "metadata": {
    "deletable": false,
    "editable": false,
    "nbgrader": {
     "cell_type": "markdown",
     "checksum": "8b8b4135fc99f43378872cbbb244e661",
     "grade": false,
     "grade_id": "cell-aaf869cd72211eae",
     "locked": true,
     "schema_version": 3,
     "solution": false,
     "task": false
    },
    "tags": []
   },
   "source": [
    "Follow the description under and calculate the impact (in kg CO$_2$-eq) of 1 kWh of electricity from the CHP. Define your answer as `answer_2a`.\n",
    "\n",
    "a. Apply substitution allocation to find the impacts due to 1 kWh of electricity production from the CHP. An alternative heat source – a light fuel oil furnace with overall efficiency of heat production 85 per cent – is used to calculate the impacts associated with heat production. It has direct CO$_2$ emissions of 299 gCO$_2$-eq/kWh$_{heat}$ [2] (that is per kWh of useful heat).\n",
    "\n",
    "References:\n",
    "[2] From Eco-Invent Database"
   ]
  },
  {
   "cell_type": "code",
   "execution_count": 10,
   "id": "d2d5bf32-3a1e-45a4-baea-ef6ca5c5de52",
   "metadata": {
    "deletable": false,
    "nbgrader": {
     "cell_type": "code",
     "checksum": "452e59c6f9a683e6250baabeb630cc45",
     "grade": false,
     "grade_id": "cell-628bb3de36be02af",
     "locked": false,
     "schema_version": 3,
     "solution": true,
     "task": false
    },
    "tags": []
   },
   "outputs": [
    {
     "name": "stdout",
     "output_type": "stream",
     "text": [
      "0.10535483870967743\n"
     ]
    }
   ],
   "source": [
    "u_che = 0.23\n",
    "u_h = 0.299\n",
    "x_h = 0.56/0.31\n",
    "x_che = 1 + x_h\n",
    "\n",
    "answer_2a = u_che*x_che - u_h*x_h\n",
    "print(answer_2a)"
   ]
  },
  {
   "cell_type": "markdown",
   "id": "b0369eb3-b237-4888-81e3-67df20cff29a",
   "metadata": {
    "deletable": false,
    "editable": false,
    "nbgrader": {
     "cell_type": "markdown",
     "checksum": "f2afda2b27394038f619ea85d2bd6458",
     "grade": false,
     "grade_id": "cell-5a2631cc9eee4d15",
     "locked": true,
     "schema_version": 3,
     "solution": false,
     "task": false
    },
    "tags": []
   },
   "source": [
    "**_Run the cell under to check the format of your answer(s)_**"
   ]
  },
  {
   "cell_type": "code",
   "execution_count": 11,
   "id": "9c6de6c1-e8d3-455d-bddd-15f3ed2c7737",
   "metadata": {
    "deletable": false,
    "editable": false,
    "nbgrader": {
     "cell_type": "code",
     "checksum": "b8a7d91185d52ee78a30bee8f4d0f5ca",
     "grade": true,
     "grade_id": "cell-691e0410b887adbf",
     "locked": true,
     "points": 10,
     "schema_version": 3,
     "solution": false,
     "task": false
    },
    "tags": []
   },
   "outputs": [],
   "source": [
    "assert all (type(i) in [float] for i in [answer_2a]), 'The answer(s) must be a float'"
   ]
  },
  {
   "cell_type": "markdown",
   "id": "1a19676d-084b-48f5-bed8-7c48287f0584",
   "metadata": {
    "deletable": false,
    "editable": false,
    "nbgrader": {
     "cell_type": "markdown",
     "checksum": "c9e3ea9a1bbbf4ab2350a6ebcb3d7ecf",
     "grade": false,
     "grade_id": "cell-9f8aa1c5cfff3161",
     "locked": true,
     "schema_version": 3,
     "solution": false,
     "task": false
    },
    "tags": []
   },
   "source": [
    "#### **2b)** _(10 points)_ Substitution of electricity - Impact of 1 kWh of heat from CHP"
   ]
  },
  {
   "cell_type": "markdown",
   "id": "b96c6317-36f5-4605-a54a-11c778ad0284",
   "metadata": {
    "deletable": false,
    "editable": false,
    "nbgrader": {
     "cell_type": "markdown",
     "checksum": "06244fefd6392225a9ba4f2b4711261c",
     "grade": false,
     "grade_id": "cell-9eceb3063b1d325f",
     "locked": true,
     "schema_version": 3,
     "solution": false,
     "task": false
    },
    "tags": []
   },
   "source": [
    "Follow the description under and calculate the impact (in kg CO$_2$-eq) of 1 kWh of heat from the CHP. Define your answer as `answer_2b`.\n",
    "\n",
    "b. Apply substitution allocation to find the impacts due to 1 kWh of heating production from the CHP. Wind power is used as an alternative electricity source. A 1.5MW (on-shore) wind turbine producing the same amount of electricity is used to evaluate the CO$_2$ emissions with respect to electricity production. The specific life cycle CO$_2$ emissions from wind power are 10.5 gCO2$_2$-eq/kWh$_{elec}$ [3]. \n",
    "\n",
    "References:\n",
    "[3] Pehnt, M., 2006, Dynamic life cycle assessment (LCA) of renewable energy technologies, Renewable Energy, 31, pp. 55-71."
   ]
  },
  {
   "cell_type": "code",
   "execution_count": 12,
   "id": "ec762512-76e0-4ecc-a71f-23804388f3a3",
   "metadata": {
    "deletable": false,
    "nbgrader": {
     "cell_type": "code",
     "checksum": "33b3137f5d50878fa375d32453b08c66",
     "grade": false,
     "grade_id": "cell-b7824380408718bc",
     "locked": false,
     "schema_version": 3,
     "solution": true,
     "task": false
    },
    "tags": []
   },
   "outputs": [
    {
     "name": "stdout",
     "output_type": "stream",
     "text": [
      "0.35150892857142857\n"
     ]
    }
   ],
   "source": [
    "u_che = 0.23\n",
    "u_e = 0.0105\n",
    "x_e = 0.31/0.56\n",
    "x_che = 1 + x_e\n",
    "\n",
    "answer_2b = u_che*x_che - u_e*x_e\n",
    "print(answer_2b)"
   ]
  },
  {
   "cell_type": "markdown",
   "id": "864b7d5c-716c-4c4b-8885-9fd122186c3e",
   "metadata": {
    "deletable": false,
    "editable": false,
    "nbgrader": {
     "cell_type": "markdown",
     "checksum": "97748d05b7362a85ff52865de3a961a9",
     "grade": false,
     "grade_id": "cell-5e3ff4c91e3a5143",
     "locked": true,
     "schema_version": 3,
     "solution": false,
     "task": false
    },
    "tags": []
   },
   "source": [
    "**_Run the cell under to check the format of your answer(s)_**"
   ]
  },
  {
   "cell_type": "code",
   "execution_count": 13,
   "id": "480dea93-59a6-488c-a0c8-e69ff672512c",
   "metadata": {
    "deletable": false,
    "editable": false,
    "nbgrader": {
     "cell_type": "code",
     "checksum": "6a979bfe66f1fa5e1913318af4abcffa",
     "grade": true,
     "grade_id": "cell-76113c8aac3997d2",
     "locked": true,
     "points": 10,
     "schema_version": 3,
     "solution": false,
     "task": false
    },
    "tags": []
   },
   "outputs": [],
   "source": [
    "assert all (type(i) in [float] for i in [answer_2b]), 'The answer(s) must be a float'"
   ]
  },
  {
   "cell_type": "markdown",
   "id": "d7da0f55-e154-4b6e-850f-cb54422c959b",
   "metadata": {
    "deletable": false,
    "editable": false,
    "nbgrader": {
     "cell_type": "markdown",
     "checksum": "1dae0d168a505625bbf5069edebee2e5",
     "grade": false,
     "grade_id": "cell-85770a2d719aa12b",
     "locked": true,
     "schema_version": 3,
     "solution": false,
     "task": false
    },
    "tags": []
   },
   "source": [
    "#### **2c)** _(10 points)_ Partitioning based on energy - Impact of 1 kWh of electricity and 1 kWh of heat from CHP"
   ]
  },
  {
   "cell_type": "markdown",
   "id": "3ef5ea2a-123c-4a7b-93ff-b94c861906c3",
   "metadata": {
    "deletable": false,
    "editable": false,
    "nbgrader": {
     "cell_type": "markdown",
     "checksum": "588911eeff7f6f9a7908f6f809e12771",
     "grade": false,
     "grade_id": "cell-3c23ef8ab2b20c45",
     "locked": true,
     "schema_version": 3,
     "solution": false,
     "task": false
    },
    "tags": []
   },
   "source": [
    "Follow the description under and calculate the impacts (in kg CO$_2$-eq) of 1 kWh of electricity and 1 kWh of heat from the CHP. Define your answers as `answer_2c_elec` and `answer_2c_heat`.\n",
    "\n",
    "c. Apply partitioning based on energy to find the impact due to 1 kWh of electricity and 1 kWh of heating from the CHP."
   ]
  },
  {
   "cell_type": "code",
   "execution_count": 14,
   "id": "5bca0de0-bd15-4b20-944f-d4e3848a200c",
   "metadata": {
    "deletable": false,
    "nbgrader": {
     "cell_type": "code",
     "checksum": "6cbb38ce9ac15c7ced24e5cd12de01c4",
     "grade": false,
     "grade_id": "cell-f510bfc274cf4503",
     "locked": false,
     "schema_version": 3,
     "solution": true,
     "task": false
    },
    "tags": []
   },
   "outputs": [
    {
     "name": "stdout",
     "output_type": "stream",
     "text": [
      "0.23\n",
      "0.22999999999999995\n"
     ]
    }
   ],
   "source": [
    "a = 0.31/0.87\n",
    "\n",
    "#answer_2c_elec = 0.230 * 0.31/0.87 * 1/0.31\n",
    "answer_2c_elec = a * (0.87/0.31) * 0.230\n",
    "print(answer_2c_elec)\n",
    "\n",
    "#answer_2c_heat = 0.230 * 0.56/0.87 * 1/0.56\n",
    "answer_2c_heat = (1-a) * 0.230 * (0.87/0.56)\n",
    "print(answer_2c_heat)"
   ]
  },
  {
   "cell_type": "markdown",
   "id": "8ba96b01-62c2-4349-a41b-0e779034a95c",
   "metadata": {
    "deletable": false,
    "editable": false,
    "nbgrader": {
     "cell_type": "markdown",
     "checksum": "c5d901e5ffcbd16603b307ed23be9cff",
     "grade": false,
     "grade_id": "cell-fca39123f8d3f002",
     "locked": true,
     "schema_version": 3,
     "solution": false,
     "task": false
    },
    "tags": []
   },
   "source": [
    "**_Run the cell under to check the format of your answer(s)_**"
   ]
  },
  {
   "cell_type": "code",
   "execution_count": 15,
   "id": "94181105-fa0e-4336-a8f9-5d0d9c8ad1e5",
   "metadata": {
    "deletable": false,
    "editable": false,
    "nbgrader": {
     "cell_type": "code",
     "checksum": "299189f59c90e1a4ea5fe437cf7ceaaa",
     "grade": true,
     "grade_id": "cell-d0ce8e9b6bd99935",
     "locked": true,
     "points": 10,
     "schema_version": 3,
     "solution": false,
     "task": false
    },
    "tags": []
   },
   "outputs": [],
   "source": [
    "assert all (type(i) in [float] for i in [answer_2c_elec, answer_2c_heat]), 'The answer(s) must be a float'"
   ]
  },
  {
   "cell_type": "markdown",
   "id": "8a126c6c-e1a1-4632-8237-ea23faf6e8f9",
   "metadata": {
    "deletable": false,
    "editable": false,
    "nbgrader": {
     "cell_type": "markdown",
     "checksum": "4b4fb52713dc4a29b9cfa582c238f2d5",
     "grade": false,
     "grade_id": "cell-ae447731228fac87",
     "locked": true,
     "schema_version": 3,
     "solution": false,
     "task": false
    },
    "tags": []
   },
   "source": [
    "#### **2d)** _(10 points)_ Partitioning based on cost - Impact of 1 kWh of electricity and 1 kWh of heat from CHP"
   ]
  },
  {
   "cell_type": "markdown",
   "id": "617a228e-0797-4bc3-87b0-239d4b4fbd8c",
   "metadata": {
    "deletable": false,
    "editable": false,
    "nbgrader": {
     "cell_type": "markdown",
     "checksum": "950518256ec437ed8a29339e17d149f1",
     "grade": false,
     "grade_id": "cell-46218f17791ed386",
     "locked": true,
     "schema_version": 3,
     "solution": false,
     "task": false
    },
    "tags": []
   },
   "source": [
    "Follow the description under and calculate the impacts (in g CO$_2$-eq) of 1 kWh of electricity and 1 kWh of heat from the CHP. Define your answers as `answer_2d_elec` and `answer_2d_heat`.\n",
    "\n",
    "d. Apply partitioning based on costs to find the impact due to 1 kWh of electricity and 1 kWh of heating from the CHP – cost of electricity produced = 1 NOK/KWh$_{elec}$ and the cost of heat produced = 0.7 NOK/KWh$_{heat}$."
   ]
  },
  {
   "cell_type": "code",
   "execution_count": 16,
   "id": "3b6ba4b5-c8f0-4d37-ac54-7f4dbb2e24e6",
   "metadata": {
    "deletable": false,
    "nbgrader": {
     "cell_type": "code",
     "checksum": "849bccf6bfeacfc272c90eb9d99a6bb5",
     "grade": false,
     "grade_id": "cell-2ccd37b8a4f5c9b0",
     "locked": false,
     "schema_version": 3,
     "solution": true,
     "task": false
    },
    "tags": []
   },
   "outputs": [
    {
     "name": "stdout",
     "output_type": "stream",
     "text": [
      "0.2850427350427351\n",
      "0.08239411764705881\n"
     ]
    }
   ],
   "source": [
    "c = 1*0.31 + 0.7*0.56\n",
    "\n",
    "answer_2d_elec = 0.230 * (0.31/c) * (0.87/0.31)\n",
    "print(answer_2d_elec)\n",
    "\n",
    "answer_2d_heat = 0.230 * ((0.7*0.56)/1.7) * (0.87/0.56)\n",
    "print(answer_2d_heat)"
   ]
  },
  {
   "cell_type": "markdown",
   "id": "550244c3-9e73-41c4-9e40-736436bdce87",
   "metadata": {
    "deletable": false,
    "editable": false,
    "nbgrader": {
     "cell_type": "markdown",
     "checksum": "6759202138e9bdc5ff49d726f478f99c",
     "grade": false,
     "grade_id": "cell-3789aecdafb2d789",
     "locked": true,
     "schema_version": 3,
     "solution": false,
     "task": false
    },
    "tags": []
   },
   "source": [
    "**_Run the cell under to check the format of your answer(s)_**"
   ]
  },
  {
   "cell_type": "code",
   "execution_count": 17,
   "id": "a26d3938-a608-4b70-ae99-cbaaf577f6b9",
   "metadata": {
    "deletable": false,
    "editable": false,
    "nbgrader": {
     "cell_type": "code",
     "checksum": "26851943d3be02554270bfa67fcdae83",
     "grade": true,
     "grade_id": "cell-58abd4e36370cf4d",
     "locked": true,
     "points": 10,
     "schema_version": 3,
     "solution": false,
     "task": false
    },
    "tags": []
   },
   "outputs": [],
   "source": [
    "assert all (type(i) in [float] for i in [answer_2d_elec, answer_2d_heat]), 'The answer(s) must be a float'"
   ]
  },
  {
   "cell_type": "markdown",
   "id": "9f4a05e0-82bb-43b3-a29c-918aafbaaba8",
   "metadata": {
    "deletable": false,
    "editable": false,
    "nbgrader": {
     "cell_type": "markdown",
     "checksum": "b3fc90a7226bca9a5ab02cf9ceb554bf",
     "grade": false,
     "grade_id": "cell-39d0e45ea3075090",
     "locked": true,
     "schema_version": 3,
     "solution": false,
     "task": false
    },
    "tags": []
   },
   "source": [
    "## **Part 3. Matrix form - with background processes** _(40 points)_"
   ]
  },
  {
   "cell_type": "markdown",
   "id": "2e4081ff-5d64-47ab-9c1f-cf1a79c4ddbc",
   "metadata": {
    "deletable": false,
    "editable": false,
    "nbgrader": {
     "cell_type": "markdown",
     "checksum": "f9601311c78325d7e770b3b8cb690afe",
     "grade": false,
     "grade_id": "cell-dba714502e69006e",
     "locked": true,
     "schema_version": 3,
     "solution": false,
     "task": false
    },
    "tags": []
   },
   "source": [
    "Use the information from the descriptions in the previous part (a.-d.) with the background matrices in **files_PS4_V1_0**. Assume the only background to foreground input is the energy input needed to produce the heat and power (i.e. natural gas for the CHP and fuel oil for the oil furnace). Assume zero procurement losses, and no fuel transport, plant capital or plant decommissioning requirements. Be aware of units: 3.6 MJ/kWh!\n",
    "\n",
    "We need A and S matrices for all the four problems. When we have established these, we calculate the total emissions d, like we have done in previous problem sets.\n",
    "\n",
    "Some matrices/vectors are already given to you:\n",
    "- `Afb_Abb` which contains Afb and Abb: it is the same one which is used in all the cases\n",
    "- `Sb`: it is the same one which is used in all the cases\n",
    "- `C`: it is the same one which is used in all the cases\n",
    "\n",
    "You have to fill in 8 matrices and 2 vectors which are the following:\n",
    "- substitution of heat: `Aff_Abf_subheat` which contains Aff and Abf & `Sf_subheat` which contains Sf\n",
    "- substitution of electricity: `Aff_Abf_subel` which contains Aff and Abf & `Sf_subel` which contains Sf\n",
    "- partitioning based on energy: `Aff_Abf_parten` which contains Aff and Abf & `Sf_parten` which contains Sf\n",
    "- partitioning based on cost: `Aff_Abf_partcost` which contains Aff and Abf & `Sf_partcost` which contains Sf\n",
    "- `yheat` & `yelec`: the vectors containing the final demand of heat and electricity\n",
    "\n",
    "For filling in these matrices, you have two options: \n",
    "- Option 1: filling in the matrices in the csv files located in the **files_PS4_V1_0** folder and save the csv files by using \"ctrl+s\". **You should enter the formulas in the csv files.**\n",
    "- Option 2: filling in the matrices in the cells in the sections 3a), 3b), 3c), 3d). If you go for that option, we recommend you to make a quick hand sketch of the matrices to visualize how they should look like. **You have to write the frmulas you are using.**\n",
    "\n",
    "_**Run the cell under to import the matrices and vectors**_"
   ]
  },
  {
   "cell_type": "code",
   "execution_count": 29,
   "id": "6918884e-3de3-4ecb-94a4-b40710fc5e3e",
   "metadata": {
    "deletable": false,
    "editable": false,
    "nbgrader": {
     "cell_type": "code",
     "checksum": "f7848ba096e226c59dc3c3c49a0812ee",
     "grade": false,
     "grade_id": "cell-e8899a9a49e19663",
     "locked": true,
     "schema_version": 3,
     "solution": false,
     "task": false
    },
    "tags": []
   },
   "outputs": [],
   "source": [
    "### Given\n",
    "Afb_Abb = convert_formulas(pd.read_csv(files_folder + 'Afb_Abb.csv', index_col = [0]))\n",
    "Sb = convert_formulas(pd.read_csv(files_folder + 'Sb.csv', index_col = [0]))\n",
    "C = convert_formulas(pd.read_csv(files_folder + 'C.csv', index_col = [0]))\n",
    "\n",
    "### To fill in - either in csv files or in 3a), 3b), 3c), 3d)\n",
    "Aff_Abf_subheat = convert_formulas(pd.read_csv(files_folder + 'Aff_Abf_subheat.csv', index_col = [0]))\n",
    "Sf_subheat = convert_formulas(pd.read_csv(files_folder + 'Sf_subheat.csv', index_col = [0]))\n",
    "Aff_Abf_subel = convert_formulas(pd.read_csv(files_folder + 'Aff_Abf_subel.csv', index_col = [0]))\n",
    "Sf_subel = convert_formulas(pd.read_csv(files_folder + 'Sf_subel.csv', index_col = [0]))\n",
    "Aff_Abf_parten = convert_formulas(pd.read_csv(files_folder + 'Aff_Abf_parten.csv', index_col = [0]))\n",
    "Sf_parten = convert_formulas(pd.read_csv(files_folder + 'Sf_parten.csv', index_col = [0]))\n",
    "Aff_Abf_partcost = convert_formulas(pd.read_csv(files_folder + 'Aff_Abf_partcost.csv', index_col = [0]))\n",
    "Sf_partcost = convert_formulas(pd.read_csv(files_folder + 'Sf_parten.csv', index_col = [0]))\n",
    "yheat = convert_formulas(pd.read_csv(files_folder + 'yheat.csv', index_col = [0]))\n",
    "yelec = convert_formulas(pd.read_csv(files_folder + 'yel.csv', index_col = [0]))"
   ]
  },
  {
   "cell_type": "markdown",
   "id": "fa09254d-2e0d-4f34-9b35-c709ae47f371",
   "metadata": {
    "deletable": false,
    "editable": false,
    "nbgrader": {
     "cell_type": "markdown",
     "checksum": "dcd306b6fba91c5d7ba2525728d858dc",
     "grade": false,
     "grade_id": "cell-f67a3f167b23214b",
     "locked": true,
     "schema_version": 3,
     "solution": false,
     "task": false
    },
    "tags": []
   },
   "source": [
    "Fill in the two vectors `yheat` & `yelec`. We ask to fill in final demand of heat and electricity from the foreground processes (ie) 'Heat (Kwh)' and 'El (kWh)'."
   ]
  },
  {
   "cell_type": "code",
   "execution_count": 30,
   "id": "a5071f90-1fd1-4ced-963a-e211a6c989d9",
   "metadata": {
    "deletable": false,
    "nbgrader": {
     "cell_type": "code",
     "checksum": "f956f7a533fe194605317bd167f63a6e",
     "grade": false,
     "grade_id": "cell-93121a3ef9d7052d",
     "locked": false,
     "schema_version": 3,
     "solution": true,
     "task": false
    },
    "tags": []
   },
   "outputs": [
    {
     "data": {
      "text/html": [
       "<div>\n",
       "<style scoped>\n",
       "    .dataframe tbody tr th:only-of-type {\n",
       "        vertical-align: middle;\n",
       "    }\n",
       "\n",
       "    .dataframe tbody tr th {\n",
       "        vertical-align: top;\n",
       "    }\n",
       "\n",
       "    .dataframe thead th {\n",
       "        text-align: right;\n",
       "    }\n",
       "</style>\n",
       "<table border=\"1\" class=\"dataframe\">\n",
       "  <thead>\n",
       "    <tr style=\"text-align: right;\">\n",
       "      <th></th>\n",
       "      <th>Final demand</th>\n",
       "    </tr>\n",
       "  </thead>\n",
       "  <tbody>\n",
       "    <tr>\n",
       "      <th>CHP (kWh)</th>\n",
       "      <td>0.0</td>\n",
       "    </tr>\n",
       "    <tr>\n",
       "      <th>Heat (kWh)</th>\n",
       "      <td>1.0</td>\n",
       "    </tr>\n",
       "    <tr>\n",
       "      <th>El (kWh)</th>\n",
       "      <td>0.0</td>\n",
       "    </tr>\n",
       "    <tr>\n",
       "      <th>Electricity (N. Gas kWh)</th>\n",
       "      <td>0.0</td>\n",
       "    </tr>\n",
       "    <tr>\n",
       "      <th>Steel (kg)</th>\n",
       "      <td>0.0</td>\n",
       "    </tr>\n",
       "    <tr>\n",
       "      <th>Aluminium (kg)</th>\n",
       "      <td>0.0</td>\n",
       "    </tr>\n",
       "    <tr>\n",
       "      <th>Platinum (kg)</th>\n",
       "      <td>0.0</td>\n",
       "    </tr>\n",
       "    <tr>\n",
       "      <th>Plastic (kg)</th>\n",
       "      <td>0.0</td>\n",
       "    </tr>\n",
       "    <tr>\n",
       "      <th>Diesel (MJ)</th>\n",
       "      <td>0.0</td>\n",
       "    </tr>\n",
       "    <tr>\n",
       "      <th>N. Gas (MJ)</th>\n",
       "      <td>0.0</td>\n",
       "    </tr>\n",
       "    <tr>\n",
       "      <th>Transport (Truck, tkm)</th>\n",
       "      <td>0.0</td>\n",
       "    </tr>\n",
       "    <tr>\n",
       "      <th>Concrete (kg)</th>\n",
       "      <td>0.0</td>\n",
       "    </tr>\n",
       "    <tr>\n",
       "      <th>Glass (kg)</th>\n",
       "      <td>0.0</td>\n",
       "    </tr>\n",
       "  </tbody>\n",
       "</table>\n",
       "</div>"
      ],
      "text/plain": [
       "                          Final demand\n",
       "CHP (kWh)                          0.0\n",
       "Heat (kWh)                         1.0\n",
       "El (kWh)                           0.0\n",
       "Electricity (N. Gas kWh)           0.0\n",
       "Steel (kg)                         0.0\n",
       "Aluminium (kg)                     0.0\n",
       "Platinum (kg)                      0.0\n",
       "Plastic (kg)                       0.0\n",
       "Diesel (MJ)                        0.0\n",
       "N. Gas (MJ)                        0.0\n",
       "Transport (Truck, tkm)             0.0\n",
       "Concrete (kg)                      0.0\n",
       "Glass (kg)                         0.0"
      ]
     },
     "metadata": {},
     "output_type": "display_data"
    },
    {
     "data": {
      "text/html": [
       "<div>\n",
       "<style scoped>\n",
       "    .dataframe tbody tr th:only-of-type {\n",
       "        vertical-align: middle;\n",
       "    }\n",
       "\n",
       "    .dataframe tbody tr th {\n",
       "        vertical-align: top;\n",
       "    }\n",
       "\n",
       "    .dataframe thead th {\n",
       "        text-align: right;\n",
       "    }\n",
       "</style>\n",
       "<table border=\"1\" class=\"dataframe\">\n",
       "  <thead>\n",
       "    <tr style=\"text-align: right;\">\n",
       "      <th></th>\n",
       "      <th>Final demand</th>\n",
       "    </tr>\n",
       "  </thead>\n",
       "  <tbody>\n",
       "    <tr>\n",
       "      <th>CHP (kWh)</th>\n",
       "      <td>0.0</td>\n",
       "    </tr>\n",
       "    <tr>\n",
       "      <th>Heat (kWh)</th>\n",
       "      <td>0.0</td>\n",
       "    </tr>\n",
       "    <tr>\n",
       "      <th>El (kWh)</th>\n",
       "      <td>1.0</td>\n",
       "    </tr>\n",
       "    <tr>\n",
       "      <th>Electricity (N. Gas kWh)</th>\n",
       "      <td>0.0</td>\n",
       "    </tr>\n",
       "    <tr>\n",
       "      <th>Steel (kg)</th>\n",
       "      <td>0.0</td>\n",
       "    </tr>\n",
       "    <tr>\n",
       "      <th>Aluminium (kg)</th>\n",
       "      <td>0.0</td>\n",
       "    </tr>\n",
       "    <tr>\n",
       "      <th>Platinum (kg)</th>\n",
       "      <td>0.0</td>\n",
       "    </tr>\n",
       "    <tr>\n",
       "      <th>Plastic (kg)</th>\n",
       "      <td>0.0</td>\n",
       "    </tr>\n",
       "    <tr>\n",
       "      <th>Diesel (MJ)</th>\n",
       "      <td>0.0</td>\n",
       "    </tr>\n",
       "    <tr>\n",
       "      <th>N. Gas (MJ)</th>\n",
       "      <td>0.0</td>\n",
       "    </tr>\n",
       "    <tr>\n",
       "      <th>Transport (Truck, tkm)</th>\n",
       "      <td>0.0</td>\n",
       "    </tr>\n",
       "    <tr>\n",
       "      <th>Concrete (kg)</th>\n",
       "      <td>0.0</td>\n",
       "    </tr>\n",
       "    <tr>\n",
       "      <th>Glass (kg)</th>\n",
       "      <td>0.0</td>\n",
       "    </tr>\n",
       "  </tbody>\n",
       "</table>\n",
       "</div>"
      ],
      "text/plain": [
       "                          Final demand\n",
       "CHP (kWh)                          0.0\n",
       "Heat (kWh)                         0.0\n",
       "El (kWh)                           1.0\n",
       "Electricity (N. Gas kWh)           0.0\n",
       "Steel (kg)                         0.0\n",
       "Aluminium (kg)                     0.0\n",
       "Platinum (kg)                      0.0\n",
       "Plastic (kg)                       0.0\n",
       "Diesel (MJ)                        0.0\n",
       "N. Gas (MJ)                        0.0\n",
       "Transport (Truck, tkm)             0.0\n",
       "Concrete (kg)                      0.0\n",
       "Glass (kg)                         0.0"
      ]
     },
     "metadata": {},
     "output_type": "display_data"
    }
   ],
   "source": [
    "yheat = yheat.fillna(0)\n",
    "yelec = yelec.fillna(0)\n",
    "\n",
    "display(yheat)\n",
    "display(yelec)"
   ]
  },
  {
   "cell_type": "markdown",
   "id": "faf2d2b8-8944-404e-870d-7f59b454806f",
   "metadata": {
    "deletable": false,
    "editable": false,
    "nbgrader": {
     "cell_type": "markdown",
     "checksum": "e6cbadb993d90475e634ea30d1cb67e0",
     "grade": false,
     "grade_id": "cell-b9840baad5defaa9",
     "locked": true,
     "schema_version": 3,
     "solution": false,
     "task": false
    },
    "tags": []
   },
   "source": [
    "**_Run the cell under to check the format of your answer(s)_**"
   ]
  },
  {
   "cell_type": "code",
   "execution_count": 20,
   "id": "9034efee-0c77-4a82-b36c-422797a764ab",
   "metadata": {
    "deletable": false,
    "editable": false,
    "nbgrader": {
     "cell_type": "code",
     "checksum": "3e35400dc87ac51c212807b2c5ff81d8",
     "grade": true,
     "grade_id": "cell-dc982e156b3d7de9",
     "locked": true,
     "points": 0,
     "schema_version": 3,
     "solution": false,
     "task": false
    },
    "tags": []
   },
   "outputs": [],
   "source": [
    "assert (yheat.index == ['CHP (kWh)', 'Heat (kWh)', 'El (kWh)', 'Electricity (N. Gas kWh)', 'Steel (kg)', 'Aluminium (kg)', 'Platinum (kg)', 'Plastic (kg)', 'Diesel (MJ)', 'N. Gas (MJ)', 'Transport (Truck, tkm)', 'Concrete (kg)', 'Glass (kg)']).all(), 'The index do not correspond'\n",
    "assert (yheat.columns == ['Final demand']).all(), 'The columns do not correspond'\n",
    "assert (yelec.index == ['CHP (kWh)', 'Heat (kWh)', 'El (kWh)', 'Electricity (N. Gas kWh)', 'Steel (kg)', 'Aluminium (kg)', 'Platinum (kg)', 'Plastic (kg)','Diesel (MJ)', 'N. Gas (MJ)', 'Transport (Truck, tkm)', 'Concrete (kg)', 'Glass (kg)']).all(), 'The index do not correspond'\n",
    "assert (yelec.columns == ['Final demand']).all(), 'The columns do not correspond'"
   ]
  },
  {
   "cell_type": "markdown",
   "id": "45f461af-3d1a-4eb4-90b8-faa7732c5b57",
   "metadata": {
    "deletable": false,
    "editable": false,
    "nbgrader": {
     "cell_type": "markdown",
     "checksum": "c609df4f409fb4b634fff5c206b487d4",
     "grade": false,
     "grade_id": "cell-beda24995f676144",
     "locked": true,
     "schema_version": 3,
     "solution": false,
     "task": false
    },
    "tags": []
   },
   "source": [
    "#### **3a)** _(10 points)_ Substitution of heat - Impact of 1 kWh of electricity from CHP"
   ]
  },
  {
   "cell_type": "markdown",
   "id": "8f1a2f86-5caf-4748-bd07-058fe5feb7a6",
   "metadata": {
    "deletable": false,
    "editable": false,
    "nbgrader": {
     "cell_type": "markdown",
     "checksum": "0d9bd3cafb8beb355e5274a922f140ef",
     "grade": false,
     "grade_id": "cell-e27906f0f69f4b36",
     "locked": true,
     "schema_version": 3,
     "solution": false,
     "task": false
    },
    "tags": []
   },
   "source": [
    "Follow the description under and calculate the vector d of impact of 1 kWh of electricity from the CHP using the matrix form. Define your answer as `d_3a` and rename its column as \"Impact\". Remember that you have to do all the calculations leading to the vector of total impact d!\n",
    "\n",
    "a. Apply substitution allocation to find the impacts due to 1 kWh of electricity production from the CHP. An alternative heat source – a light fuel oil furnace with overall efficiency of heat production 85 per cent – is used to calculate the impacts associated with heat production. It has direct CO$_2$ emissions of 299 gCO$_2$-eq/kWh$_{heat}$ [2] (that is per kWh of useful heat). \n",
    "\n",
    "References:\n",
    "[2] From Eco-Invent Database\n",
    "\n",
    "Assume diesel and light fuel oil are interchangeable when connecting energy requirements from the Abb matrix."
   ]
  },
  {
   "cell_type": "code",
   "execution_count": 21,
   "id": "264fe922-eda0-4d2c-a6bc-97a40db4e878",
   "metadata": {
    "deletable": false,
    "nbgrader": {
     "cell_type": "code",
     "checksum": "c1a1be0b2a998b895042fc0b5df35884",
     "grade": false,
     "grade_id": "cell-db8fe8fdedb89014",
     "locked": false,
     "schema_version": 3,
     "solution": true,
     "task": false
    },
    "tags": []
   },
   "outputs": [
    {
     "data": {
      "text/html": [
       "<div>\n",
       "<style scoped>\n",
       "    .dataframe tbody tr th:only-of-type {\n",
       "        vertical-align: middle;\n",
       "    }\n",
       "\n",
       "    .dataframe tbody tr th {\n",
       "        vertical-align: top;\n",
       "    }\n",
       "\n",
       "    .dataframe thead th {\n",
       "        text-align: right;\n",
       "    }\n",
       "</style>\n",
       "<table border=\"1\" class=\"dataframe\">\n",
       "  <thead>\n",
       "    <tr style=\"text-align: right;\">\n",
       "      <th></th>\n",
       "      <th>Impact</th>\n",
       "    </tr>\n",
       "  </thead>\n",
       "  <tbody>\n",
       "    <tr>\n",
       "      <th>GWP</th>\n",
       "      <td>-0.917397</td>\n",
       "    </tr>\n",
       "  </tbody>\n",
       "</table>\n",
       "</div>"
      ],
      "text/plain": [
       "       Impact\n",
       "GWP -0.917397"
      ]
     },
     "metadata": {},
     "output_type": "display_data"
    }
   ],
   "source": [
    "Aff_Abf_subheat = Aff_Abf_subheat.fillna(0)\n",
    "#display(Aff_Abf_subheat)\n",
    "A_subheat = pd.concat([Aff_Abf_subheat, Afb_Abb], axis = 1)\n",
    "#display(A_subheat)\n",
    "\n",
    "I = np.identity(13)\n",
    "Larr = np.linalg.inv(I-A_subheat)\n",
    "L = pd.DataFrame(Larr, index = ['CHP (kWh)', 'Heat (kWh)', 'El (kWh)', 'Electricity (N. Gas kWh)', 'Steel (kg)', 'Aluminium (kg)',\n",
    "       'Platinum (kg)', 'Plastic (kg)', 'Diesel (MJ)', 'N. Gas (MJ)',\n",
    "       'Transport (Truck, tkm)', 'Concrete (kg)', 'Glass (kg)'], columns = ['CHP (kWh)', 'Heat (kWh)', 'El (kWh)', 'Electricity (N. Gas kWh)', 'Steel (kg)', 'Aluminium (kg)',\n",
    "       'Platinum (kg)', 'Plastic (kg)', 'Diesel (MJ)', 'N. Gas (MJ)',\n",
    "       'Transport (Truck, tkm)', 'Concrete (kg)', 'Glass (kg)'])\n",
    "#display(L)\n",
    "\n",
    "x = L @ yelec\n",
    "x = x.rename(columns = {'Final demand' : 'Output'})\n",
    "#display(x)\n",
    "\n",
    "Sf_subheat = Sf_subheat.fillna(0)\n",
    "S_subheat = pd.concat([Sf_subheat, Sb], axis = 1)\n",
    "#display(S_subheat)\n",
    "\n",
    "d_3a = C @ (S_subheat @ x)\n",
    "d_3a = d_3a.rename(columns = {'Output' : 'Impact'})\n",
    "display(d_3a)"
   ]
  },
  {
   "cell_type": "markdown",
   "id": "cda2f25d-598d-4483-9fee-dc7d9f9ccc94",
   "metadata": {
    "deletable": false,
    "editable": false,
    "nbgrader": {
     "cell_type": "markdown",
     "checksum": "9f924b0a9b738c515d2603ebf48532d1",
     "grade": false,
     "grade_id": "cell-179ed406a71366de",
     "locked": true,
     "schema_version": 3,
     "solution": false,
     "task": false
    },
    "tags": []
   },
   "source": [
    "**_Run the cell under to check the format of your answer(s)_**"
   ]
  },
  {
   "cell_type": "code",
   "execution_count": 22,
   "id": "beee080b-29a8-4387-aa5f-0ecab29ec7f4",
   "metadata": {
    "deletable": false,
    "editable": false,
    "nbgrader": {
     "cell_type": "code",
     "checksum": "123703259a68e32f165760b7095b2224",
     "grade": true,
     "grade_id": "cell-732b1738f330b2da",
     "locked": true,
     "points": 10,
     "schema_version": 3,
     "solution": false,
     "task": false
    },
    "tags": []
   },
   "outputs": [],
   "source": [
    "assert (d_3a.index == ['GWP']).all(), 'The index do not correspond'\n",
    "assert (d_3a.columns == ['Impact']).all(), 'The columns do not correspond'"
   ]
  },
  {
   "cell_type": "markdown",
   "id": "750634b4-6ca6-4d0e-a834-c605acad8a3e",
   "metadata": {
    "deletable": false,
    "editable": false,
    "nbgrader": {
     "cell_type": "markdown",
     "checksum": "f8b2e6b5ecb76f3e66625073836df404",
     "grade": false,
     "grade_id": "cell-9acf3eaf965cceb1",
     "locked": true,
     "schema_version": 3,
     "solution": false,
     "task": false
    },
    "tags": []
   },
   "source": [
    "#### **3b)** _(10 points)_ Substitution of electricity - Impact of 1 kWh of heat from CHP"
   ]
  },
  {
   "cell_type": "markdown",
   "id": "7867d28e-dac2-4613-821b-3e37988ba839",
   "metadata": {
    "deletable": false,
    "editable": false,
    "nbgrader": {
     "cell_type": "markdown",
     "checksum": "93e96be6ee389212aa60c7ee1775e3eb",
     "grade": false,
     "grade_id": "cell-401c0193d7d41d2c",
     "locked": true,
     "schema_version": 3,
     "solution": false,
     "task": false
    },
    "tags": []
   },
   "source": [
    "Follow the description under and calculate the vector d of impact of 1 kWh of heat from the CHP using the matrix form. Define your answer as `d_3b` and rename its column as \"Impact\". Remember that you have to do all the calculations leading to the vector of total impact d!\n",
    "\n",
    "b. Apply substitution allocation to find the impacts due to 1 kWh of heating production from the CHP. Wind power is used as an alternative electricity source. A 1.5MW (on-shore) wind turbine producing the same amount of electricity is used to evaluate the CO$_2$ emissions with respect to electricity production. The specific life cycle CO$_2$ emissions from wind power are 10.5 gCO2$_2$-eq/kWh$_{elec}$ [3]. \n",
    "\n",
    "References:\n",
    "[3] Pehnt, M., 2006, Dynamic life cycle assessment (LCA) of renewable energy technologies, Renewable Energy, 31, pp. 55-71.\n",
    "\n",
    "Since no disaggregated details are given with regards to embodied emissions per kWh$_{elec}$, insert the 10.5g/kWh$_{elec}$ in the Sf matrix in the column corresponding to wind power production.\n"
   ]
  },
  {
   "cell_type": "code",
   "execution_count": 23,
   "id": "c00d7984-0bbd-4235-8525-0d2ffce0115b",
   "metadata": {
    "deletable": false,
    "nbgrader": {
     "cell_type": "code",
     "checksum": "70d209548e779331a2d9de6038830347",
     "grade": false,
     "grade_id": "cell-594c6692b49abc9d",
     "locked": false,
     "schema_version": 3,
     "solution": true,
     "task": false
    },
    "tags": []
   },
   "outputs": [
    {
     "data": {
      "text/html": [
       "<div>\n",
       "<style scoped>\n",
       "    .dataframe tbody tr th:only-of-type {\n",
       "        vertical-align: middle;\n",
       "    }\n",
       "\n",
       "    .dataframe tbody tr th {\n",
       "        vertical-align: top;\n",
       "    }\n",
       "\n",
       "    .dataframe thead th {\n",
       "        text-align: right;\n",
       "    }\n",
       "</style>\n",
       "<table border=\"1\" class=\"dataframe\">\n",
       "  <thead>\n",
       "    <tr style=\"text-align: right;\">\n",
       "      <th></th>\n",
       "      <th>Impact</th>\n",
       "    </tr>\n",
       "  </thead>\n",
       "  <tbody>\n",
       "    <tr>\n",
       "      <th>GWP</th>\n",
       "      <td>0.373732</td>\n",
       "    </tr>\n",
       "  </tbody>\n",
       "</table>\n",
       "</div>"
      ],
      "text/plain": [
       "       Impact\n",
       "GWP  0.373732"
      ]
     },
     "metadata": {},
     "output_type": "display_data"
    }
   ],
   "source": [
    "Aff_Abf_subel = Aff_Abf_subel.fillna(0)\n",
    "#display(Aff_Abf_subheat)\n",
    "A_subel = pd.concat([Aff_Abf_subel, Afb_Abb], axis = 1)\n",
    "#display(A_subheat)\n",
    "\n",
    "I = np.identity(13)\n",
    "Larr = np.linalg.inv(I-A_subel)\n",
    "L = pd.DataFrame(Larr, index = ['CHP (kWh)', 'Heat (kWh)', 'El (kWh)', 'Electricity (N. Gas kWh)', 'Steel (kg)', 'Aluminium (kg)',\n",
    "       'Platinum (kg)', 'Plastic (kg)', 'Diesel (MJ)', 'N. Gas (MJ)',\n",
    "       'Transport (Truck, tkm)', 'Concrete (kg)', 'Glass (kg)'], columns = ['CHP (kWh)', 'Heat (kWh)', 'El (kWh)', 'Electricity (N. Gas kWh)', 'Steel (kg)', 'Aluminium (kg)',\n",
    "       'Platinum (kg)', 'Plastic (kg)', 'Diesel (MJ)', 'N. Gas (MJ)',\n",
    "       'Transport (Truck, tkm)', 'Concrete (kg)', 'Glass (kg)'])\n",
    "#display(L)\n",
    "\n",
    "x = L @ yheat\n",
    "x = x.rename(columns = {'Final demand' : 'Output'})\n",
    "#display(x)\n",
    "\n",
    "Sf_subel = Sf_subel.fillna(0)\n",
    "S_subel = pd.concat([Sf_subel, Sb], axis = 1)\n",
    "#display(S_subheat)\n",
    "\n",
    "d_3b = C @ (S_subel @ x)\n",
    "d_3b = d_3b.rename(columns = {'Output' : 'Impact'})\n",
    "display(d_3b)"
   ]
  },
  {
   "cell_type": "markdown",
   "id": "60f4e31a-d126-4f52-908e-5665142faaf6",
   "metadata": {
    "deletable": false,
    "editable": false,
    "nbgrader": {
     "cell_type": "markdown",
     "checksum": "4be9aca3f2a51c4677dc8c37e00bd1d8",
     "grade": false,
     "grade_id": "cell-2331e738efa27c6a",
     "locked": true,
     "schema_version": 3,
     "solution": false,
     "task": false
    },
    "tags": []
   },
   "source": [
    "**_Run the cell under to check the format of your answer(s)_**"
   ]
  },
  {
   "cell_type": "code",
   "execution_count": 24,
   "id": "df0a8e69-6b87-4473-b704-639b4dbfe65e",
   "metadata": {
    "deletable": false,
    "editable": false,
    "nbgrader": {
     "cell_type": "code",
     "checksum": "93b27e8e74c359021bdf58a7499827eb",
     "grade": true,
     "grade_id": "cell-80b2ccf259577163",
     "locked": true,
     "points": 10,
     "schema_version": 3,
     "solution": false,
     "task": false
    },
    "tags": []
   },
   "outputs": [],
   "source": [
    "assert (d_3b.index == ['GWP']).all(), 'The index do not correspond'\n",
    "assert (d_3b.columns == ['Impact']).all(), 'The columns do not correspond'"
   ]
  },
  {
   "cell_type": "markdown",
   "id": "10fae5fa-e91f-4800-a615-7feed1f5ea9d",
   "metadata": {
    "deletable": false,
    "editable": false,
    "nbgrader": {
     "cell_type": "markdown",
     "checksum": "7ccb93819bd98059e45c10875cc71d7c",
     "grade": false,
     "grade_id": "cell-ee96fa073ef44273",
     "locked": true,
     "schema_version": 3,
     "solution": false,
     "task": false
    },
    "tags": []
   },
   "source": [
    "#### **3c)** _(10 points)_ Partitioning based on energy - Impact of 1 kWh of electricity and 1 kWh of heat from CHP"
   ]
  },
  {
   "cell_type": "markdown",
   "id": "7fab0ecc-9bee-411f-838c-9d850943b019",
   "metadata": {
    "deletable": false,
    "editable": false,
    "nbgrader": {
     "cell_type": "markdown",
     "checksum": "e53bed2675f6c3fd5746e65638c2affe",
     "grade": false,
     "grade_id": "cell-19adcbe182b07257",
     "locked": true,
     "schema_version": 3,
     "solution": false,
     "task": false
    },
    "tags": []
   },
   "source": [
    "Follow the description under and calculate the vector d of impact of 1 kWh of heat and the vector d of impact of 1 kWh of electricity from the CHP using the matrix form. Define your answer as `d_3c_elec` and `d_3c_heat` and rename their column as \"Impact\". Remember that you have to do all the calculations leading to the vector of total impact d!\n",
    "\n",
    "c. Apply partitioning based on energy to find the impact due to 1 kWh of electricity and 1 kWh of heating from the CHP."
   ]
  },
  {
   "cell_type": "code",
   "execution_count": 25,
   "id": "8a860b70-7285-4cb4-b7eb-6ff85991ad3c",
   "metadata": {
    "deletable": false,
    "nbgrader": {
     "cell_type": "code",
     "checksum": "f3a7d957de16ec49a775eb963c26704b",
     "grade": false,
     "grade_id": "cell-0280c9d9501a573a",
     "locked": false,
     "schema_version": 3,
     "solution": true,
     "task": false
    },
    "tags": []
   },
   "outputs": [
    {
     "data": {
      "text/html": [
       "<div>\n",
       "<style scoped>\n",
       "    .dataframe tbody tr th:only-of-type {\n",
       "        vertical-align: middle;\n",
       "    }\n",
       "\n",
       "    .dataframe tbody tr th {\n",
       "        vertical-align: top;\n",
       "    }\n",
       "\n",
       "    .dataframe thead th {\n",
       "        text-align: right;\n",
       "    }\n",
       "</style>\n",
       "<table border=\"1\" class=\"dataframe\">\n",
       "  <thead>\n",
       "    <tr style=\"text-align: right;\">\n",
       "      <th></th>\n",
       "      <th>Impact</th>\n",
       "    </tr>\n",
       "  </thead>\n",
       "  <tbody>\n",
       "    <tr>\n",
       "      <th>GWP</th>\n",
       "      <td>0.244305</td>\n",
       "    </tr>\n",
       "  </tbody>\n",
       "</table>\n",
       "</div>"
      ],
      "text/plain": [
       "       Impact\n",
       "GWP  0.244305"
      ]
     },
     "metadata": {},
     "output_type": "display_data"
    },
    {
     "data": {
      "text/html": [
       "<div>\n",
       "<style scoped>\n",
       "    .dataframe tbody tr th:only-of-type {\n",
       "        vertical-align: middle;\n",
       "    }\n",
       "\n",
       "    .dataframe tbody tr th {\n",
       "        vertical-align: top;\n",
       "    }\n",
       "\n",
       "    .dataframe thead th {\n",
       "        text-align: right;\n",
       "    }\n",
       "</style>\n",
       "<table border=\"1\" class=\"dataframe\">\n",
       "  <thead>\n",
       "    <tr style=\"text-align: right;\">\n",
       "      <th></th>\n",
       "      <th>Impact</th>\n",
       "    </tr>\n",
       "  </thead>\n",
       "  <tbody>\n",
       "    <tr>\n",
       "      <th>GWP</th>\n",
       "      <td>0.244305</td>\n",
       "    </tr>\n",
       "  </tbody>\n",
       "</table>\n",
       "</div>"
      ],
      "text/plain": [
       "       Impact\n",
       "GWP  0.244305"
      ]
     },
     "metadata": {},
     "output_type": "display_data"
    }
   ],
   "source": [
    "Aff_Abf_parten = Aff_Abf_parten.fillna(0)\n",
    "#display(Aff_Abf_subheat)\n",
    "A_parten = pd.concat([Aff_Abf_parten, Afb_Abb], axis = 1)\n",
    "#display(A_subheat)\n",
    "\n",
    "I = np.identity(13)\n",
    "Larr = np.linalg.inv(I-A_parten)\n",
    "L = pd.DataFrame(Larr, index = ['CHP (kWh)', 'Heat (kWh)', 'El (kWh)', 'Electricity (N. Gas kWh)', 'Steel (kg)', 'Aluminium (kg)',\n",
    "       'Platinum (kg)', 'Plastic (kg)', 'Diesel (MJ)', 'N. Gas (MJ)',\n",
    "       'Transport (Truck, tkm)', 'Concrete (kg)', 'Glass (kg)'], columns = ['CHP (kWh)', 'Heat (kWh)', 'El (kWh)', 'Electricity (N. Gas kWh)', 'Steel (kg)', 'Aluminium (kg)',\n",
    "       'Platinum (kg)', 'Plastic (kg)', 'Diesel (MJ)', 'N. Gas (MJ)',\n",
    "       'Transport (Truck, tkm)', 'Concrete (kg)', 'Glass (kg)'])\n",
    "#display(L)\n",
    "\n",
    "x_el = L @ yelec\n",
    "x_el = x_el.rename(columns = {'Final demand' : 'Output'})\n",
    "\n",
    "x_heat = L @ yheat\n",
    "x_heat = x_heat.rename(columns = {'Final demand' : 'Output'})\n",
    "#display(x)\n",
    "\n",
    "Sf_parten = Sf_parten.fillna(0)\n",
    "S_parten = pd.concat([Sf_parten, Sb], axis = 1)\n",
    "#display(S_parten)\n",
    "\n",
    "d_3c_elec = C @ (S_parten @ x_el)\n",
    "d_3c_elec = d_3c_elec.rename(columns = {'Output' : 'Impact'})\n",
    "display(d_3c_elec)\n",
    "\n",
    "d_3c_heat = C @ (S_parten @ x_heat)\n",
    "d_3c_heat = d_3c_heat.rename(columns = {'Output' : 'Impact'})\n",
    "display(d_3c_heat)"
   ]
  },
  {
   "cell_type": "markdown",
   "id": "6839bc99-f3b7-4285-8642-6185f363b1e5",
   "metadata": {
    "deletable": false,
    "editable": false,
    "nbgrader": {
     "cell_type": "markdown",
     "checksum": "0a5a199f21f717b16bcef1917b240b2e",
     "grade": false,
     "grade_id": "cell-678a6cb964d0a861",
     "locked": true,
     "schema_version": 3,
     "solution": false,
     "task": false
    },
    "tags": []
   },
   "source": [
    "**_Run the cell under to check the format of your answer(s)_**"
   ]
  },
  {
   "cell_type": "code",
   "execution_count": 26,
   "id": "3da990c9-ac2a-4527-af14-12fd205dd551",
   "metadata": {
    "deletable": false,
    "editable": false,
    "nbgrader": {
     "cell_type": "code",
     "checksum": "ae0e63e638b24700eb826c0c8948fb69",
     "grade": true,
     "grade_id": "cell-5fe524037e677253",
     "locked": true,
     "points": 10,
     "schema_version": 3,
     "solution": false,
     "task": false
    },
    "tags": []
   },
   "outputs": [],
   "source": [
    "assert (d_3c_heat.index == ['GWP']).all(), 'The index do not correspond'\n",
    "assert (d_3c_heat.columns == ['Impact']).all(), 'The columns do not correspond'\n",
    "assert (d_3c_elec.index == ['GWP']).all(), 'The index do not correspond'\n",
    "assert (d_3c_elec.columns == ['Impact']).all(), 'The columns do not correspond'"
   ]
  },
  {
   "cell_type": "markdown",
   "id": "e920ed57-3a35-4c17-b689-1a2b9b37ab69",
   "metadata": {
    "deletable": false,
    "editable": false,
    "nbgrader": {
     "cell_type": "markdown",
     "checksum": "9152b659e194ae9448a0b9d1e15aabf5",
     "grade": false,
     "grade_id": "cell-78f9b3c9e493e7aa",
     "locked": true,
     "schema_version": 3,
     "solution": false,
     "task": false
    },
    "tags": []
   },
   "source": [
    "#### **3d)** _(10 points)_ Partitioning based on cost - Impact of 1 kWh of electricity and 1 kWh of heat from CHP"
   ]
  },
  {
   "cell_type": "markdown",
   "id": "51df6e4d-3f79-48ab-99a3-2a4c073742c2",
   "metadata": {
    "deletable": false,
    "editable": false,
    "nbgrader": {
     "cell_type": "markdown",
     "checksum": "aa9d6e4cf811268cde204228712a9a82",
     "grade": false,
     "grade_id": "cell-5c917992b87de6e7",
     "locked": true,
     "schema_version": 3,
     "solution": false,
     "task": false
    },
    "tags": []
   },
   "source": [
    "Follow the description under and calculate the vector d of impact of 1 kWh of heat and the vector d of impact of 1 kWh of electricity from the CHP using the matrix form. Define your answer as `d_3d_elec` and `d_3d_heat` and rename their column as \"Impact\". Remember that you have to do all the calculations leading to the vector of total impact d!\n",
    "\n",
    "d. Apply partitioning based on costs to find the impact due to 1 kWh of electricity and 1 kWh of heating from the CHP – cost of electricity produced = 1 NOK/KWh$_{elec}$ and the cost of heat produced = 0.7 NOK/KWh$_{heat}$."
   ]
  },
  {
   "cell_type": "code",
   "execution_count": 31,
   "id": "452a8093-991f-4c4e-9bf7-9333b5d30c0a",
   "metadata": {
    "deletable": false,
    "nbgrader": {
     "cell_type": "code",
     "checksum": "b4fdbf47ee56a31a42e11e4fc44a4c7c",
     "grade": false,
     "grade_id": "cell-1a51a4a0d19e2ea9",
     "locked": false,
     "schema_version": 3,
     "solution": true,
     "task": false
    },
    "tags": []
   },
   "outputs": [
    {
     "data": {
      "text/html": [
       "<div>\n",
       "<style scoped>\n",
       "    .dataframe tbody tr th:only-of-type {\n",
       "        vertical-align: middle;\n",
       "    }\n",
       "\n",
       "    .dataframe tbody tr th {\n",
       "        vertical-align: top;\n",
       "    }\n",
       "\n",
       "    .dataframe thead th {\n",
       "        text-align: right;\n",
       "    }\n",
       "</style>\n",
       "<table border=\"1\" class=\"dataframe\">\n",
       "  <thead>\n",
       "    <tr style=\"text-align: right;\">\n",
       "      <th></th>\n",
       "      <th>Impact</th>\n",
       "    </tr>\n",
       "  </thead>\n",
       "  <tbody>\n",
       "    <tr>\n",
       "      <th>GWP</th>\n",
       "      <td>0.302771</td>\n",
       "    </tr>\n",
       "  </tbody>\n",
       "</table>\n",
       "</div>"
      ],
      "text/plain": [
       "       Impact\n",
       "GWP  0.302771"
      ]
     },
     "metadata": {},
     "output_type": "display_data"
    },
    {
     "data": {
      "text/html": [
       "<div>\n",
       "<style scoped>\n",
       "    .dataframe tbody tr th:only-of-type {\n",
       "        vertical-align: middle;\n",
       "    }\n",
       "\n",
       "    .dataframe tbody tr th {\n",
       "        vertical-align: top;\n",
       "    }\n",
       "\n",
       "    .dataframe thead th {\n",
       "        text-align: right;\n",
       "    }\n",
       "</style>\n",
       "<table border=\"1\" class=\"dataframe\">\n",
       "  <thead>\n",
       "    <tr style=\"text-align: right;\">\n",
       "      <th></th>\n",
       "      <th>Impact</th>\n",
       "    </tr>\n",
       "  </thead>\n",
       "  <tbody>\n",
       "    <tr>\n",
       "      <th>GWP</th>\n",
       "      <td>0.211939</td>\n",
       "    </tr>\n",
       "  </tbody>\n",
       "</table>\n",
       "</div>"
      ],
      "text/plain": [
       "       Impact\n",
       "GWP  0.211939"
      ]
     },
     "metadata": {},
     "output_type": "display_data"
    }
   ],
   "source": [
    "Aff_Abf_partcost = Aff_Abf_partcost.fillna(0)\n",
    "#display(Aff_Abf_subheat)\n",
    "A_partcost = pd.concat([Aff_Abf_partcost, Afb_Abb], axis = 1)\n",
    "#display(A_subheat)\n",
    "\n",
    "I = np.identity(13)\n",
    "Larr = np.linalg.inv(I-A_partcost)\n",
    "L = pd.DataFrame(Larr, index = ['CHP (kWh)', 'Heat (kWh)', 'El (kWh)', 'Electricity (N. Gas kWh)', 'Steel (kg)', 'Aluminium (kg)',\n",
    "       'Platinum (kg)', 'Plastic (kg)', 'Diesel (MJ)', 'N. Gas (MJ)',\n",
    "       'Transport (Truck, tkm)', 'Concrete (kg)', 'Glass (kg)'], columns = ['CHP (kWh)', 'Heat (kWh)', 'El (kWh)', 'Electricity (N. Gas kWh)', 'Steel (kg)', 'Aluminium (kg)',\n",
    "       'Platinum (kg)', 'Plastic (kg)', 'Diesel (MJ)', 'N. Gas (MJ)',\n",
    "       'Transport (Truck, tkm)', 'Concrete (kg)', 'Glass (kg)'])\n",
    "#display(L)\n",
    "\n",
    "x_el = L @ yelec\n",
    "x_el = x_el.rename(columns = {'Final demand' : 'Output'})\n",
    "\n",
    "x_heat = L @ yheat\n",
    "x_heat = x_heat.rename(columns = {'Final demand' : 'Output'})\n",
    "#display(x)\n",
    "\n",
    "Sf_parten = Sf_parten.fillna(0)\n",
    "S_parten = pd.concat([Sf_parten, Sb], axis = 1)\n",
    "#display(S_parten)\n",
    "\n",
    "d_3d_elec = C @ (S_parten @ x_el)\n",
    "d_3d_elec = d_3d_elec.rename(columns = {'Output' : 'Impact'})\n",
    "display(d_3d_elec)\n",
    "\n",
    "d_3d_heat = C @ (S_parten @ x_heat)\n",
    "d_3d_heat = d_3d_heat.rename(columns = {'Output' : 'Impact'})\n",
    "display(d_3d_heat)"
   ]
  },
  {
   "cell_type": "markdown",
   "id": "b890cd5c-b1de-4517-9c3f-d73763cf07a5",
   "metadata": {
    "deletable": false,
    "editable": false,
    "nbgrader": {
     "cell_type": "markdown",
     "checksum": "1a9d1f9207fb860b3b2015c0fef89239",
     "grade": false,
     "grade_id": "cell-d9a22525bc858070",
     "locked": true,
     "schema_version": 3,
     "solution": false,
     "task": false
    },
    "tags": []
   },
   "source": [
    "**_Run the cell under to check the format of your answer(s)_**"
   ]
  },
  {
   "cell_type": "code",
   "execution_count": 28,
   "id": "f7ab2361-9a73-4051-884d-07a1fb29182a",
   "metadata": {
    "deletable": false,
    "editable": false,
    "nbgrader": {
     "cell_type": "code",
     "checksum": "d4216aebb93806178bed53a86a9c9d6d",
     "grade": true,
     "grade_id": "cell-77b55a51986f0f78",
     "locked": true,
     "points": 10,
     "schema_version": 3,
     "solution": false,
     "task": false
    },
    "tags": []
   },
   "outputs": [],
   "source": [
    "assert (d_3d_heat.index == ['GWP']).all(), 'The index do not correspond'\n",
    "assert (d_3d_heat.columns == ['Impact']).all(), 'The columns do not correspond'\n",
    "assert (d_3d_elec.index == ['GWP']).all(), 'The index do not correspond'\n",
    "assert (d_3d_elec.columns == ['Impact']).all(), 'The columns do not correspond'"
   ]
  }
 ],
 "metadata": {
  "kernelspec": {
   "display_name": "Python 3 (ipykernel)",
   "language": "python",
   "name": "python3"
  },
  "language_info": {
   "codemirror_mode": {
    "name": "ipython",
    "version": 3
   },
   "file_extension": ".py",
   "mimetype": "text/x-python",
   "name": "python",
   "nbconvert_exporter": "python",
   "pygments_lexer": "ipython3",
   "version": "3.11.6"
  }
 },
 "nbformat": 4,
 "nbformat_minor": 5
}
