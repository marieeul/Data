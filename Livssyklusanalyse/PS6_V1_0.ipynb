{
 "cells": [
  {
   "cell_type": "markdown",
   "id": "1708f886-f3eb-4042-b9f2-65ec2698f863",
   "metadata": {
    "deletable": false,
    "editable": false,
    "nbgrader": {
     "cell_type": "markdown",
     "checksum": "88940116af22a41ce89916e2a8cd3060",
     "grade": false,
     "grade_id": "cell-95afd61650ddcdd6",
     "locked": true,
     "schema_version": 3,
     "solution": false,
     "task": false
    },
    "tags": []
   },
   "source": [
    "# **Problem Set 6**"
   ]
  },
  {
   "cell_type": "markdown",
   "id": "9c3cbf62-40bf-4d57-8818-48f4ba29ab52",
   "metadata": {
    "deletable": false,
    "editable": false,
    "nbgrader": {
     "cell_type": "markdown",
     "checksum": "14a18fd006326e600368e90a418d95db",
     "grade": false,
     "grade_id": "cell-44896a05754a682a",
     "locked": true,
     "schema_version": 3,
     "solution": false,
     "task": false
    },
    "tags": []
   },
   "source": [
    "## **Problem set description**\n",
    "\n",
    "This exercise focuses on the phases of LCA, functional unit, regionalization, and understanding of DALYs."
   ]
  },
  {
   "cell_type": "markdown",
   "id": "7fe0da97-10ab-4edb-846c-39ff22a9b5b8",
   "metadata": {
    "deletable": false,
    "editable": false,
    "nbgrader": {
     "cell_type": "markdown",
     "checksum": "7950c969b8596ecbcc9ce55248c81c2b",
     "grade": false,
     "grade_id": "cell-517de0440a91d488",
     "locked": true,
     "schema_version": 3,
     "solution": false,
     "task": false
    },
    "tags": []
   },
   "source": [
    "## **Tasks**\n",
    "- The 4 LCA phases and which question(s) each phase answers\n",
    "- The definition of functional unit and its application\n",
    "- Understanding of regionalization\n",
    "- What DALY is and how it is calculated\n",
    "\n",
    "## **Passing requirement**\n",
    "- **At least 80 points**\n",
    "- **Question 3b) has to be delivered on Blackboard in Assignments -> PS6 -> \"PS6 - Questions BB\"**\n",
    "- **Question 4c) has to be delivered on Blackboard in Assignments -> PS6 -> \"PS6 - Questions BB\"**\n",
    "\n",
    "**Answers to questions 3b) and 4c) count for 25 points in total. It is part of the 80 points needed for getting an approved assignment. Write your answers in the word template provided in Assignments -> PS6 -> \"PS6 - Questions BB\" converted to a pdf file!**\n",
    "\n",
    "**_Please run the cell below before you start the assignment_**"
   ]
  },
  {
   "cell_type": "code",
   "execution_count": 1,
   "id": "791e9ae5-ce26-4b3c-9486-f1d133650bb8",
   "metadata": {
    "deletable": false,
    "editable": false,
    "nbgrader": {
     "cell_type": "code",
     "checksum": "a19ba14397ced7e541b5cb655ccc359e",
     "grade": false,
     "grade_id": "cell-4e7040b324759da4",
     "locked": true,
     "schema_version": 3,
     "solution": false,
     "task": false
    },
    "tags": []
   },
   "outputs": [],
   "source": [
    "# Import required Python libraries\n",
    "import pandas as pd\n",
    "import numpy as np\n",
    "import matplotlib.pyplot as plt\n",
    "import seaborn as sns"
   ]
  },
  {
   "cell_type": "markdown",
   "id": "eb0bab04-bd1c-4a41-9b51-c88a4c71f24a",
   "metadata": {
    "deletable": false,
    "editable": false,
    "nbgrader": {
     "cell_type": "markdown",
     "checksum": "a93e7fcb79dee1fcb4eadf46e7d043d8",
     "grade": false,
     "grade_id": "cell-83ca39d8be3cc5f4",
     "locked": true,
     "schema_version": 3,
     "solution": false,
     "task": false
    },
    "tags": []
   },
   "source": [
    "## **1. Phases of LCA** _(25 points)_"
   ]
  },
  {
   "cell_type": "markdown",
   "id": "4e8aed40-724e-4af0-9801-65ba18fa3aa9",
   "metadata": {
    "deletable": false,
    "editable": false,
    "nbgrader": {
     "cell_type": "markdown",
     "checksum": "f175f90bb5dc03b51985a9430c328338",
     "grade": false,
     "grade_id": "cell-bc19be411f60f577",
     "locked": true,
     "schema_version": 3,
     "solution": false,
     "task": false
    },
    "tags": []
   },
   "source": [
    "#### **1a)** LCA diagram _(5 points)_ \n",
    "\n",
    "In LCA, there are 4 phases: \n",
    "1) Goal and scope \n",
    "2) Inventory analysis\n",
    "3) Impact assessment \n",
    "4) Interpretation\n",
    "\n",
    "Place the names of the phases in the diagram below. Define your answer as the variables `answer_1a_A`, `answer_1a_B` and `answer_1a_C`. Your answer should be `answer_1a_A = {1}` if you think the correct name for A is \"1) Goal and scope\". The 5 points are only given if all the names are correctly placed!\n",
    "\n",
    "<img src=\"files_PS6_V1_0/LCA_phases.svg\" width=\"700\">"
   ]
  },
  {
   "cell_type": "code",
   "execution_count": 2,
   "id": "32be46a5-4be3-4678-9f61-75308028e041",
   "metadata": {
    "deletable": false,
    "nbgrader": {
     "cell_type": "code",
     "checksum": "7be72d97abad4fb802ed013f178dff52",
     "grade": false,
     "grade_id": "cell-bdbe7a31da54d78e",
     "locked": false,
     "schema_version": 3,
     "solution": true,
     "task": false
    },
    "tags": []
   },
   "outputs": [],
   "source": [
    "answer_1a_A = {2}\n",
    "answer_1a_B = {4}\n",
    "answer_1a_C = {3}"
   ]
  },
  {
   "cell_type": "markdown",
   "id": "56ea3997-2391-4740-8db9-212d7601b05f",
   "metadata": {
    "deletable": false,
    "editable": false,
    "nbgrader": {
     "cell_type": "markdown",
     "checksum": "90de1e321e96099acdf8482aa9ca07b1",
     "grade": false,
     "grade_id": "cell-64b2668b654bce12",
     "locked": true,
     "schema_version": 3,
     "solution": false,
     "task": false
    },
    "tags": []
   },
   "source": [
    "**_Run the cell under to check the format of your answers_**"
   ]
  },
  {
   "cell_type": "code",
   "execution_count": 3,
   "id": "d5b273b4-ce85-46d4-b61c-c412eba5aa93",
   "metadata": {
    "deletable": false,
    "editable": false,
    "nbgrader": {
     "cell_type": "code",
     "checksum": "713300624af36ef53d9e24c6817cde71",
     "grade": true,
     "grade_id": "cell-92ea1755d5a3fe5f",
     "locked": true,
     "points": 5,
     "schema_version": 3,
     "solution": false,
     "task": false
    },
    "tags": []
   },
   "outputs": [],
   "source": [
    "assert all (type(i) in [set] for i in [answer_1a_A, answer_1a_B, answer_1a_C]), 'The answer(s) must be a set of values'"
   ]
  },
  {
   "cell_type": "markdown",
   "id": "b7dd6b92-84fd-4e48-82f7-94bf82061602",
   "metadata": {
    "deletable": false,
    "editable": false,
    "nbgrader": {
     "cell_type": "markdown",
     "checksum": "b4450520ec2124369ee3523a9a805c5b",
     "grade": false,
     "grade_id": "cell-beee75ee95cd5fe7",
     "locked": true,
     "schema_version": 3,
     "solution": false,
     "task": false
    },
    "tags": []
   },
   "source": [
    "#### **1b)** Which question(s) does each phase answer? _(20 points)_ \n",
    "\n",
    "You'll find a list of questions below, each associated with one of the four phases of the Life Cycle Assessment (LCA) mentioned in 1a). Your task is to match these LCA phases with the corresponding questions. Use the variables `answer_1b_1`, `answer_1b_2`, `answer_1b_3`, and `answer_1b_4` to define your responses for each phase, using letters a through m to represent the questions. \n",
    "\n",
    "For example, if you believe that only question 'a' is addressed in phase \"1) Goal and scope,\" set `answer_1b_1 = {'a'}`. If you think both questions 'a', 'j' and 'l'  are addressed in phase 1, set it as `answer_1b_1 = {'a', 'j', 'l'}`. There is only one correct phase for each question, but there are several questions for each particular phase.\n",
    "\n",
    "Each correct response will earn you 5 points. However, to receive these 5 points, your assignment of questions to a particular phase must be entirely accurate. Therefore, please make sure you match each question to the appropriate phase of the LCA. \n",
    "\n",
    "\n",
    "+ a - What is the aim of the LCA?\n",
    "+ b - What are the possible recommendations?\n",
    "+ c - Where are the system boundaries and what are the included functions in the system? \n",
    "+ d - How do the results look like after weighting/normalizing?\n",
    "+ e - What are the weaknesses of the study? \n",
    "+ f - Which raw materials/emissions are used/produced? \n",
    "+ g - What assumptions are made? \n",
    "+ h - How reliable are the results? \n",
    "+ i - Which products are produced? Which products and materials are used? \n",
    "+ j - What are the results for different impact categories?\n",
    "+ k - How are these different inputs and outputs allocated to the system? \n",
    "+ l - Conclusions? "
   ]
  },
  {
   "cell_type": "markdown",
   "id": "d525abef-d5b8-4717-ac7a-58b3518a6e4e",
   "metadata": {
    "deletable": false,
    "editable": false,
    "nbgrader": {
     "cell_type": "markdown",
     "checksum": "3cb98617fb8ac8ab34f3b3ed9cbd572f",
     "grade": false,
     "grade_id": "cell-a119c143ecaa2544",
     "locked": true,
     "schema_version": 3,
     "solution": false,
     "task": false
    },
    "tags": []
   },
   "source": [
    "**_Questions from the list above about 1) Goal and scope `(answer_1b_1)`_**"
   ]
  },
  {
   "cell_type": "code",
   "execution_count": 4,
   "id": "8fd3374e-0e9c-4d5a-86fe-613015b2e4ba",
   "metadata": {
    "deletable": false,
    "nbgrader": {
     "cell_type": "code",
     "checksum": "ec35a2bcd334befb681c4dfba29e71d5",
     "grade": false,
     "grade_id": "cell-435fd41fbde03ab4",
     "locked": false,
     "schema_version": 3,
     "solution": true,
     "task": false
    },
    "tags": []
   },
   "outputs": [],
   "source": [
    "answer_1b_1 = {'a', 'c', 'g'}"
   ]
  },
  {
   "cell_type": "markdown",
   "id": "8a31c786-f1aa-48cf-a10d-4db5bcc1badb",
   "metadata": {
    "deletable": false,
    "editable": false,
    "nbgrader": {
     "cell_type": "markdown",
     "checksum": "7178e9cd827fb2f569f04166ba7e7a8d",
     "grade": false,
     "grade_id": "cell-2abf20abe4258bb9",
     "locked": true,
     "schema_version": 3,
     "solution": false,
     "task": false
    },
    "tags": []
   },
   "source": [
    "**_Run the cell under to check the format of your answers_**"
   ]
  },
  {
   "cell_type": "code",
   "execution_count": 5,
   "id": "a8ea9b6c-0e5b-446d-96fa-7e893a12de61",
   "metadata": {
    "deletable": false,
    "editable": false,
    "nbgrader": {
     "cell_type": "code",
     "checksum": "81457f67a954e6bf03bbbb9ae7cf1cf5",
     "grade": true,
     "grade_id": "cell-98048c7111c3cd99",
     "locked": true,
     "points": 5,
     "schema_version": 3,
     "solution": false,
     "task": false
    },
    "tags": []
   },
   "outputs": [],
   "source": [
    "assert all (type(i) in [set] for i in [answer_1b_1]), 'The answer(s) must be a set of values'"
   ]
  },
  {
   "cell_type": "markdown",
   "id": "562ae470-4cd2-4ce0-95ce-dff22c48c93b",
   "metadata": {
    "deletable": false,
    "editable": false,
    "nbgrader": {
     "cell_type": "markdown",
     "checksum": "34bac4929237ce2b331a6fb0cc15744e",
     "grade": false,
     "grade_id": "cell-656de5104498f49c",
     "locked": true,
     "schema_version": 3,
     "solution": false,
     "task": false
    },
    "tags": []
   },
   "source": [
    "**_Questions from the list above about 2) Inventory analysis `(answer_1b_2)`_**"
   ]
  },
  {
   "cell_type": "code",
   "execution_count": 6,
   "id": "c9d6cc40-55a1-4c76-a164-47da0548cd1f",
   "metadata": {
    "deletable": false,
    "nbgrader": {
     "cell_type": "code",
     "checksum": "6c241242a3c40936d10cf17758235782",
     "grade": false,
     "grade_id": "cell-06482e56a29813e0",
     "locked": false,
     "schema_version": 3,
     "solution": true,
     "task": false
    },
    "tags": []
   },
   "outputs": [],
   "source": [
    "answer_1b_2 = {'f', 'i', 'k'}"
   ]
  },
  {
   "cell_type": "markdown",
   "id": "ef394b26-12a8-4b9a-a4c3-fb5099eb7473",
   "metadata": {
    "deletable": false,
    "editable": false,
    "nbgrader": {
     "cell_type": "markdown",
     "checksum": "c8dc4dbc0109208ef05ce6453e483298",
     "grade": false,
     "grade_id": "cell-dd03125798074900",
     "locked": true,
     "schema_version": 3,
     "solution": false,
     "task": false
    },
    "tags": []
   },
   "source": [
    "**_Run the cell under to check the format of your answers_**"
   ]
  },
  {
   "cell_type": "code",
   "execution_count": 7,
   "id": "2a2e71e5-08cf-410c-a47d-6e9ed173569f",
   "metadata": {
    "deletable": false,
    "editable": false,
    "nbgrader": {
     "cell_type": "code",
     "checksum": "6b9d7762533d6778989047a2029c2254",
     "grade": true,
     "grade_id": "cell-1018a6e0f68c8aab",
     "locked": true,
     "points": 5,
     "schema_version": 3,
     "solution": false,
     "task": false
    },
    "tags": []
   },
   "outputs": [],
   "source": [
    "assert all (type(i) in [set] for i in [answer_1b_2]), 'The answer(s) must be a set of values'"
   ]
  },
  {
   "cell_type": "markdown",
   "id": "99703020-9231-45ce-8b1c-2439460198ea",
   "metadata": {
    "deletable": false,
    "editable": false,
    "nbgrader": {
     "cell_type": "markdown",
     "checksum": "2ba4222dce1dd1d92f34417851737639",
     "grade": false,
     "grade_id": "cell-1ba5bd2851f66603",
     "locked": true,
     "schema_version": 3,
     "solution": false,
     "task": false
    },
    "tags": []
   },
   "source": [
    "**_Questions from the list above about 3) Impact assessment `(answer_1b_3)`_**"
   ]
  },
  {
   "cell_type": "code",
   "execution_count": 8,
   "id": "585758cd-c52d-42bf-bf34-abb038e6d03f",
   "metadata": {
    "deletable": false,
    "nbgrader": {
     "cell_type": "code",
     "checksum": "35a05fa6784fa4204d90dfac1b95276b",
     "grade": false,
     "grade_id": "cell-d2deb2f53c3057c6",
     "locked": false,
     "schema_version": 3,
     "solution": true,
     "task": false
    },
    "tags": []
   },
   "outputs": [],
   "source": [
    "answer_1b_3 = {'d', 'j'}"
   ]
  },
  {
   "cell_type": "markdown",
   "id": "a590fcc9-9a6a-4072-beb6-de9c8b196c07",
   "metadata": {
    "deletable": false,
    "editable": false,
    "nbgrader": {
     "cell_type": "markdown",
     "checksum": "7b093c493863350e84d271a0413ab844",
     "grade": false,
     "grade_id": "cell-5826c4bae70114fd",
     "locked": true,
     "schema_version": 3,
     "solution": false,
     "task": false
    },
    "tags": []
   },
   "source": [
    "**_Run the cell under to check the format of your answers_**"
   ]
  },
  {
   "cell_type": "code",
   "execution_count": 9,
   "id": "f8a98aa4-f119-4d73-875c-d545522ab54f",
   "metadata": {
    "deletable": false,
    "editable": false,
    "nbgrader": {
     "cell_type": "code",
     "checksum": "5b662ee4ceea489e4484f87f0ca44e24",
     "grade": true,
     "grade_id": "cell-3905f651a129466d",
     "locked": true,
     "points": 5,
     "schema_version": 3,
     "solution": false,
     "task": false
    },
    "tags": []
   },
   "outputs": [],
   "source": [
    "assert all (type(i) in [set] for i in [answer_1b_3]), 'The answer(s) must be a set of values'"
   ]
  },
  {
   "cell_type": "markdown",
   "id": "83a225a0-274a-4e90-845a-3c6fb05c1fe6",
   "metadata": {
    "deletable": false,
    "editable": false,
    "nbgrader": {
     "cell_type": "markdown",
     "checksum": "089854641ffaf4a22580d120935a5e4e",
     "grade": false,
     "grade_id": "cell-f93889199a272260",
     "locked": true,
     "schema_version": 3,
     "solution": false,
     "task": false
    },
    "tags": []
   },
   "source": [
    "**_Questions from the list above about 4) Interpretation `(answer_1b_4)`_**"
   ]
  },
  {
   "cell_type": "code",
   "execution_count": 10,
   "id": "1390f0db-a33c-4b8a-9106-160a453507aa",
   "metadata": {
    "deletable": false,
    "nbgrader": {
     "cell_type": "code",
     "checksum": "959888e57a522d47ba1d30de0ddd1ce6",
     "grade": false,
     "grade_id": "cell-83b0fb99634f3a07",
     "locked": false,
     "schema_version": 3,
     "solution": true,
     "task": false
    },
    "tags": []
   },
   "outputs": [],
   "source": [
    "answer_1b_4 = {'b', 'e', 'h', 'l'}"
   ]
  },
  {
   "cell_type": "markdown",
   "id": "0548b75c-9c71-48bb-aa65-1cde25958f76",
   "metadata": {
    "deletable": false,
    "editable": false,
    "nbgrader": {
     "cell_type": "markdown",
     "checksum": "4dafc2764441b35e11b65ad2792a65db",
     "grade": false,
     "grade_id": "cell-ab1c42d5cd592ddf",
     "locked": true,
     "schema_version": 3,
     "solution": false,
     "task": false
    },
    "tags": []
   },
   "source": [
    "**_Run the cell under to check the format of your answers_**"
   ]
  },
  {
   "cell_type": "code",
   "execution_count": 11,
   "id": "75e2675d-2cd1-49d1-a072-a9a5b60ba128",
   "metadata": {
    "deletable": false,
    "editable": false,
    "nbgrader": {
     "cell_type": "code",
     "checksum": "0fbf934c4ec43e738d1e8c2aff655366",
     "grade": true,
     "grade_id": "cell-4be7a382e684f419",
     "locked": true,
     "points": 5,
     "schema_version": 3,
     "solution": false,
     "task": false
    },
    "tags": []
   },
   "outputs": [],
   "source": [
    "assert all (type(i) in [set] for i in [answer_1b_4]), 'The answer(s) must be a set of values'"
   ]
  },
  {
   "cell_type": "markdown",
   "id": "cadbef67-75c8-4adb-bfaf-a0e43f92c137",
   "metadata": {
    "deletable": false,
    "editable": false,
    "nbgrader": {
     "cell_type": "markdown",
     "checksum": "b9511047fb5a50957dfa1c5fb4a7f5b5",
     "grade": false,
     "grade_id": "cell-54c719183107c719",
     "locked": true,
     "schema_version": 3,
     "solution": false,
     "task": false
    },
    "tags": []
   },
   "source": [
    "## **2. Functional units** _(30 points)_"
   ]
  },
  {
   "cell_type": "markdown",
   "id": "7efa307b-7e92-4dad-9044-a2f27caf2d39",
   "metadata": {
    "deletable": false,
    "editable": false,
    "nbgrader": {
     "cell_type": "markdown",
     "checksum": "a9f4b4c86add410b9d4461fd8d533add",
     "grade": false,
     "grade_id": "cell-b7344afd3abebc4a",
     "locked": true,
     "schema_version": 3,
     "solution": false,
     "task": false
    },
    "tags": []
   },
   "source": [
    "#### **2a)** Which one(s) of the following statements correctly describe the concept of a functional unit in LCA? _(10 points)_ \n",
    "\n",
    "1. A functional unit is a quantified performance of a product system for use as a reference unit.\n",
    "2. The functional unit is used to ensure that comparisons between different product systems are meaningful and consistent.\n",
    "3. A functional unit is the weight of a product, which is used to compare different products.\n",
    "4. The functional unit represents the specific function or service provided by a product or system, allowing for a fair comparison between alternatives.\n",
    "5. A functional unit is the geographical location of a product's production, used for comparing environmental impacts.\n",
    "\n",
    "Define your answer as the variable `answer_2a` (e.g. `answer_2a = {1}` if you think the correct statement is statement {1} or `answer_2a = {1, 2}` if you think the correct statements are statements {1, 2})."
   ]
  },
  {
   "cell_type": "code",
   "execution_count": 12,
   "id": "b8aa2caf-563a-4ba2-916c-4f892b92e2d3",
   "metadata": {
    "deletable": false,
    "nbgrader": {
     "cell_type": "code",
     "checksum": "09ed16a1a2bdda179eff16308c370257",
     "grade": false,
     "grade_id": "cell-50e46c208f57f4b4",
     "locked": false,
     "schema_version": 3,
     "solution": true,
     "task": false
    },
    "tags": []
   },
   "outputs": [],
   "source": [
    "answer_2a = {1, 2, 4}"
   ]
  },
  {
   "cell_type": "code",
   "execution_count": 13,
   "id": "4a258c72-3668-4df5-810b-6fb532c52e8a",
   "metadata": {
    "deletable": false,
    "editable": false,
    "nbgrader": {
     "cell_type": "code",
     "checksum": "c220577aed874c496ba6cb4585fa0e81",
     "grade": true,
     "grade_id": "cell-ebb17b2aa0bbb8eb",
     "locked": true,
     "points": 10,
     "schema_version": 3,
     "solution": false,
     "task": false
    },
    "tags": []
   },
   "outputs": [],
   "source": [
    "assert all (type(i) in [set] for i in [answer_2a]), 'The answer(s) must be a set of values'"
   ]
  },
  {
   "cell_type": "markdown",
   "id": "3258ff68-6457-4b20-aa99-17ab3c12e559",
   "metadata": {
    "deletable": false,
    "editable": false,
    "nbgrader": {
     "cell_type": "markdown",
     "checksum": "c703b23afc7515d84d2056305ce24b41",
     "grade": false,
     "grade_id": "cell-7128bc0feb3dd65c",
     "locked": true,
     "schema_version": 3,
     "solution": false,
     "task": false
    },
    "tags": []
   },
   "source": [
    "#### **2b)** Define appropriate functional units for comparing a remote control with non-rechargeable batteries and a remote control with rechargeable batteries _(10 points)_ \n",
    "\n",
    "1. Distance in meters between the remote control and the device it controls.\n",
    "2. Cost of the remote control.\n",
    "3. Total hours of remote control usage over its lifetime.\n",
    "4. Number of button presses provided over the lifetime of the remote control.\n",
    "5. Total weight of the remote control with batteries.\n",
    "\n",
    "Define your answer as the variable `answer_2b` (e.g. `answer_2b = {1}` if you think the correct statement is statement {1} or `answer_2b = {1, 2}` if you think the correct statements are statements {1, 2})."
   ]
  },
  {
   "cell_type": "code",
   "execution_count": 14,
   "id": "ac0b75cc-e39a-4738-9b86-3194e0a907b1",
   "metadata": {
    "deletable": false,
    "nbgrader": {
     "cell_type": "code",
     "checksum": "14aaf6e7649f3dd35b3a3a673dfe8b74",
     "grade": false,
     "grade_id": "cell-b99a717b1bc8f233",
     "locked": false,
     "schema_version": 3,
     "solution": true,
     "task": false
    },
    "tags": []
   },
   "outputs": [],
   "source": [
    "answer_2b = {3, 4}"
   ]
  },
  {
   "cell_type": "code",
   "execution_count": 15,
   "id": "79e78520-e99b-41f1-ba2a-25f93dbfcae5",
   "metadata": {
    "deletable": false,
    "editable": false,
    "nbgrader": {
     "cell_type": "code",
     "checksum": "feee7f056e4b66172638b6329efe4fde",
     "grade": true,
     "grade_id": "cell-d5ce5db1baa9bf8f",
     "locked": true,
     "points": 10,
     "schema_version": 3,
     "solution": false,
     "task": false
    },
    "tags": []
   },
   "outputs": [],
   "source": [
    "assert all (type(i) in [set] for i in [answer_2b]), 'The answer(s) must be a set of values'"
   ]
  },
  {
   "cell_type": "markdown",
   "id": "ff8207b3-4aff-485f-b3be-e68838020fde",
   "metadata": {
    "deletable": false,
    "editable": false,
    "nbgrader": {
     "cell_type": "markdown",
     "checksum": "d1266c29208d955e57381254dbc8c18f",
     "grade": false,
     "grade_id": "cell-e7cbf8067fe61149",
     "locked": true,
     "schema_version": 3,
     "solution": false,
     "task": false
    },
    "tags": []
   },
   "source": [
    "#### **2c)** Define appropriate functional units for comparing an online encyclopedia and a printed encyclopaedia _(10 points)_ \n",
    "\n",
    "1. Total weight of the printed encyclopedia or the electronic device used to access the online encyclopedia.\n",
    "2. Total number of articles read or accessed by a user over a defined period (e.g., one year).\n",
    "3. Cost of the printed encyclopedia or subscription fee for the online version.\n",
    "4. Number of colors used in the printed encyclopedia or displayed on the screen for the online version.\n",
    "5. Total usage hours of users i one year.\n",
    "\n",
    "Define your answer as the variable `answer_2c` (e.g. `answer_2c = {1}` if you think the correct statement is statement {1} or `answer_2c = {1, 2}` if you think the correct statements are statements {1, 2})."
   ]
  },
  {
   "cell_type": "code",
   "execution_count": 16,
   "id": "711cf48d-c2a8-4640-a65f-f9a3bd696f70",
   "metadata": {
    "deletable": false,
    "nbgrader": {
     "cell_type": "code",
     "checksum": "394dfbee94bcb318ef76d42162173d48",
     "grade": false,
     "grade_id": "cell-d0af6f949bc9a5b6",
     "locked": false,
     "schema_version": 3,
     "solution": true,
     "task": false
    },
    "tags": []
   },
   "outputs": [],
   "source": [
    "answer_2c = {2, 5}"
   ]
  },
  {
   "cell_type": "code",
   "execution_count": 17,
   "id": "463c271f-8900-4423-966f-a04e207a5a34",
   "metadata": {
    "deletable": false,
    "editable": false,
    "nbgrader": {
     "cell_type": "code",
     "checksum": "5e67a4ea2a4cf7c99179a35e15bd683a",
     "grade": true,
     "grade_id": "cell-8ed82bf5b95c1884",
     "locked": true,
     "points": 10,
     "schema_version": 3,
     "solution": false,
     "task": false
    },
    "tags": []
   },
   "outputs": [],
   "source": [
    "assert all (type(i) in [set] for i in [answer_2c]), 'The answer(s) must be a set of values'"
   ]
  },
  {
   "cell_type": "markdown",
   "id": "2f9e3191-d099-4a10-a6b3-6553fcb3091a",
   "metadata": {
    "deletable": false,
    "editable": false,
    "nbgrader": {
     "cell_type": "markdown",
     "checksum": "880c495d8a300b00214d36f069bec98b",
     "grade": false,
     "grade_id": "cell-79e5796e3a640adf",
     "locked": true,
     "schema_version": 3,
     "solution": false,
     "task": false
    },
    "tags": []
   },
   "source": [
    "## **3. Regionalization** _(25 points)_"
   ]
  },
  {
   "cell_type": "markdown",
   "id": "a94ced4e-c663-4278-b06c-ddeec9e49ad4",
   "metadata": {
    "deletable": false,
    "editable": false,
    "nbgrader": {
     "cell_type": "markdown",
     "checksum": "0277642799ed498bbd3c2646d27397cc",
     "grade": false,
     "grade_id": "cell-8ddf12512cb3cb7d",
     "locked": true,
     "schema_version": 3,
     "solution": false,
     "task": false
    },
    "tags": []
   },
   "source": [
    "#### **3a)** Which of the following are reasons why regionalization is attempted in many different impact categories in LCA?  _(10 points)_ \n",
    "\n",
    "1. Due to trade and global value chain, products are produced, used, and disposed of in different world regions, requiring various inputs and generating diverse outputs.\n",
    "2. Some of the impacts are highly location-specific, and identifying these with a regionalized assessment allows for better understanding of supply chains and key processes in certain world regions.\n",
    "3. Regionalization simplifies the assessment process by allowing the use of a single global average value for all impact categories.\n",
    "4. Regionalized assessments of highly location-specific impacts help reduce the uncertainty of the assessments.\n",
    "5. Regionalization is mainly used for marketing purposes to emphasize the environmental benefits of a product in a specific region.\n",
    "\n",
    "Define your answer as the variable `answer_3a` (e.g. `answer_3a = {1}` if you think the correct statement is statement {1} or `answer_3a = {1, 2}` if you think the correct statements are statements {1, 2})."
   ]
  },
  {
   "cell_type": "code",
   "execution_count": 18,
   "id": "493013d5-8ef0-4d59-b62f-6dd18c8af61b",
   "metadata": {
    "deletable": false,
    "nbgrader": {
     "cell_type": "code",
     "checksum": "ddbc64a611970b07663a7d9666d2bb44",
     "grade": false,
     "grade_id": "cell-9aefb05e5674291f",
     "locked": false,
     "schema_version": 3,
     "solution": true,
     "task": false
    },
    "tags": []
   },
   "outputs": [],
   "source": [
    "answer_3a = {1, 2, 4}"
   ]
  },
  {
   "cell_type": "code",
   "execution_count": 19,
   "id": "88753098-2201-4b72-8375-07786cd286e8",
   "metadata": {
    "deletable": false,
    "editable": false,
    "nbgrader": {
     "cell_type": "code",
     "checksum": "a780d7d25ce6e665c2ed94f684ac4232",
     "grade": true,
     "grade_id": "cell-755f22dc4fc5ce49",
     "locked": true,
     "points": 10,
     "schema_version": 3,
     "solution": false,
     "task": false
    },
    "tags": []
   },
   "outputs": [],
   "source": [
    "assert all (type(i) in [set] for i in [answer_3a]), 'The answer(s) must be a set of values'"
   ]
  },
  {
   "cell_type": "markdown",
   "id": "fb6f249d-21e2-43e1-9f55-6b38d7a9cfdd",
   "metadata": {
    "deletable": false,
    "editable": false,
    "nbgrader": {
     "cell_type": "markdown",
     "checksum": "1bca5754636bed18e0f6874efb934c9d",
     "grade": false,
     "grade_id": "cell-aa56cf0a9a41c3ec",
     "locked": true,
     "schema_version": 3,
     "solution": false,
     "task": false
    },
    "tags": []
   },
   "source": [
    "#### **3b)** Explain the importance of regionalization by using one example of your choice _(15 points)_ \n",
    "\n",
    "You have to **deliver on Blackboard** a short paragraph (around 80 words is the recommended length) to give an example explaining the importance of regionalization."
   ]
  },
  {
   "cell_type": "markdown",
   "id": "3823c06a-080d-4076-8773-be446623b2e7",
   "metadata": {
    "deletable": false,
    "editable": false,
    "nbgrader": {
     "cell_type": "markdown",
     "checksum": "96d4c9c14daa52006e2cb09e55608b9b",
     "grade": false,
     "grade_id": "cell-a5b4e41fee46ffb9",
     "locked": true,
     "schema_version": 3,
     "solution": false,
     "task": false
    },
    "tags": []
   },
   "source": [
    "## **4. Explain the concept of DALYs** _(20 points)_"
   ]
  },
  {
   "cell_type": "markdown",
   "id": "33545dbc-e07a-4874-a036-fd5acc3ae245",
   "metadata": {
    "deletable": false,
    "editable": false,
    "nbgrader": {
     "cell_type": "markdown",
     "checksum": "f77d7e5b7f801f62cffaeb1f18aff4f7",
     "grade": false,
     "grade_id": "cell-6131f7c885e2c4f8",
     "locked": true,
     "schema_version": 3,
     "solution": false,
     "task": false
    },
    "tags": []
   },
   "source": [
    "#### **4a)** What is DALYs? _(5 points)_\n",
    "\n",
    "1. A measure of the total number of years lived with a disability or injury.\n",
    "2. The number of years lost due to ill-health, disability, or early death within a population.\n",
    "3. The average number of years a person can expect to live in good health.\n",
    "4. The total number of years a person is expected to live with a particular disease or disability.\n",
    "\n",
    "Define your answer as the variable `answer_4a` (e.g. `answer_4a = {1}` if you think the correct statement is statement {1} or `answer_4a = {1, 2}` if you think the correct statements are statements {1, 2})."
   ]
  },
  {
   "cell_type": "code",
   "execution_count": 20,
   "id": "430b380b-321e-46d5-b32e-ff479f6196e3",
   "metadata": {
    "deletable": false,
    "nbgrader": {
     "cell_type": "code",
     "checksum": "8275904c819167cf5ff935ad7b61874d",
     "grade": false,
     "grade_id": "cell-2e633d867d3da27d",
     "locked": false,
     "schema_version": 3,
     "solution": true,
     "task": false
    },
    "tags": []
   },
   "outputs": [],
   "source": [
    "answer_4a = {2}"
   ]
  },
  {
   "cell_type": "code",
   "execution_count": 21,
   "id": "80433c81-f499-4f2b-9b30-d16504645481",
   "metadata": {
    "deletable": false,
    "editable": false,
    "nbgrader": {
     "cell_type": "code",
     "checksum": "1907ab4a5975ab91d71051568d7bb202",
     "grade": true,
     "grade_id": "cell-17aae40f31747b89",
     "locked": true,
     "points": 5,
     "schema_version": 3,
     "solution": false,
     "task": false
    },
    "tags": []
   },
   "outputs": [],
   "source": [
    "assert all (type(i) in [set] for i in [answer_4a]), 'The answer(s) must be a set of values'"
   ]
  },
  {
   "cell_type": "markdown",
   "id": "9d887a1a-f4d1-42fc-a794-393616a66fdc",
   "metadata": {
    "deletable": false,
    "editable": false,
    "nbgrader": {
     "cell_type": "markdown",
     "checksum": "6380322950173cd178f37ba643cf3b0d",
     "grade": false,
     "grade_id": "cell-a917919f15b994c4",
     "locked": true,
     "schema_version": 3,
     "solution": false,
     "task": false
    },
    "tags": []
   },
   "source": [
    "#### **4b)** Which of the following statements is NOT correct about DALYs? _(5 points)_\n",
    "\n",
    "1. DALYs measure the number of years lost due to ill-health, disability, or early death. \n",
    "2. DALYs are used to quantify the overall disease burden.\n",
    "3. DALYs combine the years of life lost due to premature mortality with the years of healthy life lost due to disability.\n",
    "4. DALYs focus on the economic impacts of diseases and ignore the social and environmental aspects of health.\n",
    "\n",
    "Define your answer as the variable `answer_4b` (e.g. `answer_4b = {1}` if you think the correct statement is statement {1} or `answer_4b = {1, 2}` if you think the correct statements are statements {1, 2})."
   ]
  },
  {
   "cell_type": "code",
   "execution_count": 22,
   "id": "0a2c3da6-a43b-42a2-9708-7bc76f4d7bb1",
   "metadata": {
    "deletable": false,
    "nbgrader": {
     "cell_type": "code",
     "checksum": "ffd8dc41de5229ddbf742d769366ad83",
     "grade": false,
     "grade_id": "cell-b2613a62b0fc32fd",
     "locked": false,
     "schema_version": 3,
     "solution": true,
     "task": false
    },
    "tags": []
   },
   "outputs": [],
   "source": [
    "answer_4b = {4}"
   ]
  },
  {
   "cell_type": "code",
   "execution_count": 23,
   "id": "bfa044d1-125a-4820-9eb2-390e830936b9",
   "metadata": {
    "deletable": false,
    "editable": false,
    "nbgrader": {
     "cell_type": "code",
     "checksum": "1306b97966eb4278db42b5e3f3304fe3",
     "grade": true,
     "grade_id": "cell-602e14721ea16e3a",
     "locked": true,
     "points": 5,
     "schema_version": 3,
     "solution": false,
     "task": false
    },
    "tags": []
   },
   "outputs": [],
   "source": [
    "assert all (type(i) in [set] for i in [answer_4b]), 'The answer(s) must be a set of values'"
   ]
  },
  {
   "cell_type": "markdown",
   "id": "1c51d6da-8d30-4548-a821-68808ff51206",
   "metadata": {
    "deletable": false,
    "editable": false,
    "nbgrader": {
     "cell_type": "markdown",
     "checksum": "8d621ea146e755e0c21869422c72ed59",
     "grade": false,
     "grade_id": "cell-7f62e273368e67c5",
     "locked": true,
     "schema_version": 3,
     "solution": false,
     "task": false
    },
    "tags": []
   },
   "source": [
    "#### **4c)** How is DALYs calculated? _(10 points)_\n",
    "\n",
    "You have to **deliver on Blackboard** the formula with a description of all the variables involved in the formula. For the formula, make it easy to read by using the equation tool from Word for example."
   ]
  }
 ],
 "metadata": {
  "kernelspec": {
   "display_name": "Python 3 (ipykernel)",
   "language": "python",
   "name": "python3"
  },
  "language_info": {
   "codemirror_mode": {
    "name": "ipython",
    "version": 3
   },
   "file_extension": ".py",
   "mimetype": "text/x-python",
   "name": "python",
   "nbconvert_exporter": "python",
   "pygments_lexer": "ipython3",
   "version": "3.10.8"
  }
 },
 "nbformat": 4,
 "nbformat_minor": 5
}
