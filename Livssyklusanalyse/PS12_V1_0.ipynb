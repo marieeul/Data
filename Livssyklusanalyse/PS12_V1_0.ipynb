{
 "cells": [
  {
   "cell_type": "markdown",
   "id": "1a74f10b-0df9-4fdf-8a8e-d1aaf97b7b17",
   "metadata": {
    "deletable": false,
    "editable": false,
    "nbgrader": {
     "cell_type": "markdown",
     "checksum": "163119ebbcbf1d633ee51e32b5bfbc0a",
     "grade": false,
     "grade_id": "cell-8f93099e470daa03",
     "locked": true,
     "schema_version": 3,
     "solution": false,
     "task": false
    },
    "tags": []
   },
   "source": [
    "# **Problem Set 12**"
   ]
  },
  {
   "cell_type": "markdown",
   "id": "e027347e-2546-4964-8f15-11fdef446ba3",
   "metadata": {
    "deletable": false,
    "editable": false,
    "nbgrader": {
     "cell_type": "markdown",
     "checksum": "350f4e50b8004ead508641347c3b68ee",
     "grade": false,
     "grade_id": "cell-832313611daa4ea8",
     "locked": true,
     "schema_version": 3,
     "solution": false,
     "task": false
    },
    "tags": []
   },
   "source": [
    "## **Tasks**\n",
    "- Assembling A and S matrices for both cases\n",
    "- Calculating d for both cases\n",
    "- Answering the multiple choice questions\n",
    "\n",
    "\n",
    "## **Passing requirement**\n",
    "- **At least 80 points**\n",
    "\n",
    "**_Please run the cell below before you start the assignment_**"
   ]
  },
  {
   "cell_type": "code",
   "execution_count": null,
   "id": "8b4a3cd6-624f-47f6-bb4a-1f5cac836ffe",
   "metadata": {
    "deletable": false,
    "editable": false,
    "nbgrader": {
     "cell_type": "code",
     "checksum": "187ce94820277a79c8d4917fa1517194",
     "grade": false,
     "grade_id": "cell-1d384f591dbaa57d",
     "locked": true,
     "schema_version": 3,
     "solution": false,
     "task": false
    },
    "tags": []
   },
   "outputs": [],
   "source": [
    "# Import required Python libraries\n",
    "import pandas as pd\n",
    "import numpy as np\n",
    "import matplotlib.pyplot as plt\n",
    "import seaborn as sns\n",
    "\n",
    "# Folder for the files\n",
    "files_folder = \"files_PS12_V1_0/\"\n",
    "\n",
    "### In case formulas are entered in the csv files & correcting the datatypes\n",
    "def convert_formulas(matrix):\n",
    "    for row in matrix.index:\n",
    "        for column in matrix.columns:\n",
    "            if type(matrix.loc[row, column]) == str:\n",
    "                if \" \" in matrix.loc[row, column]:\n",
    "                    matrix.loc[row, column] = matrix.loc[row, column].lstrip(' ')\n",
    "                if \"=\" in matrix.loc[row, column]:\n",
    "                    matrix.loc[row, column] = matrix.loc[row, column].lstrip('=')\n",
    "                matrix.loc[row, column] = pd.eval(matrix.loc[row, column])\n",
    "    ### Get the data types right in the DataFrames\n",
    "    s = matrix.select_dtypes(include='object').columns\n",
    "    matrix[s] = matrix[s].astype(\"float64\")\n",
    "    return matrix"
   ]
  },
  {
   "cell_type": "markdown",
   "id": "7627dbb6-c5da-4450-8b76-a0500cc47471",
   "metadata": {
    "deletable": false,
    "editable": false,
    "nbgrader": {
     "cell_type": "markdown",
     "checksum": "3411f5d3c8961edd0798b9711ba4c13d",
     "grade": false,
     "grade_id": "cell-a23cb44556573604",
     "locked": true,
     "schema_version": 3,
     "solution": false,
     "task": false
    },
    "tags": []
   },
   "source": [
    "## **LCA of vehicle lightweighting**\n",
    "\n",
    "In this problem set you will be analysing the environmental impact from lightweighting strategies in the automotive industry. A car’s glider (i.e. its body and chassis) is mostly made of steel, a relatively cheap but heavy material. It is technically possible to substitute a significant amount of this glider by another material, the main candidate being aluminium. However this material is more energy-intensive to produce than steel.\n",
    "\n",
    "Our design is for a low-medium segment car, powered by a diesel engine. The car weighs **1450 kg** in its original version (before any lightweighting). Its body contains **660 kg** of steel ('Basic iron and steel and of ferro-alloys and first products thereof - tonnes'), of which **450 kg** can be substituted with another material. The car is assumed to have a lifetime of **240000 km**, and consumes **6.0 L/100 km**.\n",
    "\n",
    "<img src=\"files_PS12_V1_0/car_body.jpg\">\n",
    "\n",
    "Two notions will be important in this Problem Set:\n",
    "- The material substitution rate (MSR), a ratio that conveys how much new material can replace 1 kg of original material, e.g. aluminium has an MSR of 0.6 when compared with steel, meaning 600 g of aluminium can replace 1 kg of steel\n",
    "- The fuel reduction value (FRV), a ratio that conveys how much fuel consumption is saved per 100 kg of lightweighting\n",
    "\n",
    "|||\n",
    "|-|-|\n",
    "|**Strategy**|**MSR [1]**|\n",
    "|Aluminium substitutes steel|0.6|\n",
    "\n",
    "Ref [1]: Based on the UCSB Energy & GHG Model: https://www.worldautosteel.org/life-cycle-thinking/ucsb-energy-ghg-model/ \n",
    "\n",
    "The FRV for this type of vehicle is 0.3 L/100 km/100 kg. How to interpret this number: if the car weighed 1250 kg instead of 1450 kg (200 kg lighter), fuel savings would amount to 0.3 L/100 km * 200 kg/100 kg = 0.6 L/100 km, i.e. a new consumption of 5.4 L/100 km.\n",
    "\n",
    "Diesel has an average density of 0.85 kg/L and its combustion emits 2.68 kg CO2/L. Therefore, the original car consumes 51 g of diesel per km, emitting 160.8 g CO2/km.\n",
    "\n",
    "In Parts 2 and 3, the original car is being evaluated. The lightweighting strategy will be evaluated in Parts 4, 5 and 6.\n",
    "\n",
    "\n",
    "_**Disclaimer**: We are using the hybrid version of EXIOBASE (a global, detailed Multi-Regional Environmentally Extended Supply-Use Table (MR-SUT) and Input-Output Table (MR-IOT)) to model background processes [DOI: 10.5281/zenodo.7244918] combined with stressors/impacts from EXIOBASE [DIO: 10.5281/zenodo.3583070]. For performing an LCA, it is recommended to use LCA databases such as Ecoinvent. These large databases are however often not open access. It was decided that for this course, we would stick to the matrix form of LCA using open data. If for further projects (e.g. semester project or master's thesis in the 2nd year of the master), a proper LCA has to be performed, you should contact one of the instructors from the course and we will provide you with the required tools._\n"
   ]
  },
  {
   "cell_type": "markdown",
   "id": "38eaaa40-958b-4711-9cf1-4c24c3570851",
   "metadata": {
    "deletable": false,
    "editable": false,
    "nbgrader": {
     "cell_type": "markdown",
     "checksum": "cdad5d3367e059870397aeafd696e900",
     "grade": false,
     "grade_id": "cell-8c9bd3f0f1ecea52",
     "locked": true,
     "schema_version": 3,
     "solution": false,
     "task": false
    },
    "tags": []
   },
   "source": [
    "## **1. Flowchart** _(0 points)_\n",
    "\n",
    "Sketch a flowchart of the system with all the foreground components.\n",
    "\n",
    "Even though this question will not be graded, it is strongly recommended to try to do a sketch on your own and ask questions during tutoring if there are any."
   ]
  },
  {
   "cell_type": "markdown",
   "id": "ca260c46-c311-4928-a90a-4ed92a1307b1",
   "metadata": {
    "deletable": false,
    "editable": false,
    "nbgrader": {
     "cell_type": "markdown",
     "checksum": "c0150ae0760009e7e3cfe05f6d31eafe",
     "grade": false,
     "grade_id": "cell-c5f972e34bc719f9",
     "locked": true,
     "schema_version": 3,
     "solution": false,
     "task": false
    },
    "tags": []
   },
   "source": [
    "## **2. Data preparation** _(5 points)_"
   ]
  },
  {
   "cell_type": "markdown",
   "id": "8b00c468-2a68-4590-a25f-b7699fa7d2c4",
   "metadata": {
    "deletable": false,
    "editable": false,
    "nbgrader": {
     "cell_type": "markdown",
     "checksum": "3b29ea6140d63cd41023a918f390269e",
     "grade": false,
     "grade_id": "cell-c72f04e8cd9dac39",
     "locked": true,
     "schema_version": 3,
     "solution": false,
     "task": false
    },
    "tags": []
   },
   "source": [
    "Run the cell below to import `Aff`, `Abf`, `Afb` and `Abb` as Pandas DataFrames."
   ]
  },
  {
   "cell_type": "code",
   "execution_count": null,
   "id": "915d3c78-e425-4fff-9c52-13541631440b",
   "metadata": {
    "deletable": false,
    "editable": false,
    "nbgrader": {
     "cell_type": "code",
     "checksum": "7d57f48de10671d0796c8b89fdd74594",
     "grade": false,
     "grade_id": "cell-7a1304ab1f76225e",
     "locked": true,
     "schema_version": 3,
     "solution": false,
     "task": false
    },
    "tags": []
   },
   "outputs": [],
   "source": [
    "Aff = convert_formulas(pd.read_csv(files_folder + 'Aff.csv', sep = ',', index_col = [0]))\n",
    "Abf = convert_formulas(pd.read_csv(files_folder + 'Abf.csv', sep = ',', index_col = [0]))\n",
    "Afb = convert_formulas(pd.read_csv(files_folder + 'Afb.csv', sep = ',', index_col = [0]))\n",
    "Abb = convert_formulas(pd.read_csv(files_folder + 'Abb.csv', sep = ',', index_col = [0]))"
   ]
  },
  {
   "cell_type": "markdown",
   "id": "917ec8f7-f244-4003-873f-911184477ec4",
   "metadata": {
    "deletable": false,
    "editable": false,
    "nbgrader": {
     "cell_type": "markdown",
     "checksum": "6b50b25fc3f9b01895752ef246115740",
     "grade": false,
     "grade_id": "cell-7b97789fc5b336d8",
     "locked": true,
     "schema_version": 3,
     "solution": false,
     "task": false
    },
    "tags": []
   },
   "source": [
    "Run the cell below to get the `C` matrix."
   ]
  },
  {
   "cell_type": "code",
   "execution_count": null,
   "id": "7b9c9311-b571-4900-9a8d-9b4ab2117251",
   "metadata": {
    "deletable": false,
    "editable": false,
    "nbgrader": {
     "cell_type": "code",
     "checksum": "f2c90a8ac73e25fa7f75a47bef696d1b",
     "grade": false,
     "grade_id": "cell-688689f7123f3590",
     "locked": true,
     "schema_version": 3,
     "solution": false,
     "task": false
    },
    "tags": []
   },
   "outputs": [],
   "source": [
    "C = pd.read_csv(files_folder + 'C.csv', sep = ',', index_col = [0])"
   ]
  },
  {
   "cell_type": "markdown",
   "id": "93ee7fc2-a112-44d2-86ba-93a5bb4991ff",
   "metadata": {
    "deletable": false,
    "editable": false,
    "nbgrader": {
     "cell_type": "markdown",
     "checksum": "f72ed0757df963570e436d97a8db4d52",
     "grade": false,
     "grade_id": "cell-4351992f85b9a1c9",
     "locked": true,
     "schema_version": 3,
     "solution": false,
     "task": false
    },
    "tags": []
   },
   "source": [
    "Run the cell below to get the `Sb` matrix."
   ]
  },
  {
   "cell_type": "code",
   "execution_count": null,
   "id": "7198d6c7-6776-4a82-b37c-32ae489b58cb",
   "metadata": {
    "deletable": false,
    "editable": false,
    "nbgrader": {
     "cell_type": "code",
     "checksum": "7e5979f32efdabeefeed7b7adccf1250",
     "grade": false,
     "grade_id": "cell-d171761fa89eff16",
     "locked": true,
     "schema_version": 3,
     "solution": false,
     "task": false
    },
    "tags": []
   },
   "outputs": [],
   "source": [
    "Sb = pd.read_csv(files_folder + 'Sb.csv', sep = ',', index_col = [0])"
   ]
  },
  {
   "cell_type": "markdown",
   "id": "990da689-b43e-44f6-8d74-fb2a6370afa9",
   "metadata": {
    "deletable": false,
    "editable": false,
    "nbgrader": {
     "cell_type": "markdown",
     "checksum": "071243513627adc7b8dce0431b5a398e",
     "grade": false,
     "grade_id": "cell-d28adea3d82241ba",
     "locked": true,
     "schema_version": 3,
     "solution": false,
     "task": false
    },
    "tags": []
   },
   "source": [
    "Define `Sf` (think if it should contain values or not) and build the entire `S` matrix. In `S`, the stressors are in kg."
   ]
  },
  {
   "cell_type": "code",
   "execution_count": null,
   "id": "c0279796-c232-4eb4-9ba4-208fd6583f99",
   "metadata": {
    "deletable": false,
    "nbgrader": {
     "cell_type": "code",
     "checksum": "bb4cc400bae4975d5af7c48f5e963540",
     "grade": false,
     "grade_id": "cell-07756fb685b586b6",
     "locked": false,
     "schema_version": 3,
     "solution": true,
     "task": false
    },
    "tags": []
   },
   "outputs": [],
   "source": [
    "# Write your answer here."
   ]
  },
  {
   "cell_type": "markdown",
   "id": "b167a13e-190d-461b-b81e-8bbccb517576",
   "metadata": {
    "deletable": false,
    "editable": false,
    "nbgrader": {
     "cell_type": "markdown",
     "checksum": "a86011720d25cf0a6df1fc0d5abe0352",
     "grade": false,
     "grade_id": "cell-53214b1a635392d4",
     "locked": true,
     "schema_version": 3,
     "solution": false,
     "task": false
    },
    "tags": []
   },
   "source": [
    "**_Run the cell under to check the format of your answer(s)_**"
   ]
  },
  {
   "cell_type": "code",
   "execution_count": null,
   "id": "7a86fa1a-3ed3-4439-93d1-d64622074ea2",
   "metadata": {
    "deletable": false,
    "editable": false,
    "nbgrader": {
     "cell_type": "code",
     "checksum": "4d6c9806cce7e721a487cb016d9c60a3",
     "grade": true,
     "grade_id": "cell-029ed5a57437ea0b",
     "locked": true,
     "points": 5,
     "schema_version": 3,
     "solution": false,
     "task": false
    },
    "tags": []
   },
   "outputs": [],
   "source": [
    "assert S.isnull().values.any() == False, 'There are still NaN values in the matrix'\n",
    "assert (S.index == Sb.index).all(), 'The index do not correspond'\n",
    "assert (S.columns == list(Aff.columns) + list(Abb.columns)).all(), 'The columns do not correspond'"
   ]
  },
  {
   "cell_type": "markdown",
   "id": "c746eb0d-04d6-4cee-96a7-9a14b0168683",
   "metadata": {
    "deletable": false,
    "editable": false,
    "nbgrader": {
     "cell_type": "markdown",
     "checksum": "8324f4ccdff500e664aecc6e9d047eea",
     "grade": false,
     "grade_id": "cell-a3525450971a1315",
     "locked": true,
     "schema_version": 3,
     "solution": false,
     "task": false
    },
    "tags": []
   },
   "source": [
    "## **3. Environmental impacts of transportation over 1 km** _(30 points)_"
   ]
  },
  {
   "cell_type": "markdown",
   "id": "e17cf9f8-766a-49da-a583-27450e91afe3",
   "metadata": {
    "deletable": false,
    "editable": false,
    "nbgrader": {
     "cell_type": "markdown",
     "checksum": "a20cfc42f4067a1f03d0014da4023db4",
     "grade": false,
     "grade_id": "cell-032194729e0944a8",
     "locked": true,
     "schema_version": 3,
     "solution": false,
     "task": false
    },
    "tags": []
   },
   "source": [
    "#### **3a)** _(5 points)_ Fill in `Aff`"
   ]
  },
  {
   "cell_type": "code",
   "execution_count": null,
   "id": "1ef99bc9-c4d2-477a-91cd-cdc79b0b65f5",
   "metadata": {
    "deletable": false,
    "nbgrader": {
     "cell_type": "code",
     "checksum": "f65a9bcbaeac8da104f5df542beda6b2",
     "grade": false,
     "grade_id": "cell-3f89b04c7a4a8570",
     "locked": false,
     "schema_version": 3,
     "solution": true,
     "task": false
    },
    "tags": []
   },
   "outputs": [],
   "source": [
    "# Write your answer here."
   ]
  },
  {
   "cell_type": "markdown",
   "id": "7e42b8c5-5bb9-4f48-ba29-2ba26a119a04",
   "metadata": {
    "deletable": false,
    "editable": false,
    "nbgrader": {
     "cell_type": "markdown",
     "checksum": "db24174938f3e724844664b06cb90228",
     "grade": false,
     "grade_id": "cell-2570141f4d53ddc5",
     "locked": true,
     "schema_version": 3,
     "solution": false,
     "task": false
    },
    "tags": []
   },
   "source": [
    "**_Run the cell under to check the format of your answer(s)_**"
   ]
  },
  {
   "cell_type": "code",
   "execution_count": null,
   "id": "07be236a-f3c0-49d0-b5ab-a93a342ddd64",
   "metadata": {
    "deletable": false,
    "editable": false,
    "nbgrader": {
     "cell_type": "code",
     "checksum": "35d86a61b902097c70c59a5b17ba2f5b",
     "grade": true,
     "grade_id": "cell-6ea0430d27b788d0",
     "locked": true,
     "points": 5,
     "schema_version": 3,
     "solution": false,
     "task": false
    },
    "tags": []
   },
   "outputs": [],
   "source": [
    "assert Aff.isnull().values.any() == False, 'There are still NaN values in the matrix'\n",
    "assert (Aff.index == ['Transport, passenger car', 'Passenger car', 'Engine', 'Glider']).all(), 'The index do not correspond'\n",
    "assert (Aff.columns == ['Transport, passenger car', 'Passenger car', 'Engine', 'Glider']).all(), 'The columns do not correspond'"
   ]
  },
  {
   "cell_type": "markdown",
   "id": "975d37ac-f1fe-43bd-90c9-9c8bf2ad1899",
   "metadata": {
    "deletable": false,
    "editable": false,
    "nbgrader": {
     "cell_type": "markdown",
     "checksum": "49eb3f68676d0f8b050060660e088411",
     "grade": false,
     "grade_id": "cell-3eb31475aea5e6a6",
     "locked": true,
     "schema_version": 3,
     "solution": false,
     "task": false
    },
    "tags": []
   },
   "source": [
    "#### **3b)** _(5 points)_ Fill in `Abf`"
   ]
  },
  {
   "cell_type": "markdown",
   "id": "a2e1c909-25f7-4e69-8982-45d9b231ef06",
   "metadata": {
    "deletable": false,
    "editable": false,
    "nbgrader": {
     "cell_type": "markdown",
     "checksum": "3644a9849dd9c69c78f82eab5e780dba",
     "grade": false,
     "grade_id": "cell-6f0aec2689eeaeb7",
     "locked": true,
     "schema_version": 3,
     "solution": false,
     "task": false
    },
    "tags": []
   },
   "source": [
    "Use the file **Foreground_Background_list_PS12.csv** to fill in `Abf`. "
   ]
  },
  {
   "cell_type": "code",
   "execution_count": null,
   "id": "900b7222-fbb9-463b-8b1a-9c81f57f7c44",
   "metadata": {
    "deletable": false,
    "editable": false,
    "nbgrader": {
     "cell_type": "code",
     "checksum": "d41a0a7a91ff92155625fe3b97db779f",
     "grade": false,
     "grade_id": "cell-66b0c6acc69d0957",
     "locked": true,
     "schema_version": 3,
     "solution": false,
     "task": false
    },
    "tags": []
   },
   "outputs": [],
   "source": [
    "def fill_in_Abf_from_table(Abf, table):\n",
    "    for i in Abf.index:\n",
    "        for j in Abf.columns:\n",
    "            if table[(table['Background process'] == i) & (table['Foreground process'] == j)]['Value'].empty == False:\n",
    "                Abf.loc[i, j] = table[(table['Background process'] == i) & (table['Foreground process'] == j)]['Value'].values[0]\n",
    "    return Abf\n",
    "\n",
    "### This is importing the table\n",
    "Abf_list = pd.read_csv(files_folder + 'Foreground_Background_list_PS12.csv')"
   ]
  },
  {
   "cell_type": "code",
   "execution_count": null,
   "id": "64120484-f6cf-48c2-b715-97b3867238aa",
   "metadata": {
    "deletable": false,
    "nbgrader": {
     "cell_type": "code",
     "checksum": "46fbdb87eef2077326ba28a61edbe4eb",
     "grade": false,
     "grade_id": "cell-a547216f0fd4cf83",
     "locked": false,
     "schema_version": 3,
     "solution": true,
     "task": false
    },
    "tags": []
   },
   "outputs": [],
   "source": [
    "# Write your answer here."
   ]
  },
  {
   "cell_type": "markdown",
   "id": "449cc134-0a7b-4684-ac0b-82ba5edd345b",
   "metadata": {
    "deletable": false,
    "editable": false,
    "nbgrader": {
     "cell_type": "markdown",
     "checksum": "242baae96321be27afaba06da9383e20",
     "grade": false,
     "grade_id": "cell-4c191fb7cf4f6d9f",
     "locked": true,
     "schema_version": 3,
     "solution": false,
     "task": false
    },
    "tags": []
   },
   "source": [
    "**_Run the cell under to check the format of your answer(s)_**"
   ]
  },
  {
   "cell_type": "code",
   "execution_count": null,
   "id": "20ca3f25-4684-4ab2-bc71-137490a9538a",
   "metadata": {
    "deletable": false,
    "editable": false,
    "nbgrader": {
     "cell_type": "code",
     "checksum": "a1b3820ff399421795443e7f8b4087a3",
     "grade": true,
     "grade_id": "cell-d9029e98dffb28b2",
     "locked": true,
     "points": 5,
     "schema_version": 3,
     "solution": false,
     "task": false
    },
    "tags": []
   },
   "outputs": [],
   "source": [
    "assert Abf.isnull().values.any() == False, 'There are still NaN values in the matrix'\n",
    "assert (Abf.index == Abb.columns).all(), 'The index do not correspond'\n",
    "assert (Abf.columns == Aff.columns).all(), 'The columns do not correspond'"
   ]
  },
  {
   "cell_type": "markdown",
   "id": "ed34432c-18fc-4612-aaf5-e411e00f3de8",
   "metadata": {
    "deletable": false,
    "editable": false,
    "nbgrader": {
     "cell_type": "markdown",
     "checksum": "ad0ef14147eaf18b91474bc4f79fcb73",
     "grade": false,
     "grade_id": "cell-c3582dd1310ac10f",
     "locked": true,
     "schema_version": 3,
     "solution": false,
     "task": false
    },
    "tags": []
   },
   "source": [
    "#### **3c)** _(5 points)_ Fill in `Afb`, build the `A` matrix and calculate the `L` matrix"
   ]
  },
  {
   "cell_type": "code",
   "execution_count": null,
   "id": "496c8f47-dd1e-4040-852b-b449dbb93d82",
   "metadata": {
    "deletable": false,
    "nbgrader": {
     "cell_type": "code",
     "checksum": "b35ed08055dd0225ef92df810228e293",
     "grade": false,
     "grade_id": "cell-b1d21839fad23797",
     "locked": false,
     "schema_version": 3,
     "solution": true,
     "task": false
    },
    "tags": []
   },
   "outputs": [],
   "source": [
    "# Write your answer here."
   ]
  },
  {
   "cell_type": "markdown",
   "id": "b6b94a4a-ed72-4cfe-9836-b652ab9088c4",
   "metadata": {
    "deletable": false,
    "editable": false,
    "nbgrader": {
     "cell_type": "markdown",
     "checksum": "eff35b00443afb27e47b49c67c2d5d45",
     "grade": false,
     "grade_id": "cell-4164ca4693da3957",
     "locked": true,
     "schema_version": 3,
     "solution": false,
     "task": false
    },
    "tags": []
   },
   "source": [
    "**_Run the cell under to check the format of your answer(s)_**"
   ]
  },
  {
   "cell_type": "code",
   "execution_count": null,
   "id": "8dd85e7b-6ac6-4b1d-aa58-b46fbf26f3fb",
   "metadata": {
    "deletable": false,
    "editable": false,
    "nbgrader": {
     "cell_type": "code",
     "checksum": "346f3cf77270ebaf9eda1621f02ce70f",
     "grade": true,
     "grade_id": "cell-3d61090acbd1a1e8",
     "locked": true,
     "points": 5,
     "schema_version": 3,
     "solution": false,
     "task": false
    },
    "tags": []
   },
   "outputs": [],
   "source": [
    "assert (L.index == A.columns).all(), 'The index do not correspond'\n",
    "assert (L.columns == A.columns).all(), 'The columns do not correspond'"
   ]
  },
  {
   "cell_type": "markdown",
   "id": "7e0b5bea-ab16-41d3-857c-44a98626a289",
   "metadata": {
    "deletable": false,
    "editable": false,
    "nbgrader": {
     "cell_type": "markdown",
     "checksum": "7c1c4f153a44e2e742dd177d8ddf9bb3",
     "grade": false,
     "grade_id": "cell-bb38581720081807",
     "locked": true,
     "schema_version": 3,
     "solution": false,
     "task": false
    },
    "tags": []
   },
   "source": [
    "#### **3d)** _(5 points)_ Calculate the output vector `x`"
   ]
  },
  {
   "cell_type": "markdown",
   "id": "a4e86a28-bf5a-442b-9520-d16e7a4a8615",
   "metadata": {
    "deletable": false,
    "editable": false,
    "nbgrader": {
     "cell_type": "markdown",
     "checksum": "10e07d72f6c40224e6cdb8e6a7185254",
     "grade": false,
     "grade_id": "cell-faee7c086c758f5a",
     "locked": true,
     "schema_version": 3,
     "solution": false,
     "task": false
    },
    "tags": []
   },
   "source": [
    "Calculate `x` and rename its column into \"Output\". You have to define the vector for the final demand: 1 km of transportation by passenger car."
   ]
  },
  {
   "cell_type": "code",
   "execution_count": null,
   "id": "89a080c5-0e44-466f-8811-280c8dea3a78",
   "metadata": {
    "deletable": false,
    "nbgrader": {
     "cell_type": "code",
     "checksum": "79575ce767982532855af61c1d3eb300",
     "grade": false,
     "grade_id": "cell-910f57451f2b737f",
     "locked": false,
     "schema_version": 3,
     "solution": true,
     "task": false
    },
    "tags": []
   },
   "outputs": [],
   "source": [
    "# Write your answer here."
   ]
  },
  {
   "cell_type": "markdown",
   "id": "69b880fe-0289-413a-960e-90b74b797e2c",
   "metadata": {
    "deletable": false,
    "editable": false,
    "nbgrader": {
     "cell_type": "markdown",
     "checksum": "d96d74707cbc1b1fd9eb779434d6a74b",
     "grade": false,
     "grade_id": "cell-525cb7ab10248ed8",
     "locked": true,
     "schema_version": 3,
     "solution": false,
     "task": false
    },
    "tags": []
   },
   "source": [
    "**_Run the cell under to check the format of your answer(s)_**"
   ]
  },
  {
   "cell_type": "code",
   "execution_count": null,
   "id": "0aae0598-d452-49a6-bf6c-dd8ee60aff96",
   "metadata": {
    "deletable": false,
    "editable": false,
    "nbgrader": {
     "cell_type": "code",
     "checksum": "38d24c423f5e85a784928c4a8d5ac2f5",
     "grade": true,
     "grade_id": "cell-021a315ed3b25e11",
     "locked": true,
     "points": 5,
     "schema_version": 3,
     "solution": false,
     "task": false
    },
    "tags": []
   },
   "outputs": [],
   "source": [
    "assert (x.index == A.index).all(), 'The index do not correspond'\n",
    "assert (x.columns == ['Output']).all(), 'The columns do not correspond'"
   ]
  },
  {
   "cell_type": "markdown",
   "id": "e4f85c4e-2709-47ea-a60b-f3dab645e795",
   "metadata": {
    "deletable": false,
    "editable": false,
    "nbgrader": {
     "cell_type": "markdown",
     "checksum": "8e736d649ff4c61cbcbccb64448bdcd3",
     "grade": false,
     "grade_id": "cell-e6a8775ee82633ba",
     "locked": true,
     "schema_version": 3,
     "solution": false,
     "task": false
    },
    "tags": []
   },
   "source": [
    "#### **3e)** _(5 points)_ Calculate `d` and rename its column into \"Total impacts\""
   ]
  },
  {
   "cell_type": "code",
   "execution_count": null,
   "id": "f4bcf915-6edf-4673-9ce6-12a31307c25a",
   "metadata": {
    "deletable": false,
    "nbgrader": {
     "cell_type": "code",
     "checksum": "98055890925a04d7a1bddd4656478c9b",
     "grade": false,
     "grade_id": "cell-9c67482254412021",
     "locked": false,
     "schema_version": 3,
     "solution": true,
     "task": false
    },
    "tags": []
   },
   "outputs": [],
   "source": [
    "# Write your answer here."
   ]
  },
  {
   "cell_type": "markdown",
   "id": "e8eaae58-b93e-434b-92e3-c791a38744c7",
   "metadata": {
    "deletable": false,
    "editable": false,
    "nbgrader": {
     "cell_type": "markdown",
     "checksum": "f22f2b2c07ada777181a9b018acdf79c",
     "grade": false,
     "grade_id": "cell-3515e9a0618711dc",
     "locked": true,
     "schema_version": 3,
     "solution": false,
     "task": false
    },
    "tags": []
   },
   "source": [
    "**_Run the cell under to check the format of your answer(s)_**"
   ]
  },
  {
   "cell_type": "code",
   "execution_count": null,
   "id": "58199328-de73-4985-81b1-89c7b1f3792a",
   "metadata": {
    "deletable": false,
    "editable": false,
    "nbgrader": {
     "cell_type": "code",
     "checksum": "444caff1fb563e96b862c03400bba6a9",
     "grade": true,
     "grade_id": "cell-e2ce50d7838508e4",
     "locked": true,
     "points": 5,
     "schema_version": 3,
     "solution": false,
     "task": false
    },
    "tags": []
   },
   "outputs": [],
   "source": [
    "assert (d.index == C.index).all(), 'The index do not correspond'\n",
    "assert (d.columns == ['Total impacts']).all(), 'The columns do not correspond'"
   ]
  },
  {
   "cell_type": "markdown",
   "id": "c90abfcc-bd09-4e21-b396-df3d8c70310c",
   "metadata": {
    "deletable": false,
    "editable": false,
    "nbgrader": {
     "cell_type": "markdown",
     "checksum": "bc20798e4891d6e0e940452ccb91e1a4",
     "grade": false,
     "grade_id": "cell-0fbb8af29a85d466",
     "locked": true,
     "schema_version": 3,
     "solution": false,
     "task": false
    },
    "tags": []
   },
   "source": [
    "Which statement is correct?\n",
    " \n",
    "1. The direct greenhouse gas emissions represent about 51 % of the lifecycle greenhouse gas emissions of 1 km of \"Transport, passenger car\".\n",
    "2. The direct greenhouse gas emissions represent about 85 % of the lifecycle greenhouse gas emissions of 1 km of \"Transport, passenger car\".\n",
    "3. The direct greenhouse gas emissions represent about 69 % of the lifecycle greenhouse gas emissions of 1 km of \"Transport, passenger car\".\n",
    "\n",
    "Define your answer as the variable `answer_3e` (e.g. `answer_3e = {1}` if you think the correct statement is statement {1})."
   ]
  },
  {
   "cell_type": "code",
   "execution_count": null,
   "id": "b841b0cc-a30e-4e90-b824-9fc539ce9f1d",
   "metadata": {
    "deletable": false,
    "nbgrader": {
     "cell_type": "code",
     "checksum": "9f1f36360722b4b0ec2cba2ac7887295",
     "grade": false,
     "grade_id": "cell-ebabeda2feb4a20f",
     "locked": false,
     "schema_version": 3,
     "solution": true,
     "task": false
    },
    "tags": []
   },
   "outputs": [],
   "source": [
    "# Write your answer here."
   ]
  },
  {
   "cell_type": "markdown",
   "id": "f03ac769-cf25-4152-b4ca-6f7e40280d95",
   "metadata": {
    "deletable": false,
    "editable": false,
    "nbgrader": {
     "cell_type": "markdown",
     "checksum": "8241653a065b09763cc6054a8c75094c",
     "grade": false,
     "grade_id": "cell-b90699437346c117",
     "locked": true,
     "schema_version": 3,
     "solution": false,
     "task": false
    },
    "tags": []
   },
   "source": [
    "**_Run the cell under to check the format of your answer(s)_**"
   ]
  },
  {
   "cell_type": "code",
   "execution_count": null,
   "id": "79ca2f93-99d9-4ab8-86ec-1ba343004028",
   "metadata": {
    "deletable": false,
    "editable": false,
    "nbgrader": {
     "cell_type": "code",
     "checksum": "d41a2846e004d2216bcde5438191ae5c",
     "grade": true,
     "grade_id": "cell-71024178f0a3fd0b",
     "locked": true,
     "points": 5,
     "schema_version": 3,
     "solution": false,
     "task": false
    },
    "tags": []
   },
   "outputs": [],
   "source": [
    "assert all (type(i) in [set] for i in [answer_3e]), 'The answer(s) must be a set of values'"
   ]
  },
  {
   "cell_type": "markdown",
   "id": "b026dd4d-2afb-4d7a-b275-8aefe2433d11",
   "metadata": {
    "deletable": false,
    "editable": false,
    "nbgrader": {
     "cell_type": "markdown",
     "checksum": "05741968cdc2ef948281576b2bd85c49",
     "grade": false,
     "grade_id": "cell-de17ae5a4a5b622f",
     "locked": true,
     "schema_version": 3,
     "solution": false,
     "task": false
    },
    "tags": []
   },
   "source": [
    "## **4. Lightweighting strategies** _(25 points)_\n",
    "\n",
    "Now let us model the lightweight car with the strategy of aluminium substitution. Given the information in the introduction, fill in the table `df_strategy` if you replace 450 kg of steel with aluminium.\n",
    "\n",
    "You have to calculate:\n",
    "- how much new material is needed (Substitution material (in kg)), \n",
    "- how much weight is saved - it should be a value > 0 (Weight saving (in kg)), \n",
    "- the new consumption of the car (New fuel consumption (in kg/km)),\n",
    "- the new emissions (New CO2 emissions (in kgCO2/km)). "
   ]
  },
  {
   "cell_type": "code",
   "execution_count": null,
   "id": "97b21f28-d480-4c38-a05e-0f100820f321",
   "metadata": {
    "deletable": false,
    "editable": false,
    "nbgrader": {
     "cell_type": "code",
     "checksum": "b506020811900605d45752a5c083328b",
     "grade": false,
     "grade_id": "cell-72a8686fa38c8812",
     "locked": true,
     "schema_version": 3,
     "solution": false,
     "task": false
    },
    "tags": []
   },
   "outputs": [],
   "source": [
    "### This is the DataFrame you have to fill in\n",
    "df_strategy = pd.DataFrame(columns = ['Substitution material (in kg)', \n",
    "                                      'Weight saving (in kg)', \n",
    "                                      'New fuel consumption (in kg/km)', \n",
    "                                      'New CO2 emissions (in kgCO2/km)'], \n",
    "                           index = ['Aluminium subsitution'],\n",
    "                          dtype = float)\n",
    "\n",
    "display(df_strategy)"
   ]
  },
  {
   "cell_type": "code",
   "execution_count": null,
   "id": "c43e0ba3-daa8-438d-ab5c-2bb3cbde407f",
   "metadata": {
    "deletable": false,
    "nbgrader": {
     "cell_type": "code",
     "checksum": "e601fbcb2bcc36248bbaa77a7f5f8dfb",
     "grade": false,
     "grade_id": "cell-c43207972f88159c",
     "locked": false,
     "schema_version": 3,
     "solution": true,
     "task": false
    },
    "tags": []
   },
   "outputs": [],
   "source": [
    "# Write your answer here."
   ]
  },
  {
   "cell_type": "markdown",
   "id": "26b16969-4023-42ff-b2c9-b95acd2f8c29",
   "metadata": {
    "deletable": false,
    "editable": false,
    "nbgrader": {
     "cell_type": "markdown",
     "checksum": "52d8ec7244fd19d05a03486b58039bf1",
     "grade": false,
     "grade_id": "cell-b19704e60b49c72f",
     "locked": true,
     "schema_version": 3,
     "solution": false,
     "task": false
    },
    "tags": []
   },
   "source": [
    "**_Run the cell under to check the format of your answer(s)_**"
   ]
  },
  {
   "cell_type": "code",
   "execution_count": null,
   "id": "61402615-6dec-4fc1-a1c0-d8147175cf58",
   "metadata": {
    "deletable": false,
    "editable": false,
    "nbgrader": {
     "cell_type": "code",
     "checksum": "3061c71c4720b11d1835fae8849cf04c",
     "grade": true,
     "grade_id": "cell-5ad4c1f298e09012",
     "locked": true,
     "points": 20,
     "schema_version": 3,
     "solution": false,
     "task": false
    },
    "tags": []
   },
   "outputs": [],
   "source": [
    "assert df_strategy.isnull().values.any() == False, 'There are still NaN values in the matrix'"
   ]
  },
  {
   "cell_type": "markdown",
   "id": "70324d5c-4ba9-4ba3-97cd-42a88ccb9f17",
   "metadata": {
    "deletable": false,
    "editable": false,
    "nbgrader": {
     "cell_type": "markdown",
     "checksum": "8bf26c7679b8f5f74bdf246cc7dd82e1",
     "grade": false,
     "grade_id": "cell-303e125f19fb51d2",
     "locked": true,
     "schema_version": 3,
     "solution": false,
     "task": false
    },
    "tags": []
   },
   "source": [
    "How much does the car weight with the aluminium strategy? Define your answer as `new_weight_alu`."
   ]
  },
  {
   "cell_type": "code",
   "execution_count": null,
   "id": "9d67b8fb-c26f-4054-93b8-de2e24992425",
   "metadata": {
    "deletable": false,
    "nbgrader": {
     "cell_type": "code",
     "checksum": "5239008e6d2feb23b2073fe0cd0d7d97",
     "grade": false,
     "grade_id": "cell-68976282b7e39011",
     "locked": false,
     "schema_version": 3,
     "solution": true,
     "task": false
    },
    "tags": []
   },
   "outputs": [],
   "source": [
    "# Write your answer here."
   ]
  },
  {
   "cell_type": "markdown",
   "id": "2594951d-0e69-400f-9862-61d3d4929552",
   "metadata": {
    "deletable": false,
    "editable": false,
    "nbgrader": {
     "cell_type": "markdown",
     "checksum": "18f05fd166da79bca97e2f504f32d191",
     "grade": false,
     "grade_id": "cell-a606f4287a404724",
     "locked": true,
     "schema_version": 3,
     "solution": false,
     "task": false
    },
    "tags": []
   },
   "source": [
    "**_Run the cell under to check the format of your answer(s)_**"
   ]
  },
  {
   "cell_type": "code",
   "execution_count": null,
   "id": "87015802-7f0d-4b4a-ad39-ec435532f0a6",
   "metadata": {
    "deletable": false,
    "editable": false,
    "nbgrader": {
     "cell_type": "code",
     "checksum": "43ba4a7e6cc7f6a338b30f951dbbcfab",
     "grade": true,
     "grade_id": "cell-1063dc276bc61c03",
     "locked": true,
     "points": 5,
     "schema_version": 3,
     "solution": false,
     "task": false
    },
    "tags": []
   },
   "outputs": [],
   "source": [
    "assert all (type(i) in [int] for i in [new_weight_alu]), 'The answer(s) must be an integer'"
   ]
  },
  {
   "cell_type": "markdown",
   "id": "80eadb01-2dac-4ff4-85c7-eb5bb0dfff59",
   "metadata": {
    "deletable": false,
    "editable": false,
    "nbgrader": {
     "cell_type": "markdown",
     "checksum": "05bcbdd1083bc3815378d298b3e04cdc",
     "grade": false,
     "grade_id": "cell-10b3643c9b3545a6",
     "locked": true,
     "schema_version": 3,
     "solution": false,
     "task": false
    },
    "tags": []
   },
   "source": [
    "## **5. Lightweighting - impacts calculations** _(30 points)_"
   ]
  },
  {
   "cell_type": "markdown",
   "id": "09cd1ef4-e780-4d4b-8c3e-bed10517a33c",
   "metadata": {
    "deletable": false,
    "editable": false,
    "nbgrader": {
     "cell_type": "markdown",
     "checksum": "0769e360b054ad4b779b75a6190ce434",
     "grade": false,
     "grade_id": "cell-c803d0a403b3d357",
     "locked": true,
     "schema_version": 3,
     "solution": false,
     "task": false
    },
    "tags": []
   },
   "source": [
    "We want to evaluate the impacts of substituting 450 kg of steel with aluminium."
   ]
  },
  {
   "cell_type": "markdown",
   "id": "038c005f-7f8c-462d-825d-61633fa1cb5b",
   "metadata": {
    "deletable": false,
    "editable": false,
    "nbgrader": {
     "cell_type": "markdown",
     "checksum": "1baaa7b63664681fc5182b11b198aae2",
     "grade": false,
     "grade_id": "cell-1a05f5cc044281a1",
     "locked": true,
     "schema_version": 3,
     "solution": false,
     "task": false
    },
    "tags": []
   },
   "source": [
    "#### **5a)** _(20 points)_ Fill in `Abf_alu`"
   ]
  },
  {
   "cell_type": "markdown",
   "id": "1b061f53-b5cd-4b01-97a3-6eb82c38d375",
   "metadata": {
    "deletable": false,
    "editable": false,
    "nbgrader": {
     "cell_type": "markdown",
     "checksum": "d3b2f6f14b444dcdddedf68163d6ee5a",
     "grade": false,
     "grade_id": "cell-fbd4fc7ed4a9268c",
     "locked": true,
     "schema_version": 3,
     "solution": false,
     "task": false
    },
    "tags": []
   },
   "source": [
    "Only part of the steel ('Basic iron and steel and of ferro-alloys and first products thereof - tonnes') from the glider has be substituted with aluminium ('Aluminium and aluminium products - tonnes'). Do not forget to change all the inputs which are required to change."
   ]
  },
  {
   "cell_type": "code",
   "execution_count": null,
   "id": "276cca9f-bcb8-4edc-87e8-2d07c74e3628",
   "metadata": {
    "deletable": false,
    "editable": false,
    "nbgrader": {
     "cell_type": "code",
     "checksum": "d6239bab0754826cfad5574a79bc4318",
     "grade": false,
     "grade_id": "cell-8c5b15a20f9b8074",
     "locked": true,
     "schema_version": 3,
     "solution": false,
     "task": false
    },
    "tags": []
   },
   "outputs": [],
   "source": [
    "### Abf_alu is a copy of Abf and this is the DataFrame you have to modify. Otherwise, if you use Abf directly, you will change its values.\n",
    "Abf_alu = Abf.copy()"
   ]
  },
  {
   "cell_type": "code",
   "execution_count": null,
   "id": "d3f41552-acb3-42ea-bf9a-f578efcf049f",
   "metadata": {
    "deletable": false,
    "nbgrader": {
     "cell_type": "code",
     "checksum": "451cc761861d80a77b7a536573f5691e",
     "grade": false,
     "grade_id": "cell-4c270abc1bb4e331",
     "locked": false,
     "schema_version": 3,
     "solution": true,
     "task": false
    },
    "tags": []
   },
   "outputs": [],
   "source": [
    "# Write your answer here."
   ]
  },
  {
   "cell_type": "markdown",
   "id": "333c2b3c-d18a-4eb2-bf2b-e81f17aebf62",
   "metadata": {
    "deletable": false,
    "editable": false,
    "nbgrader": {
     "cell_type": "markdown",
     "checksum": "83e87a57385363d337d873f26ab62b60",
     "grade": false,
     "grade_id": "cell-88a3d00eec7bad53",
     "locked": true,
     "schema_version": 3,
     "solution": false,
     "task": false
    },
    "tags": []
   },
   "source": [
    "**_Run the cell under to check the format of your answer(s)_**"
   ]
  },
  {
   "cell_type": "code",
   "execution_count": null,
   "id": "1daa2401-839a-4e5f-8d76-136f185e636b",
   "metadata": {
    "deletable": false,
    "editable": false,
    "nbgrader": {
     "cell_type": "code",
     "checksum": "e5d4ac4051109e8dbc0e4e645133850a",
     "grade": true,
     "grade_id": "cell-349940f649a8c105",
     "locked": true,
     "points": 20,
     "schema_version": 3,
     "solution": false,
     "task": false
    },
    "tags": []
   },
   "outputs": [],
   "source": [
    "assert (Abf_alu.index == Abb.columns).all(), 'The index do not correspond'\n",
    "assert (Abf_alu.columns == Aff.columns).all(), 'The columns do not correspond'"
   ]
  },
  {
   "cell_type": "markdown",
   "id": "db91155b-f854-43b6-a415-a1e1ef19d294",
   "metadata": {
    "deletable": false,
    "editable": false,
    "nbgrader": {
     "cell_type": "markdown",
     "checksum": "ba01d2c10f7658b8fef5010bb09336a5",
     "grade": false,
     "grade_id": "cell-a60991c7eb5c0078",
     "locked": true,
     "schema_version": 3,
     "solution": false,
     "task": false
    },
    "tags": []
   },
   "source": [
    "#### **5b)** _(10 points)_ Calculate `d_alu` and rename its column into \"Total impacts\""
   ]
  },
  {
   "cell_type": "markdown",
   "id": "459bf35f-5330-4edf-85be-f73ce2ef7bf4",
   "metadata": {
    "deletable": false,
    "editable": false,
    "nbgrader": {
     "cell_type": "markdown",
     "checksum": "f7188fd099daa2671639d57e35f28af6",
     "grade": false,
     "grade_id": "cell-9e06fa528a045475",
     "locked": true,
     "schema_version": 3,
     "solution": false,
     "task": false
    },
    "tags": []
   },
   "source": [
    "Do not forget to change all the variables of the system which require to be changed to calculate the impacts of the passenger car after substitution with aluminium!"
   ]
  },
  {
   "cell_type": "code",
   "execution_count": null,
   "id": "9510282d-2878-48d8-8985-6e70adfc3430",
   "metadata": {
    "deletable": false,
    "nbgrader": {
     "cell_type": "code",
     "checksum": "7de1ea40d8df10ac2ab3e25f77442103",
     "grade": false,
     "grade_id": "cell-309c0ab535313706",
     "locked": false,
     "schema_version": 3,
     "solution": true,
     "task": false
    },
    "tags": []
   },
   "outputs": [],
   "source": [
    "# Write your answer here."
   ]
  },
  {
   "cell_type": "markdown",
   "id": "0ed2c4fe-d8e6-4e8f-9853-d323ab63f90f",
   "metadata": {
    "deletable": false,
    "editable": false,
    "nbgrader": {
     "cell_type": "markdown",
     "checksum": "7a5ce8686801b31bc6548fe1a8ba1a7b",
     "grade": false,
     "grade_id": "cell-00283b104155e831",
     "locked": true,
     "schema_version": 3,
     "solution": false,
     "task": false
    },
    "tags": []
   },
   "source": [
    "**_Run the cell under to check the format of your answer(s)_**"
   ]
  },
  {
   "cell_type": "code",
   "execution_count": null,
   "id": "982cffd2-ef8c-4914-b544-7d40ce1be14e",
   "metadata": {
    "deletable": false,
    "editable": false,
    "nbgrader": {
     "cell_type": "code",
     "checksum": "601c2ec15461c56688bcd0f41f9b8380",
     "grade": true,
     "grade_id": "cell-1aa4b9bbfacf367e",
     "locked": true,
     "points": 10,
     "schema_version": 3,
     "solution": false,
     "task": false
    },
    "tags": []
   },
   "outputs": [],
   "source": [
    "assert (d_alu.index == C.index).all(), 'The index do not correspond'\n",
    "assert (d_alu.columns == ['Total impacts']).all(), 'The columns do not correspond'"
   ]
  },
  {
   "cell_type": "markdown",
   "id": "d593e15f-b4b0-4fef-866c-3974a4e8eca0",
   "metadata": {
    "deletable": false,
    "editable": false,
    "nbgrader": {
     "cell_type": "markdown",
     "checksum": "29e70d8bd60207142fcde28c2557c71b",
     "grade": false,
     "grade_id": "cell-96f05080d3497907",
     "locked": true,
     "schema_version": 3,
     "solution": false,
     "task": false
    },
    "tags": []
   },
   "source": [
    "## **6. Comparison GWP between original car and car with aluminium substitution** _(10 points)_"
   ]
  },
  {
   "cell_type": "markdown",
   "id": "de617b21-4164-4a0b-9cb0-b943c90b7833",
   "metadata": {
    "deletable": false,
    "editable": false,
    "nbgrader": {
     "cell_type": "markdown",
     "checksum": "8dd16ec11a7a332dd743ab14dd080ff0",
     "grade": false,
     "grade_id": "cell-842e6e3fb972ac97",
     "locked": true,
     "schema_version": 3,
     "solution": false,
     "task": false
    },
    "tags": []
   },
   "source": [
    "By how much % has changed the GWP between the original car and car with aluminium substitution? \n",
    "\n",
    "1. It is increasing by 5%.\n",
    "2. It is increasing by 3%.\n",
    "3. It is decreasing by 1%.\n",
    "4. It is decreasing by 4%. \n",
    "\n",
    "Define your answer as the variable `answer_6a` (e.g. `answer_6a = {1}` if you think the correct statement is statement {1})."
   ]
  },
  {
   "cell_type": "code",
   "execution_count": null,
   "id": "18386db0-ec95-45a1-af86-be4e105c36f6",
   "metadata": {
    "deletable": false,
    "nbgrader": {
     "cell_type": "code",
     "checksum": "dd8c36a1c8d44666654c637a758a8e6d",
     "grade": false,
     "grade_id": "cell-e99f61e176f169f3",
     "locked": false,
     "schema_version": 3,
     "solution": true,
     "task": false
    },
    "tags": []
   },
   "outputs": [],
   "source": [
    "# Write your answer here."
   ]
  },
  {
   "cell_type": "markdown",
   "id": "ad6f7244-6043-4791-87d9-283c78a06a63",
   "metadata": {
    "deletable": false,
    "editable": false,
    "nbgrader": {
     "cell_type": "markdown",
     "checksum": "10ef0f4ed6409d0e945633f9659bf3d1",
     "grade": false,
     "grade_id": "cell-a5492dd46653a15a",
     "locked": true,
     "schema_version": 3,
     "solution": false,
     "task": false
    },
    "tags": []
   },
   "source": [
    "**_Run the cell under to check the format of your answer(s)_**"
   ]
  },
  {
   "cell_type": "code",
   "execution_count": null,
   "id": "7f0fbcbf-c039-42b9-9550-c344c3c6f2b2",
   "metadata": {
    "deletable": false,
    "editable": false,
    "nbgrader": {
     "cell_type": "code",
     "checksum": "21453e067a0a4571c38858a7a1c98f97",
     "grade": true,
     "grade_id": "cell-9d69dabe6bfb91e8",
     "locked": true,
     "points": 5,
     "schema_version": 3,
     "solution": false,
     "task": false
    },
    "tags": []
   },
   "outputs": [],
   "source": [
    "assert all (type(i) in [set] for i in [answer_6a]), 'The answer(s) must be a set of values'"
   ]
  },
  {
   "cell_type": "markdown",
   "id": "c0708d2d-d6ec-49f7-8ba5-4180fcd487dc",
   "metadata": {
    "deletable": false,
    "editable": false,
    "nbgrader": {
     "cell_type": "markdown",
     "checksum": "35926a195f034bbb5168683ff1c1b001",
     "grade": false,
     "grade_id": "cell-a2bf47e361f9d553",
     "locked": true,
     "schema_version": 3,
     "solution": false,
     "task": false
    },
    "tags": []
   },
   "source": [
    "Given the results you obtained, which statement is correct?\n",
    " \n",
    "1. The direct greenhouse gas emissions represent about 59 % of the lifecycle greenhouse gas emissions of 1 km of \"Transport, passenger car\".\n",
    "2. The direct greenhouse gas emissions represent about 63 % of the lifecycle greenhouse gas emissions of 1 km of \"Transport, passenger car\".\n",
    "3. The direct greenhouse gas emissions represent about 73 % of the lifecycle greenhouse gas emissions of 1 km of \"Transport, passenger car\".\n",
    "\n",
    "Define your answer as the variable `answer_6b` (e.g. `answer_6b = {1}` if you think the correct statement is statement {1})."
   ]
  },
  {
   "cell_type": "code",
   "execution_count": null,
   "id": "a4d90b17-38f3-47d3-b480-d5ee773c3566",
   "metadata": {
    "deletable": false,
    "nbgrader": {
     "cell_type": "code",
     "checksum": "1644f5655d24b2a57b2c2cc12449ef80",
     "grade": false,
     "grade_id": "cell-0568c2cd19d4abac",
     "locked": false,
     "schema_version": 3,
     "solution": true,
     "task": false
    },
    "tags": []
   },
   "outputs": [],
   "source": [
    "# Write your answer here."
   ]
  },
  {
   "cell_type": "markdown",
   "id": "94ab4955-e54d-4e5d-82ef-9bcf4befd396",
   "metadata": {
    "deletable": false,
    "editable": false,
    "nbgrader": {
     "cell_type": "markdown",
     "checksum": "5431c253724ed792f33c0ae0e117e6ff",
     "grade": false,
     "grade_id": "cell-db37dba1cb2d4b91",
     "locked": true,
     "schema_version": 3,
     "solution": false,
     "task": false
    },
    "tags": []
   },
   "source": [
    "**_Run the cell under to check the format of your answer(s)_**"
   ]
  },
  {
   "cell_type": "code",
   "execution_count": null,
   "id": "7b2377f1-a6a7-48d1-8c89-84859c6b5d1d",
   "metadata": {
    "deletable": false,
    "editable": false,
    "nbgrader": {
     "cell_type": "code",
     "checksum": "53a27184d5014846e5aad453df7562d7",
     "grade": true,
     "grade_id": "cell-abb47cd2df542694",
     "locked": true,
     "points": 5,
     "schema_version": 3,
     "solution": false,
     "task": false
    },
    "tags": []
   },
   "outputs": [],
   "source": [
    "assert all (type(i) in [set] for i in [answer_6b]), 'The answer(s) must be a set of values'"
   ]
  },
  {
   "cell_type": "markdown",
   "id": "09676df0-b725-4f5b-ab38-780070e0e7f8",
   "metadata": {
    "deletable": false,
    "editable": false,
    "nbgrader": {
     "cell_type": "markdown",
     "checksum": "d922ca3f733edb255cb1c151a763b4ab",
     "grade": false,
     "grade_id": "cell-39592811b384e7cc",
     "locked": true,
     "schema_version": 3,
     "solution": false,
     "task": false
    },
    "tags": []
   },
   "source": [
    "Given the following greenhouse gas emissions for aluminium and steel, and your answer to the previous question, what do you think about the change in greenhouse gas emissions? \n",
    "\n",
    "_This is an open question for you to reflect on the results you are getting. Your answer is not graded, but it is highly recommended to ask questions during the tutoring session if anything is unclear._"
   ]
  },
  {
   "cell_type": "code",
   "execution_count": null,
   "id": "c0786024-7fe4-450f-8bd6-2b9c734fac8a",
   "metadata": {
    "deletable": false,
    "nbgrader": {
     "cell_type": "code",
     "checksum": "912ab850782a76faf7e4afe2abb7be84",
     "grade": false,
     "grade_id": "cell-15f1ba06acc19d4a",
     "locked": false,
     "schema_version": 3,
     "solution": true,
     "task": false
    },
    "tags": []
   },
   "outputs": [],
   "source": [
    "### GWP per tonne of aluminium\n",
    "y_aluminium = pd.DataFrame(index = list(Aff.index) + list(Abf.index), columns = [\"Final demand\"], dtype = float).fillna(0)\n",
    "y_aluminium.loc['Aluminium and aluminium products - tonnes'] = 1\n",
    "x_aluminium = L @ y_aluminium\n",
    "d_aluminium = C @ S @ x_aluminium\n",
    "d_aluminium = d_aluminium.rename(columns={'Final demand': 'Total impacts'})\n",
    "display(d_aluminium.loc['Climate change - GWP100 (kg CO2-eq)'])\n",
    "\n",
    "### GWP per tonne of steel\n",
    "y_steel = pd.DataFrame(index = list(Aff.index) + list(Abf.index), columns = [\"Final demand\"], dtype = float).fillna(0)\n",
    "y_steel.loc['Basic iron and steel and of ferro-alloys and first products thereof - tonnes'] = 1\n",
    "x_steel = L @ y_steel\n",
    "d_steel = C @ S @ x_steel\n",
    "d_steel = d_steel.rename(columns={'Final demand': 'Total impacts'})\n",
    "display(d_steel.loc['Climate change - GWP100 (kg CO2-eq)'])\n",
    "\n",
    "# Write your answer here."
   ]
  }
 ],
 "metadata": {
  "kernelspec": {
   "display_name": "Python 3 (ipykernel)",
   "language": "python",
   "name": "python3"
  },
  "language_info": {
   "codemirror_mode": {
    "name": "ipython",
    "version": 3
   },
   "file_extension": ".py",
   "mimetype": "text/x-python",
   "name": "python",
   "nbconvert_exporter": "python",
   "pygments_lexer": "ipython3",
   "version": "3.10.8"
  }
 },
 "nbformat": 4,
 "nbformat_minor": 5
}
