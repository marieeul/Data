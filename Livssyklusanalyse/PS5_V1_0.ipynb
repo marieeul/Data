{
 "cells": [
  {
   "cell_type": "markdown",
   "id": "19745298-103e-450c-a9a1-da2551fbe63b",
   "metadata": {
    "deletable": false,
    "editable": false,
    "nbgrader": {
     "cell_type": "markdown",
     "checksum": "a31f31b9c85321da9b45177b13d7faa1",
     "grade": false,
     "grade_id": "cell-bef9e3ce2e293cf4",
     "locked": true,
     "schema_version": 3,
     "solution": false,
     "task": false
    },
    "tags": []
   },
   "source": [
    "# **Problem Set 5**"
   ]
  },
  {
   "cell_type": "markdown",
   "id": "8d8632b2-85ae-4e40-8aba-e9f07d7f2e6a",
   "metadata": {
    "deletable": false,
    "editable": false,
    "nbgrader": {
     "cell_type": "markdown",
     "checksum": "4891f40947accaec786bf5ac289063d0",
     "grade": false,
     "grade_id": "cell-fcf0d4e713f94148",
     "locked": true,
     "schema_version": 3,
     "solution": false,
     "task": false
    },
    "tags": []
   },
   "source": [
    "## **Tasks**\n",
    "- Set up Zff, Zfb and Zbf and the unadjusted Z matrix\n",
    "- Calculate unadjusted x vector, foreground price vector and Hfb matrix\n",
    "- Calculate modified Zbb matrix\n",
    "- Calculate modified x vector\n",
    "- Calculate A matrix\n",
    "- Answering multiple choice questions\n",
    "\n",
    "## **Passing requirement**\n",
    "- **At least 80 points**\n",
    "\n",
    "**_Please run the cell below before you start the assignment_**"
   ]
  },
  {
   "cell_type": "code",
   "execution_count": 2,
   "id": "f18dc604-ab34-4bd6-a4d9-f6ca350eeb10",
   "metadata": {
    "deletable": false,
    "editable": false,
    "nbgrader": {
     "cell_type": "code",
     "checksum": "7fe956f14b48c4b8f81a87d865d65fbf",
     "grade": false,
     "grade_id": "cell-47536ca545e9ace7",
     "locked": true,
     "schema_version": 3,
     "solution": false,
     "task": false
    },
    "tags": []
   },
   "outputs": [],
   "source": [
    "# Import required Python libraries\n",
    "import pandas as pd\n",
    "import numpy as np\n",
    "import matplotlib.pyplot as plt\n",
    "import seaborn as sns\n",
    "\n",
    "# Folder for the files\n",
    "files_folder = \"files_PS5_V1_0/\"\n",
    "\n",
    "### In case formulas are entered in the csv files & correcting the datatypes\n",
    "def convert_formulas(matrix):\n",
    "    for row in matrix.index:\n",
    "        for column in matrix.columns:\n",
    "            if type(matrix.loc[row, column]) == str:\n",
    "                if \" \" in matrix.loc[row, column]:\n",
    "                    matrix.loc[row, column] = matrix.loc[row, column].lstrip(' ')\n",
    "                if \"=\" in matrix.loc[row, column]:\n",
    "                    matrix.loc[row, column] = matrix.loc[row, column].lstrip('=')\n",
    "                matrix.loc[row, column] = pd.eval(matrix.loc[row, column])\n",
    "    ### Get the data types right in the DataFrames\n",
    "    s = matrix.select_dtypes(include='object').columns\n",
    "    matrix[s] = matrix[s].astype(\"float64\")\n",
    "    return matrix"
   ]
  },
  {
   "cell_type": "markdown",
   "id": "4ad8d1f3-edc0-4ab7-92ec-17b88389c8a0",
   "metadata": {
    "deletable": false,
    "editable": false,
    "nbgrader": {
     "cell_type": "markdown",
     "checksum": "92484951061b87bb4cbeb2dbed88eaaa",
     "grade": false,
     "grade_id": "cell-4c076e5af76bf1d9",
     "locked": true,
     "schema_version": 3,
     "solution": false,
     "task": false
    },
    "tags": []
   },
   "source": [
    "## **Integrated hybrid LCA**\n",
    "\n",
    "The Norwegian government is interested in analysing the prospect of ethanol production from bioresources, to be used as biofuel. The main current alcohol production in Norway is the production of aquavit from potatoes. Hence this ethanol production will be the case study. To analyse this, the crops must be disaggregated from the agricultural sector and the ethanol distillation must be disaggregated from the chemicals, oil and gas sector. It is your task to calculate the requirements matrix with Norway’s potato production disaggregated from the agricultural sector and aquavit distillation disaggregated from the chemicals, oil and gas sector.\n",
    "\n",
    "You are given a background system, which represents a simplified version of the flows in the Norwegian economy. The background system has four sectors: Chemicals, oil and gas sector; Food manufacturing sector; Agricultural sector; and all other sectors aggregated into one sector called Other. The background system’s flow matrix `Zbb` is as follows:\n",
    "\n",
    "\n",
    "|Zbb, in billion NOK|||||\n",
    "|-|-|-|-|-|\n",
    "||**Chemicals, oil and gas**|**Food manufacturing**|**Agriculture**|**Other**|\n",
    "|**Chemicals, oil and gas**|10.4|7.6|0.008|60.6|\n",
    "|**Food manufacturing**|3.5|38|5|30.6|\n",
    "|**Agriculture**|0.37|21.6|1.5|3.2|\n",
    "|**Other**|74|58|8.6|1600|\n",
    "\n",
    "And the total output from the background `xb` is as follows:\n",
    "\n",
    "|xb, in billion NOK||\n",
    "|-|-|\n",
    "|**Chemicals, oil and gas**|700|\n",
    "|**Food manufacturing**|170|\n",
    "|**Agriculture**|35|\n",
    "|**Other**|3114|\n",
    "\n",
    "You shall now disaggregate the foreground processes potato production and aquavit distillation from the flows in the Norwegian economy. We know the following:\n",
    "- The national aquavit distillation uses 40 000 tons potatoes per year, 140 million NOK worth of inputs from the food manufacturing sector and 110 million NOK from the other sectors, to produce a total output of 5500 tons of aquavit.\n",
    "- The potato production requires 350 000 NOK per year from the oil sector, 1 billion NOK from the food manufacturing sector, 225 million NOK from the agricultural sector and 1.2 billion from the other sectors; to produce a total output of 350 000 tons of potatoes.\n",
    "- The food manufacturing sector uses 150 000 tons of potatoes.\n",
    "- The agriculture sector uses 45 000 tons potatoes as feed (assume 0 to the potato production).\n",
    "- All of the aquavit production and the potato output that does not go into aquavit production, agriculture feed or food manufacturing, is assumed to go to final demand.\n",
    "- The price of potatoes is 2000 NOK/ton, and the price of aquavit is 450 000 NOK/ton."
   ]
  },
  {
   "cell_type": "markdown",
   "id": "4331b8e8-1959-4577-ae1a-ed06d661a5a9",
   "metadata": {
    "deletable": false,
    "editable": false,
    "nbgrader": {
     "cell_type": "markdown",
     "checksum": "41ea8ae3c519d1908359ea2888714b53",
     "grade": false,
     "grade_id": "cell-550dc82dcc933d2b",
     "locked": true,
     "schema_version": 3,
     "solution": false,
     "task": false
    },
    "tags": []
   },
   "source": [
    "## **1. The unadjusted `Z` matrix** _(25 points)_"
   ]
  },
  {
   "cell_type": "markdown",
   "id": "7f09b78c-640b-470e-b201-4d0556e40271",
   "metadata": {
    "deletable": false,
    "editable": false,
    "nbgrader": {
     "cell_type": "markdown",
     "checksum": "a688e03cc2c7d365c8cc8dfdea14b2d0",
     "grade": false,
     "grade_id": "cell-214460dbd28ff1dd",
     "locked": true,
     "schema_version": 3,
     "solution": false,
     "task": false
    },
    "tags": []
   },
   "source": [
    "Your task is to set up the unadjusted `Z` matrix. `Zbb` is already given. You have to fill in the matrices `Zff`, `Zbf`, `Zfb`. For that, you have two options: \n",
    "- Option 1: filling in the matrices in the csv files located in the **files_PS5_V1_0** folder and save the csv files by using \"ctrl+s\". **If you are filling in the matrices that way and are calculating some numbers, you should enter the formulas in the table.**\n",
    "- Option 2: filling in the matrices in the cells in the sections 1a), 1b), 1c). If you go for that option, we recommend you to make a quick hand sketch of the matrices to visualize how they should look like."
   ]
  },
  {
   "cell_type": "code",
   "execution_count": 3,
   "id": "bcd5cec0-638c-4754-934d-2587453f23a7",
   "metadata": {
    "deletable": false,
    "editable": false,
    "nbgrader": {
     "cell_type": "code",
     "checksum": "e27cbb89a26a5f4c3e9b4d9763d3cc59",
     "grade": false,
     "grade_id": "cell-eb4e8381d50748ff",
     "locked": true,
     "schema_version": 3,
     "solution": false,
     "task": false
    },
    "tags": []
   },
   "outputs": [],
   "source": [
    "Zff = convert_formulas(pd.read_csv(files_folder + 'Zff.csv', sep = ',', index_col = [0]))\n",
    "Zfb = convert_formulas(pd.read_csv(files_folder + 'Zfb.csv', sep = ',', index_col = [0]))\n",
    "Zbf = convert_formulas(pd.read_csv(files_folder + 'Zbf.csv', sep = ',', index_col = [0]))\n",
    "Zbb = convert_formulas(pd.read_csv(files_folder + 'Zbb.csv', sep = ',', index_col = [0]))"
   ]
  },
  {
   "cell_type": "markdown",
   "id": "4b9a4af5-e0c1-481d-bfbb-88fdbf1b06c7",
   "metadata": {
    "deletable": false,
    "editable": false,
    "nbgrader": {
     "cell_type": "markdown",
     "checksum": "b201af0b48254dfbbb5cc1a88892eb4d",
     "grade": false,
     "grade_id": "cell-2349818cd93337b4",
     "locked": true,
     "schema_version": 3,
     "solution": false,
     "task": false
    },
    "tags": []
   },
   "source": [
    "#### **1a)** _(5 points)_ Fill in `Zff`"
   ]
  },
  {
   "cell_type": "code",
   "execution_count": 4,
   "id": "767fcd0d-f780-4272-b662-77b72a8b3500",
   "metadata": {
    "deletable": false,
    "nbgrader": {
     "cell_type": "code",
     "checksum": "f3d3726757a9f0f0a67e2f842d048daa",
     "grade": false,
     "grade_id": "cell-92c639dfbf7e0f99",
     "locked": false,
     "schema_version": 3,
     "solution": true,
     "task": false
    },
    "tags": []
   },
   "outputs": [
    {
     "data": {
      "text/html": [
       "<div>\n",
       "<style scoped>\n",
       "    .dataframe tbody tr th:only-of-type {\n",
       "        vertical-align: middle;\n",
       "    }\n",
       "\n",
       "    .dataframe tbody tr th {\n",
       "        vertical-align: top;\n",
       "    }\n",
       "\n",
       "    .dataframe thead th {\n",
       "        text-align: right;\n",
       "    }\n",
       "</style>\n",
       "<table border=\"1\" class=\"dataframe\">\n",
       "  <thead>\n",
       "    <tr style=\"text-align: right;\">\n",
       "      <th></th>\n",
       "      <th>Aquavit distillation</th>\n",
       "      <th>Potato</th>\n",
       "    </tr>\n",
       "  </thead>\n",
       "  <tbody>\n",
       "    <tr>\n",
       "      <th>Aquavit distillation</th>\n",
       "      <td>0.0</td>\n",
       "      <td>0.0</td>\n",
       "    </tr>\n",
       "    <tr>\n",
       "      <th>Potato</th>\n",
       "      <td>40000.0</td>\n",
       "      <td>0.0</td>\n",
       "    </tr>\n",
       "  </tbody>\n",
       "</table>\n",
       "</div>"
      ],
      "text/plain": [
       "                      Aquavit distillation  Potato\n",
       "Aquavit distillation                   0.0     0.0\n",
       "Potato                             40000.0     0.0"
      ]
     },
     "metadata": {},
     "output_type": "display_data"
    }
   ],
   "source": [
    "Zff = Zff.fillna(0)\n",
    "display(Zff)"
   ]
  },
  {
   "cell_type": "markdown",
   "id": "cbab3993-fa86-4144-bb78-e76c550693a2",
   "metadata": {
    "deletable": false,
    "editable": false,
    "nbgrader": {
     "cell_type": "markdown",
     "checksum": "4824edc036fea4c2fb7f90eaeae58381",
     "grade": false,
     "grade_id": "cell-42a988d02225f648",
     "locked": true,
     "schema_version": 3,
     "solution": false,
     "task": false
    },
    "tags": []
   },
   "source": [
    "**_Run the cell under to check the format of your answer(s)_**"
   ]
  },
  {
   "cell_type": "code",
   "execution_count": 5,
   "id": "d776fa15-582b-472c-9232-f816f420f12e",
   "metadata": {
    "deletable": false,
    "editable": false,
    "nbgrader": {
     "cell_type": "code",
     "checksum": "8b0041046b4f10469597a2e8ee9d7d92",
     "grade": true,
     "grade_id": "cell-952b3b7439df92f2",
     "locked": true,
     "points": 5,
     "schema_version": 3,
     "solution": false,
     "task": false
    },
    "tags": []
   },
   "outputs": [],
   "source": [
    "assert Zff.isnull().values.any() == False, 'There are still NaN values in the matrix'\n",
    "assert (Zff.index == ['Aquavit distillation', 'Potato']).all(), 'The index do not correspond'\n",
    "assert (Zff.columns == ['Aquavit distillation', 'Potato']).all(), 'The columns do not correspond'"
   ]
  },
  {
   "cell_type": "markdown",
   "id": "72617072-666c-4387-854d-7032a36dc283",
   "metadata": {
    "deletable": false,
    "editable": false,
    "nbgrader": {
     "cell_type": "markdown",
     "checksum": "ee94b0c299e03b8c1cf7de4858991c2f",
     "grade": false,
     "grade_id": "cell-b778763094f02d9e",
     "locked": true,
     "schema_version": 3,
     "solution": false,
     "task": false
    },
    "tags": []
   },
   "source": [
    "#### **1b)** _(5 points)_ Fill in `Zfb`"
   ]
  },
  {
   "cell_type": "code",
   "execution_count": 6,
   "id": "1190f498-8a64-4382-969b-f565997435ab",
   "metadata": {
    "deletable": false,
    "nbgrader": {
     "cell_type": "code",
     "checksum": "bcf98370530332591c507c3fe7051684",
     "grade": false,
     "grade_id": "cell-0fb2ccf13f50bf3b",
     "locked": false,
     "schema_version": 3,
     "solution": true,
     "task": false
    },
    "tags": []
   },
   "outputs": [
    {
     "data": {
      "text/html": [
       "<div>\n",
       "<style scoped>\n",
       "    .dataframe tbody tr th:only-of-type {\n",
       "        vertical-align: middle;\n",
       "    }\n",
       "\n",
       "    .dataframe tbody tr th {\n",
       "        vertical-align: top;\n",
       "    }\n",
       "\n",
       "    .dataframe thead th {\n",
       "        text-align: right;\n",
       "    }\n",
       "</style>\n",
       "<table border=\"1\" class=\"dataframe\">\n",
       "  <thead>\n",
       "    <tr style=\"text-align: right;\">\n",
       "      <th></th>\n",
       "      <th>Chemicals, oil and gas</th>\n",
       "      <th>Food manufacturing</th>\n",
       "      <th>Agriculture</th>\n",
       "      <th>Other</th>\n",
       "    </tr>\n",
       "  </thead>\n",
       "  <tbody>\n",
       "    <tr>\n",
       "      <th>Aquavit distillation</th>\n",
       "      <td>0.0</td>\n",
       "      <td>0.0</td>\n",
       "      <td>0.0</td>\n",
       "      <td>0.0</td>\n",
       "    </tr>\n",
       "    <tr>\n",
       "      <th>Potato</th>\n",
       "      <td>0.0</td>\n",
       "      <td>150000.0</td>\n",
       "      <td>45000.0</td>\n",
       "      <td>0.0</td>\n",
       "    </tr>\n",
       "  </tbody>\n",
       "</table>\n",
       "</div>"
      ],
      "text/plain": [
       "                      Chemicals, oil and gas  Food manufacturing  Agriculture  \\\n",
       "Aquavit distillation                     0.0                 0.0          0.0   \n",
       "Potato                                   0.0            150000.0      45000.0   \n",
       "\n",
       "                      Other  \n",
       "Aquavit distillation    0.0  \n",
       "Potato                  0.0  "
      ]
     },
     "metadata": {},
     "output_type": "display_data"
    }
   ],
   "source": [
    "Zfb = Zfb.fillna(0)\n",
    "display(Zfb)"
   ]
  },
  {
   "cell_type": "markdown",
   "id": "be08c6a2-3c1d-42af-8a9b-a82f1ca7cb67",
   "metadata": {
    "deletable": false,
    "editable": false,
    "nbgrader": {
     "cell_type": "markdown",
     "checksum": "33f160155dbe54ae62f2d110905dc12b",
     "grade": false,
     "grade_id": "cell-a57e6021a31143ec",
     "locked": true,
     "schema_version": 3,
     "solution": false,
     "task": false
    },
    "tags": []
   },
   "source": [
    "**_Run the cell under to check the format of your answer(s)_**"
   ]
  },
  {
   "cell_type": "code",
   "execution_count": 7,
   "id": "28dbfc88-b8f8-4cc0-9246-5d3c662b7586",
   "metadata": {
    "deletable": false,
    "editable": false,
    "nbgrader": {
     "cell_type": "code",
     "checksum": "32324a0cfaf007faf05e8e93aecc96cf",
     "grade": true,
     "grade_id": "cell-811f19a0bf13c2d2",
     "locked": true,
     "points": 5,
     "schema_version": 3,
     "solution": false,
     "task": false
    },
    "tags": []
   },
   "outputs": [],
   "source": [
    "assert Zfb.isnull().values.any() == False, 'There are still NaN values in the matrix'\n",
    "assert (Zfb.index == ['Aquavit distillation', 'Potato']).all(), 'The index do not correspond'\n",
    "assert (Zfb.columns == ['Chemicals, oil and gas', 'Food manufacturing', 'Agriculture', 'Other']).all(), 'The columns do not correspond'"
   ]
  },
  {
   "cell_type": "markdown",
   "id": "58a0a9ae-4c98-472c-8841-de983f94ba3d",
   "metadata": {
    "deletable": false,
    "editable": false,
    "nbgrader": {
     "cell_type": "markdown",
     "checksum": "d8dd8d8d9b83912a0a3b4900f157a679",
     "grade": false,
     "grade_id": "cell-4ade78cc604dae5e",
     "locked": true,
     "schema_version": 3,
     "solution": false,
     "task": false
    },
    "tags": []
   },
   "source": [
    "#### **1c)** _(10 points)_ Fill in `Zbf`"
   ]
  },
  {
   "cell_type": "code",
   "execution_count": 8,
   "id": "5d1f1ce2-dc5e-4ea5-81c0-bfb4ca8e937a",
   "metadata": {
    "deletable": false,
    "nbgrader": {
     "cell_type": "code",
     "checksum": "9e0bdf4468ebd0c8a80f031dcb9d5daf",
     "grade": false,
     "grade_id": "cell-fcc40d20b6e67896",
     "locked": false,
     "schema_version": 3,
     "solution": true,
     "task": false
    },
    "tags": []
   },
   "outputs": [
    {
     "data": {
      "text/html": [
       "<div>\n",
       "<style scoped>\n",
       "    .dataframe tbody tr th:only-of-type {\n",
       "        vertical-align: middle;\n",
       "    }\n",
       "\n",
       "    .dataframe tbody tr th {\n",
       "        vertical-align: top;\n",
       "    }\n",
       "\n",
       "    .dataframe thead th {\n",
       "        text-align: right;\n",
       "    }\n",
       "</style>\n",
       "<table border=\"1\" class=\"dataframe\">\n",
       "  <thead>\n",
       "    <tr style=\"text-align: right;\">\n",
       "      <th></th>\n",
       "      <th>Aquavit distillation</th>\n",
       "      <th>Potato</th>\n",
       "    </tr>\n",
       "  </thead>\n",
       "  <tbody>\n",
       "    <tr>\n",
       "      <th>Chemicals, oil and gas</th>\n",
       "      <td>0.00</td>\n",
       "      <td>0.00035</td>\n",
       "    </tr>\n",
       "    <tr>\n",
       "      <th>Food manufacturing</th>\n",
       "      <td>0.14</td>\n",
       "      <td>1.00000</td>\n",
       "    </tr>\n",
       "    <tr>\n",
       "      <th>Agriculture</th>\n",
       "      <td>0.00</td>\n",
       "      <td>0.22500</td>\n",
       "    </tr>\n",
       "    <tr>\n",
       "      <th>Other</th>\n",
       "      <td>0.11</td>\n",
       "      <td>1.20000</td>\n",
       "    </tr>\n",
       "  </tbody>\n",
       "</table>\n",
       "</div>"
      ],
      "text/plain": [
       "                        Aquavit distillation   Potato\n",
       "Chemicals, oil and gas                  0.00  0.00035\n",
       "Food manufacturing                      0.14  1.00000\n",
       "Agriculture                             0.00  0.22500\n",
       "Other                                   0.11  1.20000"
      ]
     },
     "metadata": {},
     "output_type": "display_data"
    }
   ],
   "source": [
    "Zbf = Zbf.fillna(0)\n",
    "display(Zbf)"
   ]
  },
  {
   "cell_type": "markdown",
   "id": "d7156632-218d-4516-b9e2-6d09b9b4f5a1",
   "metadata": {
    "deletable": false,
    "editable": false,
    "nbgrader": {
     "cell_type": "markdown",
     "checksum": "ba331e24f714ef455a9f87fdccf262cc",
     "grade": false,
     "grade_id": "cell-dc3a2e001e8bdd67",
     "locked": true,
     "schema_version": 3,
     "solution": false,
     "task": false
    },
    "tags": []
   },
   "source": [
    "**_Run the cell under to check the format of your answer(s)_**"
   ]
  },
  {
   "cell_type": "code",
   "execution_count": 9,
   "id": "90d176e7-6653-4338-8f15-9278c4adc100",
   "metadata": {
    "deletable": false,
    "editable": false,
    "nbgrader": {
     "cell_type": "code",
     "checksum": "90268d3f316678ed340f3bd8073d3abb",
     "grade": true,
     "grade_id": "cell-1b97de89d8303de2",
     "locked": true,
     "points": 10,
     "schema_version": 3,
     "solution": false,
     "task": false
    },
    "tags": []
   },
   "outputs": [],
   "source": [
    "assert Zbf.isnull().values.any() == False, 'There are still NaN values in the matrix'\n",
    "assert (Zbf.index == ['Chemicals, oil and gas', 'Food manufacturing', 'Agriculture', 'Other']).all(), 'The index do not correspond'\n",
    "assert (Zbf.columns == ['Aquavit distillation', 'Potato']).all(), 'The columns do not correspond'"
   ]
  },
  {
   "cell_type": "markdown",
   "id": "9c871e80-07d6-47f0-8300-344c20d9b150",
   "metadata": {
    "deletable": false,
    "editable": false,
    "nbgrader": {
     "cell_type": "markdown",
     "checksum": "44a76e8e2d00750bedb1c5886502b4e8",
     "grade": false,
     "grade_id": "cell-0dee39d18840781c",
     "locked": true,
     "schema_version": 3,
     "solution": false,
     "task": false
    },
    "tags": []
   },
   "source": [
    "#### **1d)** _(5 points)_ Assemble `Zff`, `Zbf`, `Zfb` and `Zbb` into `Z` matrix"
   ]
  },
  {
   "cell_type": "code",
   "execution_count": 10,
   "id": "c845a352-94ea-4a4f-90e9-4ec44ad7f42f",
   "metadata": {
    "deletable": false,
    "nbgrader": {
     "cell_type": "code",
     "checksum": "bbda6de94fae59510f307785297e5d36",
     "grade": false,
     "grade_id": "cell-4d30564641748d62",
     "locked": false,
     "schema_version": 3,
     "solution": true,
     "task": false
    },
    "tags": []
   },
   "outputs": [
    {
     "data": {
      "text/html": [
       "<div>\n",
       "<style scoped>\n",
       "    .dataframe tbody tr th:only-of-type {\n",
       "        vertical-align: middle;\n",
       "    }\n",
       "\n",
       "    .dataframe tbody tr th {\n",
       "        vertical-align: top;\n",
       "    }\n",
       "\n",
       "    .dataframe thead th {\n",
       "        text-align: right;\n",
       "    }\n",
       "</style>\n",
       "<table border=\"1\" class=\"dataframe\">\n",
       "  <thead>\n",
       "    <tr style=\"text-align: right;\">\n",
       "      <th></th>\n",
       "      <th>Aquavit distillation</th>\n",
       "      <th>Potato</th>\n",
       "      <th>Chemicals, oil and gas</th>\n",
       "      <th>Food manufacturing</th>\n",
       "      <th>Agriculture</th>\n",
       "      <th>Other</th>\n",
       "    </tr>\n",
       "  </thead>\n",
       "  <tbody>\n",
       "    <tr>\n",
       "      <th>Aquavit distillation</th>\n",
       "      <td>0.00</td>\n",
       "      <td>0.00000</td>\n",
       "      <td>0.00</td>\n",
       "      <td>0.0</td>\n",
       "      <td>0.000</td>\n",
       "      <td>0.0</td>\n",
       "    </tr>\n",
       "    <tr>\n",
       "      <th>Potato</th>\n",
       "      <td>40000.00</td>\n",
       "      <td>0.00000</td>\n",
       "      <td>0.00</td>\n",
       "      <td>150000.0</td>\n",
       "      <td>45000.000</td>\n",
       "      <td>0.0</td>\n",
       "    </tr>\n",
       "    <tr>\n",
       "      <th>Chemicals, oil and gas</th>\n",
       "      <td>0.00</td>\n",
       "      <td>0.00035</td>\n",
       "      <td>10.40</td>\n",
       "      <td>7.6</td>\n",
       "      <td>0.008</td>\n",
       "      <td>60.6</td>\n",
       "    </tr>\n",
       "    <tr>\n",
       "      <th>Food manufacturing</th>\n",
       "      <td>0.14</td>\n",
       "      <td>1.00000</td>\n",
       "      <td>3.50</td>\n",
       "      <td>38.0</td>\n",
       "      <td>5.000</td>\n",
       "      <td>30.6</td>\n",
       "    </tr>\n",
       "    <tr>\n",
       "      <th>Agriculture</th>\n",
       "      <td>0.00</td>\n",
       "      <td>0.22500</td>\n",
       "      <td>0.37</td>\n",
       "      <td>21.6</td>\n",
       "      <td>1.500</td>\n",
       "      <td>3.2</td>\n",
       "    </tr>\n",
       "    <tr>\n",
       "      <th>Other</th>\n",
       "      <td>0.11</td>\n",
       "      <td>1.20000</td>\n",
       "      <td>74.00</td>\n",
       "      <td>58.0</td>\n",
       "      <td>8.600</td>\n",
       "      <td>1600.0</td>\n",
       "    </tr>\n",
       "  </tbody>\n",
       "</table>\n",
       "</div>"
      ],
      "text/plain": [
       "                        Aquavit distillation   Potato  Chemicals, oil and gas  \\\n",
       "Aquavit distillation                    0.00  0.00000                    0.00   \n",
       "Potato                              40000.00  0.00000                    0.00   \n",
       "Chemicals, oil and gas                  0.00  0.00035                   10.40   \n",
       "Food manufacturing                      0.14  1.00000                    3.50   \n",
       "Agriculture                             0.00  0.22500                    0.37   \n",
       "Other                                   0.11  1.20000                   74.00   \n",
       "\n",
       "                        Food manufacturing  Agriculture   Other  \n",
       "Aquavit distillation                   0.0        0.000     0.0  \n",
       "Potato                            150000.0    45000.000     0.0  \n",
       "Chemicals, oil and gas                 7.6        0.008    60.6  \n",
       "Food manufacturing                    38.0        5.000    30.6  \n",
       "Agriculture                           21.6        1.500     3.2  \n",
       "Other                                 58.0        8.600  1600.0  "
      ]
     },
     "metadata": {},
     "output_type": "display_data"
    }
   ],
   "source": [
    "Z1 = pd.concat([Zff, Zfb], axis = 1)\n",
    "Z2 = pd.concat([Zbf, Zbb], axis = 1)\n",
    "Z = pd.concat([Z1, Z2], axis = 0)\n",
    "display(Z)"
   ]
  },
  {
   "cell_type": "markdown",
   "id": "d3284bec-1f3d-4ad6-891d-eca2d6a6f526",
   "metadata": {
    "deletable": false,
    "editable": false,
    "nbgrader": {
     "cell_type": "markdown",
     "checksum": "a4328cb6efbdf1edfa1d13aa4cac73d0",
     "grade": false,
     "grade_id": "cell-29a3a1c93bd735b3",
     "locked": true,
     "schema_version": 3,
     "solution": false,
     "task": false
    },
    "tags": []
   },
   "source": [
    "**_Run the cell under to check the format of your answer(s)_**"
   ]
  },
  {
   "cell_type": "code",
   "execution_count": 11,
   "id": "173b1176-1125-4085-a7fc-67fde959d529",
   "metadata": {
    "deletable": false,
    "editable": false,
    "nbgrader": {
     "cell_type": "code",
     "checksum": "13c7cee931977d2da38c2164af4dd775",
     "grade": true,
     "grade_id": "cell-6824cb5fe8a1e1fe",
     "locked": true,
     "points": 5,
     "schema_version": 3,
     "solution": false,
     "task": false
    },
    "tags": []
   },
   "outputs": [],
   "source": [
    "assert (Z.index == ['Aquavit distillation', 'Potato', 'Chemicals, oil and gas',\n",
    "       'Food manufacturing', 'Agriculture', 'Other']).all(), 'The index do not correspond'\n",
    "assert (Z.columns == ['Aquavit distillation', 'Potato', 'Chemicals, oil and gas',\n",
    "       'Food manufacturing', 'Agriculture', 'Other']).all(), 'The columns do not correspond'"
   ]
  },
  {
   "cell_type": "markdown",
   "id": "7a936a2a-3427-49dc-938c-3f32875d1a8b",
   "metadata": {
    "deletable": false,
    "editable": false,
    "nbgrader": {
     "cell_type": "markdown",
     "checksum": "e29b21942f32e097f15bf4b686bad54b",
     "grade": false,
     "grade_id": "cell-15bf62104718b17d",
     "locked": true,
     "schema_version": 3,
     "solution": false,
     "task": false
    },
    "tags": []
   },
   "source": [
    "## **2. The unadjusted `x` vector** _(15 points)_"
   ]
  },
  {
   "cell_type": "markdown",
   "id": "c0fd0778-e662-40bb-bd53-7d9df2ee1c4d",
   "metadata": {
    "deletable": false,
    "editable": false,
    "nbgrader": {
     "cell_type": "markdown",
     "checksum": "ac194c212feeb9c56727f7bec29bae31",
     "grade": false,
     "grade_id": "cell-1b36c5ef6dd59823",
     "locked": true,
     "schema_version": 3,
     "solution": false,
     "task": false
    },
    "tags": []
   },
   "source": [
    "Your task is to set up the unadjusted `X` vector. You have to fill in `xf`, `xb`. For that, you have two options: \n",
    "- Option 1: filling in the vectors in the csv files located in the **files_PS5_V1_0** folder and save the csv files by using \"ctrl+s\". **If you are filling in the vectors that way and are calculating some numbers, you should enter the formulas in the table.**\n",
    "- Option 2: filling in the vectors in the cells in the sections 2a), 2b). If you go for that option, we recommend you to make a quick hand sketch of the vectors to visualize how they should look like."
   ]
  },
  {
   "cell_type": "code",
   "execution_count": 12,
   "id": "56afa126-e5e5-4ed3-8ef8-dea6ea67b645",
   "metadata": {
    "deletable": false,
    "editable": false,
    "nbgrader": {
     "cell_type": "code",
     "checksum": "790ff7789a745082c42269f3794d0a4c",
     "grade": false,
     "grade_id": "cell-6aae64d7240c615e",
     "locked": true,
     "schema_version": 3,
     "solution": false,
     "task": false
    },
    "tags": []
   },
   "outputs": [],
   "source": [
    "xf = convert_formulas(pd.read_csv(files_folder + 'xf.csv', sep = ',', index_col = [0]))\n",
    "xb = convert_formulas(pd.read_csv(files_folder + 'xb.csv', sep = ',', index_col = [0]))"
   ]
  },
  {
   "cell_type": "markdown",
   "id": "f68ba9d1-0ae2-405e-9f0a-2cbe51141001",
   "metadata": {
    "deletable": false,
    "editable": false,
    "nbgrader": {
     "cell_type": "markdown",
     "checksum": "b76b76f482739754fba3788e1ddf4db1",
     "grade": false,
     "grade_id": "cell-834d72e83f6f4fb0",
     "locked": true,
     "schema_version": 3,
     "solution": false,
     "task": false
    },
    "tags": []
   },
   "source": [
    "#### **2a)** _(5 points)_ Fill in `xf`"
   ]
  },
  {
   "cell_type": "code",
   "execution_count": 13,
   "id": "7966ac73-53c6-4c92-aa0d-e1948f7956f6",
   "metadata": {
    "deletable": false,
    "nbgrader": {
     "cell_type": "code",
     "checksum": "8605226d797e7cf82bd0b8f3c20ffbe3",
     "grade": false,
     "grade_id": "cell-3573f7f07a8aaf23",
     "locked": false,
     "schema_version": 3,
     "solution": true,
     "task": false
    },
    "tags": []
   },
   "outputs": [
    {
     "data": {
      "text/html": [
       "<div>\n",
       "<style scoped>\n",
       "    .dataframe tbody tr th:only-of-type {\n",
       "        vertical-align: middle;\n",
       "    }\n",
       "\n",
       "    .dataframe tbody tr th {\n",
       "        vertical-align: top;\n",
       "    }\n",
       "\n",
       "    .dataframe thead th {\n",
       "        text-align: right;\n",
       "    }\n",
       "</style>\n",
       "<table border=\"1\" class=\"dataframe\">\n",
       "  <thead>\n",
       "    <tr style=\"text-align: right;\">\n",
       "      <th></th>\n",
       "      <th>Output</th>\n",
       "    </tr>\n",
       "  </thead>\n",
       "  <tbody>\n",
       "    <tr>\n",
       "      <th>Aquavit distillation</th>\n",
       "      <td>5500</td>\n",
       "    </tr>\n",
       "    <tr>\n",
       "      <th>Potato</th>\n",
       "      <td>350000</td>\n",
       "    </tr>\n",
       "  </tbody>\n",
       "</table>\n",
       "</div>"
      ],
      "text/plain": [
       "                      Output\n",
       "Aquavit distillation    5500\n",
       "Potato                350000"
      ]
     },
     "metadata": {},
     "output_type": "display_data"
    }
   ],
   "source": [
    "xf = xf.fillna(0)\n",
    "display(xf)"
   ]
  },
  {
   "cell_type": "markdown",
   "id": "d64ecc3f-b33c-4198-821c-1fc433145770",
   "metadata": {
    "deletable": false,
    "editable": false,
    "nbgrader": {
     "cell_type": "markdown",
     "checksum": "5b66807d12785198ee18553e9308e792",
     "grade": false,
     "grade_id": "cell-7b893f8f466a4dab",
     "locked": true,
     "schema_version": 3,
     "solution": false,
     "task": false
    },
    "tags": []
   },
   "source": [
    "**_Run the cell under to check the format of your answer(s)_**"
   ]
  },
  {
   "cell_type": "code",
   "execution_count": 14,
   "id": "03e6cb15-2a0f-42dd-b693-d66ab4bafc4d",
   "metadata": {
    "deletable": false,
    "editable": false,
    "nbgrader": {
     "cell_type": "code",
     "checksum": "5296c9d783ded93651e6ea10be1d19b4",
     "grade": true,
     "grade_id": "cell-e835e128e0e7ab53",
     "locked": true,
     "points": 5,
     "schema_version": 3,
     "solution": false,
     "task": false
    },
    "tags": []
   },
   "outputs": [],
   "source": [
    "assert xf.isnull().values.any() == False, 'There are still NaN values in the matrix'\n",
    "assert (xf.index == ['Aquavit distillation', 'Potato']).all(), 'The index do not correspond'\n",
    "assert (xf.columns == ['Output']).all(), 'The columns do not correspond'"
   ]
  },
  {
   "cell_type": "markdown",
   "id": "b8ce9541-8695-4864-80e2-cb72816af9cb",
   "metadata": {
    "deletable": false,
    "editable": false,
    "nbgrader": {
     "cell_type": "markdown",
     "checksum": "308274be8bc9dcdf73fcfdeb9ae44466",
     "grade": false,
     "grade_id": "cell-10a195e5bf908291",
     "locked": true,
     "schema_version": 3,
     "solution": false,
     "task": false
    },
    "tags": []
   },
   "source": [
    "#### **2b)** _(5 points)_ Fill in `xb`"
   ]
  },
  {
   "cell_type": "code",
   "execution_count": 15,
   "id": "7096c302-ea00-456b-aaad-9e1c8f9fe49c",
   "metadata": {
    "deletable": false,
    "nbgrader": {
     "cell_type": "code",
     "checksum": "144a72ba0fb3a25f8719d342704c6413",
     "grade": false,
     "grade_id": "cell-37e3f5827fd355aa",
     "locked": false,
     "schema_version": 3,
     "solution": true,
     "task": false
    },
    "tags": []
   },
   "outputs": [
    {
     "data": {
      "text/html": [
       "<div>\n",
       "<style scoped>\n",
       "    .dataframe tbody tr th:only-of-type {\n",
       "        vertical-align: middle;\n",
       "    }\n",
       "\n",
       "    .dataframe tbody tr th {\n",
       "        vertical-align: top;\n",
       "    }\n",
       "\n",
       "    .dataframe thead th {\n",
       "        text-align: right;\n",
       "    }\n",
       "</style>\n",
       "<table border=\"1\" class=\"dataframe\">\n",
       "  <thead>\n",
       "    <tr style=\"text-align: right;\">\n",
       "      <th></th>\n",
       "      <th>Output</th>\n",
       "    </tr>\n",
       "  </thead>\n",
       "  <tbody>\n",
       "    <tr>\n",
       "      <th>Chemicals, oil and gas</th>\n",
       "      <td>700</td>\n",
       "    </tr>\n",
       "    <tr>\n",
       "      <th>Food manufacturing</th>\n",
       "      <td>170</td>\n",
       "    </tr>\n",
       "    <tr>\n",
       "      <th>Agriculture</th>\n",
       "      <td>35</td>\n",
       "    </tr>\n",
       "    <tr>\n",
       "      <th>Other</th>\n",
       "      <td>3114</td>\n",
       "    </tr>\n",
       "  </tbody>\n",
       "</table>\n",
       "</div>"
      ],
      "text/plain": [
       "                        Output\n",
       "Chemicals, oil and gas     700\n",
       "Food manufacturing         170\n",
       "Agriculture                 35\n",
       "Other                     3114"
      ]
     },
     "metadata": {},
     "output_type": "display_data"
    }
   ],
   "source": [
    "xb = xb.fillna(0)\n",
    "display(xb)"
   ]
  },
  {
   "cell_type": "markdown",
   "id": "cec0a570-fbda-4a00-b200-efb5b00f3cbc",
   "metadata": {
    "deletable": false,
    "editable": false,
    "nbgrader": {
     "cell_type": "markdown",
     "checksum": "72db3ce8108fe7548603e9cb41e49723",
     "grade": false,
     "grade_id": "cell-7ff7bb5475dd2086",
     "locked": true,
     "schema_version": 3,
     "solution": false,
     "task": false
    },
    "tags": []
   },
   "source": [
    "**_Run the cell under to check the format of your answer(s)_**"
   ]
  },
  {
   "cell_type": "code",
   "execution_count": 16,
   "id": "fff2ecbd-bc3b-45e8-b7b3-6f1700f74a16",
   "metadata": {
    "deletable": false,
    "editable": false,
    "nbgrader": {
     "cell_type": "code",
     "checksum": "7becfad8d1fc0fe0b3bc4789a9c97f0e",
     "grade": true,
     "grade_id": "cell-e9ee7df0b26631f4",
     "locked": true,
     "points": 5,
     "schema_version": 3,
     "solution": false,
     "task": false
    },
    "tags": []
   },
   "outputs": [],
   "source": [
    "assert xb.isnull().values.any() == False, 'There are still NaN values in the matrix'\n",
    "assert (xb.index == ['Chemicals, oil and gas', 'Food manufacturing', 'Agriculture', 'Other']).all(), 'The index do not correspond'\n",
    "assert (xb.columns == ['Output']).all(), 'The columns do not correspond'"
   ]
  },
  {
   "cell_type": "markdown",
   "id": "c23599e8-69f5-4912-bd23-7227d12f36ce",
   "metadata": {
    "deletable": false,
    "editable": false,
    "nbgrader": {
     "cell_type": "markdown",
     "checksum": "0d769e0bfccf7b91ac7044d0b807c53e",
     "grade": false,
     "grade_id": "cell-71fbd5239e6edb4c",
     "locked": true,
     "schema_version": 3,
     "solution": false,
     "task": false
    },
    "tags": []
   },
   "source": [
    "#### **2c)** _(5 points)_ Assemble `xf` and `xb` into `x` vector"
   ]
  },
  {
   "cell_type": "code",
   "execution_count": 17,
   "id": "be0db734-62ec-4cf0-a126-60dfecefd06d",
   "metadata": {
    "deletable": false,
    "nbgrader": {
     "cell_type": "code",
     "checksum": "a343134fb5a542c9a4d7dc35b6cf94d4",
     "grade": false,
     "grade_id": "cell-57a13c41d45ab49d",
     "locked": false,
     "schema_version": 3,
     "solution": true,
     "task": false
    },
    "tags": []
   },
   "outputs": [
    {
     "data": {
      "text/html": [
       "<div>\n",
       "<style scoped>\n",
       "    .dataframe tbody tr th:only-of-type {\n",
       "        vertical-align: middle;\n",
       "    }\n",
       "\n",
       "    .dataframe tbody tr th {\n",
       "        vertical-align: top;\n",
       "    }\n",
       "\n",
       "    .dataframe thead th {\n",
       "        text-align: right;\n",
       "    }\n",
       "</style>\n",
       "<table border=\"1\" class=\"dataframe\">\n",
       "  <thead>\n",
       "    <tr style=\"text-align: right;\">\n",
       "      <th></th>\n",
       "      <th>Output</th>\n",
       "    </tr>\n",
       "  </thead>\n",
       "  <tbody>\n",
       "    <tr>\n",
       "      <th>Aquavit distillation</th>\n",
       "      <td>5500</td>\n",
       "    </tr>\n",
       "    <tr>\n",
       "      <th>Potato</th>\n",
       "      <td>350000</td>\n",
       "    </tr>\n",
       "    <tr>\n",
       "      <th>Chemicals, oil and gas</th>\n",
       "      <td>700</td>\n",
       "    </tr>\n",
       "    <tr>\n",
       "      <th>Food manufacturing</th>\n",
       "      <td>170</td>\n",
       "    </tr>\n",
       "    <tr>\n",
       "      <th>Agriculture</th>\n",
       "      <td>35</td>\n",
       "    </tr>\n",
       "    <tr>\n",
       "      <th>Other</th>\n",
       "      <td>3114</td>\n",
       "    </tr>\n",
       "  </tbody>\n",
       "</table>\n",
       "</div>"
      ],
      "text/plain": [
       "                        Output\n",
       "Aquavit distillation      5500\n",
       "Potato                  350000\n",
       "Chemicals, oil and gas     700\n",
       "Food manufacturing         170\n",
       "Agriculture                 35\n",
       "Other                     3114"
      ]
     },
     "metadata": {},
     "output_type": "display_data"
    }
   ],
   "source": [
    "x = pd.concat([xf, xb], axis = 0)\n",
    "display(x)"
   ]
  },
  {
   "cell_type": "markdown",
   "id": "4b83a400-73ec-491e-9866-fc6d41476d37",
   "metadata": {
    "deletable": false,
    "editable": false,
    "nbgrader": {
     "cell_type": "markdown",
     "checksum": "30f1f1f77a0cb501054d52db69424941",
     "grade": false,
     "grade_id": "cell-df25e6ef9f9d0e8f",
     "locked": true,
     "schema_version": 3,
     "solution": false,
     "task": false
    },
    "tags": []
   },
   "source": [
    "**_Run the cell under to check the format of your answer(s)_**"
   ]
  },
  {
   "cell_type": "code",
   "execution_count": 18,
   "id": "6aacbbd4-746c-4aff-8320-c894119457f0",
   "metadata": {
    "deletable": false,
    "editable": false,
    "nbgrader": {
     "cell_type": "code",
     "checksum": "7ce71e9adf946fd307b1a21ffd9ef4e8",
     "grade": true,
     "grade_id": "cell-37725338ea1b6942",
     "locked": true,
     "points": 5,
     "schema_version": 3,
     "solution": false,
     "task": false
    },
    "tags": []
   },
   "outputs": [],
   "source": [
    "assert (x.index == ['Aquavit distillation', 'Potato', 'Chemicals, oil and gas',\n",
    "       'Food manufacturing', 'Agriculture', 'Other']).all(), 'The index do not correspond'\n",
    "assert (x.columns == ['Output']).all(), 'The columns do not correspond'"
   ]
  },
  {
   "cell_type": "markdown",
   "id": "ddb4d0ab-0dc5-49f6-8c9e-b5626593401c",
   "metadata": {
    "deletable": false,
    "editable": false,
    "nbgrader": {
     "cell_type": "markdown",
     "checksum": "efef5a6405416deb3853e5d4d1b591f5",
     "grade": false,
     "grade_id": "cell-af92c430321bd199",
     "locked": true,
     "schema_version": 3,
     "solution": false,
     "task": false
    },
    "tags": []
   },
   "source": [
    "## **3. The foreground price vector `pi`** _(5 points)_"
   ]
  },
  {
   "cell_type": "markdown",
   "id": "19d51aa5-ccb3-4f67-b03a-3164aca8eb54",
   "metadata": {
    "deletable": false,
    "editable": false,
    "nbgrader": {
     "cell_type": "markdown",
     "checksum": "cf8d4f2e99da453bad4004e8ab858a1f",
     "grade": false,
     "grade_id": "cell-e6765dc8dc16e2e8",
     "locked": true,
     "schema_version": 3,
     "solution": false,
     "task": false
    },
    "tags": []
   },
   "source": [
    "Your task is to set up the foreground price vector `pi`. You have to fill in `pi`. For that, you have two options: \n",
    "- Option 1: filling in the vector in the csv files located in the **files_PS5_V1_0** folder and save the csv files by using \"ctrl+s\". **If you are filling in the vector that way and are calculating some numbers, you should enter the formulas in the table.**\n",
    "- Option 2: filling in the vector in the cell under. If you go for that option, we recommend you to make a quick hand sketch of the vector to visualize how it should look like."
   ]
  },
  {
   "cell_type": "code",
   "execution_count": 19,
   "id": "bbde56f2-e9ee-4552-b928-9bd3b79e9233",
   "metadata": {
    "deletable": false,
    "editable": false,
    "nbgrader": {
     "cell_type": "code",
     "checksum": "0e2753f327e52bb450df7d0ee55ba854",
     "grade": false,
     "grade_id": "cell-96aa920df99f5db9",
     "locked": true,
     "schema_version": 3,
     "solution": false,
     "task": false
    },
    "tags": []
   },
   "outputs": [],
   "source": [
    "pi = convert_formulas(pd.read_csv(files_folder + 'pi.csv', sep = ',', index_col = [0]))"
   ]
  },
  {
   "cell_type": "markdown",
   "id": "c012fa39-0193-439a-929a-723ff38d697c",
   "metadata": {
    "deletable": false,
    "editable": false,
    "nbgrader": {
     "cell_type": "markdown",
     "checksum": "db0d0a30ae959f7514e1394abdec231c",
     "grade": false,
     "grade_id": "cell-dba9efbed307ea4b",
     "locked": true,
     "schema_version": 3,
     "solution": false,
     "task": false
    },
    "tags": []
   },
   "source": [
    "Fill in `pi`"
   ]
  },
  {
   "cell_type": "code",
   "execution_count": 20,
   "id": "01a57926-030b-408b-9a85-127fe9ef7378",
   "metadata": {
    "deletable": false,
    "nbgrader": {
     "cell_type": "code",
     "checksum": "fad427507a487a2298b6b597db865d62",
     "grade": false,
     "grade_id": "cell-f86e80e840d1cbe3",
     "locked": false,
     "schema_version": 3,
     "solution": true,
     "task": false
    },
    "tags": []
   },
   "outputs": [
    {
     "data": {
      "text/html": [
       "<div>\n",
       "<style scoped>\n",
       "    .dataframe tbody tr th:only-of-type {\n",
       "        vertical-align: middle;\n",
       "    }\n",
       "\n",
       "    .dataframe tbody tr th {\n",
       "        vertical-align: top;\n",
       "    }\n",
       "\n",
       "    .dataframe thead th {\n",
       "        text-align: right;\n",
       "    }\n",
       "</style>\n",
       "<table border=\"1\" class=\"dataframe\">\n",
       "  <thead>\n",
       "    <tr style=\"text-align: right;\">\n",
       "      <th></th>\n",
       "      <th>Unit cost</th>\n",
       "    </tr>\n",
       "  </thead>\n",
       "  <tbody>\n",
       "    <tr>\n",
       "      <th>Aquavit distillation</th>\n",
       "      <td>0.000450</td>\n",
       "    </tr>\n",
       "    <tr>\n",
       "      <th>Potato</th>\n",
       "      <td>0.000002</td>\n",
       "    </tr>\n",
       "  </tbody>\n",
       "</table>\n",
       "</div>"
      ],
      "text/plain": [
       "                      Unit cost\n",
       "Aquavit distillation   0.000450\n",
       "Potato                 0.000002"
      ]
     },
     "metadata": {},
     "output_type": "display_data"
    }
   ],
   "source": [
    "pi = pi.fillna(0)\n",
    "display(pi)"
   ]
  },
  {
   "cell_type": "markdown",
   "id": "04df1e2c-ad70-4222-b42a-7b3681407e95",
   "metadata": {
    "deletable": false,
    "editable": false,
    "nbgrader": {
     "cell_type": "markdown",
     "checksum": "d15f2e403f22dcbb290dcf32108c9889",
     "grade": false,
     "grade_id": "cell-50eec14b358e53cd",
     "locked": true,
     "schema_version": 3,
     "solution": false,
     "task": false
    },
    "tags": []
   },
   "source": [
    "**_Run the cell under to check the format of your answer(s)_**"
   ]
  },
  {
   "cell_type": "code",
   "execution_count": 21,
   "id": "20b1a0e5-c056-4996-a7c9-da403cd89d25",
   "metadata": {
    "deletable": false,
    "editable": false,
    "nbgrader": {
     "cell_type": "code",
     "checksum": "1ba2a095417401e5182987535c9531b4",
     "grade": true,
     "grade_id": "cell-0e04d1ebc1a72cc1",
     "locked": true,
     "points": 5,
     "schema_version": 3,
     "solution": false,
     "task": false
    },
    "tags": []
   },
   "outputs": [],
   "source": [
    "assert pi.isnull().values.any() == False, 'There are still NaN values in the matrix'\n",
    "assert (pi.index == ['Aquavit distillation', 'Potato']).all(), 'The index do not correspond'\n",
    "assert (pi.columns == ['Unit cost']).all(), 'The columns do not correspond'"
   ]
  },
  {
   "cell_type": "markdown",
   "id": "d9dc100d-2b32-4b78-ba69-f3686310ba91",
   "metadata": {
    "deletable": false,
    "editable": false,
    "nbgrader": {
     "cell_type": "markdown",
     "checksum": "b11299852f258609eae3279dffb6c95b",
     "grade": false,
     "grade_id": "cell-f38ee16aa3913cb7",
     "locked": true,
     "schema_version": 3,
     "solution": false,
     "task": false
    },
    "tags": []
   },
   "source": [
    "## **4. Foreground-background correspondence matrix `Hfb`** _(5 points)_"
   ]
  },
  {
   "cell_type": "markdown",
   "id": "58c84206-fa6a-4cc2-b066-f1889e596c72",
   "metadata": {
    "deletable": false,
    "editable": false,
    "nbgrader": {
     "cell_type": "markdown",
     "checksum": "38ad6c2b519a030fc384a0063ae38898",
     "grade": false,
     "grade_id": "cell-05693af5662bb094",
     "locked": true,
     "schema_version": 3,
     "solution": false,
     "task": false
    },
    "tags": []
   },
   "source": [
    "Your task is to set up the foreground-background correspondence matrix `Hfb`. You have to fill in `Hfb`. For that, you have two options: \n",
    "- Option 1: filling in the matrix in the csv files located in the **files_PS5_V1_0** folder and save the csv files by using \"ctrl+s\". **If you are filling in the matrix that way and are calculating some numbers, you should enter the formulas in the table.**\n",
    "- Option 2: filling in the matrix in the cell under. If you go for that option, we recommend you to make a quick hand sketch of the matrix to visualize how it should look like."
   ]
  },
  {
   "cell_type": "code",
   "execution_count": 22,
   "id": "265684e0-d1e6-4ec2-ba33-2c6d16d8c052",
   "metadata": {
    "deletable": false,
    "editable": false,
    "nbgrader": {
     "cell_type": "code",
     "checksum": "c765b290f32c8e5c56a1a0c426ec569a",
     "grade": false,
     "grade_id": "cell-711ba0e0752b8626",
     "locked": true,
     "schema_version": 3,
     "solution": false,
     "task": false
    },
    "tags": []
   },
   "outputs": [],
   "source": [
    "Hfb = convert_formulas(pd.read_csv(files_folder + 'Hfb.csv', sep = ',', index_col = [0]))"
   ]
  },
  {
   "cell_type": "markdown",
   "id": "c3ffd1b9-3db1-48c5-8716-572c13fa6ec8",
   "metadata": {
    "deletable": false,
    "editable": false,
    "nbgrader": {
     "cell_type": "markdown",
     "checksum": "d278eab63975375b0dc33992d20b97bd",
     "grade": false,
     "grade_id": "cell-063b985d4fff1f13",
     "locked": true,
     "schema_version": 3,
     "solution": false,
     "task": false
    },
    "tags": []
   },
   "source": [
    "Fill in `Hfb`"
   ]
  },
  {
   "cell_type": "code",
   "execution_count": 23,
   "id": "5f4bc5c2-4ac3-4987-bd71-6643c96f6c83",
   "metadata": {
    "deletable": false,
    "nbgrader": {
     "cell_type": "code",
     "checksum": "941ad520322ccbb6377a779cc7860eba",
     "grade": false,
     "grade_id": "cell-7f9a42634955bd30",
     "locked": false,
     "schema_version": 3,
     "solution": true,
     "task": false
    },
    "tags": []
   },
   "outputs": [
    {
     "data": {
      "text/html": [
       "<div>\n",
       "<style scoped>\n",
       "    .dataframe tbody tr th:only-of-type {\n",
       "        vertical-align: middle;\n",
       "    }\n",
       "\n",
       "    .dataframe tbody tr th {\n",
       "        vertical-align: top;\n",
       "    }\n",
       "\n",
       "    .dataframe thead th {\n",
       "        text-align: right;\n",
       "    }\n",
       "</style>\n",
       "<table border=\"1\" class=\"dataframe\">\n",
       "  <thead>\n",
       "    <tr style=\"text-align: right;\">\n",
       "      <th></th>\n",
       "      <th>Chemicals, oil and gas</th>\n",
       "      <th>Food manufacturing</th>\n",
       "      <th>Agriculture</th>\n",
       "      <th>Other</th>\n",
       "    </tr>\n",
       "  </thead>\n",
       "  <tbody>\n",
       "    <tr>\n",
       "      <th>Aquavit distillation</th>\n",
       "      <td>1.0</td>\n",
       "      <td>0.0</td>\n",
       "      <td>0.0</td>\n",
       "      <td>0.0</td>\n",
       "    </tr>\n",
       "    <tr>\n",
       "      <th>Potato</th>\n",
       "      <td>0.0</td>\n",
       "      <td>0.0</td>\n",
       "      <td>1.0</td>\n",
       "      <td>0.0</td>\n",
       "    </tr>\n",
       "  </tbody>\n",
       "</table>\n",
       "</div>"
      ],
      "text/plain": [
       "                      Chemicals, oil and gas  Food manufacturing  Agriculture  \\\n",
       "Aquavit distillation                     1.0                 0.0          0.0   \n",
       "Potato                                   0.0                 0.0          1.0   \n",
       "\n",
       "                      Other  \n",
       "Aquavit distillation    0.0  \n",
       "Potato                  0.0  "
      ]
     },
     "metadata": {},
     "output_type": "display_data"
    }
   ],
   "source": [
    "Hfb = Hfb.fillna(0)\n",
    "display(Hfb)"
   ]
  },
  {
   "cell_type": "markdown",
   "id": "31b633ad-82d4-4404-9d4b-539b2f73a100",
   "metadata": {
    "deletable": false,
    "editable": false,
    "nbgrader": {
     "cell_type": "markdown",
     "checksum": "45cba9e7ccd774d8f0db27594a11f2db",
     "grade": false,
     "grade_id": "cell-94e40a738e299da8",
     "locked": true,
     "schema_version": 3,
     "solution": false,
     "task": false
    },
    "tags": []
   },
   "source": [
    "**_Run the cell under to check the format of your answer(s)_**"
   ]
  },
  {
   "cell_type": "code",
   "execution_count": 24,
   "id": "777d2d53-8091-4865-9602-242e18128552",
   "metadata": {
    "deletable": false,
    "editable": false,
    "nbgrader": {
     "cell_type": "code",
     "checksum": "49d95d1ceb86206ec87b48c2b4d189be",
     "grade": true,
     "grade_id": "cell-e1e35b1a0ef2f0cb",
     "locked": true,
     "points": 5,
     "schema_version": 3,
     "solution": false,
     "task": false
    },
    "tags": []
   },
   "outputs": [],
   "source": [
    "assert Hfb.isnull().values.any() == False, 'There are still NaN values in the matrix'\n",
    "assert (Hfb.index == ['Aquavit distillation', 'Potato']).all(), 'The index do not correspond'\n",
    "assert (Hfb.columns == ['Chemicals, oil and gas', 'Food manufacturing', 'Agriculture', 'Other']).all(), 'The columns do not correspond'"
   ]
  },
  {
   "cell_type": "markdown",
   "id": "cc9ebfb2-554f-4116-bf3c-e86d1d03168a",
   "metadata": {
    "deletable": false,
    "editable": false,
    "nbgrader": {
     "cell_type": "markdown",
     "checksum": "9abc27269cad2028e38fc6f6cdbdd97d",
     "grade": false,
     "grade_id": "cell-a8f38a7f6d1129cf",
     "locked": true,
     "schema_version": 3,
     "solution": false,
     "task": false
    },
    "tags": []
   },
   "source": [
    "## **5. Calculate the modified `Zbb` and `Z` matrices: `Zbb_adj` and `Z_adj`** _(20 points)_"
   ]
  },
  {
   "cell_type": "markdown",
   "id": "08fe3807-cf43-47cc-9d25-abe3c3d34633",
   "metadata": {
    "deletable": false,
    "editable": false,
    "nbgrader": {
     "cell_type": "markdown",
     "checksum": "96ff70fcefecedbbef9cc59769fbb8c7",
     "grade": false,
     "grade_id": "cell-c6cacd16d75b41fd",
     "locked": true,
     "schema_version": 3,
     "solution": false,
     "task": false
    },
    "tags": []
   },
   "source": [
    "#### **5a)** _(15 points)_ Calculate `Zbb_adj`"
   ]
  },
  {
   "cell_type": "code",
   "execution_count": 32,
   "id": "04fa44ff-0285-4722-a554-d0016ec37309",
   "metadata": {
    "deletable": false,
    "nbgrader": {
     "cell_type": "code",
     "checksum": "cbfbd1fb2f91716924f478b879426425",
     "grade": false,
     "grade_id": "cell-3423911ea8f4b8a4",
     "locked": false,
     "schema_version": 3,
     "solution": true,
     "task": false
    },
    "tags": []
   },
   "outputs": [
    {
     "data": {
      "text/html": [
       "<div>\n",
       "<style scoped>\n",
       "    .dataframe tbody tr th:only-of-type {\n",
       "        vertical-align: middle;\n",
       "    }\n",
       "\n",
       "    .dataframe tbody tr th {\n",
       "        vertical-align: top;\n",
       "    }\n",
       "\n",
       "    .dataframe thead th {\n",
       "        text-align: right;\n",
       "    }\n",
       "</style>\n",
       "<table border=\"1\" class=\"dataframe\">\n",
       "  <thead>\n",
       "    <tr style=\"text-align: right;\">\n",
       "      <th></th>\n",
       "      <th>Chemicals, oil and gas</th>\n",
       "      <th>Food manufacturing</th>\n",
       "      <th>Agriculture</th>\n",
       "      <th>Other</th>\n",
       "    </tr>\n",
       "  </thead>\n",
       "  <tbody>\n",
       "    <tr>\n",
       "      <th>Chemicals, oil and gas</th>\n",
       "      <td>10.40</td>\n",
       "      <td>7.6</td>\n",
       "      <td>0.00765</td>\n",
       "      <td>60.6</td>\n",
       "    </tr>\n",
       "    <tr>\n",
       "      <th>Food manufacturing</th>\n",
       "      <td>3.36</td>\n",
       "      <td>38.0</td>\n",
       "      <td>4.00000</td>\n",
       "      <td>30.6</td>\n",
       "    </tr>\n",
       "    <tr>\n",
       "      <th>Agriculture</th>\n",
       "      <td>0.29</td>\n",
       "      <td>21.3</td>\n",
       "      <td>1.18500</td>\n",
       "      <td>3.2</td>\n",
       "    </tr>\n",
       "    <tr>\n",
       "      <th>Other</th>\n",
       "      <td>73.89</td>\n",
       "      <td>58.0</td>\n",
       "      <td>7.40000</td>\n",
       "      <td>1600.0</td>\n",
       "    </tr>\n",
       "  </tbody>\n",
       "</table>\n",
       "</div>"
      ],
      "text/plain": [
       "                        Chemicals, oil and gas  Food manufacturing  \\\n",
       "Chemicals, oil and gas                   10.40                 7.6   \n",
       "Food manufacturing                        3.36                38.0   \n",
       "Agriculture                               0.29                21.3   \n",
       "Other                                    73.89                58.0   \n",
       "\n",
       "                        Agriculture   Other  \n",
       "Chemicals, oil and gas      0.00765    60.6  \n",
       "Food manufacturing          4.00000    30.6  \n",
       "Agriculture                 1.18500     3.2  \n",
       "Other                       7.40000  1600.0  "
      ]
     },
     "metadata": {},
     "output_type": "display_data"
    }
   ],
   "source": [
    "Hfb_transpose = np.transpose(Hfb)\n",
    "#display(Hfb_transpose)\n",
    "\n",
    "pi_arr = np.diag(pi[\"Unit cost\"])\n",
    "pi_hat = pd.DataFrame(pi_arr, index = ['Aquavit distillation', 'Potato'], columns = ['Aquavit distillation', 'Potato'])\n",
    "#display(pi_hat)\n",
    "\n",
    "Zbf_adj = Zbf @ Hfb\n",
    "#display(Zbf_adj)\n",
    "\n",
    "Zfb_adj = Hfb_transpose @ pi_hat @ Zfb\n",
    "#display(Zfb_adj)\n",
    "\n",
    "Zff_adj = Hfb_transpose @ pi_hat @ Zff @ Hfb\n",
    "#display(Zff_adj)\n",
    "\n",
    "Zbb_adj = Zbb - Zff_adj - Zfb_adj -Zbf_adj\n",
    "display(Zbb_adj)"
   ]
  },
  {
   "cell_type": "markdown",
   "id": "02024203-bd3f-4469-941d-8c4cbdcc39eb",
   "metadata": {
    "deletable": false,
    "editable": false,
    "nbgrader": {
     "cell_type": "markdown",
     "checksum": "b1f6ca09bc0fb72f4c2af1784828612e",
     "grade": false,
     "grade_id": "cell-41f1e4fd83a1d88f",
     "locked": true,
     "schema_version": 3,
     "solution": false,
     "task": false
    },
    "tags": []
   },
   "source": [
    "**_Run the cell under to check the format of your answer(s)_**"
   ]
  },
  {
   "cell_type": "code",
   "execution_count": 33,
   "id": "860e7454-8116-48e6-90fd-aae5dceacd91",
   "metadata": {
    "deletable": false,
    "editable": false,
    "nbgrader": {
     "cell_type": "code",
     "checksum": "132a5adb03b5c2cf14f6cbbcf3c12973",
     "grade": true,
     "grade_id": "cell-c475b277025003a4",
     "locked": true,
     "points": 15,
     "schema_version": 3,
     "solution": false,
     "task": false
    },
    "tags": []
   },
   "outputs": [],
   "source": [
    "assert (Zbb_adj.index == ['Chemicals, oil and gas', 'Food manufacturing', 'Agriculture', 'Other']).all(), 'The index do not correspond'\n",
    "assert (Zbb_adj.columns == ['Chemicals, oil and gas', 'Food manufacturing', 'Agriculture', 'Other']).all(), 'The columns do not correspond'"
   ]
  },
  {
   "cell_type": "markdown",
   "id": "ef1bd2b8-c412-4e81-9e88-e2e6556bd24c",
   "metadata": {
    "deletable": false,
    "editable": false,
    "nbgrader": {
     "cell_type": "markdown",
     "checksum": "aca6712d3c5a492866f084d87f7bc038",
     "grade": false,
     "grade_id": "cell-300abdf9d69c028c",
     "locked": true,
     "schema_version": 3,
     "solution": false,
     "task": false
    },
    "tags": []
   },
   "source": [
    "#### **5b)** _(5 points)_ Calculate `Z_adj`"
   ]
  },
  {
   "cell_type": "code",
   "execution_count": 34,
   "id": "5083e844-5379-4fdd-88a9-5dda412b5f90",
   "metadata": {
    "deletable": false,
    "nbgrader": {
     "cell_type": "code",
     "checksum": "15237d0b8596cd16150a3201734cdbc1",
     "grade": false,
     "grade_id": "cell-917c8bd7009cfc4d",
     "locked": false,
     "schema_version": 3,
     "solution": true,
     "task": false
    },
    "tags": []
   },
   "outputs": [
    {
     "data": {
      "text/html": [
       "<div>\n",
       "<style scoped>\n",
       "    .dataframe tbody tr th:only-of-type {\n",
       "        vertical-align: middle;\n",
       "    }\n",
       "\n",
       "    .dataframe tbody tr th {\n",
       "        vertical-align: top;\n",
       "    }\n",
       "\n",
       "    .dataframe thead th {\n",
       "        text-align: right;\n",
       "    }\n",
       "</style>\n",
       "<table border=\"1\" class=\"dataframe\">\n",
       "  <thead>\n",
       "    <tr style=\"text-align: right;\">\n",
       "      <th></th>\n",
       "      <th>Aquavit distillation</th>\n",
       "      <th>Potato</th>\n",
       "      <th>Chemicals, oil and gas</th>\n",
       "      <th>Food manufacturing</th>\n",
       "      <th>Agriculture</th>\n",
       "      <th>Other</th>\n",
       "    </tr>\n",
       "  </thead>\n",
       "  <tbody>\n",
       "    <tr>\n",
       "      <th>Aquavit distillation</th>\n",
       "      <td>0.00</td>\n",
       "      <td>0.00000</td>\n",
       "      <td>0.00</td>\n",
       "      <td>0.0</td>\n",
       "      <td>0.00000</td>\n",
       "      <td>0.0</td>\n",
       "    </tr>\n",
       "    <tr>\n",
       "      <th>Potato</th>\n",
       "      <td>40000.00</td>\n",
       "      <td>0.00000</td>\n",
       "      <td>0.00</td>\n",
       "      <td>150000.0</td>\n",
       "      <td>45000.00000</td>\n",
       "      <td>0.0</td>\n",
       "    </tr>\n",
       "    <tr>\n",
       "      <th>Chemicals, oil and gas</th>\n",
       "      <td>0.00</td>\n",
       "      <td>0.00035</td>\n",
       "      <td>10.40</td>\n",
       "      <td>7.6</td>\n",
       "      <td>0.00765</td>\n",
       "      <td>60.6</td>\n",
       "    </tr>\n",
       "    <tr>\n",
       "      <th>Food manufacturing</th>\n",
       "      <td>0.14</td>\n",
       "      <td>1.00000</td>\n",
       "      <td>3.36</td>\n",
       "      <td>38.0</td>\n",
       "      <td>4.00000</td>\n",
       "      <td>30.6</td>\n",
       "    </tr>\n",
       "    <tr>\n",
       "      <th>Agriculture</th>\n",
       "      <td>0.00</td>\n",
       "      <td>0.22500</td>\n",
       "      <td>0.29</td>\n",
       "      <td>21.3</td>\n",
       "      <td>1.18500</td>\n",
       "      <td>3.2</td>\n",
       "    </tr>\n",
       "    <tr>\n",
       "      <th>Other</th>\n",
       "      <td>0.11</td>\n",
       "      <td>1.20000</td>\n",
       "      <td>73.89</td>\n",
       "      <td>58.0</td>\n",
       "      <td>7.40000</td>\n",
       "      <td>1600.0</td>\n",
       "    </tr>\n",
       "  </tbody>\n",
       "</table>\n",
       "</div>"
      ],
      "text/plain": [
       "                        Aquavit distillation   Potato  Chemicals, oil and gas  \\\n",
       "Aquavit distillation                    0.00  0.00000                    0.00   \n",
       "Potato                              40000.00  0.00000                    0.00   \n",
       "Chemicals, oil and gas                  0.00  0.00035                   10.40   \n",
       "Food manufacturing                      0.14  1.00000                    3.36   \n",
       "Agriculture                             0.00  0.22500                    0.29   \n",
       "Other                                   0.11  1.20000                   73.89   \n",
       "\n",
       "                        Food manufacturing  Agriculture   Other  \n",
       "Aquavit distillation                   0.0      0.00000     0.0  \n",
       "Potato                            150000.0  45000.00000     0.0  \n",
       "Chemicals, oil and gas                 7.6      0.00765    60.6  \n",
       "Food manufacturing                    38.0      4.00000    30.6  \n",
       "Agriculture                           21.3      1.18500     3.2  \n",
       "Other                                 58.0      7.40000  1600.0  "
      ]
     },
     "metadata": {},
     "output_type": "display_data"
    }
   ],
   "source": [
    "Z1 = pd.concat([Zff, Zfb], axis = 1)\n",
    "Z2 = pd.concat([Zbf, Zbb_adj], axis = 1)\n",
    "Z_adj = pd.concat([Z1, Z2], axis = 0)\n",
    "display(Z_adj)"
   ]
  },
  {
   "cell_type": "markdown",
   "id": "934065a9-0f60-45ff-b185-478d8cec37e9",
   "metadata": {
    "deletable": false,
    "editable": false,
    "nbgrader": {
     "cell_type": "markdown",
     "checksum": "1f806b0c7f90f09f2a6f70c82acdc4a4",
     "grade": false,
     "grade_id": "cell-cb53f3b1644b994c",
     "locked": true,
     "schema_version": 3,
     "solution": false,
     "task": false
    },
    "tags": []
   },
   "source": [
    "**_Run the cell under to check the format of your answer(s)_**"
   ]
  },
  {
   "cell_type": "code",
   "execution_count": 35,
   "id": "484619b3-e29e-4db5-804e-c33b2fa5b620",
   "metadata": {
    "deletable": false,
    "editable": false,
    "nbgrader": {
     "cell_type": "code",
     "checksum": "32cabc8cf9a8f9ff4baa9f5be5cffe2e",
     "grade": true,
     "grade_id": "cell-2af3b6f725d49056",
     "locked": true,
     "points": 5,
     "schema_version": 3,
     "solution": false,
     "task": false
    },
    "tags": []
   },
   "outputs": [],
   "source": [
    "assert (Z_adj.index == ['Aquavit distillation', 'Potato', 'Chemicals, oil and gas', 'Food manufacturing', 'Agriculture', 'Other']).all(), 'The index do not correspond'\n",
    "assert (Z_adj.columns == ['Aquavit distillation', 'Potato', 'Chemicals, oil and gas', 'Food manufacturing', 'Agriculture', 'Other']).all(), 'The columns do not correspond'"
   ]
  },
  {
   "cell_type": "markdown",
   "id": "b476f4e5-3a29-48be-9908-079e6e093290",
   "metadata": {
    "deletable": false,
    "editable": false,
    "nbgrader": {
     "cell_type": "markdown",
     "checksum": "5469635b78e70b767bedc866b73fea98",
     "grade": false,
     "grade_id": "cell-c92a6534e22cc6cf",
     "locked": true,
     "schema_version": 3,
     "solution": false,
     "task": false
    },
    "tags": []
   },
   "source": [
    "## **6. Calculate the modified `xb` and `x` vectors: `Xb_adj` and `X_adj`** _(10 points)_"
   ]
  },
  {
   "cell_type": "markdown",
   "id": "693e6cfe-488a-42b5-bf3f-385a41c6d140",
   "metadata": {
    "deletable": false,
    "editable": false,
    "nbgrader": {
     "cell_type": "markdown",
     "checksum": "3f0f981d12209fdd18a6b0963939233f",
     "grade": false,
     "grade_id": "cell-6196cd19bd5007d0",
     "locked": true,
     "schema_version": 3,
     "solution": false,
     "task": false
    },
    "tags": []
   },
   "source": [
    "#### **6a)** _(5 points)_ Calculate `Xb_adj`"
   ]
  },
  {
   "cell_type": "code",
   "execution_count": 36,
   "id": "111a9ca0-e301-4931-8d25-31f1bb1828b8",
   "metadata": {
    "deletable": false,
    "nbgrader": {
     "cell_type": "code",
     "checksum": "14b58b9bb9290d3d0e5604423dfbe8fe",
     "grade": false,
     "grade_id": "cell-7f4f9a229ad42b88",
     "locked": false,
     "schema_version": 3,
     "solution": true,
     "task": false
    },
    "tags": []
   },
   "outputs": [
    {
     "data": {
      "text/html": [
       "<div>\n",
       "<style scoped>\n",
       "    .dataframe tbody tr th:only-of-type {\n",
       "        vertical-align: middle;\n",
       "    }\n",
       "\n",
       "    .dataframe tbody tr th {\n",
       "        vertical-align: top;\n",
       "    }\n",
       "\n",
       "    .dataframe thead th {\n",
       "        text-align: right;\n",
       "    }\n",
       "</style>\n",
       "<table border=\"1\" class=\"dataframe\">\n",
       "  <thead>\n",
       "    <tr style=\"text-align: right;\">\n",
       "      <th></th>\n",
       "      <th>Output</th>\n",
       "    </tr>\n",
       "  </thead>\n",
       "  <tbody>\n",
       "    <tr>\n",
       "      <th>Chemicals, oil and gas</th>\n",
       "      <td>697.525</td>\n",
       "    </tr>\n",
       "    <tr>\n",
       "      <th>Food manufacturing</th>\n",
       "      <td>170.000</td>\n",
       "    </tr>\n",
       "    <tr>\n",
       "      <th>Agriculture</th>\n",
       "      <td>34.300</td>\n",
       "    </tr>\n",
       "    <tr>\n",
       "      <th>Other</th>\n",
       "      <td>3114.000</td>\n",
       "    </tr>\n",
       "  </tbody>\n",
       "</table>\n",
       "</div>"
      ],
      "text/plain": [
       "                          Output\n",
       "Chemicals, oil and gas   697.525\n",
       "Food manufacturing       170.000\n",
       "Agriculture               34.300\n",
       "Other                   3114.000"
      ]
     },
     "metadata": {},
     "output_type": "display_data"
    }
   ],
   "source": [
    "Xb_adj = xb - Hfb_transpose @ pi_hat @ xf\n",
    "display(Xb_adj)"
   ]
  },
  {
   "cell_type": "markdown",
   "id": "22366bca-4e73-4848-9ad5-f64621215ec2",
   "metadata": {
    "deletable": false,
    "editable": false,
    "nbgrader": {
     "cell_type": "markdown",
     "checksum": "86c90c416ea2a40c418b2bf30d6058c2",
     "grade": false,
     "grade_id": "cell-ef61d1bc1d5e2eac",
     "locked": true,
     "schema_version": 3,
     "solution": false,
     "task": false
    },
    "tags": []
   },
   "source": [
    "**_Run the cell under to check the format of your answer(s)_**"
   ]
  },
  {
   "cell_type": "code",
   "execution_count": 37,
   "id": "30124c97-c5bc-4c9d-b483-fd1934d5b327",
   "metadata": {
    "deletable": false,
    "editable": false,
    "nbgrader": {
     "cell_type": "code",
     "checksum": "6c7e60b812189953d24446ec1af925b9",
     "grade": true,
     "grade_id": "cell-4b580b2c1ef20581",
     "locked": true,
     "points": 5,
     "schema_version": 3,
     "solution": false,
     "task": false
    },
    "tags": []
   },
   "outputs": [],
   "source": [
    "assert (Xb_adj.index == ['Chemicals, oil and gas', 'Food manufacturing', 'Agriculture', 'Other']).all(), 'The index do not correspond'\n",
    "assert (Xb_adj.columns == ['Output']).all(), 'The columns do not correspond'"
   ]
  },
  {
   "cell_type": "markdown",
   "id": "fea3d4ff-55d0-4012-9958-d113601245e3",
   "metadata": {
    "deletable": false,
    "editable": false,
    "nbgrader": {
     "cell_type": "markdown",
     "checksum": "d769496bdac06c5bd9b0ca25a8a697df",
     "grade": false,
     "grade_id": "cell-93bbafc7fbdc27b8",
     "locked": true,
     "schema_version": 3,
     "solution": false,
     "task": false
    },
    "tags": []
   },
   "source": [
    "#### **6b)** _(5 points)_ Calculate `X_adj`"
   ]
  },
  {
   "cell_type": "code",
   "execution_count": 38,
   "id": "c4ef7f3d-a470-4886-8668-96451b61c8c5",
   "metadata": {
    "deletable": false,
    "nbgrader": {
     "cell_type": "code",
     "checksum": "0f3a210f0a4d238a3f0ea90187f0b95b",
     "grade": false,
     "grade_id": "cell-6a02ae2025c76641",
     "locked": false,
     "schema_version": 3,
     "solution": true,
     "task": false
    },
    "tags": []
   },
   "outputs": [
    {
     "data": {
      "text/html": [
       "<div>\n",
       "<style scoped>\n",
       "    .dataframe tbody tr th:only-of-type {\n",
       "        vertical-align: middle;\n",
       "    }\n",
       "\n",
       "    .dataframe tbody tr th {\n",
       "        vertical-align: top;\n",
       "    }\n",
       "\n",
       "    .dataframe thead th {\n",
       "        text-align: right;\n",
       "    }\n",
       "</style>\n",
       "<table border=\"1\" class=\"dataframe\">\n",
       "  <thead>\n",
       "    <tr style=\"text-align: right;\">\n",
       "      <th></th>\n",
       "      <th>Output</th>\n",
       "    </tr>\n",
       "  </thead>\n",
       "  <tbody>\n",
       "    <tr>\n",
       "      <th>Aquavit distillation</th>\n",
       "      <td>5500.000</td>\n",
       "    </tr>\n",
       "    <tr>\n",
       "      <th>Potato</th>\n",
       "      <td>350000.000</td>\n",
       "    </tr>\n",
       "    <tr>\n",
       "      <th>Chemicals, oil and gas</th>\n",
       "      <td>697.525</td>\n",
       "    </tr>\n",
       "    <tr>\n",
       "      <th>Food manufacturing</th>\n",
       "      <td>170.000</td>\n",
       "    </tr>\n",
       "    <tr>\n",
       "      <th>Agriculture</th>\n",
       "      <td>34.300</td>\n",
       "    </tr>\n",
       "    <tr>\n",
       "      <th>Other</th>\n",
       "      <td>3114.000</td>\n",
       "    </tr>\n",
       "  </tbody>\n",
       "</table>\n",
       "</div>"
      ],
      "text/plain": [
       "                            Output\n",
       "Aquavit distillation      5500.000\n",
       "Potato                  350000.000\n",
       "Chemicals, oil and gas     697.525\n",
       "Food manufacturing         170.000\n",
       "Agriculture                 34.300\n",
       "Other                     3114.000"
      ]
     },
     "metadata": {},
     "output_type": "display_data"
    }
   ],
   "source": [
    "X_adj = pd.concat([xf, Xb_adj], axis = 0)\n",
    "display(X_adj)"
   ]
  },
  {
   "cell_type": "markdown",
   "id": "6ae2c673-9e98-445c-a5d0-e9478c827a8b",
   "metadata": {
    "deletable": false,
    "editable": false,
    "nbgrader": {
     "cell_type": "markdown",
     "checksum": "bfc56b3374d6e671ba925e72c14bb914",
     "grade": false,
     "grade_id": "cell-bb3ab34876f7f18f",
     "locked": true,
     "schema_version": 3,
     "solution": false,
     "task": false
    },
    "tags": []
   },
   "source": [
    "**_Run the cell under to check the format of your answer(s)_**"
   ]
  },
  {
   "cell_type": "code",
   "execution_count": null,
   "id": "f2e0e031-f2b4-4ec4-a11d-ed831e6f2e9f",
   "metadata": {
    "deletable": false,
    "editable": false,
    "nbgrader": {
     "cell_type": "code",
     "checksum": "fcdb714f958e0d8642ded9cc4eca0a1e",
     "grade": true,
     "grade_id": "cell-9cb062aa8783e32c",
     "locked": true,
     "points": 5,
     "schema_version": 3,
     "solution": false,
     "task": false
    },
    "tags": []
   },
   "outputs": [],
   "source": [
    "assert (X_adj.index == ['Aquavit distillation', 'Potato', 'Chemicals, oil and gas', 'Food manufacturing', 'Agriculture', 'Other']).all(), 'The index do not correspond'\n",
    "assert (X_adj.columns == ['Output']).all(), 'The columns do not correspond'"
   ]
  },
  {
   "cell_type": "markdown",
   "id": "edb25c9e-0ebe-4d4c-852a-a82e3f24f878",
   "metadata": {
    "deletable": false,
    "editable": false,
    "nbgrader": {
     "cell_type": "markdown",
     "checksum": "0bbaa2f997c1126799eacf3b776a7108",
     "grade": false,
     "grade_id": "cell-44fefa63b18c431e",
     "locked": true,
     "schema_version": 3,
     "solution": false,
     "task": false
    },
    "tags": []
   },
   "source": [
    "## **7. Calculate the A matrix for this system** _(10 points)_"
   ]
  },
  {
   "cell_type": "code",
   "execution_count": 42,
   "id": "734b3999-5a4b-4311-ab38-df71fb296e23",
   "metadata": {
    "deletable": false,
    "nbgrader": {
     "cell_type": "code",
     "checksum": "869ec937090c14e9d1fe6e712cf353c2",
     "grade": false,
     "grade_id": "cell-ba49f9e67bfb0d97",
     "locked": false,
     "schema_version": 3,
     "solution": true,
     "task": false
    },
    "tags": []
   },
   "outputs": [
    {
     "data": {
      "text/html": [
       "<div>\n",
       "<style scoped>\n",
       "    .dataframe tbody tr th:only-of-type {\n",
       "        vertical-align: middle;\n",
       "    }\n",
       "\n",
       "    .dataframe tbody tr th {\n",
       "        vertical-align: top;\n",
       "    }\n",
       "\n",
       "    .dataframe thead th {\n",
       "        text-align: right;\n",
       "    }\n",
       "</style>\n",
       "<table border=\"1\" class=\"dataframe\">\n",
       "  <thead>\n",
       "    <tr style=\"text-align: right;\">\n",
       "      <th></th>\n",
       "      <th>Aquavit distillation</th>\n",
       "      <th>Potato</th>\n",
       "      <th>Chemicals, oil and gas</th>\n",
       "      <th>Food manufacturing</th>\n",
       "      <th>Agriculture</th>\n",
       "      <th>Other</th>\n",
       "    </tr>\n",
       "  </thead>\n",
       "  <tbody>\n",
       "    <tr>\n",
       "      <th>Aquavit distillation</th>\n",
       "      <td>0.000000</td>\n",
       "      <td>0.000000e+00</td>\n",
       "      <td>0.000000</td>\n",
       "      <td>0.000000</td>\n",
       "      <td>0.000000</td>\n",
       "      <td>0.000000</td>\n",
       "    </tr>\n",
       "    <tr>\n",
       "      <th>Potato</th>\n",
       "      <td>7.272727</td>\n",
       "      <td>0.000000e+00</td>\n",
       "      <td>0.000000</td>\n",
       "      <td>882.352941</td>\n",
       "      <td>1311.953353</td>\n",
       "      <td>0.000000</td>\n",
       "    </tr>\n",
       "    <tr>\n",
       "      <th>Chemicals, oil and gas</th>\n",
       "      <td>0.000000</td>\n",
       "      <td>1.000000e-09</td>\n",
       "      <td>0.014910</td>\n",
       "      <td>0.044706</td>\n",
       "      <td>0.000223</td>\n",
       "      <td>0.019461</td>\n",
       "    </tr>\n",
       "    <tr>\n",
       "      <th>Food manufacturing</th>\n",
       "      <td>0.000025</td>\n",
       "      <td>2.857143e-06</td>\n",
       "      <td>0.004817</td>\n",
       "      <td>0.223529</td>\n",
       "      <td>0.116618</td>\n",
       "      <td>0.009827</td>\n",
       "    </tr>\n",
       "    <tr>\n",
       "      <th>Agriculture</th>\n",
       "      <td>0.000000</td>\n",
       "      <td>6.428571e-07</td>\n",
       "      <td>0.000416</td>\n",
       "      <td>0.125294</td>\n",
       "      <td>0.034548</td>\n",
       "      <td>0.001028</td>\n",
       "    </tr>\n",
       "    <tr>\n",
       "      <th>Other</th>\n",
       "      <td>0.000020</td>\n",
       "      <td>3.428571e-06</td>\n",
       "      <td>0.105932</td>\n",
       "      <td>0.341176</td>\n",
       "      <td>0.215743</td>\n",
       "      <td>0.513809</td>\n",
       "    </tr>\n",
       "  </tbody>\n",
       "</table>\n",
       "</div>"
      ],
      "text/plain": [
       "                        Aquavit distillation        Potato  \\\n",
       "Aquavit distillation                0.000000  0.000000e+00   \n",
       "Potato                              7.272727  0.000000e+00   \n",
       "Chemicals, oil and gas              0.000000  1.000000e-09   \n",
       "Food manufacturing                  0.000025  2.857143e-06   \n",
       "Agriculture                         0.000000  6.428571e-07   \n",
       "Other                               0.000020  3.428571e-06   \n",
       "\n",
       "                        Chemicals, oil and gas  Food manufacturing  \\\n",
       "Aquavit distillation                  0.000000            0.000000   \n",
       "Potato                                0.000000          882.352941   \n",
       "Chemicals, oil and gas                0.014910            0.044706   \n",
       "Food manufacturing                    0.004817            0.223529   \n",
       "Agriculture                           0.000416            0.125294   \n",
       "Other                                 0.105932            0.341176   \n",
       "\n",
       "                        Agriculture     Other  \n",
       "Aquavit distillation       0.000000  0.000000  \n",
       "Potato                  1311.953353  0.000000  \n",
       "Chemicals, oil and gas     0.000223  0.019461  \n",
       "Food manufacturing         0.116618  0.009827  \n",
       "Agriculture                0.034548  0.001028  \n",
       "Other                      0.215743  0.513809  "
      ]
     },
     "metadata": {},
     "output_type": "display_data"
    }
   ],
   "source": [
    "X_arr = np.diag(X_adj[\"Output\"])\n",
    "X_hat_inv_arr = np.linalg.inv(X_arr)\n",
    "X_hat_inv = pd.DataFrame(X_hat_inv_arr, index = ['Aquavit distillation', 'Potato', 'Chemicals, oil and gas', 'Food manufacturing', 'Agriculture', 'Other'], columns = ['Aquavit distillation', 'Potato', 'Chemicals, oil and gas', 'Food manufacturing', 'Agriculture', 'Other'])\n",
    "#display(X_hat_inv)\n",
    "\n",
    "A = Z_adj @ X_hat_inv\n",
    "display(A)"
   ]
  },
  {
   "cell_type": "markdown",
   "id": "227f8c8e-2117-4ddb-9c67-309459ccaf5a",
   "metadata": {
    "deletable": false,
    "editable": false,
    "nbgrader": {
     "cell_type": "markdown",
     "checksum": "3d4d14510c65f35785f37f4e7a1cb0d6",
     "grade": false,
     "grade_id": "cell-49744c679b0c2fa4",
     "locked": true,
     "schema_version": 3,
     "solution": false,
     "task": false
    },
    "tags": []
   },
   "source": [
    "**_Run the cell under to check the format of your answer(s)_**"
   ]
  },
  {
   "cell_type": "code",
   "execution_count": 43,
   "id": "8e56241b-5143-4fef-aa74-e43c27746f42",
   "metadata": {
    "deletable": false,
    "editable": false,
    "nbgrader": {
     "cell_type": "code",
     "checksum": "2fa6df0b8c4990a2bd3f70cbf0a4de12",
     "grade": true,
     "grade_id": "cell-35a27735647e92cd",
     "locked": true,
     "points": 10,
     "schema_version": 3,
     "solution": false,
     "task": false
    },
    "tags": []
   },
   "outputs": [],
   "source": [
    "assert (A.index == ['Aquavit distillation', 'Potato', 'Chemicals, oil and gas', 'Food manufacturing', 'Agriculture', 'Other']).all(), 'The index do not correspond'\n",
    "assert (A.columns == ['Aquavit distillation', 'Potato', 'Chemicals, oil and gas', 'Food manufacturing', 'Agriculture', 'Other']).all(), 'The columns do not correspond'"
   ]
  },
  {
   "cell_type": "markdown",
   "id": "3e473955-a4c0-47de-8f3c-b5846d89cc39",
   "metadata": {
    "deletable": false,
    "editable": false,
    "nbgrader": {
     "cell_type": "markdown",
     "checksum": "7803aa75898e6e25b5f6bf918a05c86d",
     "grade": false,
     "grade_id": "cell-cedead668f667b78",
     "locked": true,
     "schema_version": 3,
     "solution": false,
     "task": false
    },
    "tags": []
   },
   "source": [
    "## **8. Some interpretation questions** _(10 points)_"
   ]
  },
  {
   "cell_type": "markdown",
   "id": "7fdf53cb-8f35-4b07-a497-7523ab86ade2",
   "metadata": {
    "deletable": false,
    "editable": false,
    "nbgrader": {
     "cell_type": "markdown",
     "checksum": "3859a97f145d8cd3fe8dbbc0b7a5be9b",
     "grade": false,
     "grade_id": "cell-ecbf53c0f8271172",
     "locked": true,
     "schema_version": 3,
     "solution": false,
     "task": false
    },
    "tags": []
   },
   "source": [
    "#### **8a)** _(5 points)_ Which one(s) of these statement(s) is/are correct?\n",
    "\n",
    "By looking at `Zbb_adj`:\n",
    "1. All the values of the initial `Zbb` matrix have been modified.\n",
    "2. Only some values of the initial `Zbb` matrix have been modified.\n",
    "3. The modified values are lower than in the initial `Zbb` matrix.\n",
    "4. The modified values are higher than in the initial `Zbb` matrix.\n",
    " \n",
    "Define your answer as the variable `answer_8a` (e.g. `answer_8a = {1}` if you think the correct statement is statement {1} and `answer_8a = {1, 2}` if you think the correct statements are statements {1, 2})."
   ]
  },
  {
   "cell_type": "code",
   "execution_count": 44,
   "id": "9a861159-614a-43f9-86d4-d1ac12d2eb7e",
   "metadata": {
    "deletable": false,
    "nbgrader": {
     "cell_type": "code",
     "checksum": "77f1a8725b2455281bbce77f1884a07c",
     "grade": false,
     "grade_id": "cell-ceee56bf0b79296b",
     "locked": false,
     "schema_version": 3,
     "solution": true,
     "task": false
    },
    "tags": []
   },
   "outputs": [],
   "source": [
    "answer_8a = {2, 3}"
   ]
  },
  {
   "cell_type": "markdown",
   "id": "6df205f3-22d9-4c4a-815f-553160bfe570",
   "metadata": {
    "deletable": false,
    "editable": false,
    "nbgrader": {
     "cell_type": "markdown",
     "checksum": "6bfe0f7e22d506ca0ff44946a4662ce2",
     "grade": false,
     "grade_id": "cell-7bdc1ffe3e54115a",
     "locked": true,
     "schema_version": 3,
     "solution": false,
     "task": false
    },
    "tags": []
   },
   "source": [
    "**_Run the cell under to check the format of your answer(s)_**"
   ]
  },
  {
   "cell_type": "code",
   "execution_count": 46,
   "id": "3e85652f-505c-4b3c-ad06-624b0d3ee951",
   "metadata": {
    "deletable": false,
    "editable": false,
    "nbgrader": {
     "cell_type": "code",
     "checksum": "72ea13b97ae398e19b2d131a7dcb5d96",
     "grade": true,
     "grade_id": "cell-a552bfe9c37d31ef",
     "locked": true,
     "points": 5,
     "schema_version": 3,
     "solution": false,
     "task": false
    },
    "tags": []
   },
   "outputs": [],
   "source": [
    "assert all (type(i) in [set] for i in [answer_8a]), 'The answer(s) must be a set of values'"
   ]
  },
  {
   "cell_type": "markdown",
   "id": "c5417b3f-6a1d-4249-9561-0fc1927b62b9",
   "metadata": {
    "deletable": false,
    "editable": false,
    "nbgrader": {
     "cell_type": "markdown",
     "checksum": "4c010365e1df0f34a21b11aa74f4d68a",
     "grade": false,
     "grade_id": "cell-3813d7ae6e723ae8",
     "locked": true,
     "schema_version": 3,
     "solution": false,
     "task": false
    },
    "tags": []
   },
   "source": [
    "#### **8b)** _(5 points)_ Which one(s) of these statement(s) is/are correct?\n",
    "\n",
    "By looking at `A`:\n",
    "1. There are flows from the foreground to the background.\n",
    "2. All the sectors/processes have the unit tons/ton.\n",
    "3. We can get how many tons potato are required to produce 1 ton aquavit.\n",
    " \n",
    "Define your answer as the variable `answer_8b` (e.g. `answer_8b = {1}` if you think the correct statement is statement {1} and `answer_8b = {1, 2}` if you think the correct statements are statements {1, 2})."
   ]
  },
  {
   "cell_type": "code",
   "execution_count": 47,
   "id": "8410b550-cc1e-471c-9ee6-2c8d25c3fcfb",
   "metadata": {
    "deletable": false,
    "nbgrader": {
     "cell_type": "code",
     "checksum": "6ebe4355752c04b388d23a5606d8a656",
     "grade": false,
     "grade_id": "cell-98b8c1c6d2dedb59",
     "locked": false,
     "schema_version": 3,
     "solution": true,
     "task": false
    },
    "tags": []
   },
   "outputs": [],
   "source": [
    "answer_8b = {1, 3}"
   ]
  },
  {
   "cell_type": "markdown",
   "id": "e4ee4ebe-bb3f-4f6d-b0d9-338f1d2aea12",
   "metadata": {
    "deletable": false,
    "editable": false,
    "nbgrader": {
     "cell_type": "markdown",
     "checksum": "d36aedae984ee9c3fd71be8ffefd7aa5",
     "grade": false,
     "grade_id": "cell-0639b963b4a9a97d",
     "locked": true,
     "schema_version": 3,
     "solution": false,
     "task": false
    },
    "tags": []
   },
   "source": [
    "**_Run the cell under to check the format of your answer(s)_**"
   ]
  },
  {
   "cell_type": "code",
   "execution_count": 48,
   "id": "e6390f09-7470-4458-b784-3fe192dcb306",
   "metadata": {
    "deletable": false,
    "editable": false,
    "nbgrader": {
     "cell_type": "code",
     "checksum": "f796ff031beefc585f9684a55dacca09",
     "grade": true,
     "grade_id": "cell-394302e0ccf69795",
     "locked": true,
     "points": 5,
     "schema_version": 3,
     "solution": false,
     "task": false
    },
    "tags": []
   },
   "outputs": [],
   "source": [
    "assert all (type(i) in [set] for i in [answer_8b]), 'The answer(s) must be a set of values'"
   ]
  }
 ],
 "metadata": {
  "kernelspec": {
   "display_name": "Python 3 (ipykernel)",
   "language": "python",
   "name": "python3"
  },
  "language_info": {
   "codemirror_mode": {
    "name": "ipython",
    "version": 3
   },
   "file_extension": ".py",
   "mimetype": "text/x-python",
   "name": "python",
   "nbconvert_exporter": "python",
   "pygments_lexer": "ipython3",
   "version": "3.11.6"
  }
 },
 "nbformat": 4,
 "nbformat_minor": 5
}
