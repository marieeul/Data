{
 "cells": [
  {
   "cell_type": "markdown",
   "id": "f9c330ff-2ce5-4a8e-9f94-f92b7abf8d03",
   "metadata": {
    "deletable": false,
    "editable": false,
    "nbgrader": {
     "cell_type": "markdown",
     "checksum": "64fbe4b7f0f566f237943433088f603d",
     "grade": false,
     "grade_id": "cell-328eca9b7234c143",
     "locked": true,
     "schema_version": 3,
     "solution": false,
     "task": false
    },
    "tags": []
   },
   "source": [
    "# **Problem Set 1 - Problem A**\n",
    "\n",
    "## **Passing requirements**\n",
    "**All of the following must be satisfied for a passing grade**\n",
    "- Correctly filling in the process diagrams\n",
    "- Correctly set up the A and L matrices and correctly answer the multiple choice questions for interpretation\n",
    "\n",
    "**_Please run the cell below before you start the assignment_**"
   ]
  },
  {
   "cell_type": "code",
   "execution_count": 1,
   "id": "6e3ced07-162b-43a5-b82f-05643a473bc4",
   "metadata": {
    "deletable": false,
    "editable": false,
    "nbgrader": {
     "cell_type": "code",
     "checksum": "06cfa10abbdda55ff0051dc72128d784",
     "grade": false,
     "grade_id": "cell-ac418a461954bffd",
     "locked": true,
     "schema_version": 3,
     "solution": false,
     "task": false
    },
    "tags": []
   },
   "outputs": [],
   "source": [
    "# Import required Python libraries\n",
    "import pandas as pd\n",
    "import numpy as np\n",
    "import matplotlib.pyplot as plt\n",
    "import seaborn as sns"
   ]
  },
  {
   "cell_type": "markdown",
   "id": "745dd9cd-4861-4c84-958f-ae7059a250b1",
   "metadata": {
    "deletable": false,
    "editable": false,
    "nbgrader": {
     "cell_type": "markdown",
     "checksum": "9d1b8e3f85d8fe38f4aeb8180b017c89",
     "grade": false,
     "grade_id": "cell-f2fa7c0ea17a3a6b",
     "locked": true,
     "schema_version": 3,
     "solution": false,
     "task": false
    },
    "tags": []
   },
   "source": [
    "This problem set is an introduction to the use of Python for the LCA assignements. We are using Pandas DataFrames as a way to code matrices and perform calculations. Pandas DataFrames are 2 dimensional data structure with labeled rows (index) and columns. The full Pandas documentation can be found here: https://pandas.pydata.org/docs/\n",
    "\n",
    "The Python functions you might need to use in the assigments throughout the semester are the following:\n",
    "- Read the indices of a DataFrame `df`: `df.index`\n",
    "- Read the columns of a DataFrame `df`: `df.columns`\n",
    "- Fill in a value from an index (row) and column of a DataFrame `df`: `df.loc[index, column] = value`\n",
    "- Replace NaN values by 0 in a DataFrame `df`: `df = df.fillna(0)`\n",
    "- Display a DataFrame `df`: `display(df)`\n",
    "- Concatenate two DataFrames `df1` and `d2`:\n",
    "    - Along the index: `pd.concat([df1, df2], axis = 0)`\n",
    "    - Along the columns: `pd.concat([df1, df2], axis = 1)`\n",
    "- Define an identity matrix `I` of size s: `I = np.identity(s)`\n",
    "- Calculate the determinant of a matrix `M`: `np.linalg.det(M)`\n",
    "- Inverse a DataFrame `df`: `np.linalg.inv(df)` -> /!\\ this returns a `np.array` (numpy array - more here: https://numpy.org/doc/stable/reference/generated/numpy.array.html)\n",
    "- Convert a `np.array` to a DataFrame with specified index and columns: `pd.DataFrame(np.array, index, columns)`\n",
    "- Multiply two DataFrames `df1` and `df2`: `df3 = df1 @ df2`\n",
    "    - `df1` and `df2` should have matching `df1.columns` with `df2.index` for the multiplication to run\n",
    "    - After the multiplication, the index of `df3` are the index of `df1` and the columns of `df3` are the columns of `df2`\n",
    "    - It is therefore necessary to rename index/columns of `df3` to get the correct names\n",
    "- Rename index of a DataFrame `df`: `df = df.rename(index = {initial_index_name : new_index_name})`\n",
    "- Rename column of a DataFrame `df`: `df = df.rename(columns = {initial_column_name : new_column_name})`"
   ]
  },
  {
   "cell_type": "markdown",
   "id": "f4e682d2-2c82-443f-80f3-25313f40abeb",
   "metadata": {
    "deletable": false,
    "editable": false,
    "nbgrader": {
     "cell_type": "markdown",
     "checksum": "c3aa983480a653c1cd8bd7f1cb0faedf",
     "grade": false,
     "grade_id": "cell-ed92bd2202af5f4a",
     "locked": true,
     "schema_version": 3,
     "solution": false,
     "task": false
    },
    "tags": []
   },
   "source": [
    "## **Leontief model**\n",
    "\n",
    "For this problem, we look at only two production processes to illustrate the concept of inter-process connectivity, which are labeled Process A and B."
   ]
  },
  {
   "cell_type": "markdown",
   "id": "2945aab0-d8aa-4257-b9f7-cc9eb6bc04cd",
   "metadata": {
    "deletable": false,
    "editable": false,
    "nbgrader": {
     "cell_type": "markdown",
     "checksum": "1fe1adfc606f2667b6015d2aec4abb26",
     "grade": false,
     "grade_id": "cell-ee1a397ae907e14f",
     "locked": true,
     "schema_version": 3,
     "solution": false,
     "task": false
    },
    "tags": []
   },
   "source": [
    "### **Production process i)** _(40 points)_\n",
    "\n",
    "**Process A requires 0.04 units for its own production process and 0.6 units from Process B, and similarly, Process B requires 0.7 units from Process A and 0.02 units from itself.**\n",
    "\n",
    "#### **1i) Simple process diagram** _(5 points)_\n",
    "\n",
    "The diagram below represents the various inputs and outputs between the two nodes, demonstrating the inter-connectivity. Your task is to assign the inputs and outputs values.\n",
    "\n",
    "<img src=\"files_PS1A_V1_0/ProblemA_diagram.PNG\" width=\"700\">\n",
    "\n",
    "Replace **a**, **b**, **c** and **d** by the inputs and outputs values in the description of Production process i). Define your answers as the variables `answer_1i_a`, `answer_1i_b`, `answer_1i_c` and `answer_1i_d` (e.g. `answer_1i_a = 1` if you think the correct value to replace **a** is 1)."
   ]
  },
  {
   "cell_type": "code",
   "execution_count": 4,
   "id": "5089186d-961d-4c4b-8db2-61e05dfa8a70",
   "metadata": {
    "deletable": false,
    "nbgrader": {
     "cell_type": "code",
     "checksum": "3e15d4f4c081138362eb6d22d57ba5cc",
     "grade": false,
     "grade_id": "cell-892862e95f72609a",
     "locked": false,
     "schema_version": 3,
     "solution": true,
     "task": false
    },
    "tags": []
   },
   "outputs": [],
   "source": [
    "answer_1i_a=0.04\n",
    "answer_1i_b=0.7\n",
    "answer_1i_c=0.02\n",
    "answer_1i_d=0.6"
   ]
  },
  {
   "cell_type": "markdown",
   "id": "b5d34c8f-72f6-48a7-a1e1-d7e785eaaecc",
   "metadata": {
    "deletable": false,
    "editable": false,
    "nbgrader": {
     "cell_type": "markdown",
     "checksum": "0623b3799dd1657d987a8f510089787b",
     "grade": false,
     "grade_id": "cell-50dd508c1b35c93b",
     "locked": true,
     "schema_version": 3,
     "solution": false,
     "task": false
    },
    "tags": []
   },
   "source": [
    "**_Run the cell under to check the format of your answer(s)_**"
   ]
  },
  {
   "cell_type": "code",
   "execution_count": 3,
   "id": "1deb5a01-c585-48f5-bf7d-2cf1c03d6cf6",
   "metadata": {
    "deletable": false,
    "editable": false,
    "nbgrader": {
     "cell_type": "code",
     "checksum": "802076321794db6441c0c268c296cce7",
     "grade": true,
     "grade_id": "cell-222b4610a816bbfe",
     "locked": true,
     "points": 5,
     "schema_version": 3,
     "solution": false,
     "task": false
    },
    "tags": []
   },
   "outputs": [],
   "source": [
    "assert all (type(i) in [float, float, float, float] for i in [answer_1i_a, answer_1i_b, answer_1i_c, answer_1i_d]), 'The answer(s) must be a float'"
   ]
  },
  {
   "cell_type": "markdown",
   "id": "04bbbbf7-3ed7-43a0-b455-a1017373b4ed",
   "metadata": {
    "deletable": false,
    "editable": false,
    "nbgrader": {
     "cell_type": "markdown",
     "checksum": "11ec85a31e7ffc66d801a79bb669f17d",
     "grade": false,
     "grade_id": "cell-96c49bbc8e36f3ed",
     "locked": true,
     "schema_version": 3,
     "solution": false,
     "task": false
    },
    "tags": []
   },
   "source": [
    "#### **2i) A matrix** _(10 points)_"
   ]
  },
  {
   "cell_type": "markdown",
   "id": "04f70055-82b9-43ff-a5d0-1dcff1498479",
   "metadata": {
    "deletable": false,
    "editable": false,
    "nbgrader": {
     "cell_type": "markdown",
     "checksum": "96df7ba13bcd3a678af18bc681a580d0",
     "grade": false,
     "grade_id": "cell-32e7ccc84255ec59",
     "locked": true,
     "schema_version": 3,
     "solution": false,
     "task": false
    },
    "tags": []
   },
   "source": [
    "Your task is to set up the A matrix that is named `A_i`: the DataFrame is created for you, you have to fill it in."
   ]
  },
  {
   "cell_type": "code",
   "execution_count": 2,
   "id": "2804ed18-0a4c-45c1-ae7f-2d8db77d872b",
   "metadata": {
    "deletable": false,
    "editable": false,
    "nbgrader": {
     "cell_type": "code",
     "checksum": "cc82b8f7899479fa9c12bf9c98ddebc1",
     "grade": false,
     "grade_id": "cell-4fde4b72ec0a46fa",
     "locked": true,
     "schema_version": 3,
     "solution": false,
     "task": false
    },
    "tags": []
   },
   "outputs": [],
   "source": [
    "A_i = pd.DataFrame(index = ['A', 'B'], columns = ['A', 'B'], dtype = 'float64')"
   ]
  },
  {
   "cell_type": "markdown",
   "id": "6c646d93-c394-4e39-81d8-113c8b487db6",
   "metadata": {
    "deletable": false,
    "editable": false,
    "nbgrader": {
     "cell_type": "markdown",
     "checksum": "2b59725b71e6c6707135ee37bf624fdd",
     "grade": false,
     "grade_id": "cell-fb4d3c94ef046395",
     "locked": true,
     "schema_version": 3,
     "solution": false,
     "task": false
    },
    "tags": []
   },
   "source": [
    "Fill in `A_i`"
   ]
  },
  {
   "cell_type": "code",
   "execution_count": 5,
   "id": "06cdfa61-ec75-46d3-a03b-76b1e5e7471d",
   "metadata": {
    "deletable": false,
    "nbgrader": {
     "cell_type": "code",
     "checksum": "bb803ae62f26b158380406e5de3a9ee6",
     "grade": false,
     "grade_id": "cell-d3612f000304e1fd",
     "locked": false,
     "schema_version": 3,
     "solution": true,
     "task": false
    },
    "tags": []
   },
   "outputs": [
    {
     "data": {
      "text/html": [
       "<div>\n",
       "<style scoped>\n",
       "    .dataframe tbody tr th:only-of-type {\n",
       "        vertical-align: middle;\n",
       "    }\n",
       "\n",
       "    .dataframe tbody tr th {\n",
       "        vertical-align: top;\n",
       "    }\n",
       "\n",
       "    .dataframe thead th {\n",
       "        text-align: right;\n",
       "    }\n",
       "</style>\n",
       "<table border=\"1\" class=\"dataframe\">\n",
       "  <thead>\n",
       "    <tr style=\"text-align: right;\">\n",
       "      <th></th>\n",
       "      <th>A</th>\n",
       "      <th>B</th>\n",
       "    </tr>\n",
       "  </thead>\n",
       "  <tbody>\n",
       "    <tr>\n",
       "      <th>A</th>\n",
       "      <td>0.04</td>\n",
       "      <td>0.70</td>\n",
       "    </tr>\n",
       "    <tr>\n",
       "      <th>B</th>\n",
       "      <td>0.60</td>\n",
       "      <td>0.02</td>\n",
       "    </tr>\n",
       "  </tbody>\n",
       "</table>\n",
       "</div>"
      ],
      "text/plain": [
       "      A     B\n",
       "A  0.04  0.70\n",
       "B  0.60  0.02"
      ]
     },
     "metadata": {},
     "output_type": "display_data"
    }
   ],
   "source": [
    "A_i.loc['A', 'A'] = answer_1i_a\n",
    "A_i.loc['B', 'A'] = answer_1i_d\n",
    "A_i.loc['A', 'B'] = answer_1i_b\n",
    "A_i.loc['B', 'B'] = answer_1i_c\n",
    "display(A_i)"
   ]
  },
  {
   "cell_type": "markdown",
   "id": "377c5b33-a738-4e4f-8dd0-03c61dbaa172",
   "metadata": {
    "deletable": false,
    "editable": false,
    "nbgrader": {
     "cell_type": "markdown",
     "checksum": "5755ec9ceed9e9e4e62f834bb49ece6c",
     "grade": false,
     "grade_id": "cell-c765929917e32015",
     "locked": true,
     "schema_version": 3,
     "solution": false,
     "task": false
    },
    "tags": []
   },
   "source": [
    "**_Run the cell under to check the format of your answer(s)_**"
   ]
  },
  {
   "cell_type": "code",
   "execution_count": 6,
   "id": "7eccd151-fce9-49c6-a611-9e2425143a30",
   "metadata": {
    "deletable": false,
    "editable": false,
    "nbgrader": {
     "cell_type": "code",
     "checksum": "115188f683e3f70d09ea432ead30bb34",
     "grade": true,
     "grade_id": "cell-a1ba6f373a4b1dc3",
     "locked": true,
     "points": 10,
     "schema_version": 3,
     "solution": false,
     "task": false
    },
    "tags": []
   },
   "outputs": [],
   "source": [
    "assert A_i.isnull().values.any() == False, 'There are still NaN values in the matrix'"
   ]
  },
  {
   "cell_type": "markdown",
   "id": "fab32818-fcdb-4320-9ca5-fcf5588aa6d1",
   "metadata": {
    "deletable": false,
    "editable": false,
    "nbgrader": {
     "cell_type": "markdown",
     "checksum": "6cac63890346147662d336fec1715ac0",
     "grade": false,
     "grade_id": "cell-60fb01e22dabcce0",
     "locked": true,
     "schema_version": 3,
     "solution": false,
     "task": false
    },
    "tags": []
   },
   "source": [
    "#### **3i) I-A** _(5 points)_"
   ]
  },
  {
   "cell_type": "markdown",
   "id": "b287d0dd-50e8-49de-862c-fec956257679",
   "metadata": {
    "deletable": false,
    "editable": false,
    "nbgrader": {
     "cell_type": "markdown",
     "checksum": "cffecce20b1579890ccf3736de743296",
     "grade": false,
     "grade_id": "cell-201d7151bc9d26aa",
     "locked": true,
     "schema_version": 3,
     "solution": false,
     "task": false
    },
    "tags": []
   },
   "source": [
    "Define the identity matrix `I_i` and calculate the determinant `detIA_i` of the matrix (I-A) in the cell under."
   ]
  },
  {
   "cell_type": "code",
   "execution_count": 6,
   "id": "bcade283-1dc9-445a-bdf8-859721fd8dc5",
   "metadata": {
    "deletable": false,
    "nbgrader": {
     "cell_type": "code",
     "checksum": "38fe30ab7977f20a0e24912b902bf124",
     "grade": false,
     "grade_id": "cell-0efb9e1dd1442d01",
     "locked": false,
     "schema_version": 3,
     "solution": true,
     "task": false
    },
    "tags": []
   },
   "outputs": [
    {
     "name": "stdout",
     "output_type": "stream",
     "text": [
      "0.5208\n"
     ]
    }
   ],
   "source": [
    "I_i=np.identity(2)\n",
    "detIA_i=np.linalg.det(I_i-A_i)\n",
    "print(detIA_i)"
   ]
  },
  {
   "cell_type": "markdown",
   "id": "a0fd4cfb-bdcd-4c61-9df8-5558c08012e2",
   "metadata": {
    "deletable": false,
    "editable": false,
    "nbgrader": {
     "cell_type": "markdown",
     "checksum": "e39bd948d9d4a97319e9ece2af9819dc",
     "grade": false,
     "grade_id": "cell-b3420572a97cb9f6",
     "locked": true,
     "schema_version": 3,
     "solution": false,
     "task": false
    },
    "tags": []
   },
   "source": [
    "**_Run the cell under to check the format of your answer(s)_**"
   ]
  },
  {
   "cell_type": "code",
   "execution_count": 8,
   "id": "e06f3d02-c75c-41d7-a017-a0e9a47c343d",
   "metadata": {
    "deletable": false,
    "editable": false,
    "nbgrader": {
     "cell_type": "code",
     "checksum": "6ba2c25cb898b52d2ee9c0d5765c3751",
     "grade": true,
     "grade_id": "cell-64e0a31eefeccb8c",
     "locked": true,
     "points": 3,
     "schema_version": 3,
     "solution": false,
     "task": false
    },
    "tags": []
   },
   "outputs": [],
   "source": [
    "assert type(detIA_i) == np.float64, 'The answer(s) must be numeric'"
   ]
  },
  {
   "cell_type": "markdown",
   "id": "db810c6f-803e-40b8-b9a3-aafd6ccc2b08",
   "metadata": {
    "deletable": false,
    "editable": false,
    "nbgrader": {
     "cell_type": "markdown",
     "checksum": "1c1af7ddda1eac914c1d6d3460e1ed5b",
     "grade": false,
     "grade_id": "cell-8b36a4fec791e09f",
     "locked": true,
     "schema_version": 3,
     "solution": false,
     "task": false
    },
    "tags": []
   },
   "source": [
    "State whether or not the matrix `A_i` is invertible. If the matrix `A_i` is invertible, write `invertible_i = True`. If it is not invertible, write `invertible_i = False`."
   ]
  },
  {
   "cell_type": "code",
   "execution_count": 9,
   "id": "178b51d2-445d-4e74-a8ee-a491eb03dc2d",
   "metadata": {
    "deletable": false,
    "nbgrader": {
     "cell_type": "code",
     "checksum": "465ae6c6caa20942ce3ac6222c30df2e",
     "grade": false,
     "grade_id": "cell-c16a2802c084a020",
     "locked": false,
     "schema_version": 3,
     "solution": true,
     "task": false
    },
    "tags": []
   },
   "outputs": [],
   "source": [
    "invertible_i = True"
   ]
  },
  {
   "cell_type": "markdown",
   "id": "aa6bcc3c-0ce0-4512-8f4a-bf7ebfa182fa",
   "metadata": {
    "deletable": false,
    "editable": false,
    "nbgrader": {
     "cell_type": "markdown",
     "checksum": "14e9945fb1f0fd069f546a12aee13fb4",
     "grade": false,
     "grade_id": "cell-066214b3c4856fae",
     "locked": true,
     "schema_version": 3,
     "solution": false,
     "task": false
    },
    "tags": []
   },
   "source": [
    "**_Run the cell under to check the format of your answer(s)_**"
   ]
  },
  {
   "cell_type": "code",
   "execution_count": 10,
   "id": "da63dd78-f875-4724-a338-fe0fdbd392dc",
   "metadata": {
    "deletable": false,
    "editable": false,
    "nbgrader": {
     "cell_type": "code",
     "checksum": "02322676c80ec18005d7c1dc35f23a4a",
     "grade": true,
     "grade_id": "cell-931051f7b57a3290",
     "locked": true,
     "points": 2,
     "schema_version": 3,
     "solution": false,
     "task": false
    },
    "tags": []
   },
   "outputs": [],
   "source": [
    "assert type(invertible_i) == bool, 'The answer(s) must be True/False'"
   ]
  },
  {
   "cell_type": "markdown",
   "id": "ec24c5ed-a262-403c-b7ca-c4ae5d69b2ce",
   "metadata": {
    "deletable": false,
    "editable": false,
    "nbgrader": {
     "cell_type": "markdown",
     "checksum": "b0b1f8fb23a6cf93f7aee017a63ff5bf",
     "grade": false,
     "grade_id": "cell-b925ea1cca7bcd6c",
     "locked": true,
     "schema_version": 3,
     "solution": false,
     "task": false
    },
    "tags": []
   },
   "source": [
    "#### **4i) Leontief Inverse matrix L** _(10 points)_"
   ]
  },
  {
   "cell_type": "markdown",
   "id": "26c4cb32-0d30-407b-86e4-e3bb573235a3",
   "metadata": {
    "deletable": false,
    "editable": false,
    "nbgrader": {
     "cell_type": "markdown",
     "checksum": "49c48900fa7ce3e0fa111b89115ae007",
     "grade": false,
     "grade_id": "cell-9c94392b22805c44",
     "locked": true,
     "schema_version": 3,
     "solution": false,
     "task": false
    },
    "tags": []
   },
   "source": [
    "Determine the L matrix that you will name `L_i`. Remember that `L_i` must be a Pandas DataFrame."
   ]
  },
  {
   "cell_type": "code",
   "execution_count": 11,
   "id": "a3a143a9-defe-43cc-9e91-b333a57b9a71",
   "metadata": {
    "deletable": false,
    "nbgrader": {
     "cell_type": "code",
     "checksum": "c5752b1e37e91532fa847493e87d61ed",
     "grade": false,
     "grade_id": "cell-be9fdd9f203211ac",
     "locked": false,
     "schema_version": 3,
     "solution": true,
     "task": false
    },
    "tags": []
   },
   "outputs": [
    {
     "name": "stdout",
     "output_type": "stream",
     "text": [
      "          A         B\n",
      "A  1.881720  1.344086\n",
      "B  1.152074  1.843318\n"
     ]
    }
   ],
   "source": [
    "L_i_arr=np.linalg.inv(I_i-A_i)\n",
    "L_i=pd.DataFrame(L_i_arr, index = ['A', 'B'], columns = ['A', 'B'])\n",
    "print(L_i)"
   ]
  },
  {
   "cell_type": "markdown",
   "id": "0a42bbd2-de4f-47d9-9b19-298a81cba5eb",
   "metadata": {
    "deletable": false,
    "editable": false,
    "nbgrader": {
     "cell_type": "markdown",
     "checksum": "7b373536e0e4a1b947c96dbbd970ff12",
     "grade": false,
     "grade_id": "cell-45803d2c6ca18c95",
     "locked": true,
     "schema_version": 3,
     "solution": false,
     "task": false
    },
    "tags": []
   },
   "source": [
    "**_Run the cell under to check the format of your answer(s)_**"
   ]
  },
  {
   "cell_type": "code",
   "execution_count": 12,
   "id": "da9900b7-41c9-45f9-8de0-3183d5dd301c",
   "metadata": {
    "deletable": false,
    "editable": false,
    "nbgrader": {
     "cell_type": "code",
     "checksum": "a3d78f1c979889403aac1a3cb4c20d62",
     "grade": true,
     "grade_id": "cell-e2dc8455244e8a8b",
     "locked": true,
     "points": 10,
     "schema_version": 3,
     "solution": false,
     "task": false
    },
    "tags": []
   },
   "outputs": [],
   "source": [
    "assert (L_i.index == ['A', 'B']).all(), 'The index do not correspond'\n",
    "assert (L_i.columns == ['A', 'B']).all(), 'The columns do not correspond'"
   ]
  },
  {
   "cell_type": "markdown",
   "id": "5ee2126e-c35a-48c7-81f7-e24856d8afa3",
   "metadata": {
    "deletable": false,
    "editable": false,
    "nbgrader": {
     "cell_type": "markdown",
     "checksum": "76ec683244bf29905d3d37643da0578c",
     "grade": false,
     "grade_id": "cell-f576dba84992ed10",
     "locked": true,
     "schema_version": 3,
     "solution": false,
     "task": false
    },
    "tags": []
   },
   "source": [
    "#### **5i) Output vector x** _(10 points)_"
   ]
  },
  {
   "cell_type": "markdown",
   "id": "e8160b7a-0a16-4ade-b14b-e31da67b41a1",
   "metadata": {
    "deletable": false,
    "editable": false,
    "nbgrader": {
     "cell_type": "markdown",
     "checksum": "2b272b2f0544a77fe84472fd97b575cd",
     "grade": false,
     "grade_id": "cell-31049296045ec2f8",
     "locked": true,
     "schema_version": 3,
     "solution": false,
     "task": false
    },
    "tags": []
   },
   "source": [
    "Calculate the output vector x for four cases of the functional unit y matrix."
   ]
  },
  {
   "cell_type": "code",
   "execution_count": 13,
   "id": "a6c24b95-bdd6-4941-a33f-1b46a6e956a4",
   "metadata": {
    "deletable": false,
    "editable": false,
    "nbgrader": {
     "cell_type": "code",
     "checksum": "add434b299a55af0049c15b2b014fc60",
     "grade": false,
     "grade_id": "cell-1a4793abeb3e6990",
     "locked": true,
     "schema_version": 3,
     "solution": false,
     "task": false
    },
    "tags": []
   },
   "outputs": [],
   "source": [
    "y_i_1 = pd.DataFrame([1, 0], columns = ['Final demand'], index = ['A', 'B'])\n",
    "y_i_2 = pd.DataFrame([0, 1], columns = ['Final demand'], index = ['A', 'B'])\n",
    "y_i_3 = pd.DataFrame([1, 1], columns = ['Final demand'], index = ['A', 'B'])\n",
    "y_i_4 = pd.DataFrame([3, 1], columns = ['Final demand'], index = ['A', 'B'])"
   ]
  },
  {
   "cell_type": "markdown",
   "id": "5ceb236b-3bd2-4770-af92-789c57d00006",
   "metadata": {
    "deletable": false,
    "editable": false,
    "nbgrader": {
     "cell_type": "markdown",
     "checksum": "db970319340e694d821417e3ecb8f613",
     "grade": false,
     "grade_id": "cell-79d9aeec408ec291",
     "locked": true,
     "schema_version": 3,
     "solution": false,
     "task": false
    },
    "tags": []
   },
   "source": [
    "Calculate `x_i_1` using `y_i_1`. Rename the column of `x_i_1` as \"Output\"."
   ]
  },
  {
   "cell_type": "code",
   "execution_count": 14,
   "id": "2904bb2b-0ebc-4f73-8375-4e5f87ac765e",
   "metadata": {
    "deletable": false,
    "nbgrader": {
     "cell_type": "code",
     "checksum": "2b0520037287c96c9010787c1599b96b",
     "grade": false,
     "grade_id": "cell-b8dc3797a568b242",
     "locked": false,
     "schema_version": 3,
     "solution": true,
     "task": false
    },
    "tags": []
   },
   "outputs": [
    {
     "name": "stdout",
     "output_type": "stream",
     "text": [
      "     Output\n",
      "A  1.881720\n",
      "B  1.152074\n"
     ]
    },
    {
     "data": {
      "text/html": [
       "<div>\n",
       "<style scoped>\n",
       "    .dataframe tbody tr th:only-of-type {\n",
       "        vertical-align: middle;\n",
       "    }\n",
       "\n",
       "    .dataframe tbody tr th {\n",
       "        vertical-align: top;\n",
       "    }\n",
       "\n",
       "    .dataframe thead th {\n",
       "        text-align: right;\n",
       "    }\n",
       "</style>\n",
       "<table border=\"1\" class=\"dataframe\">\n",
       "  <thead>\n",
       "    <tr style=\"text-align: right;\">\n",
       "      <th></th>\n",
       "      <th>Output</th>\n",
       "    </tr>\n",
       "  </thead>\n",
       "  <tbody>\n",
       "    <tr>\n",
       "      <th>A</th>\n",
       "      <td>1.881720</td>\n",
       "    </tr>\n",
       "    <tr>\n",
       "      <th>B</th>\n",
       "      <td>1.152074</td>\n",
       "    </tr>\n",
       "  </tbody>\n",
       "</table>\n",
       "</div>"
      ],
      "text/plain": [
       "     Output\n",
       "A  1.881720\n",
       "B  1.152074"
      ]
     },
     "metadata": {},
     "output_type": "display_data"
    }
   ],
   "source": [
    "x_i_1=L_i @ y_i_1\n",
    "x_i_1 = x_i_1.rename(columns = {'Final demand' : 'Output'})\n",
    "print(x_i_1)\n",
    "display(x_i_1)"
   ]
  },
  {
   "cell_type": "markdown",
   "id": "eaa970fb-224c-4d14-8254-df3d935637e5",
   "metadata": {
    "deletable": false,
    "editable": false,
    "nbgrader": {
     "cell_type": "markdown",
     "checksum": "b032ba9a90477980bdf7a8bdf3b2f436",
     "grade": false,
     "grade_id": "cell-9cfa671ffc47dd2b",
     "locked": true,
     "schema_version": 3,
     "solution": false,
     "task": false
    },
    "tags": []
   },
   "source": [
    "**_Run the cell under to check the format of your answer(s)_**"
   ]
  },
  {
   "cell_type": "code",
   "execution_count": 15,
   "id": "d3ae05e4-9ab4-4e1e-b8cf-f43baa978499",
   "metadata": {
    "deletable": false,
    "editable": false,
    "nbgrader": {
     "cell_type": "code",
     "checksum": "3186a6096d6c840ffed233547b56e46c",
     "grade": true,
     "grade_id": "cell-7c688f0d2501e9e4",
     "locked": true,
     "points": 2.5,
     "schema_version": 3,
     "solution": false,
     "task": false
    },
    "tags": []
   },
   "outputs": [],
   "source": [
    "assert (x_i_1.columns == ['Output']).all(), 'The columns do not correspond'"
   ]
  },
  {
   "cell_type": "markdown",
   "id": "b3d5d8fe-7074-4327-a088-a6d255163fe2",
   "metadata": {
    "deletable": false,
    "editable": false,
    "nbgrader": {
     "cell_type": "markdown",
     "checksum": "881cb69e65901810823056c118ae10c3",
     "grade": false,
     "grade_id": "cell-f9dc949c32863aa3",
     "locked": true,
     "schema_version": 3,
     "solution": false,
     "task": false
    },
    "tags": []
   },
   "source": [
    "Calculate `x_i_2` using `y_i_2`. Rename the column of `x_i_2` as \"Output\"."
   ]
  },
  {
   "cell_type": "code",
   "execution_count": 16,
   "id": "9511877b-67a4-45a8-a3a1-0fb56009c1e1",
   "metadata": {
    "deletable": false,
    "nbgrader": {
     "cell_type": "code",
     "checksum": "b8392ca91e081919a3232a28c83e9230",
     "grade": false,
     "grade_id": "cell-7cf3f9a181820c88",
     "locked": false,
     "schema_version": 3,
     "solution": true,
     "task": false
    },
    "tags": []
   },
   "outputs": [],
   "source": [
    "x_i_2=L_i @ y_i_2\n",
    "x_i_2 = x_i_2.rename(columns = {'Final demand' : 'Output'})"
   ]
  },
  {
   "cell_type": "markdown",
   "id": "bc7aa219-c01f-4c99-b285-1d105f6e1c62",
   "metadata": {
    "deletable": false,
    "editable": false,
    "nbgrader": {
     "cell_type": "markdown",
     "checksum": "8265eb25494073769a1b0db06b0e9788",
     "grade": false,
     "grade_id": "cell-b1b40af986ba459b",
     "locked": true,
     "schema_version": 3,
     "solution": false,
     "task": false
    },
    "tags": []
   },
   "source": [
    "**_Run the cell under to check the format of your answer(s)_**"
   ]
  },
  {
   "cell_type": "code",
   "execution_count": 17,
   "id": "2bcc62ba-f059-4930-a60f-309ff620d96f",
   "metadata": {
    "deletable": false,
    "editable": false,
    "nbgrader": {
     "cell_type": "code",
     "checksum": "72513a93c570d209a6ff1d0f5ccf8142",
     "grade": true,
     "grade_id": "cell-57d1a4f0dc23ad26",
     "locked": true,
     "points": 2.5,
     "schema_version": 3,
     "solution": false,
     "task": false
    },
    "tags": []
   },
   "outputs": [],
   "source": [
    "assert (x_i_2.columns == ['Output']).all(), 'The columns do not correspond'"
   ]
  },
  {
   "cell_type": "markdown",
   "id": "54b2dbeb-dd12-4c35-ad8a-e05b9a117494",
   "metadata": {
    "deletable": false,
    "editable": false,
    "nbgrader": {
     "cell_type": "markdown",
     "checksum": "6434b3da3a01fe5b49bdadf2b4f8ba14",
     "grade": false,
     "grade_id": "cell-08aef06a5157dc91",
     "locked": true,
     "schema_version": 3,
     "solution": false,
     "task": false
    },
    "tags": []
   },
   "source": [
    "Calculate `x_i_3` using `y_i_3`. Rename the column of `x_i_3` as \"Output\"."
   ]
  },
  {
   "cell_type": "code",
   "execution_count": 18,
   "id": "b43b0503-38f9-4460-93fa-c5a366523f7d",
   "metadata": {
    "deletable": false,
    "nbgrader": {
     "cell_type": "code",
     "checksum": "5adee60a6df988cb4967f152b6289bb9",
     "grade": false,
     "grade_id": "cell-3d5acbefa3233f84",
     "locked": false,
     "schema_version": 3,
     "solution": true,
     "task": false
    },
    "tags": []
   },
   "outputs": [],
   "source": [
    "x_i_3=L_i @ y_i_3\n",
    "x_i_3 = x_i_3.rename(columns = {'Final demand' : 'Output'})"
   ]
  },
  {
   "cell_type": "markdown",
   "id": "2041f576-b9e3-4269-aa76-69979569a8ac",
   "metadata": {
    "deletable": false,
    "editable": false,
    "nbgrader": {
     "cell_type": "markdown",
     "checksum": "2b16c97691d8cf8a83cba0698807d6ba",
     "grade": false,
     "grade_id": "cell-0a9f9c90d4509c52",
     "locked": true,
     "schema_version": 3,
     "solution": false,
     "task": false
    },
    "tags": []
   },
   "source": [
    "**_Run the cell under to check the format of your answer(s)_**"
   ]
  },
  {
   "cell_type": "code",
   "execution_count": 19,
   "id": "d5bc10fb-c33c-4748-9a81-31c71a02d3fc",
   "metadata": {
    "deletable": false,
    "editable": false,
    "nbgrader": {
     "cell_type": "code",
     "checksum": "c9d4a9db8b57fae64608f7391834ee98",
     "grade": true,
     "grade_id": "cell-210444b95e4fb4b5",
     "locked": true,
     "points": 2.5,
     "schema_version": 3,
     "solution": false,
     "task": false
    },
    "tags": []
   },
   "outputs": [],
   "source": [
    "assert (x_i_3.columns == ['Output']).all(), 'The columns do not correspond'"
   ]
  },
  {
   "cell_type": "markdown",
   "id": "20944a5c-19ac-4db5-b115-ce966bff8d55",
   "metadata": {
    "deletable": false,
    "editable": false,
    "nbgrader": {
     "cell_type": "markdown",
     "checksum": "f73c8beb57d5240ceeba873fbcc1a8d4",
     "grade": false,
     "grade_id": "cell-82c9364297b261f6",
     "locked": true,
     "schema_version": 3,
     "solution": false,
     "task": false
    },
    "tags": []
   },
   "source": [
    "Calculate `x_i_4` using `y_i_4`. Rename the column of `x_i_4` as \"Output\"."
   ]
  },
  {
   "cell_type": "code",
   "execution_count": 20,
   "id": "244735ac-4f18-45e2-b052-593b127bf422",
   "metadata": {
    "deletable": false,
    "nbgrader": {
     "cell_type": "code",
     "checksum": "75fa6ca088b6d3cd48367ae1de1534b3",
     "grade": false,
     "grade_id": "cell-f85686ebc589f3df",
     "locked": false,
     "schema_version": 3,
     "solution": true,
     "task": false
    },
    "tags": []
   },
   "outputs": [],
   "source": [
    "x_i_4=L_i @ y_i_4\n",
    "x_i_4 = x_i_4.rename(columns = {'Final demand' : 'Output'})"
   ]
  },
  {
   "cell_type": "markdown",
   "id": "0d635888-25da-49bd-b2aa-f792e5aad3a2",
   "metadata": {
    "deletable": false,
    "editable": false,
    "nbgrader": {
     "cell_type": "markdown",
     "checksum": "989e58f888c66ae0d0d2eec5e43a697d",
     "grade": false,
     "grade_id": "cell-25350747529f4c89",
     "locked": true,
     "schema_version": 3,
     "solution": false,
     "task": false
    },
    "tags": []
   },
   "source": [
    "**_Run the cell under to check the format of your answer(s)_**"
   ]
  },
  {
   "cell_type": "code",
   "execution_count": 21,
   "id": "255c0ea6-8498-418a-a888-978c8fa31a60",
   "metadata": {
    "deletable": false,
    "editable": false,
    "nbgrader": {
     "cell_type": "code",
     "checksum": "060b1892d3515af76c288d1286dfb4a4",
     "grade": true,
     "grade_id": "cell-9fc77f25911e147e",
     "locked": true,
     "points": 2.5,
     "schema_version": 3,
     "solution": false,
     "task": false
    },
    "tags": []
   },
   "outputs": [],
   "source": [
    "assert (x_i_4.columns == ['Output']).all(), 'The columns do not correspond'"
   ]
  },
  {
   "cell_type": "markdown",
   "id": "b1cc5241-ca0a-469c-9d12-029fe8b43464",
   "metadata": {
    "deletable": false,
    "editable": false,
    "nbgrader": {
     "cell_type": "markdown",
     "checksum": "240db02ce216743945543492acd2ca28",
     "grade": false,
     "grade_id": "cell-08ecbed7327a3bd2",
     "locked": true,
     "schema_version": 3,
     "solution": false,
     "task": false
    },
    "tags": []
   },
   "source": [
    "### **Production process ii)** _(40 points)_\n",
    "\n",
    "**Process A requires 0.15 units for its own production process and 0.4 unit from Process B, and similarly, Process B requires 0.35 from Process A and 0.09 from itself.**\n",
    "\n",
    "#### **1ii) Simple process diagram** _(5 points)_\n",
    "\n",
    "The diagram below represents the various inputs and outputs between the two nodes, demonstrating the inter-connectivity. Your task is to assign the inputs and outputs values.\n",
    "\n",
    "<img src=\"files_PS1A_V1_0/ProblemA_diagram.PNG\" width=\"700\">\n",
    "\n",
    "Replace **a**, **b**, **c** and **d** by the inputs and outputs values in the description of Production process ii). Define your answers as the variables `answer_1ii_a`, `answer_1ii_b`, `answer_1ii_c` and `answer_1ii_d` (e.g. `answer_1ii_a = 1` if you think the correct value to replace **a** is 1)."
   ]
  },
  {
   "cell_type": "code",
   "execution_count": 22,
   "id": "02e318c8-ddf6-46fe-a0db-bd709a7f6a7d",
   "metadata": {
    "deletable": false,
    "nbgrader": {
     "cell_type": "code",
     "checksum": "88884c11ba3c05058a254d0ecfcb55f9",
     "grade": false,
     "grade_id": "cell-e86e49d5693381c7",
     "locked": false,
     "schema_version": 3,
     "solution": true,
     "task": false
    },
    "tags": []
   },
   "outputs": [],
   "source": [
    "answer_1ii_a = 0.15\n",
    "answer_1ii_b = 0.35\n",
    "answer_1ii_c = 0.09\n",
    "answer_1ii_d = 0.4"
   ]
  },
  {
   "cell_type": "markdown",
   "id": "01fd87ac-fe2e-4ad7-a2dc-d17b03ead40f",
   "metadata": {
    "deletable": false,
    "editable": false,
    "nbgrader": {
     "cell_type": "markdown",
     "checksum": "0203f8d8db48dd6b65205fb81c913992",
     "grade": false,
     "grade_id": "cell-c3f9509d54a2adf8",
     "locked": true,
     "schema_version": 3,
     "solution": false,
     "task": false
    },
    "tags": []
   },
   "source": [
    "**_Run the cell under to check the format of your answer(s)_**"
   ]
  },
  {
   "cell_type": "code",
   "execution_count": 23,
   "id": "c8f0b83b-67fd-421c-b649-c764c09a771d",
   "metadata": {
    "deletable": false,
    "editable": false,
    "nbgrader": {
     "cell_type": "code",
     "checksum": "ba51017c99312f078705e071d1e027ba",
     "grade": true,
     "grade_id": "cell-92b4325ec60d7fba",
     "locked": true,
     "points": 5,
     "schema_version": 3,
     "solution": false,
     "task": false
    },
    "tags": []
   },
   "outputs": [],
   "source": [
    "assert all (type(i) in [float, float, float, float] for i in [answer_1ii_a, answer_1ii_b, answer_1ii_c, answer_1ii_d]), 'The answer(s) must be a float'"
   ]
  },
  {
   "cell_type": "markdown",
   "id": "64d0c584-7e31-40b5-9db4-5c3f052c8d8b",
   "metadata": {
    "deletable": false,
    "editable": false,
    "nbgrader": {
     "cell_type": "markdown",
     "checksum": "d599e4474e1d4cd57c7d80eade798c9e",
     "grade": false,
     "grade_id": "cell-cbb675aa7059f84b",
     "locked": true,
     "schema_version": 3,
     "solution": false,
     "task": false
    },
    "tags": []
   },
   "source": [
    "#### **2ii) A matrix** _(10 points)_"
   ]
  },
  {
   "cell_type": "markdown",
   "id": "5918a354-bc09-43ad-90a2-b643b5ea591a",
   "metadata": {
    "deletable": false,
    "editable": false,
    "nbgrader": {
     "cell_type": "markdown",
     "checksum": "39cf48c6df03a9f3d7a52037557c0769",
     "grade": false,
     "grade_id": "cell-52a5281e37275707",
     "locked": true,
     "schema_version": 3,
     "solution": false,
     "task": false
    },
    "tags": []
   },
   "source": [
    "Your task is to set up the A matrix that is named `A_ii`: the DataFrame is created for you, you have to fill it in."
   ]
  },
  {
   "cell_type": "code",
   "execution_count": 24,
   "id": "7523eef0-7157-4bdf-bc30-1fe611b84c9f",
   "metadata": {
    "deletable": false,
    "editable": false,
    "nbgrader": {
     "cell_type": "code",
     "checksum": "f0a6ed9f9e22c293045d4c17577e50a2",
     "grade": false,
     "grade_id": "cell-63c513510d0ba588",
     "locked": true,
     "schema_version": 3,
     "solution": false,
     "task": false
    },
    "tags": []
   },
   "outputs": [],
   "source": [
    "A_ii = pd.DataFrame(index = ['A', 'B'], columns = ['A', 'B'], dtype = 'float64')"
   ]
  },
  {
   "cell_type": "markdown",
   "id": "84829f65-7480-43e3-aba6-53458e842cb1",
   "metadata": {
    "deletable": false,
    "editable": false,
    "nbgrader": {
     "cell_type": "markdown",
     "checksum": "f7d67de2b35556b8721ebcbf3a354dba",
     "grade": false,
     "grade_id": "cell-3b0f6d539bd7e6f1",
     "locked": true,
     "schema_version": 3,
     "solution": false,
     "task": false
    },
    "tags": []
   },
   "source": [
    "Fill in `A_ii`"
   ]
  },
  {
   "cell_type": "code",
   "execution_count": 25,
   "id": "28742589-8414-44d8-86f4-9c40f08ad59b",
   "metadata": {
    "deletable": false,
    "nbgrader": {
     "cell_type": "code",
     "checksum": "a6dbdba427a44e14f129b9c1e0f107da",
     "grade": false,
     "grade_id": "cell-d04ba704f39a57d2",
     "locked": false,
     "schema_version": 3,
     "solution": true,
     "task": false
    },
    "tags": []
   },
   "outputs": [],
   "source": [
    "A_ii.loc['A', 'A'] = answer_1ii_a\n",
    "A_ii.loc['B', 'A'] = answer_1ii_d\n",
    "A_ii.loc['A', 'B'] = answer_1ii_b\n",
    "A_ii.loc['B', 'B'] = answer_1ii_c"
   ]
  },
  {
   "cell_type": "markdown",
   "id": "be1d62e4-1bbf-47ec-bc50-18c783b81f9d",
   "metadata": {
    "deletable": false,
    "editable": false,
    "nbgrader": {
     "cell_type": "markdown",
     "checksum": "ab19a10cb1bbae92311b1b20dc318b83",
     "grade": false,
     "grade_id": "cell-e22192f7e1fa30b6",
     "locked": true,
     "schema_version": 3,
     "solution": false,
     "task": false
    },
    "tags": []
   },
   "source": [
    "**_Run the cell under to check the format of your answer(s)_**"
   ]
  },
  {
   "cell_type": "code",
   "execution_count": 26,
   "id": "e5ff3ca3-5bc2-40e0-bd26-a3aa2c12626d",
   "metadata": {
    "deletable": false,
    "editable": false,
    "nbgrader": {
     "cell_type": "code",
     "checksum": "86be951fa0800bd457b3bb0a5487707d",
     "grade": true,
     "grade_id": "cell-866a3b576554772a",
     "locked": true,
     "points": 10,
     "schema_version": 3,
     "solution": false,
     "task": false
    },
    "tags": []
   },
   "outputs": [],
   "source": [
    "assert A_ii.isnull().values.any() == False, 'There are still NaN values in the matrix'"
   ]
  },
  {
   "cell_type": "markdown",
   "id": "8176f8b1-29d0-4ea0-87e5-305f8328ff4e",
   "metadata": {
    "deletable": false,
    "editable": false,
    "nbgrader": {
     "cell_type": "markdown",
     "checksum": "cce27682abc7a431bf9e3d8460055f48",
     "grade": false,
     "grade_id": "cell-74d9d1525c604a0a",
     "locked": true,
     "schema_version": 3,
     "solution": false,
     "task": false
    },
    "tags": []
   },
   "source": [
    "#### **3ii) I-A** _(5 points)_"
   ]
  },
  {
   "cell_type": "markdown",
   "id": "8ed6cad4-8cec-48bd-9ed8-31d686794f2c",
   "metadata": {
    "deletable": false,
    "editable": false,
    "nbgrader": {
     "cell_type": "markdown",
     "checksum": "288d9e3b2f4f0e42679ea43313c2073a",
     "grade": false,
     "grade_id": "cell-44182eed909ca1c5",
     "locked": true,
     "schema_version": 3,
     "solution": false,
     "task": false
    },
    "tags": []
   },
   "source": [
    "Define the identity matrix `I_ii` and calculate the determinant `detIA_ii` of the matrix (I-A) in the cell under."
   ]
  },
  {
   "cell_type": "code",
   "execution_count": 30,
   "id": "331fe156-d37d-4a3e-8a0c-e5185d17b5da",
   "metadata": {
    "deletable": false,
    "nbgrader": {
     "cell_type": "code",
     "checksum": "8817ef85e16a51a5b2870eebbf73e1b9",
     "grade": false,
     "grade_id": "cell-579aa3a13886f786",
     "locked": false,
     "schema_version": 3,
     "solution": true,
     "task": false
    },
    "tags": []
   },
   "outputs": [
    {
     "name": "stdout",
     "output_type": "stream",
     "text": [
      "0.6335000000000001\n"
     ]
    }
   ],
   "source": [
    "I_ii=np.identity(2)\n",
    "detIA_ii=np.linalg.det(I_ii-A_ii)\n",
    "print(detIA_ii)"
   ]
  },
  {
   "cell_type": "markdown",
   "id": "2acd5735-e332-4f58-a0b3-60b0c0a24037",
   "metadata": {
    "deletable": false,
    "editable": false,
    "nbgrader": {
     "cell_type": "markdown",
     "checksum": "9d5c4bf3ab015cdb9818ac630e9c57da",
     "grade": false,
     "grade_id": "cell-277648dc76c8d2f4",
     "locked": true,
     "schema_version": 3,
     "solution": false,
     "task": false
    },
    "tags": []
   },
   "source": [
    "**_Run the cell under to check the format of your answer(s)_**"
   ]
  },
  {
   "cell_type": "code",
   "execution_count": 28,
   "id": "e7aeee80-187b-429d-af06-5e7eacab44bb",
   "metadata": {
    "deletable": false,
    "editable": false,
    "nbgrader": {
     "cell_type": "code",
     "checksum": "7ce124e437f8382b34cb2837c8cf47c1",
     "grade": true,
     "grade_id": "cell-5f436974f98d79f3",
     "locked": true,
     "points": 3,
     "schema_version": 3,
     "solution": false,
     "task": false
    },
    "tags": []
   },
   "outputs": [],
   "source": [
    "assert type(detIA_ii) == np.float64, 'The answer(s) must be numeric'"
   ]
  },
  {
   "cell_type": "markdown",
   "id": "af0a11b9-2952-4130-bcf9-65de83571f30",
   "metadata": {
    "deletable": false,
    "editable": false,
    "nbgrader": {
     "cell_type": "markdown",
     "checksum": "579b44ba741dcf8697dbedd66b9a5329",
     "grade": false,
     "grade_id": "cell-2f79be80e9e31d05",
     "locked": true,
     "schema_version": 3,
     "solution": false,
     "task": false
    },
    "tags": []
   },
   "source": [
    "State whether or not the matrix `A_ii` is invertible. If the matrix `A_ii` is invertible, write `invertible_ii = True`. If it is not invertible, write `invertible_ii = False`."
   ]
  },
  {
   "cell_type": "code",
   "execution_count": 31,
   "id": "cecceb66-c659-42e1-9936-3e39d95cd097",
   "metadata": {
    "deletable": false,
    "nbgrader": {
     "cell_type": "code",
     "checksum": "cce54b8d83cbfc884fcc0e9475d9a9fb",
     "grade": false,
     "grade_id": "cell-5440d9da3724e373",
     "locked": false,
     "schema_version": 3,
     "solution": true,
     "task": false
    },
    "tags": []
   },
   "outputs": [],
   "source": [
    "invertible_ii = True"
   ]
  },
  {
   "cell_type": "markdown",
   "id": "c99965da-b492-4aa8-9332-b85689bdf3e8",
   "metadata": {
    "deletable": false,
    "editable": false,
    "nbgrader": {
     "cell_type": "markdown",
     "checksum": "6537117b205fd7fa713a6cf7a13c0ccd",
     "grade": false,
     "grade_id": "cell-5334d4d27f7478fe",
     "locked": true,
     "schema_version": 3,
     "solution": false,
     "task": false
    },
    "tags": []
   },
   "source": [
    "**_Run the cell under to check the format of your answer(s)_**"
   ]
  },
  {
   "cell_type": "code",
   "execution_count": 32,
   "id": "b558331d-5881-4aa9-9974-79bfc1c5821c",
   "metadata": {
    "deletable": false,
    "editable": false,
    "nbgrader": {
     "cell_type": "code",
     "checksum": "d27327e5ebf9ca1fbc773b1da4eef801",
     "grade": true,
     "grade_id": "cell-b85d253bac8928f6",
     "locked": true,
     "points": 2,
     "schema_version": 3,
     "solution": false,
     "task": false
    },
    "tags": []
   },
   "outputs": [],
   "source": [
    "assert type(invertible_ii) == bool, 'The answer(s) must be True/False'"
   ]
  },
  {
   "cell_type": "markdown",
   "id": "d72623bc-9323-4f61-890b-8c4237783908",
   "metadata": {
    "deletable": false,
    "editable": false,
    "nbgrader": {
     "cell_type": "markdown",
     "checksum": "b9861c6773fcffe9970f2cf098640d7b",
     "grade": false,
     "grade_id": "cell-90309ebcb482b6b5",
     "locked": true,
     "schema_version": 3,
     "solution": false,
     "task": false
    },
    "tags": []
   },
   "source": [
    "#### **4ii) Leontief Inverse matrix L** _(10 points)_"
   ]
  },
  {
   "cell_type": "markdown",
   "id": "c5f2c1d7-f92b-451b-8b22-09b1ed9a2963",
   "metadata": {
    "deletable": false,
    "editable": false,
    "nbgrader": {
     "cell_type": "markdown",
     "checksum": "f981aec7c5518957827832717bf981de",
     "grade": false,
     "grade_id": "cell-35bd210e039d151d",
     "locked": true,
     "schema_version": 3,
     "solution": false,
     "task": false
    },
    "tags": []
   },
   "source": [
    "Determine the L matrix that you will name `L_ii`. Remember that `L_ii` must be a Pandas DataFrame."
   ]
  },
  {
   "cell_type": "code",
   "execution_count": 35,
   "id": "2d6160fe-7a03-43b4-9b87-cc371028bf6f",
   "metadata": {
    "deletable": false,
    "nbgrader": {
     "cell_type": "code",
     "checksum": "3d216862a8de5c0531fa6ada40792e49",
     "grade": false,
     "grade_id": "cell-81995f155fcff389",
     "locked": false,
     "schema_version": 3,
     "solution": true,
     "task": false
    },
    "tags": []
   },
   "outputs": [
    {
     "data": {
      "text/html": [
       "<div>\n",
       "<style scoped>\n",
       "    .dataframe tbody tr th:only-of-type {\n",
       "        vertical-align: middle;\n",
       "    }\n",
       "\n",
       "    .dataframe tbody tr th {\n",
       "        vertical-align: top;\n",
       "    }\n",
       "\n",
       "    .dataframe thead th {\n",
       "        text-align: right;\n",
       "    }\n",
       "</style>\n",
       "<table border=\"1\" class=\"dataframe\">\n",
       "  <thead>\n",
       "    <tr style=\"text-align: right;\">\n",
       "      <th></th>\n",
       "      <th>A</th>\n",
       "      <th>B</th>\n",
       "    </tr>\n",
       "  </thead>\n",
       "  <tbody>\n",
       "    <tr>\n",
       "      <th>A</th>\n",
       "      <td>1.436464</td>\n",
       "      <td>0.552486</td>\n",
       "    </tr>\n",
       "    <tr>\n",
       "      <th>B</th>\n",
       "      <td>0.631413</td>\n",
       "      <td>1.341752</td>\n",
       "    </tr>\n",
       "  </tbody>\n",
       "</table>\n",
       "</div>"
      ],
      "text/plain": [
       "          A         B\n",
       "A  1.436464  0.552486\n",
       "B  0.631413  1.341752"
      ]
     },
     "metadata": {},
     "output_type": "display_data"
    }
   ],
   "source": [
    "L_ii_arr=np.linalg.inv(I_ii-A_ii)\n",
    "L_ii=pd.DataFrame(L_ii_arr, index = ['A', 'B'], columns = ['A', 'B'])\n",
    "display(L_ii)"
   ]
  },
  {
   "cell_type": "markdown",
   "id": "3fe45e52-c1be-4e4c-a370-d80faf139970",
   "metadata": {
    "deletable": false,
    "editable": false,
    "nbgrader": {
     "cell_type": "markdown",
     "checksum": "1f24939998bb1cb02349dcd836676db7",
     "grade": false,
     "grade_id": "cell-9c957286db657615",
     "locked": true,
     "schema_version": 3,
     "solution": false,
     "task": false
    },
    "tags": []
   },
   "source": [
    "**_Run the cell under to check the format of your answer(s)_**"
   ]
  },
  {
   "cell_type": "code",
   "execution_count": 36,
   "id": "cf5d4788-284b-4864-a2d5-2f5c7c3c4062",
   "metadata": {
    "deletable": false,
    "editable": false,
    "nbgrader": {
     "cell_type": "code",
     "checksum": "c7fe91aec514345bb0de645c6698ba04",
     "grade": true,
     "grade_id": "cell-ce978bdd7149be1e",
     "locked": true,
     "points": 10,
     "schema_version": 3,
     "solution": false,
     "task": false
    },
    "tags": []
   },
   "outputs": [],
   "source": [
    "assert (L_ii.index == ['A', 'B']).all(), 'The index do not correspond'\n",
    "assert (L_ii.columns == ['A', 'B']).all(), 'The columns do not correspond'"
   ]
  },
  {
   "cell_type": "markdown",
   "id": "04069efe-14a8-47de-91f3-5555d70b66bf",
   "metadata": {
    "deletable": false,
    "editable": false,
    "nbgrader": {
     "cell_type": "markdown",
     "checksum": "0991e8db36b33b539db442f5878e63e4",
     "grade": false,
     "grade_id": "cell-7577cc7c58ad1b42",
     "locked": true,
     "schema_version": 3,
     "solution": false,
     "task": false
    },
    "tags": []
   },
   "source": [
    "#### **5ii) Output vector x** _(10 points)_"
   ]
  },
  {
   "cell_type": "markdown",
   "id": "cece4751-1a3c-4055-832a-6b7f3b22b96c",
   "metadata": {
    "deletable": false,
    "editable": false,
    "nbgrader": {
     "cell_type": "markdown",
     "checksum": "5bad71816e792d8370aa1fc694dda04f",
     "grade": false,
     "grade_id": "cell-9dd6a360d2a064c7",
     "locked": true,
     "schema_version": 3,
     "solution": false,
     "task": false
    },
    "tags": []
   },
   "source": [
    "Calculate the output vector x for four cases of the functional unit y matrix."
   ]
  },
  {
   "cell_type": "code",
   "execution_count": 37,
   "id": "50db09d2-abde-4e32-aeba-a033ba7451e7",
   "metadata": {
    "deletable": false,
    "editable": false,
    "nbgrader": {
     "cell_type": "code",
     "checksum": "540b37f170cc292440c590c033aa5be1",
     "grade": false,
     "grade_id": "cell-441b00b4cb7fda87",
     "locked": true,
     "schema_version": 3,
     "solution": false,
     "task": false
    },
    "tags": []
   },
   "outputs": [],
   "source": [
    "y_ii_1 = pd.DataFrame([1, 0], columns = ['Final demand'], index = ['A', 'B'])\n",
    "y_ii_2 = pd.DataFrame([0, 1], columns = ['Final demand'], index = ['A', 'B'])\n",
    "y_ii_3 = pd.DataFrame([1, 1], columns = ['Final demand'], index = ['A', 'B'])\n",
    "y_ii_4 = pd.DataFrame([3, 1], columns = ['Final demand'], index = ['A', 'B'])"
   ]
  },
  {
   "cell_type": "markdown",
   "id": "17b77651-3ed4-44a5-a7a6-85f4b93145a6",
   "metadata": {
    "deletable": false,
    "editable": false,
    "nbgrader": {
     "cell_type": "markdown",
     "checksum": "e2e207ad1ca812bc8500f5244c98c5ad",
     "grade": false,
     "grade_id": "cell-822c9e294662da1f",
     "locked": true,
     "schema_version": 3,
     "solution": false,
     "task": false
    },
    "tags": []
   },
   "source": [
    "Calculate `x_ii_1` using `y_ii_1`. Rename the column of `x_ii_1` as \"Output\"."
   ]
  },
  {
   "cell_type": "code",
   "execution_count": 38,
   "id": "f9d5f997-bb3f-4734-80e5-180c0002db04",
   "metadata": {
    "deletable": false,
    "nbgrader": {
     "cell_type": "code",
     "checksum": "7c4523ff860f83eab50d01cbc07527f4",
     "grade": false,
     "grade_id": "cell-296e543889ead99a",
     "locked": false,
     "schema_version": 3,
     "solution": true,
     "task": false
    },
    "tags": []
   },
   "outputs": [],
   "source": [
    "x_ii_1=L_ii @ y_ii_1\n",
    "x_ii_1 = x_ii_1.rename(columns = {'Final demand' : 'Output'})"
   ]
  },
  {
   "cell_type": "markdown",
   "id": "285f74ee-b95e-4296-8e3e-adb26f3293cc",
   "metadata": {
    "deletable": false,
    "editable": false,
    "nbgrader": {
     "cell_type": "markdown",
     "checksum": "fb1ffca9528bf9cf9a6309fcf3898ad0",
     "grade": false,
     "grade_id": "cell-bd80230990fc8639",
     "locked": true,
     "schema_version": 3,
     "solution": false,
     "task": false
    },
    "tags": []
   },
   "source": [
    "**_Run the cell under to check the format of your answer(s)_**"
   ]
  },
  {
   "cell_type": "code",
   "execution_count": 39,
   "id": "a0b1955d-e3c5-4fde-943f-886f6c0a8a36",
   "metadata": {
    "deletable": false,
    "editable": false,
    "nbgrader": {
     "cell_type": "code",
     "checksum": "dadaabc2d1da897b8c08cb4cb63d0761",
     "grade": true,
     "grade_id": "cell-9067afca8d9f163a",
     "locked": true,
     "points": 2.5,
     "schema_version": 3,
     "solution": false,
     "task": false
    },
    "tags": []
   },
   "outputs": [],
   "source": [
    "assert (x_ii_1.columns == ['Output']).all(), 'The columns do not correspond'"
   ]
  },
  {
   "cell_type": "markdown",
   "id": "40b2a4df-1dcc-483e-b028-39155425a771",
   "metadata": {
    "deletable": false,
    "editable": false,
    "nbgrader": {
     "cell_type": "markdown",
     "checksum": "0ec3180477940ba3fe19b98e35ccf642",
     "grade": false,
     "grade_id": "cell-42e480c18e2e7852",
     "locked": true,
     "schema_version": 3,
     "solution": false,
     "task": false
    },
    "tags": []
   },
   "source": [
    "Calculate `x_ii_2` using `y_ii_2`. Rename the column of `x_ii_2` as \"Output\"."
   ]
  },
  {
   "cell_type": "code",
   "execution_count": 40,
   "id": "eb9b3032-3ef9-4092-aac6-7d044b4fbab8",
   "metadata": {
    "deletable": false,
    "nbgrader": {
     "cell_type": "code",
     "checksum": "34c1dcca51ebb822ad87ab207ce00e26",
     "grade": false,
     "grade_id": "cell-04ad58efdb0ec2be",
     "locked": false,
     "schema_version": 3,
     "solution": true,
     "task": false
    },
    "tags": []
   },
   "outputs": [],
   "source": [
    "x_ii_2=L_ii @ y_ii_2\n",
    "x_ii_2 = x_ii_2.rename(columns = {'Final demand' : 'Output'})"
   ]
  },
  {
   "cell_type": "markdown",
   "id": "5a22f210-79a0-4f05-8f37-a3b59c7264bf",
   "metadata": {
    "deletable": false,
    "editable": false,
    "nbgrader": {
     "cell_type": "markdown",
     "checksum": "6cfc59d2467e28331c7e2c8265a3ec79",
     "grade": false,
     "grade_id": "cell-27bec8ff0f61412a",
     "locked": true,
     "schema_version": 3,
     "solution": false,
     "task": false
    },
    "tags": []
   },
   "source": [
    "**_Run the cell under to check the format of your answer(s)_**"
   ]
  },
  {
   "cell_type": "code",
   "execution_count": 41,
   "id": "c28990f0-9927-4375-9f0d-034c27735cc6",
   "metadata": {
    "deletable": false,
    "editable": false,
    "nbgrader": {
     "cell_type": "code",
     "checksum": "7cd37e5d4848c0954dca778de4e10c5f",
     "grade": true,
     "grade_id": "cell-9688282055172993",
     "locked": true,
     "points": 2.5,
     "schema_version": 3,
     "solution": false,
     "task": false
    },
    "tags": []
   },
   "outputs": [],
   "source": [
    "assert (x_ii_2.columns == ['Output']).all(), 'The columns do not correspond'"
   ]
  },
  {
   "cell_type": "markdown",
   "id": "8901f126-1d03-46c7-8dbc-2dd01384e3e7",
   "metadata": {
    "deletable": false,
    "editable": false,
    "nbgrader": {
     "cell_type": "markdown",
     "checksum": "49bbe4917aa9bbbc1a489db22ed61a0d",
     "grade": false,
     "grade_id": "cell-3f804e27d4ba9f89",
     "locked": true,
     "schema_version": 3,
     "solution": false,
     "task": false
    },
    "tags": []
   },
   "source": [
    "Calculate `x_ii_3` using `y_ii_3`. Rename the column of `x_ii_3` as \"Output\"."
   ]
  },
  {
   "cell_type": "code",
   "execution_count": 42,
   "id": "aa841aca-24a0-4ea5-877a-8e6b341edede",
   "metadata": {
    "deletable": false,
    "nbgrader": {
     "cell_type": "code",
     "checksum": "57ba854c8b2c1d91d5557f0dcf53c70e",
     "grade": false,
     "grade_id": "cell-9526697f05ebd929",
     "locked": false,
     "schema_version": 3,
     "solution": true,
     "task": false
    },
    "tags": []
   },
   "outputs": [],
   "source": [
    "x_ii_3=L_ii @ y_ii_3\n",
    "x_ii_3 = x_ii_3.rename(columns = {'Final demand' : 'Output'})"
   ]
  },
  {
   "cell_type": "markdown",
   "id": "42df9215-02d8-4f06-870c-79f2852bc869",
   "metadata": {
    "deletable": false,
    "editable": false,
    "nbgrader": {
     "cell_type": "markdown",
     "checksum": "ba1c81fbfe253a6340bd1cd20a914922",
     "grade": false,
     "grade_id": "cell-b557159a49cca6ee",
     "locked": true,
     "schema_version": 3,
     "solution": false,
     "task": false
    },
    "tags": []
   },
   "source": [
    "**_Run the cell under to check the format of your answer(s)_**"
   ]
  },
  {
   "cell_type": "code",
   "execution_count": 43,
   "id": "267feb06-df31-4167-bfd0-974746507cbc",
   "metadata": {
    "deletable": false,
    "editable": false,
    "nbgrader": {
     "cell_type": "code",
     "checksum": "5fd2184ee471a4dc2aae7c42a5a58685",
     "grade": true,
     "grade_id": "cell-ac8495f71bd874bf",
     "locked": true,
     "points": 2.5,
     "schema_version": 3,
     "solution": false,
     "task": false
    },
    "tags": []
   },
   "outputs": [],
   "source": [
    "assert (x_ii_3.columns == ['Output']).all(), 'The columns do not correspond'"
   ]
  },
  {
   "cell_type": "markdown",
   "id": "720236c5-8628-49a4-9a37-91b1e4f561aa",
   "metadata": {
    "deletable": false,
    "editable": false,
    "nbgrader": {
     "cell_type": "markdown",
     "checksum": "c354920b601c25a73f0456614d600d20",
     "grade": false,
     "grade_id": "cell-b93b27b2056fc839",
     "locked": true,
     "schema_version": 3,
     "solution": false,
     "task": false
    },
    "tags": []
   },
   "source": [
    "Calculate `x_ii_4` usingr `y_ii_4`. Rename the column of `x_ii_4` as \"Output\". "
   ]
  },
  {
   "cell_type": "code",
   "execution_count": 44,
   "id": "633c50c4-0481-406a-a8c2-1e850a222f0b",
   "metadata": {
    "deletable": false,
    "nbgrader": {
     "cell_type": "code",
     "checksum": "1a819de080c1721845dbc0a5a92c2c45",
     "grade": false,
     "grade_id": "cell-3102cf4928eded73",
     "locked": false,
     "schema_version": 3,
     "solution": true,
     "task": false
    },
    "tags": []
   },
   "outputs": [],
   "source": [
    "x_ii_4=L_ii @ y_ii_4\n",
    "x_ii_4 = x_ii_4.rename(columns = {'Final demand' : 'Output'})"
   ]
  },
  {
   "cell_type": "markdown",
   "id": "8a506a38-1c8d-42df-bfb5-22ee4a53d01f",
   "metadata": {
    "deletable": false,
    "editable": false,
    "nbgrader": {
     "cell_type": "markdown",
     "checksum": "c8b49204da6e96a9b680d33bd79e3c63",
     "grade": false,
     "grade_id": "cell-f64a7b6e82834fe5",
     "locked": true,
     "schema_version": 3,
     "solution": false,
     "task": false
    },
    "tags": []
   },
   "source": [
    "**_Run the cell under to check the format of your answer(s)_**"
   ]
  },
  {
   "cell_type": "code",
   "execution_count": 45,
   "id": "5eacda39-730f-4085-ba2d-14140bea083f",
   "metadata": {
    "deletable": false,
    "editable": false,
    "nbgrader": {
     "cell_type": "code",
     "checksum": "447354c3b7d653ababc4bb97b27b7b13",
     "grade": true,
     "grade_id": "cell-ab317f84507ab0a7",
     "locked": true,
     "points": 2.5,
     "schema_version": 3,
     "solution": false,
     "task": false
    },
    "tags": []
   },
   "outputs": [],
   "source": [
    "assert (x_ii_4.columns == ['Output']).all(), 'The columns do not correspond'"
   ]
  },
  {
   "cell_type": "markdown",
   "id": "6e65a03c-6015-42ab-9f7f-c07d06c2f8b5",
   "metadata": {
    "deletable": false,
    "editable": false,
    "nbgrader": {
     "cell_type": "markdown",
     "checksum": "a7f92bc6e68fba4a21d9ca69dac4b454",
     "grade": false,
     "grade_id": "cell-e3a677d31d8cfd2d",
     "locked": true,
     "schema_version": 3,
     "solution": false,
     "task": false
    },
    "tags": []
   },
   "source": [
    "### **Interpretation questions** _(20 points)_"
   ]
  },
  {
   "cell_type": "markdown",
   "id": "94bc4562-4bbf-4ddb-8616-802f323f0c19",
   "metadata": {
    "deletable": false,
    "editable": false,
    "nbgrader": {
     "cell_type": "markdown",
     "checksum": "acc9b3a4a8cd2a80b10bc27081b331c3",
     "grade": false,
     "grade_id": "cell-2e060c28f7ddecb1",
     "locked": true,
     "schema_version": 3,
     "solution": false,
     "task": false
    },
    "tags": []
   },
   "source": [
    "#### **6a)** _(5 points)_ Which one(s) of these statement(s) is/are correct?\n",
    "\n",
    "1. The first column of A is the \"cooking recipe\" of product A.\n",
    "2. The second column of A is the \"cooking recipe\" of product B.\n",
    "3. The first row of A is the \"cooking recipe\" of product A.\n",
    "4. The second row of A is the \"cooking recipe\" of product B.\n",
    " \n",
    "Define your answer as the variable `answer_6a` (e.g. `answer_6a = {1}` if you think the correct statement is statement {1} and `answer_6a = {1, 2}` if you think the correct statements are statements {1, 2})."
   ]
  },
  {
   "cell_type": "code",
   "execution_count": 47,
   "id": "b17dd96d-d2af-4f34-992a-e96aa2f3a7cc",
   "metadata": {
    "deletable": false,
    "nbgrader": {
     "cell_type": "code",
     "checksum": "28a5723bda3d6922b7019f6d05bb1c20",
     "grade": false,
     "grade_id": "cell-0994745c9af8acb6",
     "locked": false,
     "schema_version": 3,
     "solution": true,
     "task": false
    },
    "tags": []
   },
   "outputs": [],
   "source": [
    "answer_6a = {1}"
   ]
  },
  {
   "cell_type": "markdown",
   "id": "88bcf3c6-45d2-465b-8918-762800c0ab76",
   "metadata": {
    "deletable": false,
    "editable": false,
    "nbgrader": {
     "cell_type": "markdown",
     "checksum": "c1b6031c2dfa627a37675c4cd64ba90d",
     "grade": false,
     "grade_id": "cell-9e56215a85ca868a",
     "locked": true,
     "schema_version": 3,
     "solution": false,
     "task": false
    },
    "tags": []
   },
   "source": [
    "**_Run the cell under to check the format of your answer(s)_**"
   ]
  },
  {
   "cell_type": "code",
   "execution_count": 48,
   "id": "d97a409e-0578-4a53-a388-a039e598762c",
   "metadata": {
    "deletable": false,
    "editable": false,
    "nbgrader": {
     "cell_type": "code",
     "checksum": "0b99aad32084f1b86d7ca7c69c48dd47",
     "grade": true,
     "grade_id": "cell-fd8c79fd13a14458",
     "locked": true,
     "points": 5,
     "schema_version": 3,
     "solution": false,
     "task": false
    },
    "tags": []
   },
   "outputs": [],
   "source": [
    "assert all (type(i) in [set] for i in [answer_6a]), 'The answer(s) must be a set of values'"
   ]
  },
  {
   "cell_type": "markdown",
   "id": "2df14ca7-b19a-4ba4-93bb-e0f286697dba",
   "metadata": {
    "deletable": false,
    "editable": false,
    "nbgrader": {
     "cell_type": "markdown",
     "checksum": "2f95b864f3bff349e407041dded0ec9a",
     "grade": false,
     "grade_id": "cell-457f420441b5dcef",
     "locked": true,
     "schema_version": 3,
     "solution": false,
     "task": false
    },
    "tags": []
   },
   "source": [
    "#### **6b)** _(5 points)_ Which one(s) of these statement(s) is/are correct?\n",
    "\n",
    "For a matrix A with coefficients aij (i = row, j = column):\n",
    "1. aii = requirement from process i to produce 1 unit of process i\n",
    "2. aij = requirement from process j to produce 1 unit of process i\n",
    "3. aij = requirement from process i to produce 1 unit of process j\n",
    "\n",
    "Define your answer as the variable `answer_6b` (e.g. `answer_6b = {1}` if you think the correct statement is statement {1} and `answer_6b = {1, 2}` if you think the correct statements are statements {1, 2})."
   ]
  },
  {
   "cell_type": "code",
   "execution_count": 49,
   "id": "b121b0b7-faa5-41df-afac-449040b626d5",
   "metadata": {
    "deletable": false,
    "nbgrader": {
     "cell_type": "code",
     "checksum": "6f9ca70aad73955a0e020270ee868953",
     "grade": false,
     "grade_id": "cell-daa96a6a959f868b",
     "locked": false,
     "schema_version": 3,
     "solution": true,
     "task": false
    },
    "tags": []
   },
   "outputs": [],
   "source": [
    "answer_6b = {1, 3}"
   ]
  },
  {
   "cell_type": "markdown",
   "id": "df0c23d5-2856-4112-9f39-7f66c54749d7",
   "metadata": {
    "deletable": false,
    "editable": false,
    "nbgrader": {
     "cell_type": "markdown",
     "checksum": "2a53920fd1f1ce7da35f14cfeeb43f83",
     "grade": false,
     "grade_id": "cell-a01e963beb1d2e70",
     "locked": true,
     "schema_version": 3,
     "solution": false,
     "task": false
    },
    "tags": []
   },
   "source": [
    "**_Run the cell under to check the format of your answer(s)_**"
   ]
  },
  {
   "cell_type": "code",
   "execution_count": 50,
   "id": "2cfdda2a-e735-4663-a9d5-32990dec3e76",
   "metadata": {
    "deletable": false,
    "editable": false,
    "nbgrader": {
     "cell_type": "code",
     "checksum": "36dacb84bda16ce77bf8d415182fa3a1",
     "grade": true,
     "grade_id": "cell-bf55529e43f5f19f",
     "locked": true,
     "points": 5,
     "schema_version": 3,
     "solution": false,
     "task": false
    },
    "tags": []
   },
   "outputs": [],
   "source": [
    "assert all (type(i) in [set] for i in [answer_6b]), 'The answer(s) must be a set of values'"
   ]
  },
  {
   "cell_type": "markdown",
   "id": "da5b29b7-e026-4c12-ba18-a7ab11d767ce",
   "metadata": {
    "deletable": false,
    "editable": false,
    "nbgrader": {
     "cell_type": "markdown",
     "checksum": "f47bd3d3e2d3b999dfd2c4afe1e3113c",
     "grade": false,
     "grade_id": "cell-ce881501ad603961",
     "locked": true,
     "schema_version": 3,
     "solution": false,
     "task": false
    },
    "tags": []
   },
   "source": [
    "#### **6c)** _(5 points)_ Which one(s) of these statement(s) is/are correct?\n",
    "\n",
    "det(I-A):\n",
    "1. Tells us if the matrix (I-A) is invertible when it is != 0\n",
    "2. Tells us if the system contains self-sustaining processes when it is > 0\n",
    "3. Tells us if the system satisfies the Hawkins-Simon condition when it is > 0\n",
    "\n",
    "Define your answer as the variable `answer_6c` (e.g. `answer_6c = {1}` if you think the correct statement is statement {1} and `answer_6c = {1, 2}` if you think the correct statements are statements {1, 2})."
   ]
  },
  {
   "cell_type": "code",
   "execution_count": 53,
   "id": "94fc7cdd-4e54-490d-a0e8-3c8d593d8b17",
   "metadata": {
    "deletable": false,
    "nbgrader": {
     "cell_type": "code",
     "checksum": "a91fe0713e650110bf8cc920dc07aed1",
     "grade": false,
     "grade_id": "cell-fa740b8874a45df5",
     "locked": false,
     "schema_version": 3,
     "solution": true,
     "task": false
    },
    "tags": []
   },
   "outputs": [],
   "source": [
    "answer_6c = {1}"
   ]
  },
  {
   "cell_type": "markdown",
   "id": "aa48ba0a-6a97-4d04-9f0a-6c61086fb4b2",
   "metadata": {
    "deletable": false,
    "editable": false,
    "nbgrader": {
     "cell_type": "markdown",
     "checksum": "6ac9562a02a2e44ce347b489390e21ef",
     "grade": false,
     "grade_id": "cell-c492853fe16bded7",
     "locked": true,
     "schema_version": 3,
     "solution": false,
     "task": false
    },
    "tags": []
   },
   "source": [
    "**_Run the cell under to check the format of your answer(s)_**"
   ]
  },
  {
   "cell_type": "code",
   "execution_count": 55,
   "id": "5f79e234-3f0f-4fd3-af5a-f0820a6dd459",
   "metadata": {
    "deletable": false,
    "editable": false,
    "nbgrader": {
     "cell_type": "code",
     "checksum": "8d8e8178ab9d6c16dbb8d3e57fb48825",
     "grade": true,
     "grade_id": "cell-05c4582c5e998bf8",
     "locked": true,
     "points": 5,
     "schema_version": 3,
     "solution": false,
     "task": false
    },
    "tags": []
   },
   "outputs": [],
   "source": [
    "assert all (type(i) in [set] for i in [answer_6c]), 'The answer(s) must be a set of values'"
   ]
  },
  {
   "cell_type": "markdown",
   "id": "9d84c20a-f53f-47e1-878e-e61867622a25",
   "metadata": {
    "deletable": false,
    "editable": false,
    "nbgrader": {
     "cell_type": "markdown",
     "checksum": "ee933d2fdf2b5e86908a828f52bde294",
     "grade": false,
     "grade_id": "cell-54197da181fa025f",
     "locked": true,
     "schema_version": 3,
     "solution": false,
     "task": false
    },
    "tags": []
   },
   "source": [
    "#### **6d)** _(5 points)_ Which one(s) of these statement(s) is/are correct?\n",
    "\n",
    "1. The columns of L represent the total output per unit final demand of a given process. \n",
    "2. When there is only one unit of final demand of a given process, we see that only the row of L that represents the process requirements for the process shows up in the x vector.\n",
    "3. lij is the total output from process j that is required to produce a unit final demand of process i.\n",
    "4. lij is the total output from process i that is required to produce a unit final demand of process j.\n",
    "\n",
    "Define your answer as the variable `answer_6d` (e.g. `answer_6d = {1}` if you think the correct statement is statement {1} and `answer_6d = {1, 2}` if you think the correct statements are statements {1, 2})."
   ]
  },
  {
   "cell_type": "code",
   "execution_count": 51,
   "id": "277b2e5b-7e73-413a-afc4-26ce6c7883f5",
   "metadata": {
    "deletable": false,
    "nbgrader": {
     "cell_type": "code",
     "checksum": "e18b02ee137f73bdbd61c81bcbd97139",
     "grade": false,
     "grade_id": "cell-6bc2dc8e57e242c2",
     "locked": false,
     "schema_version": 3,
     "solution": true,
     "task": false
    },
    "tags": []
   },
   "outputs": [],
   "source": [
    "answer_6d = {1, 4}"
   ]
  },
  {
   "cell_type": "markdown",
   "id": "860b4111-0386-48ea-9e04-13a2a520f9cf",
   "metadata": {
    "deletable": false,
    "editable": false,
    "nbgrader": {
     "cell_type": "markdown",
     "checksum": "066737880a4189733be8b3c7487aea87",
     "grade": false,
     "grade_id": "cell-85740d52497fae22",
     "locked": true,
     "schema_version": 3,
     "solution": false,
     "task": false
    },
    "tags": []
   },
   "source": [
    "**_Run the cell under to check the format of your answer(s)_**"
   ]
  },
  {
   "cell_type": "code",
   "execution_count": 52,
   "id": "3410835f-340a-4a84-bc68-771aa1637bf9",
   "metadata": {
    "deletable": false,
    "editable": false,
    "nbgrader": {
     "cell_type": "code",
     "checksum": "f96f1877b1ef606d7fc83e588fa1767c",
     "grade": true,
     "grade_id": "cell-5dad984158ba0da9",
     "locked": true,
     "points": 5,
     "schema_version": 3,
     "solution": false,
     "task": false
    },
    "tags": []
   },
   "outputs": [],
   "source": [
    "assert all (type(i) in [set] for i in [answer_6d]), 'The answer(s) must be a set of values'"
   ]
  }
 ],
 "metadata": {
  "kernelspec": {
   "display_name": "Python 3 (ipykernel)",
   "language": "python",
   "name": "python3"
  },
  "language_info": {
   "codemirror_mode": {
    "name": "ipython",
    "version": 3
   },
   "file_extension": ".py",
   "mimetype": "text/x-python",
   "name": "python",
   "nbconvert_exporter": "python",
   "pygments_lexer": "ipython3",
   "version": "3.11.6"
  }
 },
 "nbformat": 4,
 "nbformat_minor": 5
}
