{
 "cells": [
  {
   "cell_type": "markdown",
   "id": "a42340c2-d9c9-4ccf-87d1-6e304d6498b2",
   "metadata": {
    "deletable": false,
    "editable": false,
    "nbgrader": {
     "cell_type": "markdown",
     "checksum": "1ea55c1cf161d4224307e7f4831042ab",
     "grade": false,
     "grade_id": "cell-83616c7b65da7da6",
     "locked": true,
     "schema_version": 3,
     "solution": false,
     "task": false
    },
    "tags": []
   },
   "source": [
    "# **Problem Set 10**"
   ]
  },
  {
   "cell_type": "markdown",
   "id": "772c4fa8-411c-45aa-93e8-82c8f39e5b39",
   "metadata": {
    "deletable": false,
    "editable": false,
    "nbgrader": {
     "cell_type": "markdown",
     "checksum": "c6f62e4500c8d5cc506d9534101c34d3",
     "grade": false,
     "grade_id": "cell-cd7c3f0864d82aa4",
     "locked": true,
     "schema_version": 3,
     "solution": false,
     "task": false
    },
    "tags": []
   },
   "source": [
    "## **Tasks**\n",
    "- Assembling A and S matrices\n",
    "- Calculating d\n",
    "- Grouping the different processes by life cycle stage\n",
    "- Reading an SPA\n",
    "- Answering the multiple choice questions\n",
    "\n",
    "## **Passing requirement**\n",
    "- **At least 80 points**\n",
    "\n",
    "**_Please run the cell below before you start the assignment_**"
   ]
  },
  {
   "cell_type": "code",
   "execution_count": 1,
   "id": "4634a631-bb12-4e78-91c7-e4bb1af43394",
   "metadata": {
    "deletable": false,
    "editable": false,
    "nbgrader": {
     "cell_type": "code",
     "checksum": "f5ecb5cae0ba723452ded67336b4fa4a",
     "grade": false,
     "grade_id": "cell-c957cf50ae347504",
     "locked": true,
     "schema_version": 3,
     "solution": false,
     "task": false
    },
    "tags": []
   },
   "outputs": [],
   "source": [
    "# Import required Python libraries\n",
    "import pandas as pd\n",
    "import numpy as np\n",
    "import matplotlib.pyplot as plt\n",
    "import seaborn as sns\n",
    "\n",
    "# Folder for the files\n",
    "files_folder = \"files_PS10_V3_0/\"\n",
    "\n",
    "### In case formulas are entered in the csv files & correcting the datatypes\n",
    "def convert_formulas(matrix):\n",
    "    for row in matrix.index:\n",
    "        for column in matrix.columns:\n",
    "            if type(matrix.loc[row, column]) == str:\n",
    "                if \" \" in matrix.loc[row, column]:\n",
    "                    matrix.loc[row, column] = matrix.loc[row, column].lstrip(' ')\n",
    "                if \"=\" in matrix.loc[row, column]:\n",
    "                    matrix.loc[row, column] = matrix.loc[row, column].lstrip('=')\n",
    "                matrix.loc[row, column] = pd.eval(matrix.loc[row, column])\n",
    "    ### Get the data types right in the DataFrames\n",
    "    s = matrix.select_dtypes(include='object').columns\n",
    "    matrix[s] = matrix[s].astype(\"float64\")\n",
    "    return matrix"
   ]
  },
  {
   "cell_type": "markdown",
   "id": "801fd3f4-f4a4-49b9-85c1-658fbf651da8",
   "metadata": {
    "deletable": false,
    "editable": false,
    "nbgrader": {
     "cell_type": "markdown",
     "checksum": "5ed5c8bc11d4fea0005e643b6b851909",
     "grade": false,
     "grade_id": "cell-625780f4b1210152",
     "locked": true,
     "schema_version": 3,
     "solution": false,
     "task": false
    },
    "tags": []
   },
   "source": [
    "_**Disclaimer**: Mainstream LCA assessments normally use commercial LCI databases, such as Ecoinvent, for their background systems. These databases are, as the name indicates, commercial in nature and are as such not open access. We are therefore using an open-access mixed-unit version of EXIOBASE. This is an Input-Output database (IOT). So for your applications, you will in principle be using an IO-Hybrid LCA model rather than a conventional process-based LCA model. Have a look at [DOI: 10.5281/zenodo.7244918] and [DIO: 10.5281/zenodo.3583070] if you are interested in more details about the dataset you will be using. Please though note, that this dataset is only intended for training purposes in this course, so if you are planning to do project or thesis work on LCA, consult your supervisor to get access to suitable databases for your purpose._"
   ]
  },
  {
   "cell_type": "markdown",
   "id": "e561cefe-1824-4f6d-b9a1-705fa532c50a",
   "metadata": {
    "deletable": false,
    "editable": false,
    "nbgrader": {
     "cell_type": "markdown",
     "checksum": "069b2051e01fab35e1f29b315ccc5ee8",
     "grade": false,
     "grade_id": "cell-94a30f825af74b80",
     "locked": true,
     "schema_version": 3,
     "solution": false,
     "task": false
    },
    "tags": []
   },
   "source": [
    "## **LCA of Conventional and Electric Vehicles**\n",
    "\n",
    "In this problem set you will compile a simplified life cycle inventory for:\n",
    "1. An internal combustion engine vehicle powered by diesel (ICEV D)\n",
    "2. An internal combustion engine vehicle powered by gasoline (ICEV G)\n",
    "3. A fully battery powered vehicle (EV Li-NCM). The inventory provided for the battery is a proxy of a 50 kWh battery.\n",
    "\n",
    "Then you will assess the environmental impact of these and run scenarios."
   ]
  },
  {
   "cell_type": "markdown",
   "id": "5f7ebd71-9e48-4a07-b115-8163c39ada0d",
   "metadata": {
    "deletable": false,
    "editable": false,
    "nbgrader": {
     "cell_type": "markdown",
     "checksum": "cab2bd83ef0766d8b25c2ba4ad645627",
     "grade": false,
     "grade_id": "cell-8246f6408e21f8a0",
     "locked": true,
     "schema_version": 3,
     "solution": false,
     "task": false
    },
    "tags": []
   },
   "source": [
    "## **1. Data preparation** _(10 points)_"
   ]
  },
  {
   "cell_type": "markdown",
   "id": "686bc5a6-f016-416b-8230-2098e2f8e640",
   "metadata": {
    "deletable": false,
    "editable": false,
    "nbgrader": {
     "cell_type": "markdown",
     "checksum": "63ef0369dd35d0610d05ce9722b912d8",
     "grade": false,
     "grade_id": "cell-f98e5d8a66d7d3da",
     "locked": true,
     "schema_version": 3,
     "solution": false,
     "task": false
    },
    "tags": []
   },
   "source": [
    "Run the cell below to import `Aff`, `Abf`, `Afb` and `Abb` as Pandas DataFrames."
   ]
  },
  {
   "cell_type": "code",
   "execution_count": 2,
   "id": "97fe8934-c754-4196-93a4-024e518430ef",
   "metadata": {
    "deletable": false,
    "editable": false,
    "nbgrader": {
     "cell_type": "code",
     "checksum": "def15b961e4ad4cf433289362b915ab3",
     "grade": false,
     "grade_id": "cell-95568860b100d672",
     "locked": true,
     "schema_version": 3,
     "solution": false,
     "task": false
    },
    "tags": []
   },
   "outputs": [],
   "source": [
    "Aff = convert_formulas(pd.read_csv(files_folder + 'Aff.csv', sep = ',', index_col = [0]))\n",
    "Abf = convert_formulas(pd.read_csv(files_folder + 'Abf.csv', sep = ',', index_col = [0]))\n",
    "Afb = convert_formulas(pd.read_csv(files_folder + 'Afb.csv', sep = ',', index_col = [0]))\n",
    "Abb = convert_formulas(pd.read_csv(files_folder + 'Abb.csv', sep = ',', index_col = [0]))"
   ]
  },
  {
   "cell_type": "markdown",
   "id": "c718132a-2cfe-4837-9258-4ca80eb04472",
   "metadata": {
    "deletable": false,
    "editable": false,
    "nbgrader": {
     "cell_type": "markdown",
     "checksum": "063817d275cc844bdaa65d4783801ac9",
     "grade": false,
     "grade_id": "cell-b9f1feb45808d67f",
     "locked": true,
     "schema_version": 3,
     "solution": false,
     "task": false
    },
    "tags": []
   },
   "source": [
    "Run the cell below to get the `C` matrix."
   ]
  },
  {
   "cell_type": "code",
   "execution_count": 3,
   "id": "0c460b17-e602-4901-863a-53ec7ef3db4e",
   "metadata": {
    "deletable": false,
    "editable": false,
    "nbgrader": {
     "cell_type": "code",
     "checksum": "c96a765927ec468cddd60669485ed028",
     "grade": false,
     "grade_id": "cell-939e8adbc375980a",
     "locked": true,
     "schema_version": 3,
     "solution": false,
     "task": false
    },
    "tags": []
   },
   "outputs": [],
   "source": [
    "C = pd.read_csv(files_folder + 'C.csv', sep = ',', index_col = [0])"
   ]
  },
  {
   "cell_type": "markdown",
   "id": "366e707d-6c26-4bca-8fcc-5c8911b802eb",
   "metadata": {
    "deletable": false,
    "editable": false,
    "nbgrader": {
     "cell_type": "markdown",
     "checksum": "f97680c3329957956628d332207d1e45",
     "grade": false,
     "grade_id": "cell-584c7646d41400a7",
     "locked": true,
     "schema_version": 3,
     "solution": false,
     "task": false
    },
    "tags": []
   },
   "source": [
    "Run the cell below to get the `Sb` matrix."
   ]
  },
  {
   "cell_type": "code",
   "execution_count": 4,
   "id": "004d2237-474f-4bc3-9f2a-a9346e3eee80",
   "metadata": {
    "deletable": false,
    "editable": false,
    "nbgrader": {
     "cell_type": "code",
     "checksum": "dc4646f56ec440b00eac6f2f9f01e901",
     "grade": false,
     "grade_id": "cell-34340e16abc50518",
     "locked": true,
     "schema_version": 3,
     "solution": false,
     "task": false
    },
    "tags": []
   },
   "outputs": [],
   "source": [
    "Sb = pd.read_csv(files_folder + 'Sb.csv', sep = ',', index_col = [0])"
   ]
  },
  {
   "cell_type": "markdown",
   "id": "c46a69c5-af61-4f66-812b-f1ca9008bb0d",
   "metadata": {
    "deletable": false,
    "editable": false,
    "nbgrader": {
     "cell_type": "markdown",
     "checksum": "77c03e6e0e9716d365de90d87fbc210b",
     "grade": false,
     "grade_id": "cell-25cc65c39d6aadd4",
     "locked": true,
     "schema_version": 3,
     "solution": false,
     "task": false
    },
    "tags": []
   },
   "source": [
    "Define `Sf` and build the entire `S` matrix.\n",
    "\n",
    "Hint: Use the file **Direct_stressors_list_PS10.csv** and the function `fill_in_Sf_from_table(Sf, table)` which is given to transform data from a one column table to the matrix `Sf`. You also have to pre-define an empty `Sf` as it is one of the inputs needed by the function."
   ]
  },
  {
   "cell_type": "code",
   "execution_count": 5,
   "id": "9360d0a8-630e-4a5f-86aa-ee513633dce2",
   "metadata": {
    "deletable": false,
    "editable": false,
    "nbgrader": {
     "cell_type": "code",
     "checksum": "897d600f3871530feac5c7918d0c5ab6",
     "grade": false,
     "grade_id": "cell-6e7eba0de0723643",
     "locked": true,
     "schema_version": 3,
     "solution": false,
     "task": false
    },
    "tags": []
   },
   "outputs": [],
   "source": [
    "def fill_in_Sf_from_table(Sf, table):\n",
    "    for i in Sf.index:\n",
    "        for j in Sf.columns:\n",
    "            if table[(table['Stressor'] == i) & (table['Foreground process'] == j)]['Value'].empty == False:\n",
    "                Sf.loc[i, j] = table[(table['Stressor'] == i) & (table['Foreground process'] == j)]['Value'].values[0]\n",
    "    return Sf\n",
    "\n",
    "### This is importing the table\n",
    "Sf_list = pd.read_csv(files_folder + 'Direct_stressors_list_PS10.csv')"
   ]
  },
  {
   "cell_type": "code",
   "execution_count": 6,
   "id": "4af95329-76d7-46a3-8929-d0c4c199b152",
   "metadata": {
    "deletable": false,
    "nbgrader": {
     "cell_type": "code",
     "checksum": "5173257f11d6bc7432ed1f0645ffba47",
     "grade": false,
     "grade_id": "cell-a51a25b7a75bbcef",
     "locked": false,
     "schema_version": 3,
     "solution": true,
     "task": false
    },
    "tags": []
   },
   "outputs": [],
   "source": [
    "Sf = pd.DataFrame(index=Sb.index, columns=Aff.columns)\n",
    "Sf = fill_in_Sf_from_table(Sf, Sf_list)\n",
    "#display(Sf)\n",
    "Sf = Sf.fillna(0)\n",
    "Sb = Sb.fillna(0)\n",
    "S = pd.concat([Sf, Sb], axis = 1)\n",
    "S = S.fillna(0)"
   ]
  },
  {
   "cell_type": "markdown",
   "id": "36540877-be0c-46c3-9aaf-eeeeeadfdd06",
   "metadata": {
    "deletable": false,
    "editable": false,
    "nbgrader": {
     "cell_type": "markdown",
     "checksum": "a6d30d409d5478b11d685379d5311021",
     "grade": false,
     "grade_id": "cell-eaa889dbecca48ac",
     "locked": true,
     "schema_version": 3,
     "solution": false,
     "task": false
    },
    "tags": []
   },
   "source": [
    "**_Run the cell under to check the format of your answer(s)_**"
   ]
  },
  {
   "cell_type": "code",
   "execution_count": 7,
   "id": "50348ef8-2d51-44f1-b904-bdea9068e1d3",
   "metadata": {
    "deletable": false,
    "editable": false,
    "nbgrader": {
     "cell_type": "code",
     "checksum": "c9fbfdd6ef8296edeea618a2401ed4e3",
     "grade": true,
     "grade_id": "cell-9a2755faa479f3dd",
     "locked": true,
     "points": 10,
     "schema_version": 3,
     "solution": false,
     "task": false
    },
    "tags": []
   },
   "outputs": [],
   "source": [
    "assert S.isnull().values.any() == False, 'There are still NaN values in the matrix'\n",
    "assert (S.index == Sb.index).all(), 'The index do not correspond'\n",
    "assert (S.columns == list(Aff.columns) + list(Abb.columns)).all(), 'The columns do not correspond'"
   ]
  },
  {
   "cell_type": "markdown",
   "id": "28426f0d-8f37-490c-a956-b7eba30c3b88",
   "metadata": {
    "deletable": false,
    "editable": false,
    "nbgrader": {
     "cell_type": "markdown",
     "checksum": "4c9c27055a5bf51aa5025936a698e99d",
     "grade": false,
     "grade_id": "cell-77bbd187d0c2d14b",
     "locked": true,
     "schema_version": 3,
     "solution": false,
     "task": false
    },
    "tags": []
   },
   "source": [
    "## **2. Total life cycle impacts for the two conventional vehicles and the electric vehicle (EV) powered by natural gas** _(25 points)_"
   ]
  },
  {
   "cell_type": "markdown",
   "id": "b6d2bb97-4168-4cc7-989f-e96c53969dbc",
   "metadata": {
    "deletable": false,
    "editable": false,
    "nbgrader": {
     "cell_type": "markdown",
     "checksum": "caf3ce576781e23c8545a66b2dce7b7d",
     "grade": false,
     "grade_id": "cell-d75eb20b73b70be0",
     "locked": true,
     "schema_version": 3,
     "solution": false,
     "task": false
    },
    "tags": []
   },
   "source": [
    "#### **2a)** _(5 points)_ Fill in `Aff`"
   ]
  },
  {
   "cell_type": "markdown",
   "id": "492885ac-b9c3-4027-bb63-525be1e36c91",
   "metadata": {
    "deletable": false,
    "editable": false,
    "nbgrader": {
     "cell_type": "markdown",
     "checksum": "c62e12131495e044cbe5632db9bb68d9",
     "grade": false,
     "grade_id": "cell-b17ec206d594bff9",
     "locked": true,
     "schema_version": 3,
     "solution": false,
     "task": false
    },
    "tags": []
   },
   "source": [
    "`Aff` is incomplete (operation phase (in km) of the three vehicles is missing) and you have to fill it in using the following information: all components are defined for 1 lifetime of the vehicle i.e. 180000 km. \n",
    "\n",
    "The \"EV Li-NCM,\" \"ICEV D,\" and \"ICEV G\" have the units \"vehicle\" and represent entire vehicles."
   ]
  },
  {
   "cell_type": "code",
   "execution_count": 8,
   "id": "75c3e028-d5c4-4082-9652-2a3eaacb8ded",
   "metadata": {
    "deletable": false,
    "nbgrader": {
     "cell_type": "code",
     "checksum": "05f03c13919a6c97717eaeeec274c36b",
     "grade": false,
     "grade_id": "cell-59154e1a0b5c3272",
     "locked": false,
     "schema_version": 3,
     "solution": true,
     "task": false
    },
    "tags": []
   },
   "outputs": [
    {
     "data": {
      "text/html": [
       "<div>\n",
       "<style scoped>\n",
       "    .dataframe tbody tr th:only-of-type {\n",
       "        vertical-align: middle;\n",
       "    }\n",
       "\n",
       "    .dataframe tbody tr th {\n",
       "        vertical-align: top;\n",
       "    }\n",
       "\n",
       "    .dataframe thead th {\n",
       "        text-align: right;\n",
       "    }\n",
       "</style>\n",
       "<table border=\"1\" class=\"dataframe\">\n",
       "  <thead>\n",
       "    <tr style=\"text-align: right;\">\n",
       "      <th></th>\n",
       "      <th>EV Li-NCM</th>\n",
       "      <th>ICEV D</th>\n",
       "      <th>ICEV G</th>\n",
       "      <th>Body_and_Doors</th>\n",
       "      <th>Brakes_Friction</th>\n",
       "      <th>Chassis_FWD</th>\n",
       "      <th>Fluids_ICEV_and_EV</th>\n",
       "      <th>Interior_and_Exterior</th>\n",
       "      <th>Tires_and_Wheels</th>\n",
       "      <th>EV_Motor_and_transmission</th>\n",
       "      <th>...</th>\n",
       "      <th>Fluids_ICEV_only</th>\n",
       "      <th>Other_Powertrain_ICEV</th>\n",
       "      <th>Transmission_ICEV</th>\n",
       "      <th>PbA_Batteries_ICEV</th>\n",
       "      <th>Final_Assembly_Car</th>\n",
       "      <th>Operation diesel car</th>\n",
       "      <th>Operation gasoline car</th>\n",
       "      <th>Operation electric car</th>\n",
       "      <th>EOL_Vehicle_Treatment</th>\n",
       "      <th>EOL_Battery_TreatmentAndDisposal</th>\n",
       "    </tr>\n",
       "  </thead>\n",
       "  <tbody>\n",
       "    <tr>\n",
       "      <th>EV Li-NCM</th>\n",
       "      <td>0.0</td>\n",
       "      <td>0.0</td>\n",
       "      <td>0.0</td>\n",
       "      <td>0.0</td>\n",
       "      <td>0.0</td>\n",
       "      <td>0.0</td>\n",
       "      <td>0.0</td>\n",
       "      <td>0.0</td>\n",
       "      <td>0.0</td>\n",
       "      <td>0.0</td>\n",
       "      <td>...</td>\n",
       "      <td>0.0</td>\n",
       "      <td>0.0</td>\n",
       "      <td>0.0</td>\n",
       "      <td>0.0</td>\n",
       "      <td>0.0</td>\n",
       "      <td>0.0</td>\n",
       "      <td>0.0</td>\n",
       "      <td>0.0</td>\n",
       "      <td>0.0</td>\n",
       "      <td>0.0</td>\n",
       "    </tr>\n",
       "    <tr>\n",
       "      <th>ICEV D</th>\n",
       "      <td>0.0</td>\n",
       "      <td>0.0</td>\n",
       "      <td>0.0</td>\n",
       "      <td>0.0</td>\n",
       "      <td>0.0</td>\n",
       "      <td>0.0</td>\n",
       "      <td>0.0</td>\n",
       "      <td>0.0</td>\n",
       "      <td>0.0</td>\n",
       "      <td>0.0</td>\n",
       "      <td>...</td>\n",
       "      <td>0.0</td>\n",
       "      <td>0.0</td>\n",
       "      <td>0.0</td>\n",
       "      <td>0.0</td>\n",
       "      <td>0.0</td>\n",
       "      <td>0.0</td>\n",
       "      <td>0.0</td>\n",
       "      <td>0.0</td>\n",
       "      <td>0.0</td>\n",
       "      <td>0.0</td>\n",
       "    </tr>\n",
       "    <tr>\n",
       "      <th>ICEV G</th>\n",
       "      <td>0.0</td>\n",
       "      <td>0.0</td>\n",
       "      <td>0.0</td>\n",
       "      <td>0.0</td>\n",
       "      <td>0.0</td>\n",
       "      <td>0.0</td>\n",
       "      <td>0.0</td>\n",
       "      <td>0.0</td>\n",
       "      <td>0.0</td>\n",
       "      <td>0.0</td>\n",
       "      <td>...</td>\n",
       "      <td>0.0</td>\n",
       "      <td>0.0</td>\n",
       "      <td>0.0</td>\n",
       "      <td>0.0</td>\n",
       "      <td>0.0</td>\n",
       "      <td>0.0</td>\n",
       "      <td>0.0</td>\n",
       "      <td>0.0</td>\n",
       "      <td>0.0</td>\n",
       "      <td>0.0</td>\n",
       "    </tr>\n",
       "    <tr>\n",
       "      <th>Body_and_Doors</th>\n",
       "      <td>1.0</td>\n",
       "      <td>1.0</td>\n",
       "      <td>1.0</td>\n",
       "      <td>0.0</td>\n",
       "      <td>0.0</td>\n",
       "      <td>0.0</td>\n",
       "      <td>0.0</td>\n",
       "      <td>0.0</td>\n",
       "      <td>0.0</td>\n",
       "      <td>0.0</td>\n",
       "      <td>...</td>\n",
       "      <td>0.0</td>\n",
       "      <td>0.0</td>\n",
       "      <td>0.0</td>\n",
       "      <td>0.0</td>\n",
       "      <td>0.0</td>\n",
       "      <td>0.0</td>\n",
       "      <td>0.0</td>\n",
       "      <td>0.0</td>\n",
       "      <td>0.0</td>\n",
       "      <td>0.0</td>\n",
       "    </tr>\n",
       "    <tr>\n",
       "      <th>Brakes_Friction</th>\n",
       "      <td>1.0</td>\n",
       "      <td>1.0</td>\n",
       "      <td>1.0</td>\n",
       "      <td>0.0</td>\n",
       "      <td>0.0</td>\n",
       "      <td>0.0</td>\n",
       "      <td>0.0</td>\n",
       "      <td>0.0</td>\n",
       "      <td>0.0</td>\n",
       "      <td>0.0</td>\n",
       "      <td>...</td>\n",
       "      <td>0.0</td>\n",
       "      <td>0.0</td>\n",
       "      <td>0.0</td>\n",
       "      <td>0.0</td>\n",
       "      <td>0.0</td>\n",
       "      <td>0.0</td>\n",
       "      <td>0.0</td>\n",
       "      <td>0.0</td>\n",
       "      <td>0.0</td>\n",
       "      <td>0.0</td>\n",
       "    </tr>\n",
       "    <tr>\n",
       "      <th>Chassis_FWD</th>\n",
       "      <td>1.0</td>\n",
       "      <td>1.0</td>\n",
       "      <td>1.0</td>\n",
       "      <td>0.0</td>\n",
       "      <td>0.0</td>\n",
       "      <td>0.0</td>\n",
       "      <td>0.0</td>\n",
       "      <td>0.0</td>\n",
       "      <td>0.0</td>\n",
       "      <td>0.0</td>\n",
       "      <td>...</td>\n",
       "      <td>0.0</td>\n",
       "      <td>0.0</td>\n",
       "      <td>0.0</td>\n",
       "      <td>0.0</td>\n",
       "      <td>0.0</td>\n",
       "      <td>0.0</td>\n",
       "      <td>0.0</td>\n",
       "      <td>0.0</td>\n",
       "      <td>0.0</td>\n",
       "      <td>0.0</td>\n",
       "    </tr>\n",
       "    <tr>\n",
       "      <th>Fluids_ICEV_and_EV</th>\n",
       "      <td>1.0</td>\n",
       "      <td>1.0</td>\n",
       "      <td>1.0</td>\n",
       "      <td>0.0</td>\n",
       "      <td>0.0</td>\n",
       "      <td>0.0</td>\n",
       "      <td>0.0</td>\n",
       "      <td>0.0</td>\n",
       "      <td>0.0</td>\n",
       "      <td>0.0</td>\n",
       "      <td>...</td>\n",
       "      <td>0.0</td>\n",
       "      <td>0.0</td>\n",
       "      <td>0.0</td>\n",
       "      <td>0.0</td>\n",
       "      <td>0.0</td>\n",
       "      <td>0.0</td>\n",
       "      <td>0.0</td>\n",
       "      <td>0.0</td>\n",
       "      <td>0.0</td>\n",
       "      <td>0.0</td>\n",
       "    </tr>\n",
       "    <tr>\n",
       "      <th>Interior_and_Exterior</th>\n",
       "      <td>1.0</td>\n",
       "      <td>1.0</td>\n",
       "      <td>1.0</td>\n",
       "      <td>0.0</td>\n",
       "      <td>0.0</td>\n",
       "      <td>0.0</td>\n",
       "      <td>0.0</td>\n",
       "      <td>0.0</td>\n",
       "      <td>0.0</td>\n",
       "      <td>0.0</td>\n",
       "      <td>...</td>\n",
       "      <td>0.0</td>\n",
       "      <td>0.0</td>\n",
       "      <td>0.0</td>\n",
       "      <td>0.0</td>\n",
       "      <td>0.0</td>\n",
       "      <td>0.0</td>\n",
       "      <td>0.0</td>\n",
       "      <td>0.0</td>\n",
       "      <td>0.0</td>\n",
       "      <td>0.0</td>\n",
       "    </tr>\n",
       "    <tr>\n",
       "      <th>Tires_and_Wheels</th>\n",
       "      <td>1.0</td>\n",
       "      <td>1.0</td>\n",
       "      <td>1.0</td>\n",
       "      <td>0.0</td>\n",
       "      <td>0.0</td>\n",
       "      <td>0.0</td>\n",
       "      <td>0.0</td>\n",
       "      <td>0.0</td>\n",
       "      <td>0.0</td>\n",
       "      <td>0.0</td>\n",
       "      <td>...</td>\n",
       "      <td>0.0</td>\n",
       "      <td>0.0</td>\n",
       "      <td>0.0</td>\n",
       "      <td>0.0</td>\n",
       "      <td>0.0</td>\n",
       "      <td>0.0</td>\n",
       "      <td>0.0</td>\n",
       "      <td>0.0</td>\n",
       "      <td>0.0</td>\n",
       "      <td>0.0</td>\n",
       "    </tr>\n",
       "    <tr>\n",
       "      <th>EV_Motor_and_transmission</th>\n",
       "      <td>1.0</td>\n",
       "      <td>0.0</td>\n",
       "      <td>0.0</td>\n",
       "      <td>0.0</td>\n",
       "      <td>0.0</td>\n",
       "      <td>0.0</td>\n",
       "      <td>0.0</td>\n",
       "      <td>0.0</td>\n",
       "      <td>0.0</td>\n",
       "      <td>0.0</td>\n",
       "      <td>...</td>\n",
       "      <td>0.0</td>\n",
       "      <td>0.0</td>\n",
       "      <td>0.0</td>\n",
       "      <td>0.0</td>\n",
       "      <td>0.0</td>\n",
       "      <td>0.0</td>\n",
       "      <td>0.0</td>\n",
       "      <td>0.0</td>\n",
       "      <td>0.0</td>\n",
       "      <td>0.0</td>\n",
       "    </tr>\n",
       "    <tr>\n",
       "      <th>Transmission_EV_Differential_Only</th>\n",
       "      <td>1.0</td>\n",
       "      <td>0.0</td>\n",
       "      <td>0.0</td>\n",
       "      <td>0.0</td>\n",
       "      <td>0.0</td>\n",
       "      <td>0.0</td>\n",
       "      <td>0.0</td>\n",
       "      <td>0.0</td>\n",
       "      <td>0.0</td>\n",
       "      <td>0.0</td>\n",
       "      <td>...</td>\n",
       "      <td>0.0</td>\n",
       "      <td>0.0</td>\n",
       "      <td>0.0</td>\n",
       "      <td>0.0</td>\n",
       "      <td>0.0</td>\n",
       "      <td>0.0</td>\n",
       "      <td>0.0</td>\n",
       "      <td>0.0</td>\n",
       "      <td>0.0</td>\n",
       "      <td>0.0</td>\n",
       "    </tr>\n",
       "    <tr>\n",
       "      <th>Battery_Li_NCM</th>\n",
       "      <td>1.0</td>\n",
       "      <td>0.0</td>\n",
       "      <td>0.0</td>\n",
       "      <td>0.0</td>\n",
       "      <td>0.0</td>\n",
       "      <td>0.0</td>\n",
       "      <td>0.0</td>\n",
       "      <td>0.0</td>\n",
       "      <td>0.0</td>\n",
       "      <td>0.0</td>\n",
       "      <td>...</td>\n",
       "      <td>0.0</td>\n",
       "      <td>0.0</td>\n",
       "      <td>0.0</td>\n",
       "      <td>0.0</td>\n",
       "      <td>0.0</td>\n",
       "      <td>0.0</td>\n",
       "      <td>0.0</td>\n",
       "      <td>0.0</td>\n",
       "      <td>0.0</td>\n",
       "      <td>0.0</td>\n",
       "    </tr>\n",
       "    <tr>\n",
       "      <th>Engine_ICEV</th>\n",
       "      <td>0.0</td>\n",
       "      <td>1.0</td>\n",
       "      <td>1.0</td>\n",
       "      <td>0.0</td>\n",
       "      <td>0.0</td>\n",
       "      <td>0.0</td>\n",
       "      <td>0.0</td>\n",
       "      <td>0.0</td>\n",
       "      <td>0.0</td>\n",
       "      <td>0.0</td>\n",
       "      <td>...</td>\n",
       "      <td>0.0</td>\n",
       "      <td>0.0</td>\n",
       "      <td>0.0</td>\n",
       "      <td>0.0</td>\n",
       "      <td>0.0</td>\n",
       "      <td>0.0</td>\n",
       "      <td>0.0</td>\n",
       "      <td>0.0</td>\n",
       "      <td>0.0</td>\n",
       "      <td>0.0</td>\n",
       "    </tr>\n",
       "    <tr>\n",
       "      <th>Fluids_ICEV_only</th>\n",
       "      <td>0.0</td>\n",
       "      <td>1.0</td>\n",
       "      <td>1.0</td>\n",
       "      <td>0.0</td>\n",
       "      <td>0.0</td>\n",
       "      <td>0.0</td>\n",
       "      <td>0.0</td>\n",
       "      <td>0.0</td>\n",
       "      <td>0.0</td>\n",
       "      <td>0.0</td>\n",
       "      <td>...</td>\n",
       "      <td>0.0</td>\n",
       "      <td>0.0</td>\n",
       "      <td>0.0</td>\n",
       "      <td>0.0</td>\n",
       "      <td>0.0</td>\n",
       "      <td>0.0</td>\n",
       "      <td>0.0</td>\n",
       "      <td>0.0</td>\n",
       "      <td>0.0</td>\n",
       "      <td>0.0</td>\n",
       "    </tr>\n",
       "    <tr>\n",
       "      <th>Other_Powertrain_ICEV</th>\n",
       "      <td>0.0</td>\n",
       "      <td>1.0</td>\n",
       "      <td>1.0</td>\n",
       "      <td>0.0</td>\n",
       "      <td>0.0</td>\n",
       "      <td>0.0</td>\n",
       "      <td>0.0</td>\n",
       "      <td>0.0</td>\n",
       "      <td>0.0</td>\n",
       "      <td>0.0</td>\n",
       "      <td>...</td>\n",
       "      <td>0.0</td>\n",
       "      <td>0.0</td>\n",
       "      <td>0.0</td>\n",
       "      <td>0.0</td>\n",
       "      <td>0.0</td>\n",
       "      <td>0.0</td>\n",
       "      <td>0.0</td>\n",
       "      <td>0.0</td>\n",
       "      <td>0.0</td>\n",
       "      <td>0.0</td>\n",
       "    </tr>\n",
       "    <tr>\n",
       "      <th>Transmission_ICEV</th>\n",
       "      <td>0.0</td>\n",
       "      <td>1.0</td>\n",
       "      <td>1.0</td>\n",
       "      <td>0.0</td>\n",
       "      <td>0.0</td>\n",
       "      <td>0.0</td>\n",
       "      <td>0.0</td>\n",
       "      <td>0.0</td>\n",
       "      <td>0.0</td>\n",
       "      <td>0.0</td>\n",
       "      <td>...</td>\n",
       "      <td>0.0</td>\n",
       "      <td>0.0</td>\n",
       "      <td>0.0</td>\n",
       "      <td>0.0</td>\n",
       "      <td>0.0</td>\n",
       "      <td>0.0</td>\n",
       "      <td>0.0</td>\n",
       "      <td>0.0</td>\n",
       "      <td>0.0</td>\n",
       "      <td>0.0</td>\n",
       "    </tr>\n",
       "    <tr>\n",
       "      <th>PbA_Batteries_ICEV</th>\n",
       "      <td>0.0</td>\n",
       "      <td>1.0</td>\n",
       "      <td>1.0</td>\n",
       "      <td>0.0</td>\n",
       "      <td>0.0</td>\n",
       "      <td>0.0</td>\n",
       "      <td>0.0</td>\n",
       "      <td>0.0</td>\n",
       "      <td>0.0</td>\n",
       "      <td>0.0</td>\n",
       "      <td>...</td>\n",
       "      <td>0.0</td>\n",
       "      <td>0.0</td>\n",
       "      <td>0.0</td>\n",
       "      <td>0.0</td>\n",
       "      <td>0.0</td>\n",
       "      <td>0.0</td>\n",
       "      <td>0.0</td>\n",
       "      <td>0.0</td>\n",
       "      <td>0.0</td>\n",
       "      <td>0.0</td>\n",
       "    </tr>\n",
       "    <tr>\n",
       "      <th>Final_Assembly_Car</th>\n",
       "      <td>1.0</td>\n",
       "      <td>1.0</td>\n",
       "      <td>1.0</td>\n",
       "      <td>0.0</td>\n",
       "      <td>0.0</td>\n",
       "      <td>0.0</td>\n",
       "      <td>0.0</td>\n",
       "      <td>0.0</td>\n",
       "      <td>0.0</td>\n",
       "      <td>0.0</td>\n",
       "      <td>...</td>\n",
       "      <td>0.0</td>\n",
       "      <td>0.0</td>\n",
       "      <td>0.0</td>\n",
       "      <td>0.0</td>\n",
       "      <td>0.0</td>\n",
       "      <td>0.0</td>\n",
       "      <td>0.0</td>\n",
       "      <td>0.0</td>\n",
       "      <td>0.0</td>\n",
       "      <td>0.0</td>\n",
       "    </tr>\n",
       "    <tr>\n",
       "      <th>Operation diesel car</th>\n",
       "      <td>0.0</td>\n",
       "      <td>180000.0</td>\n",
       "      <td>0.0</td>\n",
       "      <td>0.0</td>\n",
       "      <td>0.0</td>\n",
       "      <td>0.0</td>\n",
       "      <td>0.0</td>\n",
       "      <td>0.0</td>\n",
       "      <td>0.0</td>\n",
       "      <td>0.0</td>\n",
       "      <td>...</td>\n",
       "      <td>0.0</td>\n",
       "      <td>0.0</td>\n",
       "      <td>0.0</td>\n",
       "      <td>0.0</td>\n",
       "      <td>0.0</td>\n",
       "      <td>0.0</td>\n",
       "      <td>0.0</td>\n",
       "      <td>0.0</td>\n",
       "      <td>0.0</td>\n",
       "      <td>0.0</td>\n",
       "    </tr>\n",
       "    <tr>\n",
       "      <th>Operation gasoline car</th>\n",
       "      <td>0.0</td>\n",
       "      <td>0.0</td>\n",
       "      <td>180000.0</td>\n",
       "      <td>0.0</td>\n",
       "      <td>0.0</td>\n",
       "      <td>0.0</td>\n",
       "      <td>0.0</td>\n",
       "      <td>0.0</td>\n",
       "      <td>0.0</td>\n",
       "      <td>0.0</td>\n",
       "      <td>...</td>\n",
       "      <td>0.0</td>\n",
       "      <td>0.0</td>\n",
       "      <td>0.0</td>\n",
       "      <td>0.0</td>\n",
       "      <td>0.0</td>\n",
       "      <td>0.0</td>\n",
       "      <td>0.0</td>\n",
       "      <td>0.0</td>\n",
       "      <td>0.0</td>\n",
       "      <td>0.0</td>\n",
       "    </tr>\n",
       "    <tr>\n",
       "      <th>Operation electric car</th>\n",
       "      <td>180000.0</td>\n",
       "      <td>0.0</td>\n",
       "      <td>0.0</td>\n",
       "      <td>0.0</td>\n",
       "      <td>0.0</td>\n",
       "      <td>0.0</td>\n",
       "      <td>0.0</td>\n",
       "      <td>0.0</td>\n",
       "      <td>0.0</td>\n",
       "      <td>0.0</td>\n",
       "      <td>...</td>\n",
       "      <td>0.0</td>\n",
       "      <td>0.0</td>\n",
       "      <td>0.0</td>\n",
       "      <td>0.0</td>\n",
       "      <td>0.0</td>\n",
       "      <td>0.0</td>\n",
       "      <td>0.0</td>\n",
       "      <td>0.0</td>\n",
       "      <td>0.0</td>\n",
       "      <td>0.0</td>\n",
       "    </tr>\n",
       "    <tr>\n",
       "      <th>EOL_Vehicle_Treatment</th>\n",
       "      <td>1.0</td>\n",
       "      <td>1.0</td>\n",
       "      <td>1.0</td>\n",
       "      <td>0.0</td>\n",
       "      <td>0.0</td>\n",
       "      <td>0.0</td>\n",
       "      <td>0.0</td>\n",
       "      <td>0.0</td>\n",
       "      <td>0.0</td>\n",
       "      <td>0.0</td>\n",
       "      <td>...</td>\n",
       "      <td>0.0</td>\n",
       "      <td>0.0</td>\n",
       "      <td>0.0</td>\n",
       "      <td>0.0</td>\n",
       "      <td>0.0</td>\n",
       "      <td>0.0</td>\n",
       "      <td>0.0</td>\n",
       "      <td>0.0</td>\n",
       "      <td>0.0</td>\n",
       "      <td>0.0</td>\n",
       "    </tr>\n",
       "    <tr>\n",
       "      <th>EOL_Battery_TreatmentAndDisposal</th>\n",
       "      <td>1.0</td>\n",
       "      <td>0.0</td>\n",
       "      <td>0.0</td>\n",
       "      <td>0.0</td>\n",
       "      <td>0.0</td>\n",
       "      <td>0.0</td>\n",
       "      <td>0.0</td>\n",
       "      <td>0.0</td>\n",
       "      <td>0.0</td>\n",
       "      <td>0.0</td>\n",
       "      <td>...</td>\n",
       "      <td>0.0</td>\n",
       "      <td>0.0</td>\n",
       "      <td>0.0</td>\n",
       "      <td>0.0</td>\n",
       "      <td>0.0</td>\n",
       "      <td>0.0</td>\n",
       "      <td>0.0</td>\n",
       "      <td>0.0</td>\n",
       "      <td>0.0</td>\n",
       "      <td>0.0</td>\n",
       "    </tr>\n",
       "  </tbody>\n",
       "</table>\n",
       "<p>23 rows × 23 columns</p>\n",
       "</div>"
      ],
      "text/plain": [
       "                                   EV Li-NCM    ICEV D    ICEV G  \\\n",
       "EV Li-NCM                                0.0       0.0       0.0   \n",
       "ICEV D                                   0.0       0.0       0.0   \n",
       "ICEV G                                   0.0       0.0       0.0   \n",
       "Body_and_Doors                           1.0       1.0       1.0   \n",
       "Brakes_Friction                          1.0       1.0       1.0   \n",
       "Chassis_FWD                              1.0       1.0       1.0   \n",
       "Fluids_ICEV_and_EV                       1.0       1.0       1.0   \n",
       "Interior_and_Exterior                    1.0       1.0       1.0   \n",
       "Tires_and_Wheels                         1.0       1.0       1.0   \n",
       "EV_Motor_and_transmission                1.0       0.0       0.0   \n",
       "Transmission_EV_Differential_Only        1.0       0.0       0.0   \n",
       "Battery_Li_NCM                           1.0       0.0       0.0   \n",
       "Engine_ICEV                              0.0       1.0       1.0   \n",
       "Fluids_ICEV_only                         0.0       1.0       1.0   \n",
       "Other_Powertrain_ICEV                    0.0       1.0       1.0   \n",
       "Transmission_ICEV                        0.0       1.0       1.0   \n",
       "PbA_Batteries_ICEV                       0.0       1.0       1.0   \n",
       "Final_Assembly_Car                       1.0       1.0       1.0   \n",
       "Operation diesel car                     0.0  180000.0       0.0   \n",
       "Operation gasoline car                   0.0       0.0  180000.0   \n",
       "Operation electric car              180000.0       0.0       0.0   \n",
       "EOL_Vehicle_Treatment                    1.0       1.0       1.0   \n",
       "EOL_Battery_TreatmentAndDisposal         1.0       0.0       0.0   \n",
       "\n",
       "                                   Body_and_Doors  Brakes_Friction  \\\n",
       "EV Li-NCM                                     0.0              0.0   \n",
       "ICEV D                                        0.0              0.0   \n",
       "ICEV G                                        0.0              0.0   \n",
       "Body_and_Doors                                0.0              0.0   \n",
       "Brakes_Friction                               0.0              0.0   \n",
       "Chassis_FWD                                   0.0              0.0   \n",
       "Fluids_ICEV_and_EV                            0.0              0.0   \n",
       "Interior_and_Exterior                         0.0              0.0   \n",
       "Tires_and_Wheels                              0.0              0.0   \n",
       "EV_Motor_and_transmission                     0.0              0.0   \n",
       "Transmission_EV_Differential_Only             0.0              0.0   \n",
       "Battery_Li_NCM                                0.0              0.0   \n",
       "Engine_ICEV                                   0.0              0.0   \n",
       "Fluids_ICEV_only                              0.0              0.0   \n",
       "Other_Powertrain_ICEV                         0.0              0.0   \n",
       "Transmission_ICEV                             0.0              0.0   \n",
       "PbA_Batteries_ICEV                            0.0              0.0   \n",
       "Final_Assembly_Car                            0.0              0.0   \n",
       "Operation diesel car                          0.0              0.0   \n",
       "Operation gasoline car                        0.0              0.0   \n",
       "Operation electric car                        0.0              0.0   \n",
       "EOL_Vehicle_Treatment                         0.0              0.0   \n",
       "EOL_Battery_TreatmentAndDisposal              0.0              0.0   \n",
       "\n",
       "                                   Chassis_FWD  Fluids_ICEV_and_EV  \\\n",
       "EV Li-NCM                                  0.0                 0.0   \n",
       "ICEV D                                     0.0                 0.0   \n",
       "ICEV G                                     0.0                 0.0   \n",
       "Body_and_Doors                             0.0                 0.0   \n",
       "Brakes_Friction                            0.0                 0.0   \n",
       "Chassis_FWD                                0.0                 0.0   \n",
       "Fluids_ICEV_and_EV                         0.0                 0.0   \n",
       "Interior_and_Exterior                      0.0                 0.0   \n",
       "Tires_and_Wheels                           0.0                 0.0   \n",
       "EV_Motor_and_transmission                  0.0                 0.0   \n",
       "Transmission_EV_Differential_Only          0.0                 0.0   \n",
       "Battery_Li_NCM                             0.0                 0.0   \n",
       "Engine_ICEV                                0.0                 0.0   \n",
       "Fluids_ICEV_only                           0.0                 0.0   \n",
       "Other_Powertrain_ICEV                      0.0                 0.0   \n",
       "Transmission_ICEV                          0.0                 0.0   \n",
       "PbA_Batteries_ICEV                         0.0                 0.0   \n",
       "Final_Assembly_Car                         0.0                 0.0   \n",
       "Operation diesel car                       0.0                 0.0   \n",
       "Operation gasoline car                     0.0                 0.0   \n",
       "Operation electric car                     0.0                 0.0   \n",
       "EOL_Vehicle_Treatment                      0.0                 0.0   \n",
       "EOL_Battery_TreatmentAndDisposal           0.0                 0.0   \n",
       "\n",
       "                                   Interior_and_Exterior  Tires_and_Wheels  \\\n",
       "EV Li-NCM                                            0.0               0.0   \n",
       "ICEV D                                               0.0               0.0   \n",
       "ICEV G                                               0.0               0.0   \n",
       "Body_and_Doors                                       0.0               0.0   \n",
       "Brakes_Friction                                      0.0               0.0   \n",
       "Chassis_FWD                                          0.0               0.0   \n",
       "Fluids_ICEV_and_EV                                   0.0               0.0   \n",
       "Interior_and_Exterior                                0.0               0.0   \n",
       "Tires_and_Wheels                                     0.0               0.0   \n",
       "EV_Motor_and_transmission                            0.0               0.0   \n",
       "Transmission_EV_Differential_Only                    0.0               0.0   \n",
       "Battery_Li_NCM                                       0.0               0.0   \n",
       "Engine_ICEV                                          0.0               0.0   \n",
       "Fluids_ICEV_only                                     0.0               0.0   \n",
       "Other_Powertrain_ICEV                                0.0               0.0   \n",
       "Transmission_ICEV                                    0.0               0.0   \n",
       "PbA_Batteries_ICEV                                   0.0               0.0   \n",
       "Final_Assembly_Car                                   0.0               0.0   \n",
       "Operation diesel car                                 0.0               0.0   \n",
       "Operation gasoline car                               0.0               0.0   \n",
       "Operation electric car                               0.0               0.0   \n",
       "EOL_Vehicle_Treatment                                0.0               0.0   \n",
       "EOL_Battery_TreatmentAndDisposal                     0.0               0.0   \n",
       "\n",
       "                                   EV_Motor_and_transmission  ...  \\\n",
       "EV Li-NCM                                                0.0  ...   \n",
       "ICEV D                                                   0.0  ...   \n",
       "ICEV G                                                   0.0  ...   \n",
       "Body_and_Doors                                           0.0  ...   \n",
       "Brakes_Friction                                          0.0  ...   \n",
       "Chassis_FWD                                              0.0  ...   \n",
       "Fluids_ICEV_and_EV                                       0.0  ...   \n",
       "Interior_and_Exterior                                    0.0  ...   \n",
       "Tires_and_Wheels                                         0.0  ...   \n",
       "EV_Motor_and_transmission                                0.0  ...   \n",
       "Transmission_EV_Differential_Only                        0.0  ...   \n",
       "Battery_Li_NCM                                           0.0  ...   \n",
       "Engine_ICEV                                              0.0  ...   \n",
       "Fluids_ICEV_only                                         0.0  ...   \n",
       "Other_Powertrain_ICEV                                    0.0  ...   \n",
       "Transmission_ICEV                                        0.0  ...   \n",
       "PbA_Batteries_ICEV                                       0.0  ...   \n",
       "Final_Assembly_Car                                       0.0  ...   \n",
       "Operation diesel car                                     0.0  ...   \n",
       "Operation gasoline car                                   0.0  ...   \n",
       "Operation electric car                                   0.0  ...   \n",
       "EOL_Vehicle_Treatment                                    0.0  ...   \n",
       "EOL_Battery_TreatmentAndDisposal                         0.0  ...   \n",
       "\n",
       "                                   Fluids_ICEV_only  Other_Powertrain_ICEV  \\\n",
       "EV Li-NCM                                       0.0                    0.0   \n",
       "ICEV D                                          0.0                    0.0   \n",
       "ICEV G                                          0.0                    0.0   \n",
       "Body_and_Doors                                  0.0                    0.0   \n",
       "Brakes_Friction                                 0.0                    0.0   \n",
       "Chassis_FWD                                     0.0                    0.0   \n",
       "Fluids_ICEV_and_EV                              0.0                    0.0   \n",
       "Interior_and_Exterior                           0.0                    0.0   \n",
       "Tires_and_Wheels                                0.0                    0.0   \n",
       "EV_Motor_and_transmission                       0.0                    0.0   \n",
       "Transmission_EV_Differential_Only               0.0                    0.0   \n",
       "Battery_Li_NCM                                  0.0                    0.0   \n",
       "Engine_ICEV                                     0.0                    0.0   \n",
       "Fluids_ICEV_only                                0.0                    0.0   \n",
       "Other_Powertrain_ICEV                           0.0                    0.0   \n",
       "Transmission_ICEV                               0.0                    0.0   \n",
       "PbA_Batteries_ICEV                              0.0                    0.0   \n",
       "Final_Assembly_Car                              0.0                    0.0   \n",
       "Operation diesel car                            0.0                    0.0   \n",
       "Operation gasoline car                          0.0                    0.0   \n",
       "Operation electric car                          0.0                    0.0   \n",
       "EOL_Vehicle_Treatment                           0.0                    0.0   \n",
       "EOL_Battery_TreatmentAndDisposal                0.0                    0.0   \n",
       "\n",
       "                                   Transmission_ICEV  PbA_Batteries_ICEV  \\\n",
       "EV Li-NCM                                        0.0                 0.0   \n",
       "ICEV D                                           0.0                 0.0   \n",
       "ICEV G                                           0.0                 0.0   \n",
       "Body_and_Doors                                   0.0                 0.0   \n",
       "Brakes_Friction                                  0.0                 0.0   \n",
       "Chassis_FWD                                      0.0                 0.0   \n",
       "Fluids_ICEV_and_EV                               0.0                 0.0   \n",
       "Interior_and_Exterior                            0.0                 0.0   \n",
       "Tires_and_Wheels                                 0.0                 0.0   \n",
       "EV_Motor_and_transmission                        0.0                 0.0   \n",
       "Transmission_EV_Differential_Only                0.0                 0.0   \n",
       "Battery_Li_NCM                                   0.0                 0.0   \n",
       "Engine_ICEV                                      0.0                 0.0   \n",
       "Fluids_ICEV_only                                 0.0                 0.0   \n",
       "Other_Powertrain_ICEV                            0.0                 0.0   \n",
       "Transmission_ICEV                                0.0                 0.0   \n",
       "PbA_Batteries_ICEV                               0.0                 0.0   \n",
       "Final_Assembly_Car                               0.0                 0.0   \n",
       "Operation diesel car                             0.0                 0.0   \n",
       "Operation gasoline car                           0.0                 0.0   \n",
       "Operation electric car                           0.0                 0.0   \n",
       "EOL_Vehicle_Treatment                            0.0                 0.0   \n",
       "EOL_Battery_TreatmentAndDisposal                 0.0                 0.0   \n",
       "\n",
       "                                   Final_Assembly_Car  Operation diesel car  \\\n",
       "EV Li-NCM                                         0.0                   0.0   \n",
       "ICEV D                                            0.0                   0.0   \n",
       "ICEV G                                            0.0                   0.0   \n",
       "Body_and_Doors                                    0.0                   0.0   \n",
       "Brakes_Friction                                   0.0                   0.0   \n",
       "Chassis_FWD                                       0.0                   0.0   \n",
       "Fluids_ICEV_and_EV                                0.0                   0.0   \n",
       "Interior_and_Exterior                             0.0                   0.0   \n",
       "Tires_and_Wheels                                  0.0                   0.0   \n",
       "EV_Motor_and_transmission                         0.0                   0.0   \n",
       "Transmission_EV_Differential_Only                 0.0                   0.0   \n",
       "Battery_Li_NCM                                    0.0                   0.0   \n",
       "Engine_ICEV                                       0.0                   0.0   \n",
       "Fluids_ICEV_only                                  0.0                   0.0   \n",
       "Other_Powertrain_ICEV                             0.0                   0.0   \n",
       "Transmission_ICEV                                 0.0                   0.0   \n",
       "PbA_Batteries_ICEV                                0.0                   0.0   \n",
       "Final_Assembly_Car                                0.0                   0.0   \n",
       "Operation diesel car                              0.0                   0.0   \n",
       "Operation gasoline car                            0.0                   0.0   \n",
       "Operation electric car                            0.0                   0.0   \n",
       "EOL_Vehicle_Treatment                             0.0                   0.0   \n",
       "EOL_Battery_TreatmentAndDisposal                  0.0                   0.0   \n",
       "\n",
       "                                   Operation gasoline car  \\\n",
       "EV Li-NCM                                             0.0   \n",
       "ICEV D                                                0.0   \n",
       "ICEV G                                                0.0   \n",
       "Body_and_Doors                                        0.0   \n",
       "Brakes_Friction                                       0.0   \n",
       "Chassis_FWD                                           0.0   \n",
       "Fluids_ICEV_and_EV                                    0.0   \n",
       "Interior_and_Exterior                                 0.0   \n",
       "Tires_and_Wheels                                      0.0   \n",
       "EV_Motor_and_transmission                             0.0   \n",
       "Transmission_EV_Differential_Only                     0.0   \n",
       "Battery_Li_NCM                                        0.0   \n",
       "Engine_ICEV                                           0.0   \n",
       "Fluids_ICEV_only                                      0.0   \n",
       "Other_Powertrain_ICEV                                 0.0   \n",
       "Transmission_ICEV                                     0.0   \n",
       "PbA_Batteries_ICEV                                    0.0   \n",
       "Final_Assembly_Car                                    0.0   \n",
       "Operation diesel car                                  0.0   \n",
       "Operation gasoline car                                0.0   \n",
       "Operation electric car                                0.0   \n",
       "EOL_Vehicle_Treatment                                 0.0   \n",
       "EOL_Battery_TreatmentAndDisposal                      0.0   \n",
       "\n",
       "                                   Operation electric car  \\\n",
       "EV Li-NCM                                             0.0   \n",
       "ICEV D                                                0.0   \n",
       "ICEV G                                                0.0   \n",
       "Body_and_Doors                                        0.0   \n",
       "Brakes_Friction                                       0.0   \n",
       "Chassis_FWD                                           0.0   \n",
       "Fluids_ICEV_and_EV                                    0.0   \n",
       "Interior_and_Exterior                                 0.0   \n",
       "Tires_and_Wheels                                      0.0   \n",
       "EV_Motor_and_transmission                             0.0   \n",
       "Transmission_EV_Differential_Only                     0.0   \n",
       "Battery_Li_NCM                                        0.0   \n",
       "Engine_ICEV                                           0.0   \n",
       "Fluids_ICEV_only                                      0.0   \n",
       "Other_Powertrain_ICEV                                 0.0   \n",
       "Transmission_ICEV                                     0.0   \n",
       "PbA_Batteries_ICEV                                    0.0   \n",
       "Final_Assembly_Car                                    0.0   \n",
       "Operation diesel car                                  0.0   \n",
       "Operation gasoline car                                0.0   \n",
       "Operation electric car                                0.0   \n",
       "EOL_Vehicle_Treatment                                 0.0   \n",
       "EOL_Battery_TreatmentAndDisposal                      0.0   \n",
       "\n",
       "                                   EOL_Vehicle_Treatment  \\\n",
       "EV Li-NCM                                            0.0   \n",
       "ICEV D                                               0.0   \n",
       "ICEV G                                               0.0   \n",
       "Body_and_Doors                                       0.0   \n",
       "Brakes_Friction                                      0.0   \n",
       "Chassis_FWD                                          0.0   \n",
       "Fluids_ICEV_and_EV                                   0.0   \n",
       "Interior_and_Exterior                                0.0   \n",
       "Tires_and_Wheels                                     0.0   \n",
       "EV_Motor_and_transmission                            0.0   \n",
       "Transmission_EV_Differential_Only                    0.0   \n",
       "Battery_Li_NCM                                       0.0   \n",
       "Engine_ICEV                                          0.0   \n",
       "Fluids_ICEV_only                                     0.0   \n",
       "Other_Powertrain_ICEV                                0.0   \n",
       "Transmission_ICEV                                    0.0   \n",
       "PbA_Batteries_ICEV                                   0.0   \n",
       "Final_Assembly_Car                                   0.0   \n",
       "Operation diesel car                                 0.0   \n",
       "Operation gasoline car                               0.0   \n",
       "Operation electric car                               0.0   \n",
       "EOL_Vehicle_Treatment                                0.0   \n",
       "EOL_Battery_TreatmentAndDisposal                     0.0   \n",
       "\n",
       "                                   EOL_Battery_TreatmentAndDisposal  \n",
       "EV Li-NCM                                                       0.0  \n",
       "ICEV D                                                          0.0  \n",
       "ICEV G                                                          0.0  \n",
       "Body_and_Doors                                                  0.0  \n",
       "Brakes_Friction                                                 0.0  \n",
       "Chassis_FWD                                                     0.0  \n",
       "Fluids_ICEV_and_EV                                              0.0  \n",
       "Interior_and_Exterior                                           0.0  \n",
       "Tires_and_Wheels                                                0.0  \n",
       "EV_Motor_and_transmission                                       0.0  \n",
       "Transmission_EV_Differential_Only                               0.0  \n",
       "Battery_Li_NCM                                                  0.0  \n",
       "Engine_ICEV                                                     0.0  \n",
       "Fluids_ICEV_only                                                0.0  \n",
       "Other_Powertrain_ICEV                                           0.0  \n",
       "Transmission_ICEV                                               0.0  \n",
       "PbA_Batteries_ICEV                                              0.0  \n",
       "Final_Assembly_Car                                              0.0  \n",
       "Operation diesel car                                            0.0  \n",
       "Operation gasoline car                                          0.0  \n",
       "Operation electric car                                          0.0  \n",
       "EOL_Vehicle_Treatment                                           0.0  \n",
       "EOL_Battery_TreatmentAndDisposal                                0.0  \n",
       "\n",
       "[23 rows x 23 columns]"
      ]
     },
     "metadata": {},
     "output_type": "display_data"
    }
   ],
   "source": [
    "Aff = Aff.fillna(0)\n",
    "display(Aff)"
   ]
  },
  {
   "cell_type": "markdown",
   "id": "6018dfb0-85c5-4af0-a037-87f24e08eb4e",
   "metadata": {
    "deletable": false,
    "editable": false,
    "nbgrader": {
     "cell_type": "markdown",
     "checksum": "27bef95e54d6083fd2909c2d0260c837",
     "grade": false,
     "grade_id": "cell-af70064f1e164175",
     "locked": true,
     "schema_version": 3,
     "solution": false,
     "task": false
    },
    "tags": []
   },
   "source": [
    "**_Run the cell under to check the format of your answer(s)_**"
   ]
  },
  {
   "cell_type": "code",
   "execution_count": 9,
   "id": "626cab5a-2ca8-4206-99e3-1254c283de50",
   "metadata": {
    "deletable": false,
    "editable": false,
    "nbgrader": {
     "cell_type": "code",
     "checksum": "769110faad19a83b03ea3f9dd6fd6411",
     "grade": true,
     "grade_id": "cell-0af69243d91928ba",
     "locked": true,
     "points": 5,
     "schema_version": 3,
     "solution": false,
     "task": false
    },
    "tags": []
   },
   "outputs": [],
   "source": [
    "assert Aff.isnull().values.any() == False, 'There are still NaN values in the matrix'\n",
    "assert (Aff.index == ['EV Li-NCM', 'ICEV D', 'ICEV G', 'Body_and_Doors', 'Brakes_Friction', 'Chassis_FWD', 'Fluids_ICEV_and_EV', 'Interior_and_Exterior', 'Tires_and_Wheels', 'EV_Motor_and_transmission', 'Transmission_EV_Differential_Only', 'Battery_Li_NCM', 'Engine_ICEV', 'Fluids_ICEV_only', 'Other_Powertrain_ICEV', 'Transmission_ICEV', 'PbA_Batteries_ICEV', 'Final_Assembly_Car', 'Operation diesel car', 'Operation gasoline car', 'Operation electric car', 'EOL_Vehicle_Treatment', 'EOL_Battery_TreatmentAndDisposal'\n",
    "                     ]).all(), 'The index do not correspond'\n",
    "assert (Aff.columns == ['EV Li-NCM', 'ICEV D', 'ICEV G', 'Body_and_Doors', 'Brakes_Friction', 'Chassis_FWD', 'Fluids_ICEV_and_EV', 'Interior_and_Exterior', 'Tires_and_Wheels', 'EV_Motor_and_transmission', 'Transmission_EV_Differential_Only', 'Battery_Li_NCM', 'Engine_ICEV', 'Fluids_ICEV_only', 'Other_Powertrain_ICEV', 'Transmission_ICEV', 'PbA_Batteries_ICEV', 'Final_Assembly_Car', 'Operation diesel car', 'Operation gasoline car', 'Operation electric car', 'EOL_Vehicle_Treatment', 'EOL_Battery_TreatmentAndDisposal'\n",
    "                     ]).all(), 'The columns do not correspond'"
   ]
  },
  {
   "cell_type": "markdown",
   "id": "893c717f-1030-45d9-a18e-8b3436c4eb20",
   "metadata": {
    "deletable": false,
    "editable": false,
    "nbgrader": {
     "cell_type": "markdown",
     "checksum": "66a988189abf27f0627ec6f93420a4fd",
     "grade": false,
     "grade_id": "cell-63d70cc5011ced79",
     "locked": true,
     "schema_version": 3,
     "solution": false,
     "task": false
    },
    "tags": []
   },
   "source": [
    "#### **2b)** _(5 points)_ Fill in `Abf`"
   ]
  },
  {
   "cell_type": "markdown",
   "id": "ad5e4c54-09e4-4d0c-9bce-1ff19b06b9ba",
   "metadata": {
    "deletable": false,
    "editable": false,
    "nbgrader": {
     "cell_type": "markdown",
     "checksum": "3eec7fe94359a41727c5d60bc95b66ae",
     "grade": false,
     "grade_id": "cell-02fbce53ae363733",
     "locked": true,
     "schema_version": 3,
     "solution": false,
     "task": false
    },
    "tags": []
   },
   "source": [
    "Use the file **Foreground_Background_list_PS10.csv** to fill in `Abf`. You have to use the function `fill_in_Abf_from_table(matrix, table)` to transform data from a one column table to `Abf`. "
   ]
  },
  {
   "cell_type": "code",
   "execution_count": 10,
   "id": "a4ee2ee9-8cc6-4e7c-8e22-dcd30e366d64",
   "metadata": {
    "deletable": false,
    "editable": false,
    "nbgrader": {
     "cell_type": "code",
     "checksum": "a27d7e0a8bab99d2043f3108d8e699ff",
     "grade": false,
     "grade_id": "cell-c2bb15078bbb779d",
     "locked": true,
     "schema_version": 3,
     "solution": false,
     "task": false
    },
    "tags": []
   },
   "outputs": [],
   "source": [
    "def fill_in_Abf_from_table(Abf, table):\n",
    "    for i in Abf.index:\n",
    "        for j in Abf.columns:\n",
    "            if table[(table['Background process'] == i) & (table['Foreground process'] == j)]['Value'].empty == False:\n",
    "                Abf.loc[i, j] = table[(table['Background process'] == i) & (table['Foreground process'] == j)]['Value'].values[0]\n",
    "    return Abf\n",
    "\n",
    "### This is importing the table\n",
    "Abf_list = pd.read_csv(files_folder + 'Foreground_Background_list_PS10.csv')"
   ]
  },
  {
   "cell_type": "markdown",
   "id": "c5ef0078-5bfb-4e84-9fc8-56e9048cb700",
   "metadata": {
    "deletable": false,
    "editable": false,
    "nbgrader": {
     "cell_type": "markdown",
     "checksum": "c048d371899763279c315793eb0b63c2",
     "grade": false,
     "grade_id": "cell-4f45fc480b211783",
     "locked": true,
     "schema_version": 3,
     "solution": false,
     "task": false
    },
    "tags": []
   },
   "source": [
    "In `Abf`, the fuel requirements (diesel, gasoline, electricity) for operation of the vehicles (in km) is not provided. We ask to calculate the fuel requirements based on the following information:\n",
    "- 'Operation diesel car': requires input of 'Gas/Diesel Oil - tonnes'. The ICEVD required 4.4L of diesel per 100 km and has a density of 0.84 kg/L.\n",
    "- 'Operation gasoline car': requires input of 'Gas/Diesel Oil - tonnes'. The ICEVG required 5.3L of gasoline per 100 km and has a density of 0.74 kg/L.\n",
    "- 'Operation electric car': we assume that the electricity required is produced by gas ('Electricity by gas - TJ'). The vehicle requires 173 Wh of electricity per km driven. You also have to add that there are 14% of losses in the electricity distribution and charging process. Do not forget that 1 kWh = 3.6 MJ"
   ]
  },
  {
   "cell_type": "code",
   "execution_count": 11,
   "id": "1f0ce132-2f11-489e-93c6-581fe0008e19",
   "metadata": {
    "deletable": false,
    "nbgrader": {
     "cell_type": "code",
     "checksum": "669abd5bc6b018e4e94bcd5473304ff0",
     "grade": false,
     "grade_id": "cell-c53fa6c7506848d9",
     "locked": false,
     "schema_version": 3,
     "solution": true,
     "task": false
    },
    "tags": []
   },
   "outputs": [],
   "source": [
    "Abf = fill_in_Abf_from_table(Abf, Abf_list)\n",
    "Abf.loc['Gas/Diesel Oil - tonnes', 'Operation diesel car'] = ((4.4/100)*0.84)/1000\n",
    "Abf.loc['Gas/Diesel Oil - tonnes', 'Operation gasoline car'] = ((5.3/100)*0.74)/1000\n",
    "Abf.loc['Electricity by gas - TJ', 'Operation electric car'] = (173*1.14)*0.0036/(10**6)\n",
    "Abf = Abf.fillna(0)\n",
    "#display(Abf)"
   ]
  },
  {
   "cell_type": "markdown",
   "id": "cc3ea84b-ddcc-4e37-8f7c-420df5db829a",
   "metadata": {
    "deletable": false,
    "editable": false,
    "nbgrader": {
     "cell_type": "markdown",
     "checksum": "fbb1143e0e13daf858c0963e61e6a3a4",
     "grade": false,
     "grade_id": "cell-db858b7a398e692a",
     "locked": true,
     "schema_version": 3,
     "solution": false,
     "task": false
    },
    "tags": []
   },
   "source": [
    "**_Run the cell under to check the format of your answer(s)_**"
   ]
  },
  {
   "cell_type": "code",
   "execution_count": 12,
   "id": "f2c46d04-fdb2-4afe-9cc3-8f5b1e15c5b9",
   "metadata": {
    "deletable": false,
    "editable": false,
    "nbgrader": {
     "cell_type": "code",
     "checksum": "8541b95d7d46b6a9a316d60deef05c07",
     "grade": true,
     "grade_id": "cell-88286196a9847e5c",
     "locked": true,
     "points": 5,
     "schema_version": 3,
     "solution": false,
     "task": false
    },
    "tags": []
   },
   "outputs": [],
   "source": [
    "assert Abf.isnull().values.any() == False, 'There are still NaN values in the matrix'\n",
    "assert (Abf.index == Abb.columns).all(), 'The index do not correspond'\n",
    "assert (Abf.columns == Aff.columns).all(), 'The columns do not correspond'"
   ]
  },
  {
   "cell_type": "markdown",
   "id": "cdfca396-df7b-46ac-b378-a2f31a025a00",
   "metadata": {
    "deletable": false,
    "editable": false,
    "nbgrader": {
     "cell_type": "markdown",
     "checksum": "971517536bbd201948eb9fb1e1429d1d",
     "grade": false,
     "grade_id": "cell-195b5b1c30cd6f34",
     "locked": true,
     "schema_version": 3,
     "solution": false,
     "task": false
    },
    "tags": []
   },
   "source": [
    "#### **2c)** _(5 points)_ Fill in `Afb`, build the `A` matrix and calculate the `L` matrix"
   ]
  },
  {
   "cell_type": "code",
   "execution_count": 13,
   "id": "cf850845-bb6f-4af2-985d-ccef948d0f38",
   "metadata": {
    "deletable": false,
    "nbgrader": {
     "cell_type": "code",
     "checksum": "77474454cb546ec43253404a5bb42fc1",
     "grade": false,
     "grade_id": "cell-9fc7c23230e270f5",
     "locked": false,
     "schema_version": 3,
     "solution": true,
     "task": false
    },
    "tags": []
   },
   "outputs": [],
   "source": [
    "Afb = Afb.fillna(0)\n",
    "A1 = pd.concat([Aff, Afb], axis = 1)\n",
    "A2 = pd.concat([Abf, Abb], axis = 1)\n",
    "A = pd.concat([A1, A2], axis = 0)\n",
    "A = A.fillna(0)\n",
    "#display(A)\n",
    "\n",
    "I = np.identity(len(A))\n",
    "Larr = np.linalg.inv(I-A)\n",
    "L = pd.DataFrame(Larr, index = A.index, columns = A.columns)\n",
    "#display(L)"
   ]
  },
  {
   "cell_type": "markdown",
   "id": "b84145fd-cd90-4290-a7c3-4982ec164c8f",
   "metadata": {
    "deletable": false,
    "editable": false,
    "nbgrader": {
     "cell_type": "markdown",
     "checksum": "479085a7d4112059b7de390b9678b502",
     "grade": false,
     "grade_id": "cell-daaeaa1d3bfbd2ca",
     "locked": true,
     "schema_version": 3,
     "solution": false,
     "task": false
    },
    "tags": []
   },
   "source": [
    "**_Run the cell under to check the format of your answer(s)_**"
   ]
  },
  {
   "cell_type": "code",
   "execution_count": 14,
   "id": "1e2fd6bd-ec8c-4cd7-9f02-dc85035cc2f0",
   "metadata": {
    "deletable": false,
    "editable": false,
    "nbgrader": {
     "cell_type": "code",
     "checksum": "b6ac49f9649cfee1c714ab004db2ee30",
     "grade": true,
     "grade_id": "cell-5ba977699f36c24e",
     "locked": true,
     "points": 5,
     "schema_version": 3,
     "solution": false,
     "task": false
    },
    "tags": []
   },
   "outputs": [],
   "source": [
    "assert (L.index == list(Aff.columns) + list(Abb.columns)).all(), 'The index do not correspond'\n",
    "assert (L.columns == list(Aff.columns) + list(Abb.columns)).all(), 'The columns do not correspond'"
   ]
  },
  {
   "cell_type": "markdown",
   "id": "2ca2f2d6-d103-4fd3-9822-2e924945f03a",
   "metadata": {
    "deletable": false,
    "editable": false,
    "nbgrader": {
     "cell_type": "markdown",
     "checksum": "984fbad8760c90f092e3d5e9b8460ab0",
     "grade": false,
     "grade_id": "cell-cf55c4618fedce72",
     "locked": true,
     "schema_version": 3,
     "solution": false,
     "task": false
    },
    "tags": []
   },
   "source": [
    "#### **2d)** _(5 points)_ Calculate the output vectors `x_EV`, `x_ICEVD`, `x_ICEVG`"
   ]
  },
  {
   "cell_type": "markdown",
   "id": "1dac9157-4864-4751-bce6-17b73c20eb7e",
   "metadata": {
    "deletable": false,
    "editable": false,
    "nbgrader": {
     "cell_type": "markdown",
     "checksum": "f2e3a59bd32373c59cd86b9de6badef7",
     "grade": false,
     "grade_id": "cell-44d22d3b1525971e",
     "locked": true,
     "schema_version": 3,
     "solution": false,
     "task": false
    },
    "tags": []
   },
   "source": [
    "Run the cell below to get the `y_EV`, `y_ICEVD`, `y_ICEVG` vectors."
   ]
  },
  {
   "cell_type": "code",
   "execution_count": 15,
   "id": "6ceaa6b0-ea0f-4caa-9eb5-3980249f2e96",
   "metadata": {
    "deletable": false,
    "editable": false,
    "nbgrader": {
     "cell_type": "code",
     "checksum": "301845531c9fa996e3012c29f78666b1",
     "grade": false,
     "grade_id": "cell-d01fd9d26f2f58cb",
     "locked": true,
     "schema_version": 3,
     "solution": false,
     "task": false
    },
    "tags": []
   },
   "outputs": [],
   "source": [
    "y_EV = convert_formulas(pd.read_csv(files_folder + 'y_EV.csv', sep = ',', index_col = [0]))\n",
    "y_ICEVD = convert_formulas(pd.read_csv(files_folder + 'y_ICEVD.csv', sep = ',', index_col = [0]))\n",
    "y_ICEVG = convert_formulas(pd.read_csv(files_folder + 'y_ICEVG.csv', sep = ',', index_col = [0]))"
   ]
  },
  {
   "cell_type": "markdown",
   "id": "22cd6c27-52c5-4fbf-b3f5-53644bea921d",
   "metadata": {
    "deletable": false,
    "editable": false,
    "nbgrader": {
     "cell_type": "markdown",
     "checksum": "eb4e316ff3d8e25092b408f84f320f8d",
     "grade": false,
     "grade_id": "cell-fa06a8ff7d516f30",
     "locked": true,
     "schema_version": 3,
     "solution": false,
     "task": false
    },
    "tags": []
   },
   "source": [
    "Fill in `y_EV`, `y_ICEVD`, `y_ICEVG`, calculate `x_EV`, `x_ICEVD`, `x_ICEVG` and rename their column into \"Output\"."
   ]
  },
  {
   "cell_type": "code",
   "execution_count": 16,
   "id": "48263151-95bf-44ff-8571-b7a7c920218b",
   "metadata": {
    "deletable": false,
    "nbgrader": {
     "cell_type": "code",
     "checksum": "592c0246f041d132a32638c6443c6cfd",
     "grade": false,
     "grade_id": "cell-c06ac598584fb65e",
     "locked": false,
     "schema_version": 3,
     "solution": true,
     "task": false
    },
    "tags": []
   },
   "outputs": [
    {
     "data": {
      "text/html": [
       "<div>\n",
       "<style scoped>\n",
       "    .dataframe tbody tr th:only-of-type {\n",
       "        vertical-align: middle;\n",
       "    }\n",
       "\n",
       "    .dataframe tbody tr th {\n",
       "        vertical-align: top;\n",
       "    }\n",
       "\n",
       "    .dataframe thead th {\n",
       "        text-align: right;\n",
       "    }\n",
       "</style>\n",
       "<table border=\"1\" class=\"dataframe\">\n",
       "  <thead>\n",
       "    <tr style=\"text-align: right;\">\n",
       "      <th></th>\n",
       "      <th>Output</th>\n",
       "    </tr>\n",
       "  </thead>\n",
       "  <tbody>\n",
       "    <tr>\n",
       "      <th>EV Li-NCM</th>\n",
       "      <td>1.000000e+00</td>\n",
       "    </tr>\n",
       "    <tr>\n",
       "      <th>ICEV D</th>\n",
       "      <td>2.207675e-19</td>\n",
       "    </tr>\n",
       "    <tr>\n",
       "      <th>ICEV G</th>\n",
       "      <td>1.622905e-16</td>\n",
       "    </tr>\n",
       "    <tr>\n",
       "      <th>Body_and_Doors</th>\n",
       "      <td>1.000000e+00</td>\n",
       "    </tr>\n",
       "    <tr>\n",
       "      <th>Brakes_Friction</th>\n",
       "      <td>1.000000e+00</td>\n",
       "    </tr>\n",
       "    <tr>\n",
       "      <th>...</th>\n",
       "      <td>...</td>\n",
       "    </tr>\n",
       "    <tr>\n",
       "      <th>Membership organisation services n.e.c. (91) - Meuro</th>\n",
       "      <td>7.639170e-06</td>\n",
       "    </tr>\n",
       "    <tr>\n",
       "      <th>Recreational; cultural and sporting services (92) - Meuro</th>\n",
       "      <td>9.869988e-06</td>\n",
       "    </tr>\n",
       "    <tr>\n",
       "      <th>Other services (93) - Meuro</th>\n",
       "      <td>2.003256e-05</td>\n",
       "    </tr>\n",
       "    <tr>\n",
       "      <th>Private households with employed persons (95) - Meuro</th>\n",
       "      <td>0.000000e+00</td>\n",
       "    </tr>\n",
       "    <tr>\n",
       "      <th>Extra-territorial organizations and bodies - Meuro</th>\n",
       "      <td>0.000000e+00</td>\n",
       "    </tr>\n",
       "  </tbody>\n",
       "</table>\n",
       "<p>223 rows × 1 columns</p>\n",
       "</div>"
      ],
      "text/plain": [
       "                                                          Output\n",
       "EV Li-NCM                                           1.000000e+00\n",
       "ICEV D                                              2.207675e-19\n",
       "ICEV G                                              1.622905e-16\n",
       "Body_and_Doors                                      1.000000e+00\n",
       "Brakes_Friction                                     1.000000e+00\n",
       "...                                                          ...\n",
       "Membership organisation services n.e.c. (91) - ...  7.639170e-06\n",
       "Recreational; cultural and sporting services (9...  9.869988e-06\n",
       "Other services (93) - Meuro                         2.003256e-05\n",
       "Private households with employed persons (95) -...  0.000000e+00\n",
       "Extra-territorial organizations and bodies - Meuro  0.000000e+00\n",
       "\n",
       "[223 rows x 1 columns]"
      ]
     },
     "metadata": {},
     "output_type": "display_data"
    },
    {
     "data": {
      "text/html": [
       "<div>\n",
       "<style scoped>\n",
       "    .dataframe tbody tr th:only-of-type {\n",
       "        vertical-align: middle;\n",
       "    }\n",
       "\n",
       "    .dataframe tbody tr th {\n",
       "        vertical-align: top;\n",
       "    }\n",
       "\n",
       "    .dataframe thead th {\n",
       "        text-align: right;\n",
       "    }\n",
       "</style>\n",
       "<table border=\"1\" class=\"dataframe\">\n",
       "  <thead>\n",
       "    <tr style=\"text-align: right;\">\n",
       "      <th></th>\n",
       "      <th>Output</th>\n",
       "    </tr>\n",
       "  </thead>\n",
       "  <tbody>\n",
       "    <tr>\n",
       "      <th>EV Li-NCM</th>\n",
       "      <td>4.039718e-16</td>\n",
       "    </tr>\n",
       "    <tr>\n",
       "      <th>ICEV D</th>\n",
       "      <td>1.000000e+00</td>\n",
       "    </tr>\n",
       "    <tr>\n",
       "      <th>ICEV G</th>\n",
       "      <td>-1.611999e-16</td>\n",
       "    </tr>\n",
       "    <tr>\n",
       "      <th>Body_and_Doors</th>\n",
       "      <td>1.000000e+00</td>\n",
       "    </tr>\n",
       "    <tr>\n",
       "      <th>Brakes_Friction</th>\n",
       "      <td>1.000000e+00</td>\n",
       "    </tr>\n",
       "    <tr>\n",
       "      <th>...</th>\n",
       "      <td>...</td>\n",
       "    </tr>\n",
       "    <tr>\n",
       "      <th>Membership organisation services n.e.c. (91) - Meuro</th>\n",
       "      <td>6.161682e-06</td>\n",
       "    </tr>\n",
       "    <tr>\n",
       "      <th>Recreational; cultural and sporting services (92) - Meuro</th>\n",
       "      <td>9.212860e-06</td>\n",
       "    </tr>\n",
       "    <tr>\n",
       "      <th>Other services (93) - Meuro</th>\n",
       "      <td>1.221167e-05</td>\n",
       "    </tr>\n",
       "    <tr>\n",
       "      <th>Private households with employed persons (95) - Meuro</th>\n",
       "      <td>0.000000e+00</td>\n",
       "    </tr>\n",
       "    <tr>\n",
       "      <th>Extra-territorial organizations and bodies - Meuro</th>\n",
       "      <td>0.000000e+00</td>\n",
       "    </tr>\n",
       "  </tbody>\n",
       "</table>\n",
       "<p>223 rows × 1 columns</p>\n",
       "</div>"
      ],
      "text/plain": [
       "                                                          Output\n",
       "EV Li-NCM                                           4.039718e-16\n",
       "ICEV D                                              1.000000e+00\n",
       "ICEV G                                             -1.611999e-16\n",
       "Body_and_Doors                                      1.000000e+00\n",
       "Brakes_Friction                                     1.000000e+00\n",
       "...                                                          ...\n",
       "Membership organisation services n.e.c. (91) - ...  6.161682e-06\n",
       "Recreational; cultural and sporting services (9...  9.212860e-06\n",
       "Other services (93) - Meuro                         1.221167e-05\n",
       "Private households with employed persons (95) -...  0.000000e+00\n",
       "Extra-territorial organizations and bodies - Meuro  0.000000e+00\n",
       "\n",
       "[223 rows x 1 columns]"
      ]
     },
     "metadata": {},
     "output_type": "display_data"
    },
    {
     "data": {
      "text/html": [
       "<div>\n",
       "<style scoped>\n",
       "    .dataframe tbody tr th:only-of-type {\n",
       "        vertical-align: middle;\n",
       "    }\n",
       "\n",
       "    .dataframe tbody tr th {\n",
       "        vertical-align: top;\n",
       "    }\n",
       "\n",
       "    .dataframe thead th {\n",
       "        text-align: right;\n",
       "    }\n",
       "</style>\n",
       "<table border=\"1\" class=\"dataframe\">\n",
       "  <thead>\n",
       "    <tr style=\"text-align: right;\">\n",
       "      <th></th>\n",
       "      <th>Output</th>\n",
       "    </tr>\n",
       "  </thead>\n",
       "  <tbody>\n",
       "    <tr>\n",
       "      <th>EV Li-NCM</th>\n",
       "      <td>3.978720e-17</td>\n",
       "    </tr>\n",
       "    <tr>\n",
       "      <th>ICEV D</th>\n",
       "      <td>-9.305018e-16</td>\n",
       "    </tr>\n",
       "    <tr>\n",
       "      <th>ICEV G</th>\n",
       "      <td>1.000000e+00</td>\n",
       "    </tr>\n",
       "    <tr>\n",
       "      <th>Body_and_Doors</th>\n",
       "      <td>1.000000e+00</td>\n",
       "    </tr>\n",
       "    <tr>\n",
       "      <th>Brakes_Friction</th>\n",
       "      <td>1.000000e+00</td>\n",
       "    </tr>\n",
       "    <tr>\n",
       "      <th>...</th>\n",
       "      <td>...</td>\n",
       "    </tr>\n",
       "    <tr>\n",
       "      <th>Membership organisation services n.e.c. (91) - Meuro</th>\n",
       "      <td>6.368024e-06</td>\n",
       "    </tr>\n",
       "    <tr>\n",
       "      <th>Recreational; cultural and sporting services (92) - Meuro</th>\n",
       "      <td>9.555792e-06</td>\n",
       "    </tr>\n",
       "    <tr>\n",
       "      <th>Other services (93) - Meuro</th>\n",
       "      <td>1.252915e-05</td>\n",
       "    </tr>\n",
       "    <tr>\n",
       "      <th>Private households with employed persons (95) - Meuro</th>\n",
       "      <td>0.000000e+00</td>\n",
       "    </tr>\n",
       "    <tr>\n",
       "      <th>Extra-territorial organizations and bodies - Meuro</th>\n",
       "      <td>0.000000e+00</td>\n",
       "    </tr>\n",
       "  </tbody>\n",
       "</table>\n",
       "<p>223 rows × 1 columns</p>\n",
       "</div>"
      ],
      "text/plain": [
       "                                                          Output\n",
       "EV Li-NCM                                           3.978720e-17\n",
       "ICEV D                                             -9.305018e-16\n",
       "ICEV G                                              1.000000e+00\n",
       "Body_and_Doors                                      1.000000e+00\n",
       "Brakes_Friction                                     1.000000e+00\n",
       "...                                                          ...\n",
       "Membership organisation services n.e.c. (91) - ...  6.368024e-06\n",
       "Recreational; cultural and sporting services (9...  9.555792e-06\n",
       "Other services (93) - Meuro                         1.252915e-05\n",
       "Private households with employed persons (95) -...  0.000000e+00\n",
       "Extra-territorial organizations and bodies - Meuro  0.000000e+00\n",
       "\n",
       "[223 rows x 1 columns]"
      ]
     },
     "metadata": {},
     "output_type": "display_data"
    }
   ],
   "source": [
    "y_EV = y_EV.fillna(0)\n",
    "x_EV = L @ y_EV\n",
    "x_EV = x_EV.rename(columns = {'Final demand' : 'Output'})\n",
    "display(x_EV)\n",
    "\n",
    "y_ICEVD = y_ICEVD.fillna(0)\n",
    "x_ICEVD = L @ y_ICEVD\n",
    "x_ICEVD = x_ICEVD.rename(columns = {'Final demand' : 'Output'})\n",
    "display(x_ICEVD)\n",
    "\n",
    "y_ICEVG = y_ICEVG.fillna(0)\n",
    "x_ICEVG = L @ y_ICEVG\n",
    "x_ICEVG = x_ICEVG.rename(columns = {'Final demand' : 'Output'})\n",
    "display(x_ICEVG)"
   ]
  },
  {
   "cell_type": "markdown",
   "id": "7e99b134-6ebc-4305-882d-edd0a2c28c7a",
   "metadata": {
    "deletable": false,
    "editable": false,
    "nbgrader": {
     "cell_type": "markdown",
     "checksum": "62a4cb6d4824561d236ca1acac8de578",
     "grade": false,
     "grade_id": "cell-67d6c6498a7fd628",
     "locked": true,
     "schema_version": 3,
     "solution": false,
     "task": false
    },
    "tags": []
   },
   "source": [
    "**_Run the cell under to check the format of your answer(s)_**"
   ]
  },
  {
   "cell_type": "code",
   "execution_count": 17,
   "id": "e2bdd3b2-a329-4b76-a33b-5e9b3e7dea63",
   "metadata": {
    "deletable": false,
    "editable": false,
    "nbgrader": {
     "cell_type": "code",
     "checksum": "90e414717dd6945f9098d34cc7583a10",
     "grade": true,
     "grade_id": "cell-658f974d728f88b9",
     "locked": true,
     "points": 5,
     "schema_version": 3,
     "solution": false,
     "task": false
    },
    "tags": []
   },
   "outputs": [],
   "source": [
    "assert (x_EV.index == list(Aff.columns) + list(Abb.columns)).all(), 'The index do not correspond'\n",
    "assert (x_EV.columns == ['Output']).all(), 'The columns do not correspond'\n",
    "assert (x_ICEVD.index == list(Aff.columns) + list(Abb.columns)).all(), 'The index do not correspond'\n",
    "assert (x_ICEVD.columns == ['Output']).all(), 'The columns do not correspond'\n",
    "assert (x_ICEVG.index == list(Aff.columns) + list(Abb.columns)).all(), 'The index do not correspond'\n",
    "assert (x_ICEVG.columns == ['Output']).all(), 'The columns do not correspond'"
   ]
  },
  {
   "cell_type": "markdown",
   "id": "dc80ef9d-cabc-4d3a-8ed1-b66d966a1bc9",
   "metadata": {
    "deletable": false,
    "editable": false,
    "nbgrader": {
     "cell_type": "markdown",
     "checksum": "ba3ba152a369626f5b926a5d3367eaae",
     "grade": false,
     "grade_id": "cell-5ab193cc5cbe3f6d",
     "locked": true,
     "schema_version": 3,
     "solution": false,
     "task": false
    },
    "tags": []
   },
   "source": [
    "#### **2e)** _(5 points)_ Calculate `d_EV`, `d_ICEVD`, `d_ICEVG` and rename their column into \"Total impacts\""
   ]
  },
  {
   "cell_type": "code",
   "execution_count": 18,
   "id": "ccbf7d82-d337-432c-be0d-c155591da458",
   "metadata": {
    "deletable": false,
    "nbgrader": {
     "cell_type": "code",
     "checksum": "d0a8beb23733ed59b5fabc009bbe1db6",
     "grade": false,
     "grade_id": "cell-22a36ddefdb0b656",
     "locked": false,
     "schema_version": 3,
     "solution": true,
     "task": false
    },
    "tags": []
   },
   "outputs": [
    {
     "data": {
      "text/html": [
       "<div>\n",
       "<style scoped>\n",
       "    .dataframe tbody tr th:only-of-type {\n",
       "        vertical-align: middle;\n",
       "    }\n",
       "\n",
       "    .dataframe tbody tr th {\n",
       "        vertical-align: top;\n",
       "    }\n",
       "\n",
       "    .dataframe thead th {\n",
       "        text-align: right;\n",
       "    }\n",
       "</style>\n",
       "<table border=\"1\" class=\"dataframe\">\n",
       "  <thead>\n",
       "    <tr style=\"text-align: right;\">\n",
       "      <th></th>\n",
       "      <th>Total impacts</th>\n",
       "    </tr>\n",
       "    <tr>\n",
       "      <th>impact</th>\n",
       "      <th></th>\n",
       "    </tr>\n",
       "  </thead>\n",
       "  <tbody>\n",
       "    <tr>\n",
       "      <th>Acidification - AP (kg SO2-eq)</th>\n",
       "      <td>173.574482</td>\n",
       "    </tr>\n",
       "    <tr>\n",
       "      <th>Climate change - GWP100 (kg CO2-eq)</th>\n",
       "      <td>26575.109508</td>\n",
       "    </tr>\n",
       "    <tr>\n",
       "      <th>Eutrophication - EP (kg PO4-eq)</th>\n",
       "      <td>81.281768</td>\n",
       "    </tr>\n",
       "    <tr>\n",
       "      <th>Freshwater ecotoxity  - FAETP 100 (kg 1,4-DCB-eq)</th>\n",
       "      <td>50.987634</td>\n",
       "    </tr>\n",
       "    <tr>\n",
       "      <th>Human toxicity - HTP 100 (kg 1,4-DCB-eq)</th>\n",
       "      <td>28670.780119</td>\n",
       "    </tr>\n",
       "    <tr>\n",
       "      <th>Ozone layer depletion - ODP steady state (kg CFC-11-eq)</th>\n",
       "      <td>0.000336</td>\n",
       "    </tr>\n",
       "    <tr>\n",
       "      <th>Photochemical oxidation (high NOx) - POCP (kg C2H4-eq)</th>\n",
       "      <td>14.595965</td>\n",
       "    </tr>\n",
       "    <tr>\n",
       "      <th>Terrestrial ecotoxicity - TETP 100 (kg 1,4-DCB-eq)</th>\n",
       "      <td>26.430446</td>\n",
       "    </tr>\n",
       "  </tbody>\n",
       "</table>\n",
       "</div>"
      ],
      "text/plain": [
       "                                                    Total impacts\n",
       "impact                                                           \n",
       "Acidification - AP (kg SO2-eq)                         173.574482\n",
       "Climate change - GWP100 (kg CO2-eq)                  26575.109508\n",
       "Eutrophication - EP (kg PO4-eq)                         81.281768\n",
       "Freshwater ecotoxity  - FAETP 100 (kg 1,4-DCB-eq)       50.987634\n",
       "Human toxicity - HTP 100 (kg 1,4-DCB-eq)             28670.780119\n",
       "Ozone layer depletion - ODP steady state (kg CF...       0.000336\n",
       "Photochemical oxidation (high NOx) - POCP (kg C...      14.595965\n",
       "Terrestrial ecotoxicity - TETP 100 (kg 1,4-DCB-eq)      26.430446"
      ]
     },
     "metadata": {},
     "output_type": "display_data"
    },
    {
     "data": {
      "text/html": [
       "<div>\n",
       "<style scoped>\n",
       "    .dataframe tbody tr th:only-of-type {\n",
       "        vertical-align: middle;\n",
       "    }\n",
       "\n",
       "    .dataframe tbody tr th {\n",
       "        vertical-align: top;\n",
       "    }\n",
       "\n",
       "    .dataframe thead th {\n",
       "        text-align: right;\n",
       "    }\n",
       "</style>\n",
       "<table border=\"1\" class=\"dataframe\">\n",
       "  <thead>\n",
       "    <tr style=\"text-align: right;\">\n",
       "      <th></th>\n",
       "      <th>Total impacts</th>\n",
       "    </tr>\n",
       "    <tr>\n",
       "      <th>impact</th>\n",
       "      <th></th>\n",
       "    </tr>\n",
       "  </thead>\n",
       "  <tbody>\n",
       "    <tr>\n",
       "      <th>Acidification - AP (kg SO2-eq)</th>\n",
       "      <td>93.909911</td>\n",
       "    </tr>\n",
       "    <tr>\n",
       "      <th>Climate change - GWP100 (kg CO2-eq)</th>\n",
       "      <td>33820.280458</td>\n",
       "    </tr>\n",
       "    <tr>\n",
       "      <th>Eutrophication - EP (kg PO4-eq)</th>\n",
       "      <td>60.605931</td>\n",
       "    </tr>\n",
       "    <tr>\n",
       "      <th>Freshwater ecotoxity  - FAETP 100 (kg 1,4-DCB-eq)</th>\n",
       "      <td>34.418921</td>\n",
       "    </tr>\n",
       "    <tr>\n",
       "      <th>Human toxicity - HTP 100 (kg 1,4-DCB-eq)</th>\n",
       "      <td>21106.851579</td>\n",
       "    </tr>\n",
       "    <tr>\n",
       "      <th>Ozone layer depletion - ODP steady state (kg CFC-11-eq)</th>\n",
       "      <td>0.000610</td>\n",
       "    </tr>\n",
       "    <tr>\n",
       "      <th>Photochemical oxidation (high NOx) - POCP (kg C2H4-eq)</th>\n",
       "      <td>14.565787</td>\n",
       "    </tr>\n",
       "    <tr>\n",
       "      <th>Terrestrial ecotoxicity - TETP 100 (kg 1,4-DCB-eq)</th>\n",
       "      <td>18.519932</td>\n",
       "    </tr>\n",
       "  </tbody>\n",
       "</table>\n",
       "</div>"
      ],
      "text/plain": [
       "                                                    Total impacts\n",
       "impact                                                           \n",
       "Acidification - AP (kg SO2-eq)                          93.909911\n",
       "Climate change - GWP100 (kg CO2-eq)                  33820.280458\n",
       "Eutrophication - EP (kg PO4-eq)                         60.605931\n",
       "Freshwater ecotoxity  - FAETP 100 (kg 1,4-DCB-eq)       34.418921\n",
       "Human toxicity - HTP 100 (kg 1,4-DCB-eq)             21106.851579\n",
       "Ozone layer depletion - ODP steady state (kg CF...       0.000610\n",
       "Photochemical oxidation (high NOx) - POCP (kg C...      14.565787\n",
       "Terrestrial ecotoxicity - TETP 100 (kg 1,4-DCB-eq)      18.519932"
      ]
     },
     "metadata": {},
     "output_type": "display_data"
    },
    {
     "data": {
      "text/html": [
       "<div>\n",
       "<style scoped>\n",
       "    .dataframe tbody tr th:only-of-type {\n",
       "        vertical-align: middle;\n",
       "    }\n",
       "\n",
       "    .dataframe tbody tr th {\n",
       "        vertical-align: top;\n",
       "    }\n",
       "\n",
       "    .dataframe thead th {\n",
       "        text-align: right;\n",
       "    }\n",
       "</style>\n",
       "<table border=\"1\" class=\"dataframe\">\n",
       "  <thead>\n",
       "    <tr style=\"text-align: right;\">\n",
       "      <th></th>\n",
       "      <th>Total impacts</th>\n",
       "    </tr>\n",
       "    <tr>\n",
       "      <th>impact</th>\n",
       "      <th></th>\n",
       "    </tr>\n",
       "  </thead>\n",
       "  <tbody>\n",
       "    <tr>\n",
       "      <th>Acidification - AP (kg SO2-eq)</th>\n",
       "      <td>93.362954</td>\n",
       "    </tr>\n",
       "    <tr>\n",
       "      <th>Climate change - GWP100 (kg CO2-eq)</th>\n",
       "      <td>35254.596987</td>\n",
       "    </tr>\n",
       "    <tr>\n",
       "      <th>Eutrophication - EP (kg PO4-eq)</th>\n",
       "      <td>57.223322</td>\n",
       "    </tr>\n",
       "    <tr>\n",
       "      <th>Freshwater ecotoxity  - FAETP 100 (kg 1,4-DCB-eq)</th>\n",
       "      <td>34.518964</td>\n",
       "    </tr>\n",
       "    <tr>\n",
       "      <th>Human toxicity - HTP 100 (kg 1,4-DCB-eq)</th>\n",
       "      <td>21272.021035</td>\n",
       "    </tr>\n",
       "    <tr>\n",
       "      <th>Ozone layer depletion - ODP steady state (kg CFC-11-eq)</th>\n",
       "      <td>0.000639</td>\n",
       "    </tr>\n",
       "    <tr>\n",
       "      <th>Photochemical oxidation (high NOx) - POCP (kg C2H4-eq)</th>\n",
       "      <td>17.270200</td>\n",
       "    </tr>\n",
       "    <tr>\n",
       "      <th>Terrestrial ecotoxicity - TETP 100 (kg 1,4-DCB-eq)</th>\n",
       "      <td>18.611226</td>\n",
       "    </tr>\n",
       "  </tbody>\n",
       "</table>\n",
       "</div>"
      ],
      "text/plain": [
       "                                                    Total impacts\n",
       "impact                                                           \n",
       "Acidification - AP (kg SO2-eq)                          93.362954\n",
       "Climate change - GWP100 (kg CO2-eq)                  35254.596987\n",
       "Eutrophication - EP (kg PO4-eq)                         57.223322\n",
       "Freshwater ecotoxity  - FAETP 100 (kg 1,4-DCB-eq)       34.518964\n",
       "Human toxicity - HTP 100 (kg 1,4-DCB-eq)             21272.021035\n",
       "Ozone layer depletion - ODP steady state (kg CF...       0.000639\n",
       "Photochemical oxidation (high NOx) - POCP (kg C...      17.270200\n",
       "Terrestrial ecotoxicity - TETP 100 (kg 1,4-DCB-eq)      18.611226"
      ]
     },
     "metadata": {},
     "output_type": "display_data"
    }
   ],
   "source": [
    "d_EV = C @ S @ x_EV\n",
    "d_EV = d_EV.rename(columns = {'Output' : 'Total impacts'})\n",
    "display(d_EV)\n",
    "\n",
    "d_ICEVD = C @ S @ x_ICEVD\n",
    "d_ICEVD = d_ICEVD.rename(columns = {'Output' : 'Total impacts'})\n",
    "display(d_ICEVD)\n",
    "\n",
    "d_ICEVG = C @ S @ x_ICEVG\n",
    "d_ICEVG = d_ICEVG.rename(columns = {'Output' : 'Total impacts'})\n",
    "display(d_ICEVG)"
   ]
  },
  {
   "cell_type": "markdown",
   "id": "9d6884df-c614-4513-9c70-bff14c06725d",
   "metadata": {
    "deletable": false,
    "editable": false,
    "nbgrader": {
     "cell_type": "markdown",
     "checksum": "f3693d8563f836342acf9186f2a17427",
     "grade": false,
     "grade_id": "cell-484752342c76eff6",
     "locked": true,
     "schema_version": 3,
     "solution": false,
     "task": false
    },
    "tags": []
   },
   "source": [
    "**_Run the cell under to check the format of your answer(s)_**"
   ]
  },
  {
   "cell_type": "code",
   "execution_count": 19,
   "id": "3a4630d4-9d52-4aaa-a8ff-28dc8fe54f59",
   "metadata": {
    "deletable": false,
    "editable": false,
    "nbgrader": {
     "cell_type": "code",
     "checksum": "90492952611d90c8407e5f65c6c6cc74",
     "grade": true,
     "grade_id": "cell-7119599940a6b28a",
     "locked": true,
     "points": 5,
     "schema_version": 3,
     "solution": false,
     "task": false
    },
    "tags": []
   },
   "outputs": [],
   "source": [
    "assert (d_EV.index == C.index).all(), 'The index do not correspond'\n",
    "assert (d_EV.columns == ['Total impacts']).all(), 'The columns do not correspond'\n",
    "assert (d_ICEVD.index == C.index).all(), 'The index do not correspond'\n",
    "assert (d_ICEVD.columns == ['Total impacts']).all(), 'The columns do not correspond'\n",
    "assert (d_ICEVG.index == C.index).all(), 'The index do not correspond'\n",
    "assert (d_ICEVG.columns == ['Total impacts']).all(), 'The columns do not correspond'"
   ]
  },
  {
   "cell_type": "markdown",
   "id": "df384723-eb3d-455c-80cc-a6a230547565",
   "metadata": {
    "deletable": false,
    "editable": false,
    "nbgrader": {
     "cell_type": "markdown",
     "checksum": "de112875eb240bb2edb30c3587226a59",
     "grade": false,
     "grade_id": "cell-7b958db4db531a4a",
     "locked": true,
     "schema_version": 3,
     "solution": false,
     "task": false
    },
    "tags": []
   },
   "source": [
    "## 3. Manufacturing, use and end-of-life impacts in terms of climate change (kg CO2eq) for all vehicles _(20 points)_"
   ]
  },
  {
   "cell_type": "markdown",
   "id": "bc609335-c0db-4053-abf2-2699f0d8ba65",
   "metadata": {
    "deletable": false,
    "editable": false,
    "nbgrader": {
     "cell_type": "markdown",
     "checksum": "ab91f83925eca4c0bf2b196d59beeb4e",
     "grade": false,
     "grade_id": "cell-f938f4f9a15bc24a",
     "locked": true,
     "schema_version": 3,
     "solution": false,
     "task": false
    },
    "tags": []
   },
   "source": [
    "We define `df_to_plot`, a DataFrame that you have to fill in by aggregating the different components/processes related to the vehicles according to their life cycle stages (Manufacturing, Use, End-of-life)."
   ]
  },
  {
   "cell_type": "code",
   "execution_count": 20,
   "id": "5ced72f2-21cf-4cd4-b317-d3072466cef1",
   "metadata": {
    "deletable": false,
    "editable": false,
    "nbgrader": {
     "cell_type": "code",
     "checksum": "6a2f4ade5686648d90e4667261e3b864",
     "grade": false,
     "grade_id": "cell-81f3ea23ab999ba4",
     "locked": true,
     "schema_version": 3,
     "solution": false,
     "task": false
    },
    "tags": []
   },
   "outputs": [
    {
     "data": {
      "text/html": [
       "<div>\n",
       "<style scoped>\n",
       "    .dataframe tbody tr th:only-of-type {\n",
       "        vertical-align: middle;\n",
       "    }\n",
       "\n",
       "    .dataframe tbody tr th {\n",
       "        vertical-align: top;\n",
       "    }\n",
       "\n",
       "    .dataframe thead th {\n",
       "        text-align: right;\n",
       "    }\n",
       "</style>\n",
       "<table border=\"1\" class=\"dataframe\">\n",
       "  <thead>\n",
       "    <tr style=\"text-align: right;\">\n",
       "      <th></th>\n",
       "      <th>EV</th>\n",
       "      <th>ICEVD</th>\n",
       "      <th>ICEVG</th>\n",
       "    </tr>\n",
       "  </thead>\n",
       "  <tbody>\n",
       "    <tr>\n",
       "      <th>Manufacturing (kg CO2eq)</th>\n",
       "      <td>NaN</td>\n",
       "      <td>NaN</td>\n",
       "      <td>NaN</td>\n",
       "    </tr>\n",
       "    <tr>\n",
       "      <th>Use (kg CO2eq)</th>\n",
       "      <td>NaN</td>\n",
       "      <td>NaN</td>\n",
       "      <td>NaN</td>\n",
       "    </tr>\n",
       "    <tr>\n",
       "      <th>End-of-life (kg CO2eq)</th>\n",
       "      <td>NaN</td>\n",
       "      <td>NaN</td>\n",
       "      <td>NaN</td>\n",
       "    </tr>\n",
       "  </tbody>\n",
       "</table>\n",
       "</div>"
      ],
      "text/plain": [
       "                           EV ICEVD ICEVG\n",
       "Manufacturing (kg CO2eq)  NaN   NaN   NaN\n",
       "Use (kg CO2eq)            NaN   NaN   NaN\n",
       "End-of-life (kg CO2eq)    NaN   NaN   NaN"
      ]
     },
     "metadata": {},
     "output_type": "display_data"
    }
   ],
   "source": [
    "### DataFrame to fill in\n",
    "df_to_plot = pd.DataFrame(index = ['Manufacturing (kg CO2eq)', 'Use (kg CO2eq)', 'End-of-life (kg CO2eq)'], columns = ['EV', 'ICEVD', 'ICEVG'])\n",
    "\n",
    "### Displaying the table for you to see how it looks like before you fill it in in the cell below\n",
    "display(df_to_plot)"
   ]
  },
  {
   "cell_type": "markdown",
   "id": "5fa14204-37ff-410a-9b9e-28ff038de971",
   "metadata": {
    "deletable": false,
    "editable": false,
    "nbgrader": {
     "cell_type": "markdown",
     "checksum": "592bb49fa96aa9941873215e2f4c739d",
     "grade": false,
     "grade_id": "cell-c2aa5eb5034458d4",
     "locked": true,
     "schema_version": 3,
     "solution": false,
     "task": false
    },
    "tags": []
   },
   "source": [
    "Hint: The approach you have to use is similar to PS9. As you have to get manufacturing/use/end of life for the three vehicles, you might also want to write a function that does the calculations and use this function for each of the vehicle."
   ]
  },
  {
   "cell_type": "code",
   "execution_count": null,
   "id": "d19c21c0-839a-46b7-ab85-4040c92c4da0",
   "metadata": {},
   "outputs": [],
   "source": []
  },
  {
   "cell_type": "code",
   "execution_count": 21,
   "id": "878556d7-20f8-4a94-9bbd-c7249353f56e",
   "metadata": {
    "deletable": false,
    "nbgrader": {
     "cell_type": "code",
     "checksum": "34758ea38054c1c21da55a7cfa824b3c",
     "grade": false,
     "grade_id": "cell-2490d1c1b2738208",
     "locked": false,
     "schema_version": 3,
     "solution": true,
     "task": false
    },
    "tags": []
   },
   "outputs": [
    {
     "data": {
      "text/html": [
       "<div>\n",
       "<style scoped>\n",
       "    .dataframe tbody tr th:only-of-type {\n",
       "        vertical-align: middle;\n",
       "    }\n",
       "\n",
       "    .dataframe tbody tr th {\n",
       "        vertical-align: top;\n",
       "    }\n",
       "\n",
       "    .dataframe thead th {\n",
       "        text-align: right;\n",
       "    }\n",
       "</style>\n",
       "<table border=\"1\" class=\"dataframe\">\n",
       "  <thead>\n",
       "    <tr style=\"text-align: right;\">\n",
       "      <th></th>\n",
       "      <th>EV</th>\n",
       "      <th>ICEVD</th>\n",
       "      <th>ICEVG</th>\n",
       "    </tr>\n",
       "  </thead>\n",
       "  <tbody>\n",
       "    <tr>\n",
       "      <th>Manufacturing (kg CO2eq)</th>\n",
       "      <td>10156.217799</td>\n",
       "      <td>6461.168124</td>\n",
       "      <td>6461.168124</td>\n",
       "    </tr>\n",
       "    <tr>\n",
       "      <th>Use (kg CO2eq)</th>\n",
       "      <td>15262.397295</td>\n",
       "      <td>27097.183596</td>\n",
       "      <td>28531.500126</td>\n",
       "    </tr>\n",
       "    <tr>\n",
       "      <th>End-of-life (kg CO2eq)</th>\n",
       "      <td>1156.494415</td>\n",
       "      <td>261.928738</td>\n",
       "      <td>261.928738</td>\n",
       "    </tr>\n",
       "  </tbody>\n",
       "</table>\n",
       "</div>"
      ],
      "text/plain": [
       "                                    EV         ICEVD         ICEVG\n",
       "Manufacturing (kg CO2eq)  10156.217799   6461.168124   6461.168124\n",
       "Use (kg CO2eq)            15262.397295  27097.183596  28531.500126\n",
       "End-of-life (kg CO2eq)     1156.494415    261.928738    261.928738"
      ]
     },
     "metadata": {},
     "output_type": "display_data"
    }
   ],
   "source": [
    "def calculate_Dprof(x):\n",
    "    xf = x.iloc[:len(Aff), ]\n",
    "    xf_i_marr = np.diag(xf[\"Output\"])\n",
    "    xf_i_m = pd.DataFrame(xf_i_marr, index = Aff.index, columns = Aff.columns)\n",
    "    #display(xf)\n",
    "    Mbf = Abf @ xf_i_m\n",
    "    #display(Mbf)\n",
    "    I_Abb = np.identity(len(Abb))\n",
    "    Larr = np.linalg.inv(I_Abb-Abb)\n",
    "    L_Abb = pd.DataFrame(Larr, index = Abb.index, columns =Abb.columns )\n",
    "\n",
    "    Xbf = L_Abb @ Mbf\n",
    "    #display(Xbf)\n",
    "    Dproff = C @ Sf @ xf_i_m\n",
    "    #display(Dproff)\n",
    "    Dprobf = C @ Sb @ Xbf\n",
    "\n",
    "    Dprof = Dproff + Dprobf\n",
    "    #display(Dprof)\n",
    "    return Dprof\n",
    "\n",
    "def getting_info_from_Dprof(car_type, x, df_to_plot): #Car_type=''\n",
    "    if car_type=='ICEVD':\n",
    "        drivstoff = 'Operation diesel car' \n",
    "    else: \n",
    "        if car_type=='ICEVG':\n",
    "            drivstoff = 'Operation gasoline car'\n",
    "        else: drivstoff = 'Operation electric car'\n",
    "    dprof = calculate_Dprof(x)\n",
    "    #display(dprof)\n",
    "    df_to_plot.loc['Manufacturing (kg CO2eq)', car_type] = sum(dprof.iloc[1, 2:17])\n",
    "    df_to_plot.loc['Use (kg CO2eq)', car_type] = dprof.loc['Climate change - GWP100 (kg CO2-eq)', drivstoff]\n",
    "    df_to_plot.loc['End-of-life (kg CO2eq)', car_type] = sum(dprof.iloc[1, 21:23])\n",
    "    return df_to_plot\n",
    "\n",
    "df_to_plot = getting_info_from_Dprof('ICEVD', x_ICEVD, df_to_plot)\n",
    "df_to_plot = getting_info_from_Dprof('ICEVG', x_ICEVG, df_to_plot)\n",
    "df_to_plot = getting_info_from_Dprof('EV', x_EV, df_to_plot)\n",
    "display(df_to_plot)"
   ]
  },
  {
   "cell_type": "markdown",
   "id": "0a96673e-832b-43b3-bca9-e1840151bae0",
   "metadata": {
    "deletable": false,
    "editable": false,
    "nbgrader": {
     "cell_type": "markdown",
     "checksum": "dddc222235f2b2dc1a1a3aa29d7ae077",
     "grade": false,
     "grade_id": "cell-da60af394b7815a1",
     "locked": true,
     "schema_version": 3,
     "solution": false,
     "task": false
    },
    "tags": []
   },
   "source": [
    "**_Run the cell under to check the format of your answer(s)_**"
   ]
  },
  {
   "cell_type": "code",
   "execution_count": 22,
   "id": "7b898f14-d859-4666-8f56-658b49ff799e",
   "metadata": {
    "deletable": false,
    "editable": false,
    "nbgrader": {
     "cell_type": "code",
     "checksum": "415c8f4345300aa3776e76756a175651",
     "grade": true,
     "grade_id": "cell-b7864729a5ea5bfc",
     "locked": true,
     "points": 15,
     "schema_version": 3,
     "solution": false,
     "task": false
    },
    "tags": []
   },
   "outputs": [],
   "source": [
    "assert np.isclose(df_to_plot['EV'].sum(axis = 0), d_EV.loc['Climate change - GWP100 (kg CO2-eq)'].values[0], atol=1e-2), 'The value is not equal to climate change impact in d_EV'\n",
    "assert np.isclose(df_to_plot['ICEVD'].sum(axis = 0), d_ICEVD.loc['Climate change - GWP100 (kg CO2-eq)'].values[0], atol=1e-2), 'The value is not equal to climate change impact in d_ICEVD'\n",
    "assert np.isclose(df_to_plot['ICEVG'].sum(axis = 0), d_ICEVG.loc['Climate change - GWP100 (kg CO2-eq)'].values[0], atol=1e-2), 'The value is not equal to climate change impact in d_ICEVG'"
   ]
  },
  {
   "cell_type": "code",
   "execution_count": 23,
   "id": "8557f6f9-45fc-40e8-bb63-dd1b6bd278e8",
   "metadata": {
    "deletable": false,
    "editable": false,
    "nbgrader": {
     "cell_type": "code",
     "checksum": "5b55c2ab0b0707f1c3464cf0c0f6b5dc",
     "grade": false,
     "grade_id": "cell-ca3b355c06ef9227",
     "locked": true,
     "schema_version": 3,
     "solution": false,
     "task": false
    },
    "tags": []
   },
   "outputs": [
    {
     "data": {
      "text/plain": [
       "Text(0.5, 1.0, 'Climate change impact (kg CO2-eq.) from driving 180000 km.')"
      ]
     },
     "execution_count": 23,
     "metadata": {},
     "output_type": "execute_result"
    },
    {
     "data": {
      "image/png": "[encoded data removed]",
      "text/plain": [
       "<Figure size 640x480 with 1 Axes>"
      ]
     },
     "metadata": {},
     "output_type": "display_data"
    }
   ],
   "source": [
    "### Create the stacked bar chart\n",
    "df_to_plot.T.plot(kind='bar', stacked=True, color=['blue', 'red', 'green'])\n",
    "plt.legend(loc='center left', bbox_to_anchor=(1, 0.5))\n",
    "plt.title('Climate change impact (kg CO2-eq.) from driving 180000 km.')"
   ]
  },
  {
   "cell_type": "markdown",
   "id": "66e8ffaf-59a8-453e-8f17-ecad5c60bc35",
   "metadata": {
    "deletable": false,
    "editable": false,
    "nbgrader": {
     "cell_type": "markdown",
     "checksum": "e545bb3fd45d08f801b18c33f7ad5e41",
     "grade": false,
     "grade_id": "cell-89346b3b63591a27",
     "locked": true,
     "schema_version": 3,
     "solution": false,
     "task": false
    },
    "tags": []
   },
   "source": [
    "Which of the following statements are correct?\n",
    "1. Electric vehicles have consistently lower emissions during production, use, and end-of-life phases.\n",
    "2. Electric vehicles produce fewer emissions solely during the use phase, while having higher emissions during the production and end-of-life phases. In scenarios with very short periods of vehicle use, the increased emissions during production may outweigh the benefits of lower emissions during use.\n",
    "3. Electric vehicles are never a greener option, irrespective of the context or size of the battery. \n",
    "4. The gasoline vehicle emits less than the diesel vehicle, and thus achieves lower climate change impact in total. \n",
    "5. The substantial environmental impact related to disposal of electric vehicle end-of-life treatment stems from the separate handling of Li-ion batteries.\n",
    "\n",
    "Define your answer as the variable `answer_3` (e.g. `answer_3 = {1}` if you think the correct statement is statement {1} or `answer_3 = {1, 2}` if you think the correct statements are statements {1, 2})."
   ]
  },
  {
   "cell_type": "code",
   "execution_count": 24,
   "id": "420f7639-b889-4cba-9928-af71ea8ddd92",
   "metadata": {
    "deletable": false,
    "nbgrader": {
     "cell_type": "code",
     "checksum": "a1015ae803315495c15dd0ab3a5a3d2d",
     "grade": false,
     "grade_id": "cell-63e6b9ca0efc1357",
     "locked": false,
     "schema_version": 3,
     "solution": true,
     "task": false
    },
    "tags": []
   },
   "outputs": [],
   "source": [
    "answer_3 = {2, 5}"
   ]
  },
  {
   "cell_type": "markdown",
   "id": "551e0098-76ed-4785-a607-22e5730fa806",
   "metadata": {
    "deletable": false,
    "editable": false,
    "nbgrader": {
     "cell_type": "markdown",
     "checksum": "a802bd57dd3e469c194338c35a47a130",
     "grade": false,
     "grade_id": "cell-681feb8a8ceb1645",
     "locked": true,
     "schema_version": 3,
     "solution": false,
     "task": false
    },
    "tags": []
   },
   "source": [
    "**_Run the cell under to check the format of your answer(s)_**"
   ]
  },
  {
   "cell_type": "code",
   "execution_count": 25,
   "id": "df2f20ef-1310-49c4-9805-dcdcb073224b",
   "metadata": {
    "deletable": false,
    "editable": false,
    "nbgrader": {
     "cell_type": "code",
     "checksum": "c4116848bb59eee24977e2f7893c4976",
     "grade": true,
     "grade_id": "cell-5eb6dcf578abc0b7",
     "locked": true,
     "points": 5,
     "schema_version": 3,
     "solution": false,
     "task": false
    },
    "tags": []
   },
   "outputs": [],
   "source": [
    "assert all (type(i) in [set] for i in [answer_3]), 'The answer(s) must be a set of values'"
   ]
  },
  {
   "cell_type": "markdown",
   "id": "186f0bab-6b91-4914-8f05-bf4fee203ace",
   "metadata": {
    "deletable": false,
    "editable": false,
    "nbgrader": {
     "cell_type": "markdown",
     "checksum": "baeed1724ef53eaf4eb8506e24a35792",
     "grade": false,
     "grade_id": "cell-456ab4b2200f7000",
     "locked": true,
     "schema_version": 3,
     "solution": false,
     "task": false
    },
    "tags": []
   },
   "source": [
    "## 4. Climate change impact of the electric vehicle powered by electricity based on (1) coal and (2) hydropower _(20 points)_"
   ]
  },
  {
   "cell_type": "markdown",
   "id": "c6866640-b8d4-47ec-a575-54e1cf040d69",
   "metadata": {
    "deletable": false,
    "editable": false,
    "nbgrader": {
     "cell_type": "markdown",
     "checksum": "1742e285bc5ab3be5ef4e2b2bf8abaf4",
     "grade": false,
     "grade_id": "cell-acfb5a42f50d381f",
     "locked": true,
     "schema_version": 3,
     "solution": false,
     "task": false
    },
    "tags": []
   },
   "source": [
    "Calculate `d_EV_coal` and `d_EV_hydro` by replacing 'Electricity by gas - TJ' to 'Electricity by coal - TJ' and 'Electricity by hydro - TJ' for the 'Operation electric car'. Rename their columns as \"Total impacts\"."
   ]
  },
  {
   "cell_type": "code",
   "execution_count": 26,
   "id": "e42b0628-dc72-4f1c-a244-08076dd9589f",
   "metadata": {
    "deletable": false,
    "editable": false,
    "nbgrader": {
     "cell_type": "code",
     "checksum": "87bd608461c9a546b94db13e1e871659",
     "grade": false,
     "grade_id": "cell-f44048dbd0f650b7",
     "locked": true,
     "schema_version": 3,
     "solution": false,
     "task": false
    },
    "tags": []
   },
   "outputs": [],
   "source": [
    "### Abf_coal and Abf_hydro are a copy of Abf and these are the DataFrames you have to modify. Otherwise, if you use Abf directly, you will change its values.\n",
    "Abf_coal = Abf.copy()\n",
    "Abf_hydro = Abf.copy()"
   ]
  },
  {
   "cell_type": "code",
   "execution_count": 27,
   "id": "16399a8a-583c-449a-a872-5cf14f7ccf17",
   "metadata": {
    "deletable": false,
    "nbgrader": {
     "cell_type": "code",
     "checksum": "404e22860ae09b11654509df2763e6c3",
     "grade": false,
     "grade_id": "cell-c66853253d3a4ecb",
     "locked": false,
     "schema_version": 3,
     "solution": true,
     "task": false
    },
    "tags": []
   },
   "outputs": [
    {
     "name": "stdout",
     "output_type": "stream",
     "text": [
      "7.099919999999999e-07\n",
      "0.0\n"
     ]
    }
   ],
   "source": [
    "### About EV with electricity from coal\n",
    "### Calculate d_EV_coal\n",
    "Abf_coal.loc['Electricity by coal - TJ', 'Operation electric car'] = Abf.loc['Electricity by gas - TJ', 'Operation electric car']\n",
    "Abf_coal.loc['Electricity by gas - TJ', 'Operation electric car'] = 0\n",
    "A1 = pd.concat([Aff, Afb], axis = 1)\n",
    "A2 = pd.concat([Abf_coal, Abb], axis = 1)\n",
    "A_coal = pd.concat([A1, A2], axis = 0)\n",
    "A_coal = A_coal.fillna(0)\n",
    "print(A_coal.loc['Electricity by coal - TJ', 'Operation electric car'])\n",
    "print(A_coal.loc['Electricity by gas - TJ', 'Operation electric car'])\n",
    "\n",
    "I = np.identity(len(A_coal))\n",
    "Larr = np.linalg.inv(I-A_coal)\n",
    "L_coal = pd.DataFrame(Larr, index = A.index, columns = A.columns)\n",
    "x_EV_coal = L_coal @ y_EV\n",
    "x_EV_coal = x_EV_coal.rename(columns = {'Final demand' : 'Output'})\n",
    "d_EV_coal = C @ S @ x_EV_coal\n",
    "d_EV_coal = d_EV_coal.rename(columns = {'Output' : 'Total impacts'})"
   ]
  },
  {
   "cell_type": "markdown",
   "id": "0dfa3b49-76fe-4bd7-b2ba-5466552cc528",
   "metadata": {
    "deletable": false,
    "editable": false,
    "nbgrader": {
     "cell_type": "markdown",
     "checksum": "f67f3585c1c0a06111434cb2ead2bb73",
     "grade": false,
     "grade_id": "cell-9bfe865f20873f98",
     "locked": true,
     "schema_version": 3,
     "solution": false,
     "task": false
    },
    "tags": []
   },
   "source": [
    "**_Run the cell under to check the format of your answer(s)_**"
   ]
  },
  {
   "cell_type": "code",
   "execution_count": 28,
   "id": "88fd7fd8-75ba-4f43-b154-cf9a0c7f75e5",
   "metadata": {
    "deletable": false,
    "editable": false,
    "nbgrader": {
     "cell_type": "code",
     "checksum": "4cc223575142bc4c2d2a1aa77ad86325",
     "grade": true,
     "grade_id": "cell-340036b004963697",
     "locked": true,
     "points": 7.5,
     "schema_version": 3,
     "solution": false,
     "task": false
    },
    "tags": []
   },
   "outputs": [],
   "source": [
    "assert (d_EV_coal.index == C.index).all(), 'The index do not correspond'\n",
    "assert (d_EV_coal.columns == ['Total impacts']).all(), 'The columns do not correspond'"
   ]
  },
  {
   "cell_type": "code",
   "execution_count": 29,
   "id": "cbb0e3aa-9c66-44df-b9da-5ec4f09815fe",
   "metadata": {
    "deletable": false,
    "nbgrader": {
     "cell_type": "code",
     "checksum": "2d4e50e0f25c71800a00c10e8e144b75",
     "grade": false,
     "grade_id": "cell-74e0a1934775846d",
     "locked": false,
     "schema_version": 3,
     "solution": true,
     "task": false
    },
    "tags": []
   },
   "outputs": [],
   "source": [
    "### About EV with electricity from hydropower\n",
    "### Calculate d_EV_hydro\n",
    "Abf_hydro.loc['Electricity by hydro - TJ', 'Operation electric car'] = Abf.loc['Electricity by gas - TJ', 'Operation electric car']\n",
    "Abf_hydro.loc['Electricity by gas - TJ', 'Operation electric car'] = 0\n",
    "A1 = pd.concat([Aff, Afb], axis = 1)\n",
    "A2 = pd.concat([Abf_hydro, Abb], axis = 1)\n",
    "A_hydro = pd.concat([A1, A2], axis = 0)\n",
    "A_hydro = A_hydro.fillna(0)\n",
    "#display(A)\n",
    "\n",
    "I = np.identity(len(A_hydro))\n",
    "Larr = np.linalg.inv(I-A_hydro)\n",
    "L_hydro = pd.DataFrame(Larr, index = A.index, columns = A.columns)\n",
    "x_EV_hydro = L_hydro @ y_EV\n",
    "x_EV_hydro = x_EV_hydro.rename(columns = {'Final demand' : 'Output'})\n",
    "d_EV_hydro = C @ S @ x_EV_hydro\n",
    "d_EV_hydro = d_EV_hydro.rename(columns = {'Output' : 'Total impacts'})"
   ]
  },
  {
   "cell_type": "markdown",
   "id": "65bd6250-1b7a-4cb2-91cb-be86a71a1f8c",
   "metadata": {
    "deletable": false,
    "editable": false,
    "nbgrader": {
     "cell_type": "markdown",
     "checksum": "89b82931d661f1371776101dfaca3cc9",
     "grade": false,
     "grade_id": "cell-3e67e632339fcec9",
     "locked": true,
     "schema_version": 3,
     "solution": false,
     "task": false
    },
    "tags": []
   },
   "source": [
    "**_Run the cell under to check the format of your answer(s)_**"
   ]
  },
  {
   "cell_type": "code",
   "execution_count": 30,
   "id": "ee021d64-babb-496d-a728-33197c1b0673",
   "metadata": {
    "deletable": false,
    "editable": false,
    "nbgrader": {
     "cell_type": "code",
     "checksum": "0945105f7e1a21c36543d83aab8013b5",
     "grade": true,
     "grade_id": "cell-ec87c519c0411f7e",
     "locked": true,
     "points": 7.5,
     "schema_version": 3,
     "solution": false,
     "task": false
    },
    "tags": []
   },
   "outputs": [],
   "source": [
    "assert (d_EV_hydro.index == C.index).all(), 'The index do not correspond'\n",
    "assert (d_EV_hydro.columns == ['Total impacts']).all(), 'The columns do not correspond'"
   ]
  },
  {
   "cell_type": "code",
   "execution_count": 31,
   "id": "3c6f6bb8-4ddc-4af7-b3d2-9fb77dad9647",
   "metadata": {
    "deletable": false,
    "editable": false,
    "nbgrader": {
     "cell_type": "code",
     "checksum": "64d7dcf3c7ce2dfe3768a78d7f6e4373",
     "grade": false,
     "grade_id": "cell-4714ce3c7a302039",
     "locked": true,
     "schema_version": 3,
     "solution": false,
     "task": false
    },
    "tags": []
   },
   "outputs": [
    {
     "data": {
      "text/plain": [
       "Text(0.5, 1.0, 'Climate change impact (kg CO2-eq.) from driving 180000 km.')"
      ]
     },
     "execution_count": 31,
     "metadata": {},
     "output_type": "execute_result"
    },
    {
     "data": {
      "image/png": "[encoded data removed]",
      "text/plain": [
       "<Figure size 640x480 with 1 Axes>"
      ]
     },
     "metadata": {},
     "output_type": "display_data"
    }
   ],
   "source": [
    "### Create the stacked bar chart comparing the Climate change impacts of all the vehicles from driving 180000km \n",
    "pd.DataFrame([[\n",
    "    d_EV.loc['Climate change - GWP100 (kg CO2-eq)'].values[0], \n",
    "    d_EV_coal.loc['Climate change - GWP100 (kg CO2-eq)'].values[0],\n",
    "    d_EV_hydro.loc['Climate change - GWP100 (kg CO2-eq)'].values[0],\n",
    "    d_ICEVD.loc['Climate change - GWP100 (kg CO2-eq)'].values[0],\n",
    "    d_ICEVG.loc['Climate change - GWP100 (kg CO2-eq)'].values[0]\n",
    "              ]], \n",
    "    columns = [\n",
    "        'EV with NG', \n",
    "        'EV with coal', \n",
    "        'EV with hydro',\n",
    "        'ICEVD',\n",
    "        'ICEVG'\n",
    "    ]).T.plot(kind='bar', legend = False)\n",
    "plt.title('Climate change impact (kg CO2-eq.) from driving 180000 km.')"
   ]
  },
  {
   "cell_type": "markdown",
   "id": "d6169565-bd3d-4641-a7a4-6ff123eb7f0b",
   "metadata": {
    "deletable": false,
    "editable": false,
    "nbgrader": {
     "cell_type": "markdown",
     "checksum": "fad86cbc93bdcbd987e57d479e2f2dfb",
     "grade": false,
     "grade_id": "cell-9e3a770fe2cf0810",
     "locked": true,
     "schema_version": 3,
     "solution": false,
     "task": false
    },
    "tags": []
   },
   "source": [
    "Based on the climate change impact shown in the graph above (Climate change impact (kg CO2-eq.) from driving 180000 km.), how do different energy sources for electric vehicles (EVs) influence the total climate change impact?\n",
    "\n",
    "1. The use of hydropower-based electricity increases the total climate change impact by 30% compared to natural gas. \n",
    "2. Electric vehicles powered by hydropower-based electricity have about 65% lower climate change impact compared to traditional vehicles.\n",
    "3. Conventional vehicles consistently have a lower climate change impact than electric vehicles, regardless of the energy source. \n",
    "4. For electric vehicles to make sense, the electricity mix needs to have low carbon-intensity. \n",
    "5. Using different sources for electricity production needed in the operation phase of an EV barely affects the climate change impact.\n",
    "\n",
    "Define your answer as the variable `answer_4` (e.g. `answer_4 = {1}` if you think the correct statement is statement {1} or `answer_4 = {1, 2}` if you think the correct statements are statements {1, 2})."
   ]
  },
  {
   "cell_type": "code",
   "execution_count": 32,
   "id": "0fdf269c-86ba-43fb-ad1a-612ad6ccf31b",
   "metadata": {
    "deletable": false,
    "nbgrader": {
     "cell_type": "code",
     "checksum": "117bba852444d31a4b29cf12543c00ac",
     "grade": false,
     "grade_id": "cell-931e53701e370f9e",
     "locked": false,
     "schema_version": 3,
     "solution": true,
     "task": false
    },
    "tags": []
   },
   "outputs": [],
   "source": [
    "answer_4 = {2, 4}"
   ]
  },
  {
   "cell_type": "markdown",
   "id": "84bbf03e-d426-4604-be0b-3d3db200e4d8",
   "metadata": {
    "deletable": false,
    "editable": false,
    "nbgrader": {
     "cell_type": "markdown",
     "checksum": "f226f26d159437c48b4cea133e20c098",
     "grade": false,
     "grade_id": "cell-e21addaf3dc43873",
     "locked": true,
     "schema_version": 3,
     "solution": false,
     "task": false
    },
    "tags": []
   },
   "source": [
    "**_Run the cell under to check the format of your answer(s)_**"
   ]
  },
  {
   "cell_type": "code",
   "execution_count": 33,
   "id": "2e81fc72-9f21-4e17-9db9-fda358262dd7",
   "metadata": {
    "deletable": false,
    "editable": false,
    "nbgrader": {
     "cell_type": "code",
     "checksum": "15bd91940d3077bca8f1fece69dc0c84",
     "grade": true,
     "grade_id": "cell-12c704d76eb25ca9",
     "locked": true,
     "points": 5,
     "schema_version": 3,
     "solution": false,
     "task": false
    },
    "tags": []
   },
   "outputs": [],
   "source": [
    "assert all (type(i) in [set] for i in [answer_4]), 'The answer(s) must be a set of values'"
   ]
  },
  {
   "cell_type": "markdown",
   "id": "f1720657-8d6d-4026-b00d-a9c29c6aa95f",
   "metadata": {
    "deletable": false,
    "editable": false,
    "nbgrader": {
     "cell_type": "markdown",
     "checksum": "153310e015150a8c644f4fc015f34892",
     "grade": false,
     "grade_id": "cell-2a428e0334cf76be",
     "locked": true,
     "schema_version": 3,
     "solution": false,
     "task": false
    },
    "tags": []
   },
   "source": [
    "## 5. Structural Path Analysis for the EV and for the battery production _(15 points)_"
   ]
  },
  {
   "cell_type": "markdown",
   "id": "ed915603-e42c-42fa-97ce-1f8112007fc8",
   "metadata": {
    "deletable": false,
    "editable": false,
    "nbgrader": {
     "cell_type": "markdown",
     "checksum": "60e9e691bc24ed1ed3cf14d1fb02f1b4",
     "grade": false,
     "grade_id": "cell-a8db53bf6f672c9f",
     "locked": true,
     "schema_version": 3,
     "solution": false,
     "task": false
    },
    "tags": []
   },
   "source": [
    "The figure below reprends the Structural Path Analysis for the EV obtained by running the following code.\n",
    "\n",
    "`### Structural Path Analysis for the EV`\n",
    "\n",
    "`SPA_EV = run_SPA.run_SPA_using_pyspa(A, C, S, y_EV, 'Climate change - GWP100 (kg CO2-eq)', 'DR_GHG_emissions_(kgCO2e)', 'TR_GHG_emissions_(kgCO2e)', 4, 'files_PS10_V3_0/run_SPA_folder/Thresholds_template_perc.csv')`\n",
    "\n",
    "<img src=\"files_PS10_V3_0/SPA_EV.PNG\">"
   ]
  },
  {
   "cell_type": "markdown",
   "id": "0f99ef42-4649-4636-956b-d8c888a21ce0",
   "metadata": {
    "deletable": false,
    "editable": false,
    "nbgrader": {
     "cell_type": "markdown",
     "checksum": "3f232f2b25e77bc29130b16a7f95b990",
     "grade": false,
     "grade_id": "cell-1188f5caebd9451d",
     "locked": true,
     "schema_version": 3,
     "solution": false,
     "task": false
    },
    "tags": []
   },
   "source": [
    "Which of the following statements are correct regarding the structural path analysis for the EV?\n",
    "\n",
    "1. Direct emissions from electricity production used in the operation of the EV vehicle is the most important contributor to climate change impacts.\n",
    "2. Impacts from processes related to the manufacturing of the vehicles' components are negligible. \n",
    "3. Amongst the 10 most significant paths, half of them are related to direct emissions from electricity production processes.\n",
    "\n",
    "Define your answer as the variable `answer_5a` (e.g. `answer_5a = {1}` if you think the correct statement is statement {1} or `answer_5a = {1, 2}` if you think the correct statements are statements {1, 2})."
   ]
  },
  {
   "cell_type": "code",
   "execution_count": 34,
   "id": "32fdaf36-d8f9-4a0f-a287-5df92f315439",
   "metadata": {
    "deletable": false,
    "nbgrader": {
     "cell_type": "code",
     "checksum": "615dd89dbf033b383345835cf0105d92",
     "grade": false,
     "grade_id": "cell-8fb9be5d15dbba73",
     "locked": false,
     "schema_version": 3,
     "solution": true,
     "task": false
    },
    "tags": []
   },
   "outputs": [],
   "source": [
    "answer_5a = {1, 3}"
   ]
  },
  {
   "cell_type": "markdown",
   "id": "27e070b2-eec9-47f0-a7e8-c6380e27ba37",
   "metadata": {
    "deletable": false,
    "editable": false,
    "nbgrader": {
     "cell_type": "markdown",
     "checksum": "c556e9832cb55a59aed155d2ea9d332a",
     "grade": false,
     "grade_id": "cell-7882c5d4c17441d7",
     "locked": true,
     "schema_version": 3,
     "solution": false,
     "task": false
    },
    "tags": []
   },
   "source": [
    "**_Run the cell under to check the format of your answer(s)_**"
   ]
  },
  {
   "cell_type": "code",
   "execution_count": 35,
   "id": "7c1e0ef3-1411-480f-8355-19ac2d6d7580",
   "metadata": {
    "deletable": false,
    "editable": false,
    "nbgrader": {
     "cell_type": "code",
     "checksum": "f83977feb41e5b40823cbfca10ad9235",
     "grade": true,
     "grade_id": "cell-bb0c3832cfdfd37c",
     "locked": true,
     "points": 5,
     "schema_version": 3,
     "solution": false,
     "task": false
    },
    "tags": []
   },
   "outputs": [],
   "source": [
    "assert all (type(i) in [set] for i in [answer_5a]), 'The answer(s) must be a set of values'"
   ]
  },
  {
   "cell_type": "markdown",
   "id": "07db7138-3fcc-49de-b3fc-a563a6f0b9ec",
   "metadata": {
    "deletable": false,
    "editable": false,
    "nbgrader": {
     "cell_type": "markdown",
     "checksum": "2afc85d6fbc721a685458c1ddfa026b0",
     "grade": false,
     "grade_id": "cell-0ed46b5d9dfb5b16",
     "locked": true,
     "schema_version": 3,
     "solution": false,
     "task": false
    },
    "tags": []
   },
   "source": [
    "Now, imagine you have to run a Structural Path Analysis for the battery of the EV ('Battery_Li_NCM') only. Among the parameters that the function run_SPA.run_SPA_using_pyspa(...) requires, changing `y` is the easiest way to proceed. How would you change it to run an SPA for the battery of the EV? Name your new final demand vector `y_battery`."
   ]
  },
  {
   "cell_type": "code",
   "execution_count": 36,
   "id": "e2a6f3f8-895d-4909-b429-1cb2816f0e4e",
   "metadata": {
    "deletable": false,
    "nbgrader": {
     "cell_type": "code",
     "checksum": "37f3e2aeaca64349b5998cd9358d6ad2",
     "grade": false,
     "grade_id": "cell-ce0ea4731b2d4c01",
     "locked": false,
     "schema_version": 3,
     "solution": true,
     "task": false
    },
    "tags": []
   },
   "outputs": [
    {
     "data": {
      "text/html": [
       "<div>\n",
       "<style scoped>\n",
       "    .dataframe tbody tr th:only-of-type {\n",
       "        vertical-align: middle;\n",
       "    }\n",
       "\n",
       "    .dataframe tbody tr th {\n",
       "        vertical-align: top;\n",
       "    }\n",
       "\n",
       "    .dataframe thead th {\n",
       "        text-align: right;\n",
       "    }\n",
       "</style>\n",
       "<table border=\"1\" class=\"dataframe\">\n",
       "  <thead>\n",
       "    <tr style=\"text-align: right;\">\n",
       "      <th></th>\n",
       "      <th>Final demand</th>\n",
       "    </tr>\n",
       "  </thead>\n",
       "  <tbody>\n",
       "    <tr>\n",
       "      <th>EV Li-NCM</th>\n",
       "      <td>0.0</td>\n",
       "    </tr>\n",
       "    <tr>\n",
       "      <th>ICEV D</th>\n",
       "      <td>0.0</td>\n",
       "    </tr>\n",
       "    <tr>\n",
       "      <th>ICEV G</th>\n",
       "      <td>0.0</td>\n",
       "    </tr>\n",
       "    <tr>\n",
       "      <th>Body_and_Doors</th>\n",
       "      <td>0.0</td>\n",
       "    </tr>\n",
       "    <tr>\n",
       "      <th>Brakes_Friction</th>\n",
       "      <td>0.0</td>\n",
       "    </tr>\n",
       "    <tr>\n",
       "      <th>...</th>\n",
       "      <td>...</td>\n",
       "    </tr>\n",
       "    <tr>\n",
       "      <th>Membership organisation services n.e.c. (91) - Meuro</th>\n",
       "      <td>0.0</td>\n",
       "    </tr>\n",
       "    <tr>\n",
       "      <th>Recreational; cultural and sporting services (92) - Meuro</th>\n",
       "      <td>0.0</td>\n",
       "    </tr>\n",
       "    <tr>\n",
       "      <th>Other services (93) - Meuro</th>\n",
       "      <td>0.0</td>\n",
       "    </tr>\n",
       "    <tr>\n",
       "      <th>Private households with employed persons (95) - Meuro</th>\n",
       "      <td>0.0</td>\n",
       "    </tr>\n",
       "    <tr>\n",
       "      <th>Extra-territorial organizations and bodies - Meuro</th>\n",
       "      <td>0.0</td>\n",
       "    </tr>\n",
       "  </tbody>\n",
       "</table>\n",
       "<p>223 rows × 1 columns</p>\n",
       "</div>"
      ],
      "text/plain": [
       "                                                    Final demand\n",
       "EV Li-NCM                                                    0.0\n",
       "ICEV D                                                       0.0\n",
       "ICEV G                                                       0.0\n",
       "Body_and_Doors                                               0.0\n",
       "Brakes_Friction                                              0.0\n",
       "...                                                          ...\n",
       "Membership organisation services n.e.c. (91) - ...           0.0\n",
       "Recreational; cultural and sporting services (9...           0.0\n",
       "Other services (93) - Meuro                                  0.0\n",
       "Private households with employed persons (95) -...           0.0\n",
       "Extra-territorial organizations and bodies - Meuro           0.0\n",
       "\n",
       "[223 rows x 1 columns]"
      ]
     },
     "metadata": {},
     "output_type": "display_data"
    }
   ],
   "source": [
    "y_battery = y_EV.copy()\n",
    "y_battery.loc['Battery_Li_NCM']=1\n",
    "y_battery.loc['EV Li-NCM']=0\n",
    "display(y_battery)"
   ]
  },
  {
   "cell_type": "markdown",
   "id": "90f386f1-fdac-47b7-a326-87fbd1278fcd",
   "metadata": {
    "deletable": false,
    "editable": false,
    "nbgrader": {
     "cell_type": "markdown",
     "checksum": "75be74d37498781f997b8d9eb27d812a",
     "grade": false,
     "grade_id": "cell-f60dc9ed03a5d694",
     "locked": true,
     "schema_version": 3,
     "solution": false,
     "task": false
    },
    "tags": []
   },
   "source": [
    "**_Run the cell under to check the format of your answer(s)_**"
   ]
  },
  {
   "cell_type": "code",
   "execution_count": 37,
   "id": "4cd800d2-d4b9-4921-9b2d-e572c6cab950",
   "metadata": {
    "deletable": false,
    "editable": false,
    "nbgrader": {
     "cell_type": "code",
     "checksum": "ea59944cc0929939a081b1d4fb3d4895",
     "grade": true,
     "grade_id": "cell-dd701fd02153d2e8",
     "locked": true,
     "points": 5,
     "schema_version": 3,
     "solution": false,
     "task": false
    },
    "tags": []
   },
   "outputs": [],
   "source": [
    "assert (y_battery.columns == ['Final demand']).all(), 'The columns do not correspond'"
   ]
  },
  {
   "cell_type": "markdown",
   "id": "21736895-23cc-485b-8583-9a4608fb1be8",
   "metadata": {
    "deletable": false,
    "editable": false,
    "nbgrader": {
     "cell_type": "markdown",
     "checksum": "d6e3e6f3a0dcbb5a3c46621da8ef9003",
     "grade": false,
     "grade_id": "cell-1519be74d2416e9e",
     "locked": true,
     "schema_version": 3,
     "solution": false,
     "task": false
    },
    "tags": []
   },
   "source": [
    "After running an SPA for the battery only, we get the following results:\n",
    "\n",
    "<img src=\"files_PS10_V3_0/SPA_battery.PNG\">\n",
    "\n",
    "**True or false?**\n",
    "\n",
    "Direct emissions from electricity production by gas is the most important contributor to climate change according to the structural path analysis of the EV battery. \n",
    "\n",
    "Define your answer as the variable `answer_5b` (e.g. `answer_5b = {True}` if you think the statement is True)."
   ]
  },
  {
   "cell_type": "code",
   "execution_count": 38,
   "id": "12386986-2cd7-4fe5-bb9b-790c74c0d649",
   "metadata": {
    "deletable": false,
    "nbgrader": {
     "cell_type": "code",
     "checksum": "1471af4ab50f765b9c9f28b806acc58d",
     "grade": false,
     "grade_id": "cell-bb519051ec0ddd67",
     "locked": false,
     "schema_version": 3,
     "solution": true,
     "task": false
    },
    "tags": []
   },
   "outputs": [],
   "source": [
    "answer_5b = {False}"
   ]
  },
  {
   "cell_type": "markdown",
   "id": "411c155a-65e6-4c36-a49e-5035ae6d6a77",
   "metadata": {
    "deletable": false,
    "editable": false,
    "nbgrader": {
     "cell_type": "markdown",
     "checksum": "849134d2f6290f79931cfb5cf64d28cf",
     "grade": false,
     "grade_id": "cell-53d86950ae1c1d7a",
     "locked": true,
     "schema_version": 3,
     "solution": false,
     "task": false
    },
    "tags": []
   },
   "source": [
    "**_Run the cell under to check the format of your answer(s)_**"
   ]
  },
  {
   "cell_type": "code",
   "execution_count": 39,
   "id": "3ab7fee4-a587-423e-bfab-c342e2210733",
   "metadata": {
    "deletable": false,
    "editable": false,
    "nbgrader": {
     "cell_type": "code",
     "checksum": "c5e7d7b774061519ca3a00400db4efc1",
     "grade": true,
     "grade_id": "cell-4854dc42e17e5dae",
     "locked": true,
     "points": 5,
     "schema_version": 3,
     "solution": false,
     "task": false
    },
    "tags": []
   },
   "outputs": [],
   "source": [
    "assert all (type(i) in [set] for i in [answer_5b]), 'The answer(s) must be a set of values'"
   ]
  },
  {
   "cell_type": "markdown",
   "id": "ef41bde8-a49a-43ac-929f-611f02ac1135",
   "metadata": {
    "deletable": false,
    "editable": false,
    "nbgrader": {
     "cell_type": "markdown",
     "checksum": "ab3a8895cc1ccfc1c43587ca019423a3",
     "grade": false,
     "grade_id": "cell-f52395c63c9a286f",
     "locked": true,
     "schema_version": 3,
     "solution": false,
     "task": false
    },
    "tags": []
   },
   "source": [
    "## 6. Factors determining whether EVs can decrease climate change impact compared to conventional vehicles _(10 points)_"
   ]
  },
  {
   "cell_type": "markdown",
   "id": "a6ed2727-0b45-43ec-97f4-2d01cccf432a",
   "metadata": {
    "deletable": false,
    "editable": false,
    "nbgrader": {
     "cell_type": "markdown",
     "checksum": "0d2acdd0ed1a649fadca57daec7460c4",
     "grade": false,
     "grade_id": "cell-c153222d8722c263",
     "locked": true,
     "schema_version": 3,
     "solution": false,
     "task": false
    },
    "tags": []
   },
   "source": [
    "Using the insights from the structural path analysis of the EV battery, the three most efficient approaches to addressing the climate change impact are...\n",
    "\n",
    "1. Diminishing electricity consumption during battery production\n",
    "2. Upscaling EV batteries. \n",
    "3. Utilizing electricity derived from less carbon intensive sources.\n",
    "4. Improved the end-of-life treatment of EV batteries. \n",
    "5. Switching to a local EV battery supplier to lower impact from transportation. \n",
    "\n",
    "\n",
    "Define your answer as the variable `answer_6a` (e.g. `answer_6a = {1}` if you think the correct statement is statement {1} or `answer_6a = {1, 2}` if you think the correct statements are statements {1, 2})."
   ]
  },
  {
   "cell_type": "code",
   "execution_count": 40,
   "id": "a8cfe0d7-3e8a-4ef3-91fb-a72970e7a5d2",
   "metadata": {
    "deletable": false,
    "nbgrader": {
     "cell_type": "code",
     "checksum": "c49662364b95c922418f6d98f2879151",
     "grade": false,
     "grade_id": "cell-5469fc37dc7ffc51",
     "locked": false,
     "schema_version": 3,
     "solution": true,
     "task": false
    },
    "tags": []
   },
   "outputs": [],
   "source": [
    "answer_6a = {1, 3, 4}"
   ]
  },
  {
   "cell_type": "markdown",
   "id": "e09bfb18-cd8c-4400-a781-be8a53cd109c",
   "metadata": {
    "deletable": false,
    "editable": false,
    "nbgrader": {
     "cell_type": "markdown",
     "checksum": "f627443643a8be1e1911d49756271bba",
     "grade": false,
     "grade_id": "cell-60a8560c7543b0ea",
     "locked": true,
     "schema_version": 3,
     "solution": false,
     "task": false
    },
    "tags": []
   },
   "source": [
    "**_Run the cell under to check the format of your answer(s)_**"
   ]
  },
  {
   "cell_type": "code",
   "execution_count": 41,
   "id": "5d7d846b-3d6f-4f91-85e7-799a26d4ff7e",
   "metadata": {
    "deletable": false,
    "editable": false,
    "nbgrader": {
     "cell_type": "code",
     "checksum": "9478f843cd89e7b76f5260be2452b7bb",
     "grade": true,
     "grade_id": "cell-37cc86dcb04020cf",
     "locked": true,
     "points": 5,
     "schema_version": 3,
     "solution": false,
     "task": false
    },
    "tags": []
   },
   "outputs": [],
   "source": [
    "assert all (type(i) in [set] for i in [answer_6a]), 'The answer(s) must be a set of values'"
   ]
  },
  {
   "cell_type": "markdown",
   "id": "d54a2a32-dedd-4faa-9c57-8bdca8aca380",
   "metadata": {
    "deletable": false,
    "editable": false,
    "nbgrader": {
     "cell_type": "markdown",
     "checksum": "0e052549c3a3f1442f65f6bdfaca859b",
     "grade": false,
     "grade_id": "cell-7d3ef90dadf0d75a",
     "locked": true,
     "schema_version": 3,
     "solution": false,
     "task": false
    },
    "tags": []
   },
   "source": [
    "The composition of the electricity mix plays a major role in the climate change impact within...\n",
    "\n",
    "1. EV production and use phase\n",
    "2. EV manufacturing phase exclusively\n",
    "3. None of the EV phases\n",
    "\n",
    "Define your answer as the variable `answer_6b` (e.g. `answer_6b = {1}` if you think the correct statement is statement {1} or `answer_6b = {1, 2}` if you think the correct statements are statements {1, 2})."
   ]
  },
  {
   "cell_type": "code",
   "execution_count": 42,
   "id": "6f848f6f-767e-462e-aca1-dcdb711d0afd",
   "metadata": {
    "deletable": false,
    "nbgrader": {
     "cell_type": "code",
     "checksum": "3be90e55d8a78995eb61ced7270ac469",
     "grade": false,
     "grade_id": "cell-2a1199d146055554",
     "locked": false,
     "schema_version": 3,
     "solution": true,
     "task": false
    },
    "tags": []
   },
   "outputs": [],
   "source": [
    "answer_6b = {1}"
   ]
  },
  {
   "cell_type": "markdown",
   "id": "62168637-f8cc-401a-afc5-d4dca86ddb95",
   "metadata": {
    "deletable": false,
    "editable": false,
    "nbgrader": {
     "cell_type": "markdown",
     "checksum": "154d392b80668b4e56b3f91ef57035d3",
     "grade": false,
     "grade_id": "cell-ee778daa4b93a1d4",
     "locked": true,
     "schema_version": 3,
     "solution": false,
     "task": false
    },
    "tags": []
   },
   "source": [
    "**_Run the cell under to check the format of your answer(s)_**"
   ]
  },
  {
   "cell_type": "code",
   "execution_count": 43,
   "id": "9a06abc7-317a-4265-af15-263aefeef6bd",
   "metadata": {
    "deletable": false,
    "editable": false,
    "nbgrader": {
     "cell_type": "code",
     "checksum": "c5a6552277fea89069dfa0f70a6408fb",
     "grade": true,
     "grade_id": "cell-b7de9c2d9ef3732a",
     "locked": true,
     "points": 5,
     "schema_version": 3,
     "solution": false,
     "task": false
    },
    "tags": []
   },
   "outputs": [],
   "source": [
    "assert all (type(i) in [set] for i in [answer_6b]), 'The answer(s) must be a set of values'"
   ]
  }
 ],
 "metadata": {
  "kernelspec": {
   "display_name": "Python 3 (ipykernel)",
   "language": "python",
   "name": "python3"
  },
  "language_info": {
   "codemirror_mode": {
    "name": "ipython",
    "version": 3
   },
   "file_extension": ".py",
   "mimetype": "text/x-python",
   "name": "python",
   "nbconvert_exporter": "python",
   "pygments_lexer": "ipython3",
   "version": "3.10.8"
  }
 },
 "nbformat": 4,
 "nbformat_minor": 5
}
