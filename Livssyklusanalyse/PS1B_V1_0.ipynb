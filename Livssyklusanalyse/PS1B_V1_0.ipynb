{
 "cells": [
  {
   "cell_type": "markdown",
   "id": "2a842c32-9945-47ed-b234-b6f384eae366",
   "metadata": {
    "deletable": false,
    "editable": false,
    "nbgrader": {
     "cell_type": "markdown",
     "checksum": "38258aa67095663d79749b3594c56a61",
     "grade": false,
     "grade_id": "cell-2ffc3fa2dd585551",
     "locked": true,
     "schema_version": 3,
     "solution": false,
     "task": false
    },
    "tags": []
   },
   "source": [
    "# **Problem Set 1 - Problem B**\n",
    "\n",
    "## **Passing requirements**\n",
    "**All of the following must be satisfied for a passing grade**\n",
    "- Do the math and correctly answer the Multiple Choice & True or False questions for interpretation\n",
    "- **At least 80 points needed to get the assignment approved**\n",
    "\n",
    "**_Please run the cell below before you start the assignment_**"
   ]
  },
  {
   "cell_type": "code",
   "execution_count": 1,
   "id": "cfd9fea9-cb52-45eb-b5e9-15f16d19ef90",
   "metadata": {
    "deletable": false,
    "editable": false,
    "nbgrader": {
     "cell_type": "code",
     "checksum": "c7600957911ef9ea0c44bece63e4d7a4",
     "grade": false,
     "grade_id": "cell-2d9505da004416c9",
     "locked": true,
     "schema_version": 3,
     "solution": false,
     "task": false
    },
    "tags": []
   },
   "outputs": [],
   "source": [
    "# Import required Python libraries\n",
    "import pandas as pd\n",
    "import numpy as np\n",
    "import matplotlib.pyplot as plt\n",
    "import seaborn as sns\n",
    "\n",
    "# Folder for the files\n",
    "files_folder = \"files_PS1B_V1_0/\""
   ]
  },
  {
   "cell_type": "markdown",
   "id": "46d2e7af-4588-45cb-86d5-81c20bc90a97",
   "metadata": {
    "deletable": false,
    "editable": false,
    "nbgrader": {
     "cell_type": "markdown",
     "checksum": "ca09f704897cd4f5934eaa172d9aa3f5",
     "grade": false,
     "grade_id": "cell-85f54faf85491c49",
     "locked": true,
     "schema_version": 3,
     "solution": false,
     "task": false
    },
    "tags": []
   },
   "source": [
    "## **Contribution analysis**\n",
    "\n",
    "For this problem set, we look at the stressors and environmental impact potentials associated with the production induced by a given external demand. "
   ]
  },
  {
   "cell_type": "markdown",
   "id": "e47d7ec0-130d-40d7-98e7-f207ba2a3b82",
   "metadata": {
    "deletable": false,
    "editable": false,
    "nbgrader": {
     "cell_type": "markdown",
     "checksum": "dc09f50224b40c8d40f4bb9cd1285395",
     "grade": false,
     "grade_id": "cell-d04bc0bd91bdfb87",
     "locked": true,
     "schema_version": 3,
     "solution": false,
     "task": false
    },
    "tags": []
   },
   "source": [
    "### **Production process i)** _(50 points)_"
   ]
  },
  {
   "cell_type": "markdown",
   "id": "84695b0f-90b5-4cb1-9787-0287a59fa87a",
   "metadata": {
    "deletable": false,
    "editable": false,
    "nbgrader": {
     "cell_type": "markdown",
     "checksum": "64fedef415e13fba9dd3d396e3ea0ccb",
     "grade": false,
     "grade_id": "cell-fd6cb15ecfa02f6d",
     "locked": true,
     "schema_version": 3,
     "solution": false,
     "task": false
    },
    "tags": []
   },
   "source": [
    "**_Run the cell below to import the required vectors/matrices._**"
   ]
  },
  {
   "cell_type": "code",
   "execution_count": 2,
   "id": "5af95656-7a0b-44ee-b797-d182c2606d4f",
   "metadata": {
    "deletable": false,
    "editable": false,
    "nbgrader": {
     "cell_type": "code",
     "checksum": "1a468e4eb7996ddad624a79bb61158c4",
     "grade": false,
     "grade_id": "cell-e2fa4b8087feaf41",
     "locked": true,
     "schema_version": 3,
     "solution": false,
     "task": false
    },
    "tags": []
   },
   "outputs": [],
   "source": [
    "A_i = pd.read_csv(files_folder + \"A_i.csv\", index_col = [0])\n",
    "y_i = pd.read_csv(files_folder + \"y_i.csv\", index_col = [0])\n",
    "S_i = pd.read_csv(files_folder + \"S_i.csv\", index_col = [0])\n",
    "C_i = pd.read_csv(files_folder + \"C_i.csv\", index_col = [0])"
   ]
  },
  {
   "cell_type": "markdown",
   "id": "013e0dc7-73c2-4e04-ab10-636dc1e0c71b",
   "metadata": {
    "deletable": false,
    "editable": false,
    "nbgrader": {
     "cell_type": "markdown",
     "checksum": "61d424e76427285c003cbebfba4a4eba",
     "grade": false,
     "grade_id": "cell-0a6523df6f62dbc2",
     "locked": true,
     "schema_version": 3,
     "solution": false,
     "task": false
    },
    "tags": []
   },
   "source": [
    "**_You can display the matrices/vectors in the cell below if you want to understand the production process you are working with._**"
   ]
  },
  {
   "cell_type": "code",
   "execution_count": 3,
   "id": "67aa459d-5bc4-4a7f-9905-711f938ee1e1",
   "metadata": {
    "deletable": false,
    "nbgrader": {
     "cell_type": "code",
     "checksum": "23517e537d5049acd735c74b9d7dfc56",
     "grade": false,
     "grade_id": "cell-245c748448f54192",
     "locked": false,
     "schema_version": 3,
     "solution": true,
     "task": false
    },
    "tags": []
   },
   "outputs": [
    {
     "data": {
      "text/html": [
       "<div>\n",
       "<style scoped>\n",
       "    .dataframe tbody tr th:only-of-type {\n",
       "        vertical-align: middle;\n",
       "    }\n",
       "\n",
       "    .dataframe tbody tr th {\n",
       "        vertical-align: top;\n",
       "    }\n",
       "\n",
       "    .dataframe thead th {\n",
       "        text-align: right;\n",
       "    }\n",
       "</style>\n",
       "<table border=\"1\" class=\"dataframe\">\n",
       "  <thead>\n",
       "    <tr style=\"text-align: right;\">\n",
       "      <th></th>\n",
       "      <th>A</th>\n",
       "      <th>B</th>\n",
       "    </tr>\n",
       "  </thead>\n",
       "  <tbody>\n",
       "    <tr>\n",
       "      <th>A</th>\n",
       "      <td>0.03</td>\n",
       "      <td>0.4</td>\n",
       "    </tr>\n",
       "    <tr>\n",
       "      <th>B</th>\n",
       "      <td>0.50</td>\n",
       "      <td>0.1</td>\n",
       "    </tr>\n",
       "  </tbody>\n",
       "</table>\n",
       "</div>"
      ],
      "text/plain": [
       "      A    B\n",
       "A  0.03  0.4\n",
       "B  0.50  0.1"
      ]
     },
     "metadata": {},
     "output_type": "display_data"
    },
    {
     "data": {
      "text/html": [
       "<div>\n",
       "<style scoped>\n",
       "    .dataframe tbody tr th:only-of-type {\n",
       "        vertical-align: middle;\n",
       "    }\n",
       "\n",
       "    .dataframe tbody tr th {\n",
       "        vertical-align: top;\n",
       "    }\n",
       "\n",
       "    .dataframe thead th {\n",
       "        text-align: right;\n",
       "    }\n",
       "</style>\n",
       "<table border=\"1\" class=\"dataframe\">\n",
       "  <thead>\n",
       "    <tr style=\"text-align: right;\">\n",
       "      <th></th>\n",
       "      <th>Final demand</th>\n",
       "    </tr>\n",
       "  </thead>\n",
       "  <tbody>\n",
       "    <tr>\n",
       "      <th>A</th>\n",
       "      <td>0</td>\n",
       "    </tr>\n",
       "    <tr>\n",
       "      <th>B</th>\n",
       "      <td>3</td>\n",
       "    </tr>\n",
       "  </tbody>\n",
       "</table>\n",
       "</div>"
      ],
      "text/plain": [
       "   Final demand\n",
       "A             0\n",
       "B             3"
      ]
     },
     "metadata": {},
     "output_type": "display_data"
    },
    {
     "data": {
      "text/html": [
       "<div>\n",
       "<style scoped>\n",
       "    .dataframe tbody tr th:only-of-type {\n",
       "        vertical-align: middle;\n",
       "    }\n",
       "\n",
       "    .dataframe tbody tr th {\n",
       "        vertical-align: top;\n",
       "    }\n",
       "\n",
       "    .dataframe thead th {\n",
       "        text-align: right;\n",
       "    }\n",
       "</style>\n",
       "<table border=\"1\" class=\"dataframe\">\n",
       "  <thead>\n",
       "    <tr style=\"text-align: right;\">\n",
       "      <th></th>\n",
       "      <th>A</th>\n",
       "      <th>B</th>\n",
       "    </tr>\n",
       "  </thead>\n",
       "  <tbody>\n",
       "    <tr>\n",
       "      <th>CO2</th>\n",
       "      <td>0.6</td>\n",
       "      <td>0.01</td>\n",
       "    </tr>\n",
       "    <tr>\n",
       "      <th>CH4</th>\n",
       "      <td>0.2</td>\n",
       "      <td>0.10</td>\n",
       "    </tr>\n",
       "  </tbody>\n",
       "</table>\n",
       "</div>"
      ],
      "text/plain": [
       "       A     B\n",
       "CO2  0.6  0.01\n",
       "CH4  0.2  0.10"
      ]
     },
     "metadata": {},
     "output_type": "display_data"
    },
    {
     "data": {
      "text/html": [
       "<div>\n",
       "<style scoped>\n",
       "    .dataframe tbody tr th:only-of-type {\n",
       "        vertical-align: middle;\n",
       "    }\n",
       "\n",
       "    .dataframe tbody tr th {\n",
       "        vertical-align: top;\n",
       "    }\n",
       "\n",
       "    .dataframe thead th {\n",
       "        text-align: right;\n",
       "    }\n",
       "</style>\n",
       "<table border=\"1\" class=\"dataframe\">\n",
       "  <thead>\n",
       "    <tr style=\"text-align: right;\">\n",
       "      <th></th>\n",
       "      <th>CO2</th>\n",
       "      <th>CH4</th>\n",
       "    </tr>\n",
       "  </thead>\n",
       "  <tbody>\n",
       "    <tr>\n",
       "      <th>GWP (kgCO2eq)</th>\n",
       "      <td>1</td>\n",
       "      <td>24.000</td>\n",
       "    </tr>\n",
       "    <tr>\n",
       "      <th>PCOP (kgC2H4eq)</th>\n",
       "      <td>0</td>\n",
       "      <td>0.006</td>\n",
       "    </tr>\n",
       "  </tbody>\n",
       "</table>\n",
       "</div>"
      ],
      "text/plain": [
       "                 CO2     CH4\n",
       "GWP (kgCO2eq)      1  24.000\n",
       "PCOP (kgC2H4eq)    0   0.006"
      ]
     },
     "metadata": {},
     "output_type": "display_data"
    }
   ],
   "source": [
    "display(A_i)\n",
    "display(y_i)\n",
    "display(S_i)\n",
    "display(C_i)"
   ]
  },
  {
   "cell_type": "markdown",
   "id": "b129a5ce-bda8-44a9-bb8f-f80ee09b61fe",
   "metadata": {
    "deletable": false,
    "editable": false,
    "nbgrader": {
     "cell_type": "markdown",
     "checksum": "4983be1094a7babdb89882e59354c7be",
     "grade": false,
     "grade_id": "cell-26b0c29b74a28371",
     "locked": true,
     "schema_version": 3,
     "solution": false,
     "task": false
    },
    "tags": []
   },
   "source": [
    "#### **1i) Vector of total stressors e** _(10 points)_"
   ]
  },
  {
   "cell_type": "markdown",
   "id": "8ff3cd99-693e-4384-a795-a90589ddc3a7",
   "metadata": {
    "deletable": false,
    "editable": false,
    "nbgrader": {
     "cell_type": "markdown",
     "checksum": "c836bc1a6a64a8c274d590fa8d1459a2",
     "grade": false,
     "grade_id": "cell-b3ecac408f7975a2",
     "locked": true,
     "schema_version": 3,
     "solution": false,
     "task": false
    },
    "tags": []
   },
   "source": [
    "Define the identity matrix `I_i` and calculate the determinant `detIA_i` of the matrix (I-A) in the cell under."
   ]
  },
  {
   "cell_type": "code",
   "execution_count": 4,
   "id": "cda9366f-a54c-479c-b729-f389787f6091",
   "metadata": {
    "deletable": false,
    "nbgrader": {
     "cell_type": "code",
     "checksum": "cdf39b73a80786688ad1fc29f5dc27e4",
     "grade": false,
     "grade_id": "cell-821ee3beafb9a2a9",
     "locked": false,
     "schema_version": 3,
     "solution": true,
     "task": false
    },
    "tags": []
   },
   "outputs": [
    {
     "name": "stdout",
     "output_type": "stream",
     "text": [
      "0.6729999999999999\n"
     ]
    }
   ],
   "source": [
    "I_i = np.identity(2)\n",
    "\n",
    "detIA_i = np.linalg.det(I_i - A_i)\n",
    "print(detIA_i)"
   ]
  },
  {
   "cell_type": "markdown",
   "id": "4a60f3ee-edd1-445e-bec1-53ea2b7fc867",
   "metadata": {
    "deletable": false,
    "editable": false,
    "nbgrader": {
     "cell_type": "markdown",
     "checksum": "314de1f0f3fff5540238cbb03ed9b27d",
     "grade": false,
     "grade_id": "cell-e10131880acc942b",
     "locked": true,
     "schema_version": 3,
     "solution": false,
     "task": false
    },
    "tags": []
   },
   "source": [
    "**_Run the cell under to check the format of your answer(s)_**"
   ]
  },
  {
   "cell_type": "code",
   "execution_count": 5,
   "id": "d8d1aba2-16a4-445c-bd3a-55b7889955a8",
   "metadata": {
    "deletable": false,
    "editable": false,
    "nbgrader": {
     "cell_type": "code",
     "checksum": "c036400c0f43b47a67a26d3d0c3ea5d8",
     "grade": true,
     "grade_id": "cell-cb5ed3a6df1e4326",
     "locked": true,
     "points": 2,
     "schema_version": 3,
     "solution": false,
     "task": false
    },
    "tags": []
   },
   "outputs": [],
   "source": [
    "assert type(detIA_i) == np.float64, 'The answer(s) must be numeric'"
   ]
  },
  {
   "cell_type": "markdown",
   "id": "b285f350-efe4-4070-812a-be2ae400b002",
   "metadata": {
    "deletable": false,
    "editable": false,
    "nbgrader": {
     "cell_type": "markdown",
     "checksum": "c4e5f0534c6689766e8b3f83425bac5e",
     "grade": false,
     "grade_id": "cell-bcb620c1865a0b38",
     "locked": true,
     "schema_version": 3,
     "solution": false,
     "task": false
    },
    "tags": []
   },
   "source": [
    "Determine the L matrix that you will name `L_i`. Remember that `L_i` must be a Pandas DataFrame."
   ]
  },
  {
   "cell_type": "code",
   "execution_count": 6,
   "id": "d6f88455-679b-4701-aa86-773e7af8a711",
   "metadata": {
    "deletable": false,
    "nbgrader": {
     "cell_type": "code",
     "checksum": "1af941be56ee44c883dc07a5fb4b6c57",
     "grade": false,
     "grade_id": "cell-cd6c5aec868bf54c",
     "locked": false,
     "schema_version": 3,
     "solution": true,
     "task": false
    },
    "tags": []
   },
   "outputs": [
    {
     "data": {
      "text/html": [
       "<div>\n",
       "<style scoped>\n",
       "    .dataframe tbody tr th:only-of-type {\n",
       "        vertical-align: middle;\n",
       "    }\n",
       "\n",
       "    .dataframe tbody tr th {\n",
       "        vertical-align: top;\n",
       "    }\n",
       "\n",
       "    .dataframe thead th {\n",
       "        text-align: right;\n",
       "    }\n",
       "</style>\n",
       "<table border=\"1\" class=\"dataframe\">\n",
       "  <thead>\n",
       "    <tr style=\"text-align: right;\">\n",
       "      <th></th>\n",
       "      <th>A</th>\n",
       "      <th>B</th>\n",
       "    </tr>\n",
       "  </thead>\n",
       "  <tbody>\n",
       "    <tr>\n",
       "      <th>A</th>\n",
       "      <td>1.337296</td>\n",
       "      <td>0.594354</td>\n",
       "    </tr>\n",
       "    <tr>\n",
       "      <th>B</th>\n",
       "      <td>0.742942</td>\n",
       "      <td>1.441308</td>\n",
       "    </tr>\n",
       "  </tbody>\n",
       "</table>\n",
       "</div>"
      ],
      "text/plain": [
       "          A         B\n",
       "A  1.337296  0.594354\n",
       "B  0.742942  1.441308"
      ]
     },
     "metadata": {},
     "output_type": "display_data"
    }
   ],
   "source": [
    "L_i_arr=np.linalg.inv(I_i-A_i)\n",
    "L_i=pd.DataFrame(L_i_arr, index = ['A', 'B'], columns = ['A', 'B'])\n",
    "display(L_i)"
   ]
  },
  {
   "cell_type": "markdown",
   "id": "d5ed0cbc-eab7-422f-9b47-a90fbf7f532b",
   "metadata": {
    "deletable": false,
    "editable": false,
    "nbgrader": {
     "cell_type": "markdown",
     "checksum": "e16d8587731f80c5c7558880d9305414",
     "grade": false,
     "grade_id": "cell-1bcba8af00196836",
     "locked": true,
     "schema_version": 3,
     "solution": false,
     "task": false
    },
    "tags": []
   },
   "source": [
    "**_Run the cell under to check the format of your answer(s)_**"
   ]
  },
  {
   "cell_type": "code",
   "execution_count": 7,
   "id": "3faf6b74-c6ed-4d7b-9d47-c40f1f7b5eb1",
   "metadata": {
    "deletable": false,
    "editable": false,
    "nbgrader": {
     "cell_type": "code",
     "checksum": "819a25ae38227f2d6f59b03cd973895a",
     "grade": true,
     "grade_id": "cell-db29ca107b849125",
     "locked": true,
     "points": 2,
     "schema_version": 3,
     "solution": false,
     "task": false
    },
    "tags": []
   },
   "outputs": [],
   "source": [
    "assert (L_i.index == ['A', 'B']).all(), 'The index do not correspond'\n",
    "assert (L_i.columns == ['A', 'B']).all(), 'The columns do not correspond'"
   ]
  },
  {
   "cell_type": "markdown",
   "id": "89e30283-a6b7-430b-9f13-15949f337a91",
   "metadata": {
    "deletable": false,
    "editable": false,
    "nbgrader": {
     "cell_type": "markdown",
     "checksum": "b6147c14870aa78c161a525383b15f1a",
     "grade": false,
     "grade_id": "cell-c56f34cd6f9fd709",
     "locked": true,
     "schema_version": 3,
     "solution": false,
     "task": false
    },
    "tags": []
   },
   "source": [
    "Calculate the output vector `x_i` using `y_i`. Rename the column of `x_i` as \"Output\"."
   ]
  },
  {
   "cell_type": "code",
   "execution_count": 8,
   "id": "a8d9dfe0-bbfd-468a-ada6-54e2f8b113a9",
   "metadata": {
    "deletable": false,
    "nbgrader": {
     "cell_type": "code",
     "checksum": "a46445b11366d825565d41c54a969d58",
     "grade": false,
     "grade_id": "cell-0ba88c4c68e76505",
     "locked": false,
     "schema_version": 3,
     "solution": true,
     "task": false
    },
    "tags": []
   },
   "outputs": [
    {
     "data": {
      "text/html": [
       "<div>\n",
       "<style scoped>\n",
       "    .dataframe tbody tr th:only-of-type {\n",
       "        vertical-align: middle;\n",
       "    }\n",
       "\n",
       "    .dataframe tbody tr th {\n",
       "        vertical-align: top;\n",
       "    }\n",
       "\n",
       "    .dataframe thead th {\n",
       "        text-align: right;\n",
       "    }\n",
       "</style>\n",
       "<table border=\"1\" class=\"dataframe\">\n",
       "  <thead>\n",
       "    <tr style=\"text-align: right;\">\n",
       "      <th></th>\n",
       "      <th>Output</th>\n",
       "    </tr>\n",
       "  </thead>\n",
       "  <tbody>\n",
       "    <tr>\n",
       "      <th>A</th>\n",
       "      <td>1.783061</td>\n",
       "    </tr>\n",
       "    <tr>\n",
       "      <th>B</th>\n",
       "      <td>4.323923</td>\n",
       "    </tr>\n",
       "  </tbody>\n",
       "</table>\n",
       "</div>"
      ],
      "text/plain": [
       "     Output\n",
       "A  1.783061\n",
       "B  4.323923"
      ]
     },
     "metadata": {},
     "output_type": "display_data"
    }
   ],
   "source": [
    "x_i=L_i @ y_i\n",
    "x_i = x_i.rename(columns = {'Final demand' : 'Output'})\n",
    "\n",
    "display(x_i)"
   ]
  },
  {
   "cell_type": "markdown",
   "id": "9db22f63-3107-443a-a957-a8b2a3801eef",
   "metadata": {
    "deletable": false,
    "editable": false,
    "nbgrader": {
     "cell_type": "markdown",
     "checksum": "e32a4bb07208d0240b2ca5ea68a6caa4",
     "grade": false,
     "grade_id": "cell-a9129020e09a4ac7",
     "locked": true,
     "schema_version": 3,
     "solution": false,
     "task": false
    },
    "tags": []
   },
   "source": [
    "**_Run the cell under to check the format of your answer(s)_**"
   ]
  },
  {
   "cell_type": "code",
   "execution_count": 9,
   "id": "30f80059-7a7a-4327-afdc-8ef82d95becb",
   "metadata": {
    "deletable": false,
    "editable": false,
    "nbgrader": {
     "cell_type": "code",
     "checksum": "50962ca0884eab9ec6deae7de5ce017d",
     "grade": true,
     "grade_id": "cell-795cf574802d73ff",
     "locked": true,
     "points": 2,
     "schema_version": 3,
     "solution": false,
     "task": false
    },
    "tags": []
   },
   "outputs": [],
   "source": [
    "assert (x_i.columns == ['Output']).all(), 'The columns do not correspond'"
   ]
  },
  {
   "cell_type": "markdown",
   "id": "65f3c17d-f73c-4bf2-ae9d-54d3c2f12e38",
   "metadata": {
    "deletable": false,
    "editable": false,
    "nbgrader": {
     "cell_type": "markdown",
     "checksum": "4cce3f557448dbcd0e4375832e815f09",
     "grade": false,
     "grade_id": "cell-337dde1ecc6e8176",
     "locked": true,
     "schema_version": 3,
     "solution": false,
     "task": false
    },
    "tags": []
   },
   "source": [
    "Compute the vector of total stressors `e_i`. Rename the column of `e_i` as \"Stressors\"."
   ]
  },
  {
   "cell_type": "code",
   "execution_count": 10,
   "id": "3d93ef2b-0865-45e3-b7de-cd14684f0e3e",
   "metadata": {
    "deletable": false,
    "nbgrader": {
     "cell_type": "code",
     "checksum": "b35971b1f18c86aa58961ababdd857b1",
     "grade": false,
     "grade_id": "cell-f04bd769c1af56e6",
     "locked": false,
     "schema_version": 3,
     "solution": true,
     "task": false
    },
    "tags": []
   },
   "outputs": [
    {
     "data": {
      "text/html": [
       "<div>\n",
       "<style scoped>\n",
       "    .dataframe tbody tr th:only-of-type {\n",
       "        vertical-align: middle;\n",
       "    }\n",
       "\n",
       "    .dataframe tbody tr th {\n",
       "        vertical-align: top;\n",
       "    }\n",
       "\n",
       "    .dataframe thead th {\n",
       "        text-align: right;\n",
       "    }\n",
       "</style>\n",
       "<table border=\"1\" class=\"dataframe\">\n",
       "  <thead>\n",
       "    <tr style=\"text-align: right;\">\n",
       "      <th></th>\n",
       "      <th>Stressors</th>\n",
       "    </tr>\n",
       "  </thead>\n",
       "  <tbody>\n",
       "    <tr>\n",
       "      <th>CO2</th>\n",
       "      <td>1.113076</td>\n",
       "    </tr>\n",
       "    <tr>\n",
       "      <th>CH4</th>\n",
       "      <td>0.789004</td>\n",
       "    </tr>\n",
       "  </tbody>\n",
       "</table>\n",
       "</div>"
      ],
      "text/plain": [
       "     Stressors\n",
       "CO2   1.113076\n",
       "CH4   0.789004"
      ]
     },
     "metadata": {},
     "output_type": "display_data"
    }
   ],
   "source": [
    "e_i=S_i @ x_i\n",
    "e_i = e_i.rename(columns = {'Output' : 'Stressors'})\n",
    "\n",
    "display(e_i)"
   ]
  },
  {
   "cell_type": "markdown",
   "id": "56ee1c48-6995-4f92-8f1a-d0d1a2aa9b8c",
   "metadata": {
    "deletable": false,
    "editable": false,
    "nbgrader": {
     "cell_type": "markdown",
     "checksum": "45d4290eefbd9eea392700c6c1f6708a",
     "grade": false,
     "grade_id": "cell-80907368b7882d95",
     "locked": true,
     "schema_version": 3,
     "solution": false,
     "task": false
    },
    "tags": []
   },
   "source": [
    "**_Run the cell under to check the format of your answer(s)_**"
   ]
  },
  {
   "cell_type": "code",
   "execution_count": 11,
   "id": "92b54b62-df5c-49dd-8de8-fa5c2bbf375a",
   "metadata": {
    "deletable": false,
    "editable": false,
    "nbgrader": {
     "cell_type": "code",
     "checksum": "b35b077c6d8864bb36b60c0cc48bb734",
     "grade": true,
     "grade_id": "cell-644bb0c9bd118005",
     "locked": true,
     "points": 2,
     "schema_version": 3,
     "solution": false,
     "task": false
    },
    "tags": []
   },
   "outputs": [],
   "source": [
    "assert (e_i.columns == ['Stressors']).all(), 'The column does not correspond'"
   ]
  },
  {
   "cell_type": "markdown",
   "id": "95f3712b-0a44-4312-b47b-8f4148c84781",
   "metadata": {
    "deletable": false,
    "editable": false,
    "nbgrader": {
     "cell_type": "markdown",
     "checksum": "3d23cffe6411f75d2c454e14cab6fa4c",
     "grade": false,
     "grade_id": "cell-dded356002557c08",
     "locked": true,
     "schema_version": 3,
     "solution": false,
     "task": false
    },
    "tags": []
   },
   "source": [
    "**True or False?**\n",
    "\n",
    "The vector `e_i` represents the total emissions for a final demand of 0 unit of product A and 3 units of product B.\n",
    "\n",
    "Define your answer as the variable `answer_1i` (e.g. `answer_1i = True` if you think the statement is True and `answer_1i = False` if you think the statement is False)."
   ]
  },
  {
   "cell_type": "code",
   "execution_count": 12,
   "id": "0142a60d-21aa-47bd-b676-dfcb30f36c37",
   "metadata": {
    "deletable": false,
    "nbgrader": {
     "cell_type": "code",
     "checksum": "16fd7f9b67eff36a8d96c165efa70060",
     "grade": false,
     "grade_id": "cell-0ab4fed373482cde",
     "locked": false,
     "schema_version": 3,
     "solution": true,
     "task": false
    },
    "tags": []
   },
   "outputs": [],
   "source": [
    "answer_1i = True"
   ]
  },
  {
   "cell_type": "markdown",
   "id": "ffa4936c-63ba-41fd-9a5a-92376d213b95",
   "metadata": {
    "deletable": false,
    "editable": false,
    "nbgrader": {
     "cell_type": "markdown",
     "checksum": "5d5b447390076ef93f74cd4ce046402d",
     "grade": false,
     "grade_id": "cell-a8cb33eb5c0d9f57",
     "locked": true,
     "schema_version": 3,
     "solution": false,
     "task": false
    },
    "tags": []
   },
   "source": [
    "**_Run the cell under to check the format of your answer(s)_**"
   ]
  },
  {
   "cell_type": "code",
   "execution_count": 13,
   "id": "314d27b9-1c68-4808-9cd3-ead04d586e7d",
   "metadata": {
    "deletable": false,
    "editable": false,
    "nbgrader": {
     "cell_type": "code",
     "checksum": "248ee9c4d8c83dc2503064633292f687",
     "grade": true,
     "grade_id": "cell-a979a4552afa5861",
     "locked": true,
     "points": 2,
     "schema_version": 3,
     "solution": false,
     "task": false
    },
    "tags": []
   },
   "outputs": [],
   "source": [
    "assert all (type(i) in [bool] for i in [answer_1i]), 'The answer(s) must be a boolean i.e. True or False'"
   ]
  },
  {
   "cell_type": "markdown",
   "id": "5f9db879-7c26-4acf-8ef5-6f6408e1b808",
   "metadata": {
    "deletable": false,
    "editable": false,
    "nbgrader": {
     "cell_type": "markdown",
     "checksum": "b7b86950956d38e08ed447cf18a50e28",
     "grade": false,
     "grade_id": "cell-74508e7eb54a1303",
     "locked": true,
     "schema_version": 3,
     "solution": false,
     "task": false
    },
    "tags": []
   },
   "source": [
    "#### **2i) Matrix of process stressors E** _(10 points)_"
   ]
  },
  {
   "cell_type": "markdown",
   "id": "3e29cdb2-29ea-4c07-8ea6-0feacadd72f9",
   "metadata": {
    "deletable": false,
    "editable": false,
    "nbgrader": {
     "cell_type": "markdown",
     "checksum": "75f5b3bf8af414c0e4895941ed58e731",
     "grade": false,
     "grade_id": "cell-faa2b0ab32e4408f",
     "locked": true,
     "schema_version": 3,
     "solution": false,
     "task": false
    },
    "tags": []
   },
   "source": [
    "Compute the matrix of stressors by processes `E_i`."
   ]
  },
  {
   "cell_type": "code",
   "execution_count": 15,
   "id": "fd666a9e-0274-4167-b128-d956d5807768",
   "metadata": {
    "deletable": false,
    "nbgrader": {
     "cell_type": "code",
     "checksum": "6ddf416277e58523aa0716fbd4747245",
     "grade": false,
     "grade_id": "cell-3f78fe3d4b107e9f",
     "locked": false,
     "schema_version": 3,
     "solution": true,
     "task": false
    },
    "tags": []
   },
   "outputs": [
    {
     "data": {
      "text/html": [
       "<div>\n",
       "<style scoped>\n",
       "    .dataframe tbody tr th:only-of-type {\n",
       "        vertical-align: middle;\n",
       "    }\n",
       "\n",
       "    .dataframe tbody tr th {\n",
       "        vertical-align: top;\n",
       "    }\n",
       "\n",
       "    .dataframe thead th {\n",
       "        text-align: right;\n",
       "    }\n",
       "</style>\n",
       "<table border=\"1\" class=\"dataframe\">\n",
       "  <thead>\n",
       "    <tr style=\"text-align: right;\">\n",
       "      <th></th>\n",
       "      <th>CO2</th>\n",
       "      <th>CH4</th>\n",
       "    </tr>\n",
       "  </thead>\n",
       "  <tbody>\n",
       "    <tr>\n",
       "      <th>A</th>\n",
       "      <td>1.783061</td>\n",
       "      <td>0.000000</td>\n",
       "    </tr>\n",
       "    <tr>\n",
       "      <th>B</th>\n",
       "      <td>0.000000</td>\n",
       "      <td>4.323923</td>\n",
       "    </tr>\n",
       "  </tbody>\n",
       "</table>\n",
       "</div>"
      ],
      "text/plain": [
       "        CO2       CH4\n",
       "A  1.783061  0.000000\n",
       "B  0.000000  4.323923"
      ]
     },
     "metadata": {},
     "output_type": "display_data"
    },
    {
     "data": {
      "text/html": [
       "<div>\n",
       "<style scoped>\n",
       "    .dataframe tbody tr th:only-of-type {\n",
       "        vertical-align: middle;\n",
       "    }\n",
       "\n",
       "    .dataframe tbody tr th {\n",
       "        vertical-align: top;\n",
       "    }\n",
       "\n",
       "    .dataframe thead th {\n",
       "        text-align: right;\n",
       "    }\n",
       "</style>\n",
       "<table border=\"1\" class=\"dataframe\">\n",
       "  <thead>\n",
       "    <tr style=\"text-align: right;\">\n",
       "      <th></th>\n",
       "      <th>A</th>\n",
       "      <th>B</th>\n",
       "    </tr>\n",
       "  </thead>\n",
       "  <tbody>\n",
       "    <tr>\n",
       "      <th>CO2</th>\n",
       "      <td>0.6</td>\n",
       "      <td>0.01</td>\n",
       "    </tr>\n",
       "    <tr>\n",
       "      <th>CH4</th>\n",
       "      <td>0.2</td>\n",
       "      <td>0.10</td>\n",
       "    </tr>\n",
       "  </tbody>\n",
       "</table>\n",
       "</div>"
      ],
      "text/plain": [
       "       A     B\n",
       "CO2  0.6  0.01\n",
       "CH4  0.2  0.10"
      ]
     },
     "metadata": {},
     "output_type": "display_data"
    },
    {
     "data": {
      "text/html": [
       "<div>\n",
       "<style scoped>\n",
       "    .dataframe tbody tr th:only-of-type {\n",
       "        vertical-align: middle;\n",
       "    }\n",
       "\n",
       "    .dataframe tbody tr th {\n",
       "        vertical-align: top;\n",
       "    }\n",
       "\n",
       "    .dataframe thead th {\n",
       "        text-align: right;\n",
       "    }\n",
       "</style>\n",
       "<table border=\"1\" class=\"dataframe\">\n",
       "  <thead>\n",
       "    <tr style=\"text-align: right;\">\n",
       "      <th></th>\n",
       "      <th>A</th>\n",
       "      <th>B</th>\n",
       "    </tr>\n",
       "  </thead>\n",
       "  <tbody>\n",
       "    <tr>\n",
       "      <th>CO2</th>\n",
       "      <td>1.069837</td>\n",
       "      <td>0.043239</td>\n",
       "    </tr>\n",
       "    <tr>\n",
       "      <th>CH4</th>\n",
       "      <td>0.356612</td>\n",
       "      <td>0.432392</td>\n",
       "    </tr>\n",
       "  </tbody>\n",
       "</table>\n",
       "</div>"
      ],
      "text/plain": [
       "            A         B\n",
       "CO2  1.069837  0.043239\n",
       "CH4  0.356612  0.432392"
      ]
     },
     "metadata": {},
     "output_type": "display_data"
    }
   ],
   "source": [
    "x_i_marr = np.diag(x_i[\"Output\"])\n",
    "x_i_m = pd.DataFrame(x_i_marr, index = ['A' , 'B'], columns = ['CO2' , 'CH4'])\n",
    "display(x_i_m)\n",
    "display(S_i)\n",
    "\n",
    "E_i = S_i @ x_i_m\n",
    "E_i = E_i.rename(columns = {'CO2' : 'A' , 'CH4' : 'B'})\n",
    "display(E_i)"
   ]
  },
  {
   "cell_type": "markdown",
   "id": "5e32b1e5-9434-4dd7-84c9-54cf4b2f5884",
   "metadata": {
    "deletable": false,
    "editable": false,
    "nbgrader": {
     "cell_type": "markdown",
     "checksum": "45bfb365aa33600eb06b0b5aeeb3dca4",
     "grade": false,
     "grade_id": "cell-88692a578872e151",
     "locked": true,
     "schema_version": 3,
     "solution": false,
     "task": false
    },
    "tags": []
   },
   "source": [
    "**_Run the cell under to check the format of your answer(s)_**"
   ]
  },
  {
   "cell_type": "code",
   "execution_count": 16,
   "id": "e73803ec-5243-40e9-88d1-ccc983a20c28",
   "metadata": {
    "deletable": false,
    "editable": false,
    "nbgrader": {
     "cell_type": "code",
     "checksum": "89543c6d51120b405da8b8f04985dff5",
     "grade": true,
     "grade_id": "cell-90c6851199e9b11d",
     "locked": true,
     "points": 5,
     "schema_version": 3,
     "solution": false,
     "task": false
    },
    "tags": []
   },
   "outputs": [],
   "source": [
    "assert (E_i.index == ['CO2', 'CH4']).all(), 'The index do not correspond'\n",
    "assert (E_i.columns == ['A', 'B']).all(), 'The columns do not correspond'"
   ]
  },
  {
   "cell_type": "markdown",
   "id": "66e72465-81a4-41a8-bc5b-2420ca456867",
   "metadata": {
    "deletable": false,
    "editable": false,
    "jp-MarkdownHeadingCollapsed": true,
    "nbgrader": {
     "cell_type": "markdown",
     "checksum": "a5f5defda8cfff1d2d1d447744f95e5c",
     "grade": false,
     "grade_id": "cell-e355df026bff9d6c",
     "locked": true,
     "schema_version": 3,
     "solution": false,
     "task": false
    },
    "tags": []
   },
   "source": [
    "**Which one(s) of these statement(s) is/are correct?**\n",
    "\n",
    "1. There is no final demand of process A.\n",
    "2. There is no final demand of process B\n",
    "3. Process A emits CO$_2$ and CH$_4$.\n",
    "4. Process B emits CO$_2$ and CH$_4$.\n",
    "\n",
    "Define your answer as the variable `answer_2i` (e.g. `answer_2i = {1}` if you think the correct statement is statement {1} and `answer_2i = {1, 2}` if you think the correct statements are statements {1, 2})."
   ]
  },
  {
   "cell_type": "code",
   "execution_count": 17,
   "id": "55f2a7db-5c50-4367-8b7b-073a80335ee0",
   "metadata": {
    "deletable": false,
    "nbgrader": {
     "cell_type": "code",
     "checksum": "fc320d8133667c7ca90dad9234087cfa",
     "grade": false,
     "grade_id": "cell-e54fe24b5f1948d6",
     "locked": false,
     "schema_version": 3,
     "solution": true,
     "task": false
    },
    "tags": []
   },
   "outputs": [],
   "source": [
    "answer_2i = {1, 3, 4}"
   ]
  },
  {
   "cell_type": "markdown",
   "id": "dbdcfaf4-8606-40a0-a525-a0ac31729c6f",
   "metadata": {
    "deletable": false,
    "editable": false,
    "nbgrader": {
     "cell_type": "markdown",
     "checksum": "388416edba52e4b0df952faae296040c",
     "grade": false,
     "grade_id": "cell-bbea47527bec87dc",
     "locked": true,
     "schema_version": 3,
     "solution": false,
     "task": false
    },
    "tags": []
   },
   "source": [
    "**_Run the cell under to check the format of your answer(s)_**"
   ]
  },
  {
   "cell_type": "code",
   "execution_count": 18,
   "id": "4c2ebe8a-17cf-4c07-8482-b0b9557cd8bf",
   "metadata": {
    "deletable": false,
    "editable": false,
    "nbgrader": {
     "cell_type": "code",
     "checksum": "e5d9a6d7db8fcc0281e20c074938b814",
     "grade": true,
     "grade_id": "cell-7bb578041f3d7d3c",
     "locked": true,
     "points": 5,
     "schema_version": 3,
     "solution": false,
     "task": false
    },
    "tags": []
   },
   "outputs": [],
   "source": [
    "assert all (type(i) in [set] for i in [answer_2i]), 'The answer(s) must be a set of values'"
   ]
  },
  {
   "cell_type": "markdown",
   "id": "efcc7b02-701e-4fd4-9735-894bc96dee11",
   "metadata": {
    "deletable": false,
    "editable": false,
    "nbgrader": {
     "cell_type": "markdown",
     "checksum": "0a2e6663f5c152e6e4147f97ff763413",
     "grade": false,
     "grade_id": "cell-8d02078d64eb2b24",
     "locked": true,
     "schema_version": 3,
     "solution": false,
     "task": false
    },
    "tags": []
   },
   "source": [
    "#### **3i) Vector of total impacts d** _(10 points)_"
   ]
  },
  {
   "cell_type": "markdown",
   "id": "b02eaa3b-b527-4326-9190-ec2c6a2fb6a6",
   "metadata": {
    "deletable": false,
    "editable": false,
    "nbgrader": {
     "cell_type": "markdown",
     "checksum": "fc129f77fa8ae3bf69ae45921dc41338",
     "grade": false,
     "grade_id": "cell-53e3324f693d9169",
     "locked": true,
     "schema_version": 3,
     "solution": false,
     "task": false
    },
    "tags": []
   },
   "source": [
    "Compute the vector of total impacts `d_i`. Rename the column of `d_i` as \"Total impacts\"."
   ]
  },
  {
   "cell_type": "code",
   "execution_count": 19,
   "id": "ada3c5e4-49ef-41f1-8019-e15aec6c36cb",
   "metadata": {
    "deletable": false,
    "nbgrader": {
     "cell_type": "code",
     "checksum": "e3bf036196afa2e8fff0ecb876f04aae",
     "grade": false,
     "grade_id": "cell-fdcde409184f2d35",
     "locked": false,
     "schema_version": 3,
     "solution": true,
     "task": false
    },
    "tags": []
   },
   "outputs": [
    {
     "data": {
      "text/html": [
       "<div>\n",
       "<style scoped>\n",
       "    .dataframe tbody tr th:only-of-type {\n",
       "        vertical-align: middle;\n",
       "    }\n",
       "\n",
       "    .dataframe tbody tr th {\n",
       "        vertical-align: top;\n",
       "    }\n",
       "\n",
       "    .dataframe thead th {\n",
       "        text-align: right;\n",
       "    }\n",
       "</style>\n",
       "<table border=\"1\" class=\"dataframe\">\n",
       "  <thead>\n",
       "    <tr style=\"text-align: right;\">\n",
       "      <th></th>\n",
       "      <th>Total impacts</th>\n",
       "    </tr>\n",
       "  </thead>\n",
       "  <tbody>\n",
       "    <tr>\n",
       "      <th>GWP (kgCO2eq)</th>\n",
       "      <td>20.049183</td>\n",
       "    </tr>\n",
       "    <tr>\n",
       "      <th>PCOP (kgC2H4eq)</th>\n",
       "      <td>0.004734</td>\n",
       "    </tr>\n",
       "  </tbody>\n",
       "</table>\n",
       "</div>"
      ],
      "text/plain": [
       "                 Total impacts\n",
       "GWP (kgCO2eq)        20.049183\n",
       "PCOP (kgC2H4eq)       0.004734"
      ]
     },
     "metadata": {},
     "output_type": "display_data"
    }
   ],
   "source": [
    "d_i = C_i @ e_i\n",
    "d_i = d_i.rename(columns = {'Stressors' : 'Total impacts'})\n",
    "display(d_i)"
   ]
  },
  {
   "cell_type": "markdown",
   "id": "c983722f-a545-49e6-9d96-9cb8c42e5af9",
   "metadata": {
    "deletable": false,
    "editable": false,
    "nbgrader": {
     "cell_type": "markdown",
     "checksum": "9819adfcb45e96e70c9d3c80e5fe8594",
     "grade": false,
     "grade_id": "cell-22f8c688b081d879",
     "locked": true,
     "schema_version": 3,
     "solution": false,
     "task": false
    },
    "tags": []
   },
   "source": [
    "**_Run the cell under to check the format of your answer(s)_**"
   ]
  },
  {
   "cell_type": "code",
   "execution_count": 20,
   "id": "db003a62-9924-4e6f-878a-bf478dfabf5e",
   "metadata": {
    "deletable": false,
    "editable": false,
    "nbgrader": {
     "cell_type": "code",
     "checksum": "403c4d5e3d5c3a3ba0aebc8346993253",
     "grade": true,
     "grade_id": "cell-cfa013042c8e9c66",
     "locked": true,
     "points": 5,
     "schema_version": 3,
     "solution": false,
     "task": false
    },
    "tags": []
   },
   "outputs": [],
   "source": [
    "assert (d_i.columns == ['Total impacts']).all(), 'The column does not correspond'"
   ]
  },
  {
   "cell_type": "markdown",
   "id": "aa5b9d3a-6a8a-4840-8fed-e9a610ab273c",
   "metadata": {
    "deletable": false,
    "editable": false,
    "nbgrader": {
     "cell_type": "markdown",
     "checksum": "5aa6bcb2399c5adfabd778cbfd8fe864",
     "grade": false,
     "grade_id": "cell-f3af8d1e47170a4d",
     "locked": true,
     "schema_version": 3,
     "solution": false,
     "task": false
    },
    "tags": []
   },
   "source": [
    "**Which one(s) of these statement(s) is/are correct?**\n",
    "\n",
    "1. The first row represents global warming potential in kg of CH$_4$ equivalents.\n",
    "2. The second row represents an impact whose unit is kg of ethylene equivalents.\n",
    "3. Two impacts categories are represented by `d_i`.\n",
    "4. In this context, PCOP means Potential Cost of Production. \n",
    "\n",
    "Define your answer as the variable `answer_3i` (e.g. `answer_3i = {1}` if you think the correct statement is statement {1} and `answer_3i = {1, 2}` if you think the correct statements are statements {1, 2})."
   ]
  },
  {
   "cell_type": "code",
   "execution_count": 21,
   "id": "755c2519-0f6c-464a-9d7b-d21ecce730d8",
   "metadata": {
    "deletable": false,
    "nbgrader": {
     "cell_type": "code",
     "checksum": "d9fd566fe0ac9c0987bcccc8a5d4fdbb",
     "grade": false,
     "grade_id": "cell-21a6ecc3073f2121",
     "locked": false,
     "schema_version": 3,
     "solution": true,
     "task": false
    },
    "tags": []
   },
   "outputs": [],
   "source": [
    "answer_3i = {2, 3}"
   ]
  },
  {
   "cell_type": "markdown",
   "id": "661a67cd-414d-4d1a-9c4f-4999e02271ff",
   "metadata": {
    "deletable": false,
    "editable": false,
    "nbgrader": {
     "cell_type": "markdown",
     "checksum": "8192da38b122610bac5448f5dbee2e53",
     "grade": false,
     "grade_id": "cell-7579419e1ddbaeff",
     "locked": true,
     "schema_version": 3,
     "solution": false,
     "task": false
    },
    "tags": []
   },
   "source": [
    "**_Run the cell under to check the format of your answer(s)_**"
   ]
  },
  {
   "cell_type": "code",
   "execution_count": 22,
   "id": "42611904-d6b9-4ba3-a0d5-28ed809789ad",
   "metadata": {
    "deletable": false,
    "editable": false,
    "nbgrader": {
     "cell_type": "code",
     "checksum": "6047ac74087741855f2169a935637bde",
     "grade": true,
     "grade_id": "cell-59c00b8cb6081502",
     "locked": true,
     "points": 5,
     "schema_version": 3,
     "solution": false,
     "task": false
    },
    "tags": []
   },
   "outputs": [],
   "source": [
    "assert all (type(i) in [set] for i in [answer_3i]), 'The answer(s) must be a set of values'"
   ]
  },
  {
   "cell_type": "markdown",
   "id": "a2384261-3ce7-443c-a79d-34a8632b08c0",
   "metadata": {
    "deletable": false,
    "editable": false,
    "nbgrader": {
     "cell_type": "markdown",
     "checksum": "841f979adc3ea83729829f1b30dd21f8",
     "grade": false,
     "grade_id": "cell-06f777a987ebbe64",
     "locked": true,
     "schema_version": 3,
     "solution": false,
     "task": false
    },
    "tags": []
   },
   "source": [
    "#### **4i) Matrix of impacts from each process Dpro** _(10 points)_"
   ]
  },
  {
   "cell_type": "markdown",
   "id": "589108b6-89d8-4c75-8bdf-633c5e3a6355",
   "metadata": {
    "deletable": false,
    "editable": false,
    "nbgrader": {
     "cell_type": "markdown",
     "checksum": "853ca08be3c65366758ae15966f30277",
     "grade": false,
     "grade_id": "cell-f8a2dbc1a6ac2be0",
     "locked": true,
     "schema_version": 3,
     "solution": false,
     "task": false
    },
    "tags": []
   },
   "source": [
    "Compute the matrix of impacts by processes `Dpro_i`."
   ]
  },
  {
   "cell_type": "code",
   "execution_count": 23,
   "id": "d27f2bd0-d2b3-4543-ba78-509cd50e3d79",
   "metadata": {
    "deletable": false,
    "nbgrader": {
     "cell_type": "code",
     "checksum": "1a3910951d8c92892694d9c00ef7ea45",
     "grade": false,
     "grade_id": "cell-bda0930525862a53",
     "locked": false,
     "schema_version": 3,
     "solution": true,
     "task": false
    },
    "tags": []
   },
   "outputs": [
    {
     "data": {
      "text/html": [
       "<div>\n",
       "<style scoped>\n",
       "    .dataframe tbody tr th:only-of-type {\n",
       "        vertical-align: middle;\n",
       "    }\n",
       "\n",
       "    .dataframe tbody tr th {\n",
       "        vertical-align: top;\n",
       "    }\n",
       "\n",
       "    .dataframe thead th {\n",
       "        text-align: right;\n",
       "    }\n",
       "</style>\n",
       "<table border=\"1\" class=\"dataframe\">\n",
       "  <thead>\n",
       "    <tr style=\"text-align: right;\">\n",
       "      <th></th>\n",
       "      <th>A</th>\n",
       "      <th>B</th>\n",
       "    </tr>\n",
       "  </thead>\n",
       "  <tbody>\n",
       "    <tr>\n",
       "      <th>GWP (kgCO2eq)</th>\n",
       "      <td>9.628529</td>\n",
       "      <td>10.420654</td>\n",
       "    </tr>\n",
       "    <tr>\n",
       "      <th>PCOP (kgC2H4eq)</th>\n",
       "      <td>0.002140</td>\n",
       "      <td>0.002594</td>\n",
       "    </tr>\n",
       "  </tbody>\n",
       "</table>\n",
       "</div>"
      ],
      "text/plain": [
       "                        A          B\n",
       "GWP (kgCO2eq)    9.628529  10.420654\n",
       "PCOP (kgC2H4eq)  0.002140   0.002594"
      ]
     },
     "metadata": {},
     "output_type": "display_data"
    }
   ],
   "source": [
    "Dpro_i = C_i @ E_i\n",
    "\n",
    "display(Dpro_i)"
   ]
  },
  {
   "cell_type": "markdown",
   "id": "6bcb3181-bbde-4953-8b63-d3a9dd1ed2f2",
   "metadata": {
    "deletable": false,
    "editable": false,
    "nbgrader": {
     "cell_type": "markdown",
     "checksum": "2ba5f31ed85365034623555b2593b31d",
     "grade": false,
     "grade_id": "cell-8f0ce23e6c3ee365",
     "locked": true,
     "schema_version": 3,
     "solution": false,
     "task": false
    },
    "tags": []
   },
   "source": [
    "**_Run the cell under to check the format of your answer(s)_**"
   ]
  },
  {
   "cell_type": "code",
   "execution_count": 24,
   "id": "54e30b4b-5269-49e8-81c4-8b788f024eb2",
   "metadata": {
    "deletable": false,
    "editable": false,
    "nbgrader": {
     "cell_type": "code",
     "checksum": "fa1b1fec6c77292d8a9731c4cf5bdc64",
     "grade": true,
     "grade_id": "cell-a7d414c7cef2995b",
     "locked": true,
     "points": 5,
     "schema_version": 3,
     "solution": false,
     "task": false
    },
    "tags": []
   },
   "outputs": [],
   "source": [
    "assert (Dpro_i.index == ['GWP (kgCO2eq)', 'PCOP (kgC2H4eq)']).all(), 'The index do not correspond'\n",
    "assert (Dpro_i.columns == ['A', 'B']).all(), 'The columns do not correspond'"
   ]
  },
  {
   "cell_type": "markdown",
   "id": "9381924d-7b05-45fd-8b6a-658916f94b5f",
   "metadata": {
    "deletable": false,
    "editable": false,
    "nbgrader": {
     "cell_type": "markdown",
     "checksum": "7654b1b2cf19f0a3287de02fb1ab6de3",
     "grade": false,
     "grade_id": "cell-bbd44a831bf574b9",
     "locked": true,
     "schema_version": 3,
     "solution": false,
     "task": false
    },
    "tags": []
   },
   "source": [
    "**Which one(s) of these statement(s) is/are correct?**\n",
    "\n",
    "1. Process A contributes more to GWP than process B.\n",
    "2. Process B contributes more to GWP than process A.\n",
    "3. Process A emits around 0.00214 kg SO$_2$-equivalents.\n",
    "4. Process B emits around 10.42 kg CO$_2$-equivalents.\n",
    "\n",
    "Define your answer as the variable `answer_4i` (e.g. `answer_4i = {1}` if you think the correct statement is statement {1} and `answer_4i = {1, 2}` if you think the correct statements are statements {1, 2})."
   ]
  },
  {
   "cell_type": "code",
   "execution_count": 25,
   "id": "b4ea07be-be90-403d-8ba3-4c420b5e6b64",
   "metadata": {
    "deletable": false,
    "nbgrader": {
     "cell_type": "code",
     "checksum": "2f0f09e9ecdb94345a18f1a32d5c899f",
     "grade": false,
     "grade_id": "cell-849951bf24428ecb",
     "locked": false,
     "schema_version": 3,
     "solution": true,
     "task": false
    },
    "tags": []
   },
   "outputs": [],
   "source": [
    "answer_4i = {2, 4}"
   ]
  },
  {
   "cell_type": "markdown",
   "id": "941380cc-4217-4234-8ccd-8700d14a0f77",
   "metadata": {
    "deletable": false,
    "editable": false,
    "nbgrader": {
     "cell_type": "markdown",
     "checksum": "63fde773173b1d3172fc1142ebd32c15",
     "grade": false,
     "grade_id": "cell-d37c754b79de6f47",
     "locked": true,
     "schema_version": 3,
     "solution": false,
     "task": false
    },
    "tags": []
   },
   "source": [
    "**_Run the cell under to check the format of your answer(s)_**"
   ]
  },
  {
   "cell_type": "code",
   "execution_count": 26,
   "id": "04ee1f7d-d680-4503-978d-733d276403fa",
   "metadata": {
    "deletable": false,
    "editable": false,
    "nbgrader": {
     "cell_type": "code",
     "checksum": "22bc40b90d044d942283ea022bf59ddb",
     "grade": true,
     "grade_id": "cell-9a622d378c881f71",
     "locked": true,
     "points": 5,
     "schema_version": 3,
     "solution": false,
     "task": false
    },
    "tags": []
   },
   "outputs": [],
   "source": [
    "assert all (type(i) in [set] for i in [answer_4i]), 'The answer(s) must be a set of values'"
   ]
  },
  {
   "cell_type": "markdown",
   "id": "4cb31b81-b95b-4ace-82a4-0557d1362cf1",
   "metadata": {
    "deletable": false,
    "editable": false,
    "nbgrader": {
     "cell_type": "markdown",
     "checksum": "a99ad4d221ab02e0ff20aff372562af0",
     "grade": false,
     "grade_id": "cell-1d1e93b4f1902d4e",
     "locked": true,
     "schema_version": 3,
     "solution": false,
     "task": false
    },
    "tags": []
   },
   "source": [
    "#### **5i) Matrix of impacts from each stressor Dstr** _(10 points)_"
   ]
  },
  {
   "cell_type": "markdown",
   "id": "8a5973dd-89ce-4aee-b70c-fb15649ae9ac",
   "metadata": {
    "deletable": false,
    "editable": false,
    "nbgrader": {
     "cell_type": "markdown",
     "checksum": "4f2e16cad297275419e60ada039791d1",
     "grade": false,
     "grade_id": "cell-f8d5ca8ee2a47d47",
     "locked": true,
     "schema_version": 3,
     "solution": false,
     "task": false
    },
    "tags": []
   },
   "source": [
    "Compute the matrix of impacts by stressors `Dstr_i`."
   ]
  },
  {
   "cell_type": "code",
   "execution_count": 27,
   "id": "d36293df-90d6-4cb8-b534-3e467f65a51e",
   "metadata": {
    "deletable": false,
    "nbgrader": {
     "cell_type": "code",
     "checksum": "96d61937a01e5efe694a5e6bf35bc0b8",
     "grade": false,
     "grade_id": "cell-502133437be719f4",
     "locked": false,
     "schema_version": 3,
     "solution": true,
     "task": false
    },
    "tags": []
   },
   "outputs": [
    {
     "data": {
      "text/html": [
       "<div>\n",
       "<style scoped>\n",
       "    .dataframe tbody tr th:only-of-type {\n",
       "        vertical-align: middle;\n",
       "    }\n",
       "\n",
       "    .dataframe tbody tr th {\n",
       "        vertical-align: top;\n",
       "    }\n",
       "\n",
       "    .dataframe thead th {\n",
       "        text-align: right;\n",
       "    }\n",
       "</style>\n",
       "<table border=\"1\" class=\"dataframe\">\n",
       "  <thead>\n",
       "    <tr style=\"text-align: right;\">\n",
       "      <th></th>\n",
       "      <th>CO2</th>\n",
       "      <th>CH4</th>\n",
       "    </tr>\n",
       "  </thead>\n",
       "  <tbody>\n",
       "    <tr>\n",
       "      <th>A</th>\n",
       "      <td>1.113076</td>\n",
       "      <td>0.000000</td>\n",
       "    </tr>\n",
       "    <tr>\n",
       "      <th>B</th>\n",
       "      <td>0.000000</td>\n",
       "      <td>0.789004</td>\n",
       "    </tr>\n",
       "  </tbody>\n",
       "</table>\n",
       "</div>"
      ],
      "text/plain": [
       "        CO2       CH4\n",
       "A  1.113076  0.000000\n",
       "B  0.000000  0.789004"
      ]
     },
     "metadata": {},
     "output_type": "display_data"
    },
    {
     "data": {
      "text/html": [
       "<div>\n",
       "<style scoped>\n",
       "    .dataframe tbody tr th:only-of-type {\n",
       "        vertical-align: middle;\n",
       "    }\n",
       "\n",
       "    .dataframe tbody tr th {\n",
       "        vertical-align: top;\n",
       "    }\n",
       "\n",
       "    .dataframe thead th {\n",
       "        text-align: right;\n",
       "    }\n",
       "</style>\n",
       "<table border=\"1\" class=\"dataframe\">\n",
       "  <thead>\n",
       "    <tr style=\"text-align: right;\">\n",
       "      <th></th>\n",
       "      <th>CO2</th>\n",
       "      <th>CH4</th>\n",
       "    </tr>\n",
       "  </thead>\n",
       "  <tbody>\n",
       "    <tr>\n",
       "      <th>GWP (kgCO2eq)</th>\n",
       "      <td>1.113076</td>\n",
       "      <td>18.936107</td>\n",
       "    </tr>\n",
       "    <tr>\n",
       "      <th>PCOP (kgC2H4eq)</th>\n",
       "      <td>0.000000</td>\n",
       "      <td>0.004734</td>\n",
       "    </tr>\n",
       "  </tbody>\n",
       "</table>\n",
       "</div>"
      ],
      "text/plain": [
       "                      CO2        CH4\n",
       "GWP (kgCO2eq)    1.113076  18.936107\n",
       "PCOP (kgC2H4eq)  0.000000   0.004734"
      ]
     },
     "metadata": {},
     "output_type": "display_data"
    }
   ],
   "source": [
    "e_i_marr = np.diag(e_i[\"Stressors\"])\n",
    "e_i_m = pd.DataFrame(e_i_marr, index = ['A' , 'B'], columns = ['CO2' , 'CH4'])\n",
    "display(e_i_m)\n",
    "\n",
    "e_i_m = e_i_m.rename(index = {'A' : 'CO2' , 'B' : 'CH4'})\n",
    "\n",
    "Dstr_i = C_i @ e_i_m\n",
    "\n",
    "display(Dstr_i)"
   ]
  },
  {
   "cell_type": "markdown",
   "id": "5dc04a6f-aecd-497d-ae4c-709cd2ebb6ae",
   "metadata": {
    "deletable": false,
    "editable": false,
    "nbgrader": {
     "cell_type": "markdown",
     "checksum": "813ddf5806a8a569e8d57570a4da0356",
     "grade": false,
     "grade_id": "cell-77a1580b8217d08e",
     "locked": true,
     "schema_version": 3,
     "solution": false,
     "task": false
    },
    "tags": []
   },
   "source": [
    "**_Run the cell under to check the format of your answer(s)_**"
   ]
  },
  {
   "cell_type": "code",
   "execution_count": 28,
   "id": "8fa8bd91-296c-4023-a23a-6a6b227d5afa",
   "metadata": {
    "deletable": false,
    "editable": false,
    "nbgrader": {
     "cell_type": "code",
     "checksum": "a6ddd7584b7f8ba92f086fed44f53a73",
     "grade": true,
     "grade_id": "cell-bb3f8b2ddeb15f2f",
     "locked": true,
     "points": 5,
     "schema_version": 3,
     "solution": false,
     "task": false
    },
    "tags": []
   },
   "outputs": [],
   "source": [
    "assert (Dstr_i.index == ['GWP (kgCO2eq)', 'PCOP (kgC2H4eq)']).all(), 'The index do not correspond'\n",
    "assert (Dstr_i.columns == ['CO2', 'CH4']).all(), 'The columns do not correspond'"
   ]
  },
  {
   "cell_type": "markdown",
   "id": "21d568a9-46e5-453a-bd46-f3ae5030fecd",
   "metadata": {
    "deletable": false,
    "editable": false,
    "nbgrader": {
     "cell_type": "markdown",
     "checksum": "110234e0a7170cfbf841e1a4e98d668f",
     "grade": false,
     "grade_id": "cell-1a7786c7cb527e9c",
     "locked": true,
     "schema_version": 3,
     "solution": false,
     "task": false
    },
    "tags": []
   },
   "source": [
    "**Which one(s) of these statement(s) is/are correct?**\n",
    "\n",
    "1. CH$_4$ is responsible for most of the impacts for GWP.\n",
    "2. CO$_2$ does not contribute to PCOP because there are no CO$_2$ emissions.\n",
    "3. CH$_4$ creates all the impacts for PCOP.  \n",
    "\n",
    "Define your answer as the variable `answer_5i` (e.g. `answer_5i = {1}` if you think the correct statement is statement {1} and `answer_5i = {1, 2}` if you think the correct statements are statements {1, 2})."
   ]
  },
  {
   "cell_type": "code",
   "execution_count": 29,
   "id": "9c2132fd-e881-4b88-8e6f-03002d0e8ac2",
   "metadata": {
    "deletable": false,
    "nbgrader": {
     "cell_type": "code",
     "checksum": "6b3f8b0759efa012e27907c46d852483",
     "grade": false,
     "grade_id": "cell-f7c63ba3ade6cc25",
     "locked": false,
     "schema_version": 3,
     "solution": true,
     "task": false
    },
    "tags": []
   },
   "outputs": [],
   "source": [
    "answer_5i = {1, 3}"
   ]
  },
  {
   "cell_type": "markdown",
   "id": "99795d98-6f6f-4815-9b09-1f28e5d421c0",
   "metadata": {
    "deletable": false,
    "editable": false,
    "nbgrader": {
     "cell_type": "markdown",
     "checksum": "0e6ba4512970735126050fa80be22ddd",
     "grade": false,
     "grade_id": "cell-78821271ccdfca63",
     "locked": true,
     "schema_version": 3,
     "solution": false,
     "task": false
    },
    "tags": []
   },
   "source": [
    "**_Run the cell under to check the format of your answer(s)_**"
   ]
  },
  {
   "cell_type": "code",
   "execution_count": 30,
   "id": "ad0e2bf4-fd95-4925-8e8f-034442679eeb",
   "metadata": {
    "deletable": false,
    "editable": false,
    "nbgrader": {
     "cell_type": "code",
     "checksum": "b83b074e14cdab92efb37cd74e72aeda",
     "grade": true,
     "grade_id": "cell-f90a97e40399c479",
     "locked": true,
     "points": 5,
     "schema_version": 3,
     "solution": false,
     "task": false
    },
    "tags": []
   },
   "outputs": [],
   "source": [
    "assert all (type(i) in [set] for i in [answer_5i]), 'The answer(s) must be a set of values'"
   ]
  },
  {
   "cell_type": "markdown",
   "id": "6612a939-618c-4bb4-bd83-2f2e3166d112",
   "metadata": {
    "deletable": false,
    "editable": false,
    "nbgrader": {
     "cell_type": "markdown",
     "checksum": "15376f966456b28778dccd6005406f6d",
     "grade": false,
     "grade_id": "cell-931003df49eac1cb",
     "locked": true,
     "schema_version": 3,
     "solution": false,
     "task": false
    },
    "tags": []
   },
   "source": [
    "### **Production process ii)** _(50 points)_"
   ]
  },
  {
   "cell_type": "markdown",
   "id": "7ddf226b-5fd4-4ecc-b8e4-6aa21ee42e41",
   "metadata": {
    "deletable": false,
    "editable": false,
    "nbgrader": {
     "cell_type": "markdown",
     "checksum": "15a6f6b3c7e50a9996b54210a3d9b2d0",
     "grade": false,
     "grade_id": "cell-96488c3c8a17e1a3",
     "locked": true,
     "schema_version": 3,
     "solution": false,
     "task": false
    },
    "tags": []
   },
   "source": [
    "**Run the cell below to import the required vectors/matrices.**"
   ]
  },
  {
   "cell_type": "code",
   "execution_count": 31,
   "id": "c29fd41e-5cbc-4337-8a8d-c9e10e73e3e7",
   "metadata": {
    "deletable": false,
    "editable": false,
    "nbgrader": {
     "cell_type": "code",
     "checksum": "6c22e0a393658bd066614c8342d3e2e7",
     "grade": false,
     "grade_id": "cell-1a5db47bff2e32bc",
     "locked": true,
     "schema_version": 3,
     "solution": false,
     "task": false
    },
    "tags": []
   },
   "outputs": [],
   "source": [
    "A_ii = pd.read_csv(files_folder + \"A_ii.csv\", index_col = [0])\n",
    "y_ii = pd.read_csv(files_folder + \"y_ii.csv\", index_col = [0])\n",
    "S_ii = pd.read_csv(files_folder + \"S_ii.csv\", index_col = [0])\n",
    "C_ii = pd.read_csv(files_folder + \"C_ii.csv\", index_col = [0])"
   ]
  },
  {
   "cell_type": "markdown",
   "id": "d411302b-c72b-4ebf-b00c-35094915e31b",
   "metadata": {
    "deletable": false,
    "editable": false,
    "nbgrader": {
     "cell_type": "markdown",
     "checksum": "0ab459eff36436d682f76d61a5fe59ce",
     "grade": false,
     "grade_id": "cell-a5c4b3f2cbc129f9",
     "locked": true,
     "schema_version": 3,
     "solution": false,
     "task": false
    },
    "tags": []
   },
   "source": [
    "**_You can display the matrices/vectors in the cell below if you want to understand the production process you are working with._**"
   ]
  },
  {
   "cell_type": "code",
   "execution_count": 32,
   "id": "41edac3c-e857-4999-a676-eb5d243f20de",
   "metadata": {
    "deletable": false,
    "nbgrader": {
     "cell_type": "code",
     "checksum": "6264d8e4946a94c6540dff27cc7aadb6",
     "grade": false,
     "grade_id": "cell-41cedf50adf9812e",
     "locked": false,
     "schema_version": 3,
     "solution": true,
     "task": false
    },
    "tags": []
   },
   "outputs": [
    {
     "data": {
      "text/html": [
       "<div>\n",
       "<style scoped>\n",
       "    .dataframe tbody tr th:only-of-type {\n",
       "        vertical-align: middle;\n",
       "    }\n",
       "\n",
       "    .dataframe tbody tr th {\n",
       "        vertical-align: top;\n",
       "    }\n",
       "\n",
       "    .dataframe thead th {\n",
       "        text-align: right;\n",
       "    }\n",
       "</style>\n",
       "<table border=\"1\" class=\"dataframe\">\n",
       "  <thead>\n",
       "    <tr style=\"text-align: right;\">\n",
       "      <th></th>\n",
       "      <th>A</th>\n",
       "      <th>B</th>\n",
       "    </tr>\n",
       "  </thead>\n",
       "  <tbody>\n",
       "    <tr>\n",
       "      <th>A</th>\n",
       "      <td>0.03</td>\n",
       "      <td>0.4</td>\n",
       "    </tr>\n",
       "    <tr>\n",
       "      <th>B</th>\n",
       "      <td>0.50</td>\n",
       "      <td>0.1</td>\n",
       "    </tr>\n",
       "  </tbody>\n",
       "</table>\n",
       "</div>"
      ],
      "text/plain": [
       "      A    B\n",
       "A  0.03  0.4\n",
       "B  0.50  0.1"
      ]
     },
     "metadata": {},
     "output_type": "display_data"
    },
    {
     "data": {
      "text/html": [
       "<div>\n",
       "<style scoped>\n",
       "    .dataframe tbody tr th:only-of-type {\n",
       "        vertical-align: middle;\n",
       "    }\n",
       "\n",
       "    .dataframe tbody tr th {\n",
       "        vertical-align: top;\n",
       "    }\n",
       "\n",
       "    .dataframe thead th {\n",
       "        text-align: right;\n",
       "    }\n",
       "</style>\n",
       "<table border=\"1\" class=\"dataframe\">\n",
       "  <thead>\n",
       "    <tr style=\"text-align: right;\">\n",
       "      <th></th>\n",
       "      <th>Final demand</th>\n",
       "    </tr>\n",
       "  </thead>\n",
       "  <tbody>\n",
       "    <tr>\n",
       "      <th>A</th>\n",
       "      <td>4</td>\n",
       "    </tr>\n",
       "    <tr>\n",
       "      <th>B</th>\n",
       "      <td>0</td>\n",
       "    </tr>\n",
       "  </tbody>\n",
       "</table>\n",
       "</div>"
      ],
      "text/plain": [
       "   Final demand\n",
       "A             4\n",
       "B             0"
      ]
     },
     "metadata": {},
     "output_type": "display_data"
    },
    {
     "data": {
      "text/html": [
       "<div>\n",
       "<style scoped>\n",
       "    .dataframe tbody tr th:only-of-type {\n",
       "        vertical-align: middle;\n",
       "    }\n",
       "\n",
       "    .dataframe tbody tr th {\n",
       "        vertical-align: top;\n",
       "    }\n",
       "\n",
       "    .dataframe thead th {\n",
       "        text-align: right;\n",
       "    }\n",
       "</style>\n",
       "<table border=\"1\" class=\"dataframe\">\n",
       "  <thead>\n",
       "    <tr style=\"text-align: right;\">\n",
       "      <th></th>\n",
       "      <th>A</th>\n",
       "      <th>B</th>\n",
       "    </tr>\n",
       "  </thead>\n",
       "  <tbody>\n",
       "    <tr>\n",
       "      <th>NOx</th>\n",
       "      <td>0.8</td>\n",
       "      <td>0.4</td>\n",
       "    </tr>\n",
       "    <tr>\n",
       "      <th>SO2</th>\n",
       "      <td>0.2</td>\n",
       "      <td>0.7</td>\n",
       "    </tr>\n",
       "  </tbody>\n",
       "</table>\n",
       "</div>"
      ],
      "text/plain": [
       "       A    B\n",
       "NOx  0.8  0.4\n",
       "SO2  0.2  0.7"
      ]
     },
     "metadata": {},
     "output_type": "display_data"
    },
    {
     "data": {
      "text/html": [
       "<div>\n",
       "<style scoped>\n",
       "    .dataframe tbody tr th:only-of-type {\n",
       "        vertical-align: middle;\n",
       "    }\n",
       "\n",
       "    .dataframe tbody tr th {\n",
       "        vertical-align: top;\n",
       "    }\n",
       "\n",
       "    .dataframe thead th {\n",
       "        text-align: right;\n",
       "    }\n",
       "</style>\n",
       "<table border=\"1\" class=\"dataframe\">\n",
       "  <thead>\n",
       "    <tr style=\"text-align: right;\">\n",
       "      <th></th>\n",
       "      <th>NOx</th>\n",
       "      <th>SO2</th>\n",
       "    </tr>\n",
       "  </thead>\n",
       "  <tbody>\n",
       "    <tr>\n",
       "      <th>EP (kgPO3-/4eq)</th>\n",
       "      <td>0.1</td>\n",
       "      <td>0</td>\n",
       "    </tr>\n",
       "    <tr>\n",
       "      <th>AP (kgSO2eq)</th>\n",
       "      <td>0.3</td>\n",
       "      <td>1</td>\n",
       "    </tr>\n",
       "  </tbody>\n",
       "</table>\n",
       "</div>"
      ],
      "text/plain": [
       "                 NOx  SO2\n",
       "EP (kgPO3-/4eq)  0.1    0\n",
       "AP (kgSO2eq)     0.3    1"
      ]
     },
     "metadata": {},
     "output_type": "display_data"
    }
   ],
   "source": [
    "display(A_ii)\n",
    "display(y_ii)\n",
    "display(S_ii)\n",
    "display(C_ii)"
   ]
  },
  {
   "cell_type": "markdown",
   "id": "1677017e-91d3-49a7-877a-25021ae460f5",
   "metadata": {
    "deletable": false,
    "editable": false,
    "nbgrader": {
     "cell_type": "markdown",
     "checksum": "463065454f989602f9874b99c6086671",
     "grade": false,
     "grade_id": "cell-57c2b36d28a4ddda",
     "locked": true,
     "schema_version": 3,
     "solution": false,
     "task": false
    },
    "tags": []
   },
   "source": [
    "#### **1ii) Vector of total stressors e** _(10 points)_"
   ]
  },
  {
   "cell_type": "markdown",
   "id": "aebaf07e-1bd0-4902-9a4b-2ef7ec2e83d7",
   "metadata": {
    "deletable": false,
    "editable": false,
    "nbgrader": {
     "cell_type": "markdown",
     "checksum": "f9e5caedcd8c102a8a22e8cd98f59324",
     "grade": false,
     "grade_id": "cell-95e5709cbacf339e",
     "locked": true,
     "schema_version": 3,
     "solution": false,
     "task": false
    },
    "tags": []
   },
   "source": [
    "Define the identity matrix `I_ii` and calculate the determinant `detIA_ii` in the cell under."
   ]
  },
  {
   "cell_type": "code",
   "execution_count": 33,
   "id": "8e10083e-7f7e-4be8-a148-bfe4f8a97c9b",
   "metadata": {
    "deletable": false,
    "nbgrader": {
     "cell_type": "code",
     "checksum": "b62017c89dc27ae3846f9106c9b5004c",
     "grade": false,
     "grade_id": "cell-f6f0a7b8e2d7ee6e",
     "locked": false,
     "schema_version": 3,
     "solution": true,
     "task": false
    },
    "tags": []
   },
   "outputs": [
    {
     "name": "stdout",
     "output_type": "stream",
     "text": [
      "0.6729999999999999\n"
     ]
    }
   ],
   "source": [
    "I_ii = np.identity(2)\n",
    "\n",
    "detIA_ii = np.linalg.det(I_ii - A_ii)\n",
    "print(detIA_ii)"
   ]
  },
  {
   "cell_type": "markdown",
   "id": "77a6e70a-d808-4d6d-87ef-9c494f080f55",
   "metadata": {
    "deletable": false,
    "editable": false,
    "nbgrader": {
     "cell_type": "markdown",
     "checksum": "05752af39a6e405aed1b2f7240e66462",
     "grade": false,
     "grade_id": "cell-4b91a9beedae24c8",
     "locked": true,
     "schema_version": 3,
     "solution": false,
     "task": false
    },
    "tags": []
   },
   "source": [
    "**_Run the cell under to check the format of your answer(s)_**"
   ]
  },
  {
   "cell_type": "code",
   "execution_count": 34,
   "id": "c804595e-74f9-4ee4-8d32-7940f41fa344",
   "metadata": {
    "deletable": false,
    "editable": false,
    "nbgrader": {
     "cell_type": "code",
     "checksum": "917fc5e66b25c59aca5f674664bf40e1",
     "grade": true,
     "grade_id": "cell-0286bea576b75ac6",
     "locked": true,
     "points": 2,
     "schema_version": 3,
     "solution": false,
     "task": false
    },
    "tags": []
   },
   "outputs": [],
   "source": [
    "assert type(detIA_ii) == np.float64, 'The answer(s) must be numeric'"
   ]
  },
  {
   "cell_type": "markdown",
   "id": "7419285e-c75f-4da5-97e4-357c394447d3",
   "metadata": {
    "deletable": false,
    "editable": false,
    "nbgrader": {
     "cell_type": "markdown",
     "checksum": "dd8cd523a1da81f2dae05bee8618db75",
     "grade": false,
     "grade_id": "cell-0f2913f7019e800d",
     "locked": true,
     "schema_version": 3,
     "solution": false,
     "task": false
    },
    "tags": []
   },
   "source": [
    "Determine the L matrix that you will name `L_ii`. Remember that `L_ii` must be a Pandas DataFrame."
   ]
  },
  {
   "cell_type": "code",
   "execution_count": 35,
   "id": "afc21ec2-7f33-4f3e-bf5b-51451ddd5613",
   "metadata": {
    "deletable": false,
    "nbgrader": {
     "cell_type": "code",
     "checksum": "3515b6e72ddd69afb81f213cd16ea939",
     "grade": false,
     "grade_id": "cell-197f2f82bc5fcad5",
     "locked": false,
     "schema_version": 3,
     "solution": true,
     "task": false
    },
    "tags": []
   },
   "outputs": [
    {
     "data": {
      "text/html": [
       "<div>\n",
       "<style scoped>\n",
       "    .dataframe tbody tr th:only-of-type {\n",
       "        vertical-align: middle;\n",
       "    }\n",
       "\n",
       "    .dataframe tbody tr th {\n",
       "        vertical-align: top;\n",
       "    }\n",
       "\n",
       "    .dataframe thead th {\n",
       "        text-align: right;\n",
       "    }\n",
       "</style>\n",
       "<table border=\"1\" class=\"dataframe\">\n",
       "  <thead>\n",
       "    <tr style=\"text-align: right;\">\n",
       "      <th></th>\n",
       "      <th>A</th>\n",
       "      <th>B</th>\n",
       "    </tr>\n",
       "  </thead>\n",
       "  <tbody>\n",
       "    <tr>\n",
       "      <th>A</th>\n",
       "      <td>1.337296</td>\n",
       "      <td>0.594354</td>\n",
       "    </tr>\n",
       "    <tr>\n",
       "      <th>B</th>\n",
       "      <td>0.742942</td>\n",
       "      <td>1.441308</td>\n",
       "    </tr>\n",
       "  </tbody>\n",
       "</table>\n",
       "</div>"
      ],
      "text/plain": [
       "          A         B\n",
       "A  1.337296  0.594354\n",
       "B  0.742942  1.441308"
      ]
     },
     "metadata": {},
     "output_type": "display_data"
    }
   ],
   "source": [
    "L_ii_arr=np.linalg.inv(I_ii-A_ii)\n",
    "L_ii=pd.DataFrame(L_ii_arr, index = ['A', 'B'], columns = ['A', 'B'])\n",
    "display(L_ii)"
   ]
  },
  {
   "cell_type": "markdown",
   "id": "f43ed8dd-c528-4234-bb79-f4cf83ceea23",
   "metadata": {
    "deletable": false,
    "editable": false,
    "nbgrader": {
     "cell_type": "markdown",
     "checksum": "804245f7a242264ace3a0e81b6867e20",
     "grade": false,
     "grade_id": "cell-146153a1bd77c3f2",
     "locked": true,
     "schema_version": 3,
     "solution": false,
     "task": false
    },
    "tags": []
   },
   "source": [
    "**_Run the cell under to check the format of your answer(s)_**"
   ]
  },
  {
   "cell_type": "code",
   "execution_count": 36,
   "id": "9fb6e005-31d3-408e-b2b2-74fea814780e",
   "metadata": {
    "deletable": false,
    "editable": false,
    "nbgrader": {
     "cell_type": "code",
     "checksum": "367c534e6ebf59472db1fc56162d86e9",
     "grade": true,
     "grade_id": "cell-81514366e5be04f2",
     "locked": true,
     "points": 2,
     "schema_version": 3,
     "solution": false,
     "task": false
    },
    "tags": []
   },
   "outputs": [],
   "source": [
    "assert (L_ii.index == ['A', 'B']).all(), 'The index do not correspond'\n",
    "assert (L_ii.columns == ['A', 'B']).all(), 'The columns do not correspond'"
   ]
  },
  {
   "cell_type": "markdown",
   "id": "1cf810d2-1562-4298-a5d0-d108fd7b78dd",
   "metadata": {
    "deletable": false,
    "editable": false,
    "nbgrader": {
     "cell_type": "markdown",
     "checksum": "5c7de4e4400506b05ad5e975cfda678b",
     "grade": false,
     "grade_id": "cell-41e0d9421abf4c70",
     "locked": true,
     "schema_version": 3,
     "solution": false,
     "task": false
    },
    "tags": []
   },
   "source": [
    "Calculate the output vector `x_ii` using `y_ii`. Rename the column of `x_ii` as \"Output\"."
   ]
  },
  {
   "cell_type": "code",
   "execution_count": 37,
   "id": "c4534164-b66b-424d-b77a-69f54ca51c08",
   "metadata": {
    "deletable": false,
    "nbgrader": {
     "cell_type": "code",
     "checksum": "2874a18661bddddd85804188f9810b89",
     "grade": false,
     "grade_id": "cell-f48eb35678cb55e0",
     "locked": false,
     "schema_version": 3,
     "solution": true,
     "task": false
    },
    "tags": []
   },
   "outputs": [
    {
     "data": {
      "text/html": [
       "<div>\n",
       "<style scoped>\n",
       "    .dataframe tbody tr th:only-of-type {\n",
       "        vertical-align: middle;\n",
       "    }\n",
       "\n",
       "    .dataframe tbody tr th {\n",
       "        vertical-align: top;\n",
       "    }\n",
       "\n",
       "    .dataframe thead th {\n",
       "        text-align: right;\n",
       "    }\n",
       "</style>\n",
       "<table border=\"1\" class=\"dataframe\">\n",
       "  <thead>\n",
       "    <tr style=\"text-align: right;\">\n",
       "      <th></th>\n",
       "      <th>Output</th>\n",
       "    </tr>\n",
       "  </thead>\n",
       "  <tbody>\n",
       "    <tr>\n",
       "      <th>A</th>\n",
       "      <td>5.349183</td>\n",
       "    </tr>\n",
       "    <tr>\n",
       "      <th>B</th>\n",
       "      <td>2.971768</td>\n",
       "    </tr>\n",
       "  </tbody>\n",
       "</table>\n",
       "</div>"
      ],
      "text/plain": [
       "     Output\n",
       "A  5.349183\n",
       "B  2.971768"
      ]
     },
     "metadata": {},
     "output_type": "display_data"
    }
   ],
   "source": [
    "x_ii=L_ii @ y_ii\n",
    "x_ii = x_ii.rename(columns = {'Final demand' : 'Output'})\n",
    "\n",
    "display(x_ii)"
   ]
  },
  {
   "cell_type": "markdown",
   "id": "f93f9016-763a-43d0-bc18-058916faed88",
   "metadata": {
    "deletable": false,
    "editable": false,
    "nbgrader": {
     "cell_type": "markdown",
     "checksum": "1f3f7d865941208ac969f008950fd4a5",
     "grade": false,
     "grade_id": "cell-33443c6566ce689f",
     "locked": true,
     "schema_version": 3,
     "solution": false,
     "task": false
    },
    "tags": []
   },
   "source": [
    "**_Run the cell under to check the format of your answer(s)_**"
   ]
  },
  {
   "cell_type": "code",
   "execution_count": 38,
   "id": "8ff5a051-8ccd-4cbb-92fe-3556588e8c4c",
   "metadata": {
    "deletable": false,
    "editable": false,
    "nbgrader": {
     "cell_type": "code",
     "checksum": "6f9f9d5a433098e2099530de5a661be3",
     "grade": true,
     "grade_id": "cell-bdef3b486b03b742",
     "locked": true,
     "points": 2,
     "schema_version": 3,
     "solution": false,
     "task": false
    },
    "tags": []
   },
   "outputs": [],
   "source": [
    "assert (x_ii.columns == ['Output']).all(), 'The columns do not correspond'"
   ]
  },
  {
   "cell_type": "markdown",
   "id": "8d9764b0-5288-4419-88a0-f274fba2d601",
   "metadata": {
    "deletable": false,
    "editable": false,
    "nbgrader": {
     "cell_type": "markdown",
     "checksum": "4d0fbf5c0cbe51cce17980c12a4b1026",
     "grade": false,
     "grade_id": "cell-1afed03c418af13b",
     "locked": true,
     "schema_version": 3,
     "solution": false,
     "task": false
    },
    "tags": []
   },
   "source": [
    "Compute the vector of total stressors `e_ii`. Rename the column of `e_ii` as \"Stressors\"."
   ]
  },
  {
   "cell_type": "code",
   "execution_count": 39,
   "id": "f7acf2fc-22b4-4e5f-beb1-95aaf3c487e4",
   "metadata": {
    "deletable": false,
    "nbgrader": {
     "cell_type": "code",
     "checksum": "fc13abdeefd2a8598aac5884712c86ab",
     "grade": false,
     "grade_id": "cell-62c8ce6817927258",
     "locked": false,
     "schema_version": 3,
     "solution": true,
     "task": false
    },
    "tags": []
   },
   "outputs": [
    {
     "data": {
      "text/html": [
       "<div>\n",
       "<style scoped>\n",
       "    .dataframe tbody tr th:only-of-type {\n",
       "        vertical-align: middle;\n",
       "    }\n",
       "\n",
       "    .dataframe tbody tr th {\n",
       "        vertical-align: top;\n",
       "    }\n",
       "\n",
       "    .dataframe thead th {\n",
       "        text-align: right;\n",
       "    }\n",
       "</style>\n",
       "<table border=\"1\" class=\"dataframe\">\n",
       "  <thead>\n",
       "    <tr style=\"text-align: right;\">\n",
       "      <th></th>\n",
       "      <th>Stressors</th>\n",
       "    </tr>\n",
       "  </thead>\n",
       "  <tbody>\n",
       "    <tr>\n",
       "      <th>NOx</th>\n",
       "      <td>5.468053</td>\n",
       "    </tr>\n",
       "    <tr>\n",
       "      <th>SO2</th>\n",
       "      <td>3.150074</td>\n",
       "    </tr>\n",
       "  </tbody>\n",
       "</table>\n",
       "</div>"
      ],
      "text/plain": [
       "     Stressors\n",
       "NOx   5.468053\n",
       "SO2   3.150074"
      ]
     },
     "metadata": {},
     "output_type": "display_data"
    }
   ],
   "source": [
    "e_ii=S_ii @ x_ii\n",
    "e_ii = e_ii.rename(columns = {'Output' : 'Stressors'})\n",
    "\n",
    "display(e_ii)"
   ]
  },
  {
   "cell_type": "markdown",
   "id": "3c547d26-b1cc-4188-98fa-7bc4729fc67a",
   "metadata": {
    "deletable": false,
    "editable": false,
    "nbgrader": {
     "cell_type": "markdown",
     "checksum": "32910d00a584d942c4947786de11d8ab",
     "grade": false,
     "grade_id": "cell-4d8317ca9fed6cd0",
     "locked": true,
     "schema_version": 3,
     "solution": false,
     "task": false
    },
    "tags": []
   },
   "source": [
    "**_Run the cell under to check the format of your answer(s)_**"
   ]
  },
  {
   "cell_type": "code",
   "execution_count": 40,
   "id": "33cff652-b457-4e58-9215-367ff0373a91",
   "metadata": {
    "deletable": false,
    "editable": false,
    "nbgrader": {
     "cell_type": "code",
     "checksum": "8ad0d1e54d873e201abb9707d197aae8",
     "grade": true,
     "grade_id": "cell-e8e7d7a1c408a935",
     "locked": true,
     "points": 2,
     "schema_version": 3,
     "solution": false,
     "task": false
    },
    "tags": []
   },
   "outputs": [],
   "source": [
    "assert (e_ii.columns == ['Stressors']).all(), 'The column does not correspond'"
   ]
  },
  {
   "cell_type": "markdown",
   "id": "33b11549-9014-4200-9c43-9beeb28872fe",
   "metadata": {
    "deletable": false,
    "editable": false,
    "nbgrader": {
     "cell_type": "markdown",
     "checksum": "00077a3425e58f8b2f4c17dfeb8ed19e",
     "grade": false,
     "grade_id": "cell-1248f6bf3345236d",
     "locked": true,
     "schema_version": 3,
     "solution": false,
     "task": false
    },
    "tags": []
   },
   "source": [
    "**True or False?**\n",
    "\n",
    "There is no output of product B.\n",
    "\n",
    "Define your answer as the variable `answer_1ii` (e.g. `answer_1ii = True` if you think the statement is True and `answer_1ii = False` if you think the statement is False)."
   ]
  },
  {
   "cell_type": "code",
   "execution_count": 41,
   "id": "3c3d96ff-021b-48af-9f50-66cae8a75ed5",
   "metadata": {
    "deletable": false,
    "nbgrader": {
     "cell_type": "code",
     "checksum": "516b2bfb9ab79590959d8a708a9e2833",
     "grade": false,
     "grade_id": "cell-cf773d852eb4d1ae",
     "locked": false,
     "schema_version": 3,
     "solution": true,
     "task": false
    },
    "tags": []
   },
   "outputs": [],
   "source": [
    "answer_1ii = False"
   ]
  },
  {
   "cell_type": "markdown",
   "id": "03172d7d-9986-4c9a-91e2-d7aec8ba53fe",
   "metadata": {
    "deletable": false,
    "editable": false,
    "nbgrader": {
     "cell_type": "markdown",
     "checksum": "98e2f778648424dfc9ad9ebc21febdb8",
     "grade": false,
     "grade_id": "cell-607b889e886fd127",
     "locked": true,
     "schema_version": 3,
     "solution": false,
     "task": false
    },
    "tags": []
   },
   "source": [
    "**_Run the cell under to check the format of your answer(s)_**"
   ]
  },
  {
   "cell_type": "code",
   "execution_count": 42,
   "id": "45d379b4-5af7-44a0-869c-d2669f90617f",
   "metadata": {
    "deletable": false,
    "editable": false,
    "nbgrader": {
     "cell_type": "code",
     "checksum": "10bd66038ec26eb9d5316857b57db109",
     "grade": true,
     "grade_id": "cell-4d69e17bdcea0403",
     "locked": true,
     "points": 2,
     "schema_version": 3,
     "solution": false,
     "task": false
    },
    "tags": []
   },
   "outputs": [],
   "source": [
    "assert all (type(i) in [bool] for i in [answer_1ii]), 'The answer(s) must be a boolean i.e. True or False'"
   ]
  },
  {
   "cell_type": "markdown",
   "id": "47f30765-e5e8-411d-afb0-d2e7353588a5",
   "metadata": {
    "deletable": false,
    "editable": false,
    "nbgrader": {
     "cell_type": "markdown",
     "checksum": "1ba7c6619a6793e99718d80a6365af3c",
     "grade": false,
     "grade_id": "cell-3e09a40a830bceb6",
     "locked": true,
     "schema_version": 3,
     "solution": false,
     "task": false
    },
    "tags": []
   },
   "source": [
    "#### **2ii) Matrix of process stressors E** _(10 points)_"
   ]
  },
  {
   "cell_type": "markdown",
   "id": "740993ca-0c1e-480c-b230-019a6a1a1b55",
   "metadata": {
    "deletable": false,
    "editable": false,
    "nbgrader": {
     "cell_type": "markdown",
     "checksum": "fc8865ee1f37aa1e155716a8bd584ec6",
     "grade": false,
     "grade_id": "cell-2fee3d3f2ed3b104",
     "locked": true,
     "schema_version": 3,
     "solution": false,
     "task": false
    },
    "tags": []
   },
   "source": [
    "Compute the matrix of stressors by processes `E_ii`."
   ]
  },
  {
   "cell_type": "code",
   "execution_count": 43,
   "id": "fbed919c-b920-495d-a6e0-6a81db6446ca",
   "metadata": {
    "deletable": false,
    "nbgrader": {
     "cell_type": "code",
     "checksum": "6a0f378fc4989377c1f9bb52960099e6",
     "grade": false,
     "grade_id": "cell-c85fa396b3080dd2",
     "locked": false,
     "schema_version": 3,
     "solution": true,
     "task": false
    },
    "tags": []
   },
   "outputs": [
    {
     "data": {
      "text/html": [
       "<div>\n",
       "<style scoped>\n",
       "    .dataframe tbody tr th:only-of-type {\n",
       "        vertical-align: middle;\n",
       "    }\n",
       "\n",
       "    .dataframe tbody tr th {\n",
       "        vertical-align: top;\n",
       "    }\n",
       "\n",
       "    .dataframe thead th {\n",
       "        text-align: right;\n",
       "    }\n",
       "</style>\n",
       "<table border=\"1\" class=\"dataframe\">\n",
       "  <thead>\n",
       "    <tr style=\"text-align: right;\">\n",
       "      <th></th>\n",
       "      <th>NOx</th>\n",
       "      <th>SO2</th>\n",
       "    </tr>\n",
       "  </thead>\n",
       "  <tbody>\n",
       "    <tr>\n",
       "      <th>A</th>\n",
       "      <td>5.349183</td>\n",
       "      <td>0.000000</td>\n",
       "    </tr>\n",
       "    <tr>\n",
       "      <th>B</th>\n",
       "      <td>0.000000</td>\n",
       "      <td>2.971768</td>\n",
       "    </tr>\n",
       "  </tbody>\n",
       "</table>\n",
       "</div>"
      ],
      "text/plain": [
       "        NOx       SO2\n",
       "A  5.349183  0.000000\n",
       "B  0.000000  2.971768"
      ]
     },
     "metadata": {},
     "output_type": "display_data"
    },
    {
     "data": {
      "text/html": [
       "<div>\n",
       "<style scoped>\n",
       "    .dataframe tbody tr th:only-of-type {\n",
       "        vertical-align: middle;\n",
       "    }\n",
       "\n",
       "    .dataframe tbody tr th {\n",
       "        vertical-align: top;\n",
       "    }\n",
       "\n",
       "    .dataframe thead th {\n",
       "        text-align: right;\n",
       "    }\n",
       "</style>\n",
       "<table border=\"1\" class=\"dataframe\">\n",
       "  <thead>\n",
       "    <tr style=\"text-align: right;\">\n",
       "      <th></th>\n",
       "      <th>A</th>\n",
       "      <th>B</th>\n",
       "    </tr>\n",
       "  </thead>\n",
       "  <tbody>\n",
       "    <tr>\n",
       "      <th>NOx</th>\n",
       "      <td>0.8</td>\n",
       "      <td>0.4</td>\n",
       "    </tr>\n",
       "    <tr>\n",
       "      <th>SO2</th>\n",
       "      <td>0.2</td>\n",
       "      <td>0.7</td>\n",
       "    </tr>\n",
       "  </tbody>\n",
       "</table>\n",
       "</div>"
      ],
      "text/plain": [
       "       A    B\n",
       "NOx  0.8  0.4\n",
       "SO2  0.2  0.7"
      ]
     },
     "metadata": {},
     "output_type": "display_data"
    },
    {
     "data": {
      "text/html": [
       "<div>\n",
       "<style scoped>\n",
       "    .dataframe tbody tr th:only-of-type {\n",
       "        vertical-align: middle;\n",
       "    }\n",
       "\n",
       "    .dataframe tbody tr th {\n",
       "        vertical-align: top;\n",
       "    }\n",
       "\n",
       "    .dataframe thead th {\n",
       "        text-align: right;\n",
       "    }\n",
       "</style>\n",
       "<table border=\"1\" class=\"dataframe\">\n",
       "  <thead>\n",
       "    <tr style=\"text-align: right;\">\n",
       "      <th></th>\n",
       "      <th>A</th>\n",
       "      <th>B</th>\n",
       "    </tr>\n",
       "  </thead>\n",
       "  <tbody>\n",
       "    <tr>\n",
       "      <th>NOx</th>\n",
       "      <td>4.279346</td>\n",
       "      <td>1.188707</td>\n",
       "    </tr>\n",
       "    <tr>\n",
       "      <th>SO2</th>\n",
       "      <td>1.069837</td>\n",
       "      <td>2.080238</td>\n",
       "    </tr>\n",
       "  </tbody>\n",
       "</table>\n",
       "</div>"
      ],
      "text/plain": [
       "            A         B\n",
       "NOx  4.279346  1.188707\n",
       "SO2  1.069837  2.080238"
      ]
     },
     "metadata": {},
     "output_type": "display_data"
    }
   ],
   "source": [
    "x_ii_marr = np.diag(x_ii[\"Output\"])\n",
    "x_ii_m = pd.DataFrame(x_ii_marr, index = ['A' , 'B'], columns = ['NOx' , 'SO2'])\n",
    "display(x_ii_m)\n",
    "display(S_ii)\n",
    "\n",
    "E_ii = S_ii @ x_ii_m\n",
    "E_ii = E_ii.rename(columns = {'NOx' : 'A' , 'SO2' : 'B'})\n",
    "display(E_ii)"
   ]
  },
  {
   "cell_type": "markdown",
   "id": "c5baca91-a876-470f-9f82-4bada8de92ba",
   "metadata": {
    "deletable": false,
    "editable": false,
    "nbgrader": {
     "cell_type": "markdown",
     "checksum": "7c4ea6beb2d7d2a4e31c107a87ab53f1",
     "grade": false,
     "grade_id": "cell-e44749fec7700cc5",
     "locked": true,
     "schema_version": 3,
     "solution": false,
     "task": false
    },
    "tags": []
   },
   "source": [
    "**_Run the cell under to check the format of your answer(s)_**"
   ]
  },
  {
   "cell_type": "code",
   "execution_count": 44,
   "id": "431f6836-a82a-44fb-aaec-b708eaa1c644",
   "metadata": {
    "deletable": false,
    "editable": false,
    "nbgrader": {
     "cell_type": "code",
     "checksum": "f4e2c2ea7b5a0028e395125ad3cc8ee3",
     "grade": true,
     "grade_id": "cell-699442674e08411e",
     "locked": true,
     "points": 5,
     "schema_version": 3,
     "solution": false,
     "task": false
    },
    "tags": []
   },
   "outputs": [],
   "source": [
    "assert (E_ii.index == ['NOx', 'SO2']).all(), 'The index do not correspond'\n",
    "assert (E_ii.columns == ['A', 'B']).all(), 'The columns do not correspond'"
   ]
  },
  {
   "cell_type": "markdown",
   "id": "f88e347b-ac69-4e36-83a1-2a1eab642bad",
   "metadata": {
    "deletable": false,
    "editable": false,
    "nbgrader": {
     "cell_type": "markdown",
     "checksum": "62acdb4e5254ec8408b9e89058e21372",
     "grade": false,
     "grade_id": "cell-26b3346dfb8c374b",
     "locked": true,
     "schema_version": 3,
     "solution": false,
     "task": false
    },
    "tags": []
   },
   "source": [
    "**Which one(s) of these statement(s) is/are correct?**\n",
    "\n",
    "1. There are more emissions of NO$_x$ than SO$_2$.\n",
    "2. The sum of the rows of `E_ii` gives the vector `e_ii`.\n",
    "3. The sum of the columns of `E_ii` gives the vector `e_ii`.\n",
    "\n",
    "Define your answer as the variable `answer_2ii` (e.g. `answer_2ii = {1}` if you think the correct statement is statement {1} and `answer_2ii = {1, 2}` if you think the correct statements are statements {1, 2}).\n"
   ]
  },
  {
   "cell_type": "code",
   "execution_count": 45,
   "id": "d6bb8850-1ebf-4c9e-a5ca-ec4d515e41fe",
   "metadata": {
    "deletable": false,
    "nbgrader": {
     "cell_type": "code",
     "checksum": "04be48a1cfe9b57a38ff247e40d36986",
     "grade": false,
     "grade_id": "cell-e347e1fac804c2ca",
     "locked": false,
     "schema_version": 3,
     "solution": true,
     "task": false
    },
    "tags": []
   },
   "outputs": [],
   "source": [
    "answer_2ii = {1, 2}"
   ]
  },
  {
   "cell_type": "markdown",
   "id": "6ac3ad99-7581-490d-bdba-6517a67a639e",
   "metadata": {
    "deletable": false,
    "editable": false,
    "nbgrader": {
     "cell_type": "markdown",
     "checksum": "0b7fbb42e5a35f2926bb7ff9101356b9",
     "grade": false,
     "grade_id": "cell-cd06025246fc7cb9",
     "locked": true,
     "schema_version": 3,
     "solution": false,
     "task": false
    },
    "tags": []
   },
   "source": [
    "**_Run the cell under to check the format of your answer(s)_**"
   ]
  },
  {
   "cell_type": "code",
   "execution_count": 46,
   "id": "6a600417-5c5b-4ee2-a40a-9eb71d682aa3",
   "metadata": {
    "deletable": false,
    "editable": false,
    "nbgrader": {
     "cell_type": "code",
     "checksum": "0abaf01e13edb11ce55d16657d41dcd1",
     "grade": true,
     "grade_id": "cell-9e000196c598dc22",
     "locked": true,
     "points": 5,
     "schema_version": 3,
     "solution": false,
     "task": false
    },
    "tags": []
   },
   "outputs": [],
   "source": [
    "assert all (type(i) in [set] for i in [answer_2ii]), 'The answer(s) must be a set of values'"
   ]
  },
  {
   "cell_type": "markdown",
   "id": "f97f20b1-46d2-4e02-842f-26e82859afc6",
   "metadata": {
    "deletable": false,
    "editable": false,
    "nbgrader": {
     "cell_type": "markdown",
     "checksum": "d18a4473188381d933905b2fe71cad61",
     "grade": false,
     "grade_id": "cell-fe907a6a2996bb47",
     "locked": true,
     "schema_version": 3,
     "solution": false,
     "task": false
    },
    "tags": []
   },
   "source": [
    "#### **3ii) Vector of total impacts d** _(10 points)_"
   ]
  },
  {
   "cell_type": "markdown",
   "id": "de074084-a7c2-4d5b-b3c9-97dc767073b0",
   "metadata": {
    "deletable": false,
    "editable": false,
    "nbgrader": {
     "cell_type": "markdown",
     "checksum": "1a9c42a8899a980fcea2d3c73eecde82",
     "grade": false,
     "grade_id": "cell-ecf7c0a97ca2e3be",
     "locked": true,
     "schema_version": 3,
     "solution": false,
     "task": false
    },
    "tags": []
   },
   "source": [
    "Compute the vector of total impacts `d_ii`. Rename the column of `d_ii` as \"Total impacts\"."
   ]
  },
  {
   "cell_type": "code",
   "execution_count": 47,
   "id": "428e1f03-a78f-4edd-b86b-9eb8ace75d3f",
   "metadata": {
    "deletable": false,
    "nbgrader": {
     "cell_type": "code",
     "checksum": "8332309b20f8ddbd56ff810e91981888",
     "grade": false,
     "grade_id": "cell-74adc5baea0bca8b",
     "locked": false,
     "schema_version": 3,
     "solution": true,
     "task": false
    },
    "tags": []
   },
   "outputs": [
    {
     "data": {
      "text/html": [
       "<div>\n",
       "<style scoped>\n",
       "    .dataframe tbody tr th:only-of-type {\n",
       "        vertical-align: middle;\n",
       "    }\n",
       "\n",
       "    .dataframe tbody tr th {\n",
       "        vertical-align: top;\n",
       "    }\n",
       "\n",
       "    .dataframe thead th {\n",
       "        text-align: right;\n",
       "    }\n",
       "</style>\n",
       "<table border=\"1\" class=\"dataframe\">\n",
       "  <thead>\n",
       "    <tr style=\"text-align: right;\">\n",
       "      <th></th>\n",
       "      <th>Total impacts</th>\n",
       "    </tr>\n",
       "  </thead>\n",
       "  <tbody>\n",
       "    <tr>\n",
       "      <th>EP (kgPO3-/4eq)</th>\n",
       "      <td>0.546805</td>\n",
       "    </tr>\n",
       "    <tr>\n",
       "      <th>AP (kgSO2eq)</th>\n",
       "      <td>4.790490</td>\n",
       "    </tr>\n",
       "  </tbody>\n",
       "</table>\n",
       "</div>"
      ],
      "text/plain": [
       "                 Total impacts\n",
       "EP (kgPO3-/4eq)       0.546805\n",
       "AP (kgSO2eq)          4.790490"
      ]
     },
     "metadata": {},
     "output_type": "display_data"
    }
   ],
   "source": [
    "d_ii = C_ii @ e_ii\n",
    "d_ii = d_ii.rename(columns = {'Stressors' : 'Total impacts'})\n",
    "display(d_ii)"
   ]
  },
  {
   "cell_type": "markdown",
   "id": "ac273699-5305-459e-98c0-e0c71f04323d",
   "metadata": {
    "deletable": false,
    "editable": false,
    "nbgrader": {
     "cell_type": "markdown",
     "checksum": "2fe7e5b9641b3239516e02ad4eef2568",
     "grade": false,
     "grade_id": "cell-fbb729878dc0c5a8",
     "locked": true,
     "schema_version": 3,
     "solution": false,
     "task": false
    },
    "tags": []
   },
   "source": [
    "**_Run the cell under to check the format of your answer(s)_**"
   ]
  },
  {
   "cell_type": "code",
   "execution_count": 48,
   "id": "19149385-2240-4252-af3a-b0decf84d859",
   "metadata": {
    "deletable": false,
    "editable": false,
    "nbgrader": {
     "cell_type": "code",
     "checksum": "85b54e18a7a5ababeb968ee275720f9f",
     "grade": true,
     "grade_id": "cell-fee9c6d620d893e6",
     "locked": true,
     "points": 5,
     "schema_version": 3,
     "solution": false,
     "task": false
    },
    "tags": []
   },
   "outputs": [],
   "source": [
    "assert (d_ii.columns == ['Total impacts']).all(), 'The column does not correspond'"
   ]
  },
  {
   "cell_type": "markdown",
   "id": "32a3ffce-cae1-4087-8f1c-3f72695c64eb",
   "metadata": {
    "deletable": false,
    "editable": false,
    "nbgrader": {
     "cell_type": "markdown",
     "checksum": "e7a4db83b7da131a6db99a07e59313e4",
     "grade": false,
     "grade_id": "cell-945727722c6430c0",
     "locked": true,
     "schema_version": 3,
     "solution": false,
     "task": false
    },
    "tags": []
   },
   "source": [
    "**True or False?**\n",
    "\n",
    "The unit of acidification potential (AP) is kgSO$_2$-equivalents.\n",
    "\n",
    "Define your answer as the variable `answer_3ii` (e.g. `answer_3ii = True` if you think the statement is True and `answer_3ii = False` if you think the statement is False)."
   ]
  },
  {
   "cell_type": "code",
   "execution_count": 49,
   "id": "6b9e06b7-7591-4864-8472-65ac0807ecec",
   "metadata": {
    "deletable": false,
    "nbgrader": {
     "cell_type": "code",
     "checksum": "c2addb4e77902df5bca4a6ed6972e071",
     "grade": false,
     "grade_id": "cell-1c2ae26f2df353e0",
     "locked": false,
     "schema_version": 3,
     "solution": true,
     "task": false
    },
    "tags": []
   },
   "outputs": [],
   "source": [
    "answer_3ii = True"
   ]
  },
  {
   "cell_type": "markdown",
   "id": "db06d44b-3f51-4ecf-9bd7-4880ee497155",
   "metadata": {
    "deletable": false,
    "editable": false,
    "nbgrader": {
     "cell_type": "markdown",
     "checksum": "6fb2be05917ff4fbc40f191dde12e4bb",
     "grade": false,
     "grade_id": "cell-646983ad7b342b27",
     "locked": true,
     "schema_version": 3,
     "solution": false,
     "task": false
    },
    "tags": []
   },
   "source": [
    "**_Run the cell under to check the format of your answer(s)_**"
   ]
  },
  {
   "cell_type": "code",
   "execution_count": 50,
   "id": "1869ab8f-3ca5-47c1-ad96-31f2b4aa4ee3",
   "metadata": {
    "deletable": false,
    "editable": false,
    "nbgrader": {
     "cell_type": "code",
     "checksum": "5b72eba293d7362e5a5897ef9fcda680",
     "grade": true,
     "grade_id": "cell-46f33c4dffcde3b7",
     "locked": true,
     "points": 5,
     "schema_version": 3,
     "solution": false,
     "task": false
    },
    "tags": []
   },
   "outputs": [],
   "source": [
    "assert all (type(i) in [bool] for i in [answer_3ii]), 'The answer(s) must be a boolean i.e. True or False'"
   ]
  },
  {
   "cell_type": "markdown",
   "id": "f9d2cb80-814a-426d-9818-595e644c89b7",
   "metadata": {
    "deletable": false,
    "editable": false,
    "nbgrader": {
     "cell_type": "markdown",
     "checksum": "e16918796e89295f8325d363830a4db5",
     "grade": false,
     "grade_id": "cell-fdcb47aa0490b3f4",
     "locked": true,
     "schema_version": 3,
     "solution": false,
     "task": false
    },
    "tags": []
   },
   "source": [
    "#### **4ii) Matrix of impacts from each process Dpro** _(10 points)_"
   ]
  },
  {
   "cell_type": "markdown",
   "id": "ca71c0e5-fd5b-4bf2-a0e6-36435ce34343",
   "metadata": {
    "deletable": false,
    "editable": false,
    "nbgrader": {
     "cell_type": "markdown",
     "checksum": "9d4cc5b1dfcba33ce30c9eea3d0ad7c0",
     "grade": false,
     "grade_id": "cell-0835a80df15874be",
     "locked": true,
     "schema_version": 3,
     "solution": false,
     "task": false
    },
    "tags": []
   },
   "source": [
    "Compute the matrix of impacts by processes `Dpro_ii`."
   ]
  },
  {
   "cell_type": "code",
   "execution_count": 51,
   "id": "dd262d8e-dc82-470b-afc9-74daf5b4be24",
   "metadata": {
    "deletable": false,
    "nbgrader": {
     "cell_type": "code",
     "checksum": "34a167c65ecaa7a1424d1097c40a9c93",
     "grade": false,
     "grade_id": "cell-b732f326eff579a2",
     "locked": false,
     "schema_version": 3,
     "solution": true,
     "task": false
    },
    "tags": []
   },
   "outputs": [
    {
     "data": {
      "text/html": [
       "<div>\n",
       "<style scoped>\n",
       "    .dataframe tbody tr th:only-of-type {\n",
       "        vertical-align: middle;\n",
       "    }\n",
       "\n",
       "    .dataframe tbody tr th {\n",
       "        vertical-align: top;\n",
       "    }\n",
       "\n",
       "    .dataframe thead th {\n",
       "        text-align: right;\n",
       "    }\n",
       "</style>\n",
       "<table border=\"1\" class=\"dataframe\">\n",
       "  <thead>\n",
       "    <tr style=\"text-align: right;\">\n",
       "      <th></th>\n",
       "      <th>A</th>\n",
       "      <th>B</th>\n",
       "    </tr>\n",
       "  </thead>\n",
       "  <tbody>\n",
       "    <tr>\n",
       "      <th>EP (kgPO3-/4eq)</th>\n",
       "      <td>0.427935</td>\n",
       "      <td>0.118871</td>\n",
       "    </tr>\n",
       "    <tr>\n",
       "      <th>AP (kgSO2eq)</th>\n",
       "      <td>2.353640</td>\n",
       "      <td>2.436850</td>\n",
       "    </tr>\n",
       "  </tbody>\n",
       "</table>\n",
       "</div>"
      ],
      "text/plain": [
       "                        A         B\n",
       "EP (kgPO3-/4eq)  0.427935  0.118871\n",
       "AP (kgSO2eq)     2.353640  2.436850"
      ]
     },
     "metadata": {},
     "output_type": "display_data"
    }
   ],
   "source": [
    "Dpro_ii = C_ii @ E_ii\n",
    "\n",
    "display(Dpro_ii)"
   ]
  },
  {
   "cell_type": "markdown",
   "id": "268865d6-fae8-4e8a-8c45-da8abca33efa",
   "metadata": {
    "deletable": false,
    "editable": false,
    "nbgrader": {
     "cell_type": "markdown",
     "checksum": "e138913cb24d09e98e79201fcb077f17",
     "grade": false,
     "grade_id": "cell-fd4786dcef2760b2",
     "locked": true,
     "schema_version": 3,
     "solution": false,
     "task": false
    },
    "tags": []
   },
   "source": [
    "**_Run the cell under to check the format of your answer(s)_**"
   ]
  },
  {
   "cell_type": "code",
   "execution_count": 52,
   "id": "112744da-7064-4c04-b887-1361829523c6",
   "metadata": {
    "deletable": false,
    "editable": false,
    "nbgrader": {
     "cell_type": "code",
     "checksum": "8b9a87c20c61b4d9f7765f13d3513177",
     "grade": true,
     "grade_id": "cell-6a41aa18dc6afa9e",
     "locked": true,
     "points": 5,
     "schema_version": 3,
     "solution": false,
     "task": false
    },
    "tags": []
   },
   "outputs": [],
   "source": [
    "assert (Dpro_ii.index == ['EP (kgPO3-/4eq)', 'AP (kgSO2eq)']).all(), 'The index do not correspond'\n",
    "assert (Dpro_ii.columns == ['A', 'B']).all(), 'The columns do not correspond'"
   ]
  },
  {
   "cell_type": "markdown",
   "id": "128cc966-6508-46d8-a567-64c330c932d4",
   "metadata": {
    "deletable": false,
    "editable": false,
    "nbgrader": {
     "cell_type": "markdown",
     "checksum": "ae000059d8f7a2c09c1b7fc26dccfe64",
     "grade": false,
     "grade_id": "cell-79a898b134b47f36",
     "locked": true,
     "schema_version": 3,
     "solution": false,
     "task": false
    },
    "tags": []
   },
   "source": [
    "**True or False?**\n",
    "\n",
    "Dpro represents the environmental impacts broken down on processes.\n",
    "\n",
    "Define your answer as the variable `answer_4iia` (e.g. `answer_4iia = True` if you think the statement is True and `answer_4iia = False` if you think the statement is False)."
   ]
  },
  {
   "cell_type": "code",
   "execution_count": 53,
   "id": "c6992504-cf66-478b-8868-07d824f795e7",
   "metadata": {
    "deletable": false,
    "nbgrader": {
     "cell_type": "code",
     "checksum": "fe8e1fac5a88dd9b75604e955e6b4e28",
     "grade": false,
     "grade_id": "cell-b7f34ba287fb59b7",
     "locked": false,
     "schema_version": 3,
     "solution": true,
     "task": false
    },
    "tags": []
   },
   "outputs": [],
   "source": [
    "answer_4iia = True"
   ]
  },
  {
   "cell_type": "markdown",
   "id": "003a32f2-9e83-4dce-9b2b-a899e9703279",
   "metadata": {
    "deletable": false,
    "editable": false,
    "nbgrader": {
     "cell_type": "markdown",
     "checksum": "e72da0d4a198fe2bb6ee1b15f5df3c16",
     "grade": false,
     "grade_id": "cell-31b175467acca60d",
     "locked": true,
     "schema_version": 3,
     "solution": false,
     "task": false
    },
    "tags": []
   },
   "source": [
    "**_Run the cell under to check the format of your answer(s)_**"
   ]
  },
  {
   "cell_type": "code",
   "execution_count": 54,
   "id": "86a5c6d8-631c-4096-967e-68ffa16aa8d1",
   "metadata": {
    "deletable": false,
    "editable": false,
    "nbgrader": {
     "cell_type": "code",
     "checksum": "68d389f47d6c7f61180f8d700b620dc8",
     "grade": true,
     "grade_id": "cell-88b2d0d6db644697",
     "locked": true,
     "points": 2,
     "schema_version": 3,
     "solution": false,
     "task": false
    },
    "tags": []
   },
   "outputs": [],
   "source": [
    "assert all (type(i) in [bool] for i in [answer_4iia]), 'The answer(s) must be a boolean i.e. True or False'"
   ]
  },
  {
   "cell_type": "markdown",
   "id": "5b1e3dab-f891-49e5-9215-3eb37fcd81a7",
   "metadata": {
    "deletable": false,
    "editable": false,
    "nbgrader": {
     "cell_type": "markdown",
     "checksum": "4c50f35fe2b950d125b6aaf87b07bddd",
     "grade": false,
     "grade_id": "cell-57a12b4fd69fe3fe",
     "locked": true,
     "schema_version": 3,
     "solution": false,
     "task": false
    },
    "tags": []
   },
   "source": [
    "**Which one(s) of these statement(s) is/are correct?**\n",
    "\n",
    "Why does process B causes environmental impact even though its final demand is 0?\n",
    "1. Because process B was taken in the calculations even though there is no final demand for B, we should delete process B.\n",
    "2. Because process A requires a certain amount of intermediate demand from process B.\n",
    "3. Because process B is part of the production process and it should be considered even if there is no final demand for it.\n",
    "\n",
    "Define your answer as the variable `answer_4iib` (e.g. `answer_4iib = {1}` if you think the correct statement is statement {1} and `answer_4iib = {1, 2}` if you think the correct statements are statements {1, 2})."
   ]
  },
  {
   "cell_type": "code",
   "execution_count": 55,
   "id": "7237ff74-aabe-4673-91b6-2a34358c5f76",
   "metadata": {
    "deletable": false,
    "nbgrader": {
     "cell_type": "code",
     "checksum": "87c228d2bd93ef9cb8e6da47003aea8b",
     "grade": false,
     "grade_id": "cell-236ddc7c4bb00d5f",
     "locked": false,
     "schema_version": 3,
     "solution": true,
     "task": false
    },
    "tags": []
   },
   "outputs": [],
   "source": [
    "answer_4iib = {2, 3}"
   ]
  },
  {
   "cell_type": "markdown",
   "id": "7b735422-3d52-4eb1-8f80-72c196b9c877",
   "metadata": {
    "deletable": false,
    "editable": false,
    "nbgrader": {
     "cell_type": "markdown",
     "checksum": "e314af3196814f673ab9c6cb6dcdec0c",
     "grade": false,
     "grade_id": "cell-72cad4fa6790a481",
     "locked": true,
     "schema_version": 3,
     "solution": false,
     "task": false
    },
    "tags": []
   },
   "source": [
    "**_Run the cell under to check the format of your answer(s)_**"
   ]
  },
  {
   "cell_type": "code",
   "execution_count": 56,
   "id": "69f41fca-e6a7-4548-ac41-419ab03fd538",
   "metadata": {
    "deletable": false,
    "editable": false,
    "nbgrader": {
     "cell_type": "code",
     "checksum": "7f4085f0f16e8b1960f9e739df4dda92",
     "grade": true,
     "grade_id": "cell-9549a10a8f91e3b6",
     "locked": true,
     "points": 3,
     "schema_version": 3,
     "solution": false,
     "task": false
    },
    "tags": []
   },
   "outputs": [],
   "source": [
    "assert all (type(i) in [set] for i in [answer_4iib]), 'The answer(s) must be a set of values'"
   ]
  },
  {
   "cell_type": "markdown",
   "id": "35338a9c-c9c7-4367-8fb1-9bd15aade813",
   "metadata": {
    "deletable": false,
    "editable": false,
    "nbgrader": {
     "cell_type": "markdown",
     "checksum": "104026e839f14f55476d2f1f76ea3293",
     "grade": false,
     "grade_id": "cell-b9f0fc4676b12b64",
     "locked": true,
     "schema_version": 3,
     "solution": false,
     "task": false
    },
    "tags": []
   },
   "source": [
    "#### **5ii) Matrix of impacts from each stressor Dstr** _(10 points)_"
   ]
  },
  {
   "cell_type": "markdown",
   "id": "b03dd32e-f2e1-4405-9180-06719c11f705",
   "metadata": {
    "deletable": false,
    "editable": false,
    "nbgrader": {
     "cell_type": "markdown",
     "checksum": "93c41f4347b9c6bc61e020027c3f2751",
     "grade": false,
     "grade_id": "cell-25ea183618fd4812",
     "locked": true,
     "schema_version": 3,
     "solution": false,
     "task": false
    },
    "tags": []
   },
   "source": [
    "Compute the matrix of impacts by stressors `Dstr_ii`."
   ]
  },
  {
   "cell_type": "code",
   "execution_count": 59,
   "id": "25dae717-1024-4723-83a8-3414aa65f9fc",
   "metadata": {
    "deletable": false,
    "nbgrader": {
     "cell_type": "code",
     "checksum": "270d296fa79d29ab3bbfc6ab3c4c1952",
     "grade": false,
     "grade_id": "cell-0866a2c5adfaa297",
     "locked": false,
     "schema_version": 3,
     "solution": true,
     "task": false
    },
    "tags": []
   },
   "outputs": [
    {
     "data": {
      "text/html": [
       "<div>\n",
       "<style scoped>\n",
       "    .dataframe tbody tr th:only-of-type {\n",
       "        vertical-align: middle;\n",
       "    }\n",
       "\n",
       "    .dataframe tbody tr th {\n",
       "        vertical-align: top;\n",
       "    }\n",
       "\n",
       "    .dataframe thead th {\n",
       "        text-align: right;\n",
       "    }\n",
       "</style>\n",
       "<table border=\"1\" class=\"dataframe\">\n",
       "  <thead>\n",
       "    <tr style=\"text-align: right;\">\n",
       "      <th></th>\n",
       "      <th>NOx</th>\n",
       "      <th>SO2</th>\n",
       "    </tr>\n",
       "  </thead>\n",
       "  <tbody>\n",
       "    <tr>\n",
       "      <th>A</th>\n",
       "      <td>5.468053</td>\n",
       "      <td>0.000000</td>\n",
       "    </tr>\n",
       "    <tr>\n",
       "      <th>B</th>\n",
       "      <td>0.000000</td>\n",
       "      <td>3.150074</td>\n",
       "    </tr>\n",
       "  </tbody>\n",
       "</table>\n",
       "</div>"
      ],
      "text/plain": [
       "        NOx       SO2\n",
       "A  5.468053  0.000000\n",
       "B  0.000000  3.150074"
      ]
     },
     "metadata": {},
     "output_type": "display_data"
    },
    {
     "data": {
      "text/html": [
       "<div>\n",
       "<style scoped>\n",
       "    .dataframe tbody tr th:only-of-type {\n",
       "        vertical-align: middle;\n",
       "    }\n",
       "\n",
       "    .dataframe tbody tr th {\n",
       "        vertical-align: top;\n",
       "    }\n",
       "\n",
       "    .dataframe thead th {\n",
       "        text-align: right;\n",
       "    }\n",
       "</style>\n",
       "<table border=\"1\" class=\"dataframe\">\n",
       "  <thead>\n",
       "    <tr style=\"text-align: right;\">\n",
       "      <th></th>\n",
       "      <th>NOx</th>\n",
       "      <th>SO2</th>\n",
       "    </tr>\n",
       "  </thead>\n",
       "  <tbody>\n",
       "    <tr>\n",
       "      <th>EP (kgPO3-/4eq)</th>\n",
       "      <td>0.546805</td>\n",
       "      <td>0.000000</td>\n",
       "    </tr>\n",
       "    <tr>\n",
       "      <th>AP (kgSO2eq)</th>\n",
       "      <td>1.640416</td>\n",
       "      <td>3.150074</td>\n",
       "    </tr>\n",
       "  </tbody>\n",
       "</table>\n",
       "</div>"
      ],
      "text/plain": [
       "                      NOx       SO2\n",
       "EP (kgPO3-/4eq)  0.546805  0.000000\n",
       "AP (kgSO2eq)     1.640416  3.150074"
      ]
     },
     "metadata": {},
     "output_type": "display_data"
    }
   ],
   "source": [
    "e_ii_marr = np.diag(e_ii[\"Stressors\"])\n",
    "e_ii_m = pd.DataFrame(e_ii_marr, index = ['A' , 'B'], columns = ['NOx' , 'SO2'])\n",
    "display(e_ii_m)\n",
    "\n",
    "e_ii_m = e_ii_m.rename(index = {'A' : 'NOx' , 'B' : 'SO2'})\n",
    "\n",
    "Dstr_ii = C_ii @ e_ii_m\n",
    "\n",
    "display(Dstr_ii)"
   ]
  },
  {
   "cell_type": "markdown",
   "id": "976d183b-cff3-48ab-a4dc-65a0b9f54aa9",
   "metadata": {
    "deletable": false,
    "editable": false,
    "nbgrader": {
     "cell_type": "markdown",
     "checksum": "48a7ff1399353a5e1cffd4a2d2dec49b",
     "grade": false,
     "grade_id": "cell-5af1eaa49169e1a2",
     "locked": true,
     "schema_version": 3,
     "solution": false,
     "task": false
    },
    "tags": []
   },
   "source": [
    "**_Run the cell under to check the format of your answer(s)_**"
   ]
  },
  {
   "cell_type": "code",
   "execution_count": 60,
   "id": "027c722c-013d-4017-b5a0-521c0bc84bed",
   "metadata": {
    "deletable": false,
    "editable": false,
    "nbgrader": {
     "cell_type": "code",
     "checksum": "a82725c601ecf8fdd9e7524a1ab52047",
     "grade": true,
     "grade_id": "cell-50bdbac638a5c62b",
     "locked": true,
     "points": 5,
     "schema_version": 3,
     "solution": false,
     "task": false
    },
    "tags": []
   },
   "outputs": [],
   "source": [
    "assert (Dstr_ii.index == ['EP (kgPO3-/4eq)', 'AP (kgSO2eq)']).all(), 'The index do not correspond'\n",
    "assert (Dstr_ii.columns == ['NOx', 'SO2']).all(), 'The columns do not correspond'"
   ]
  },
  {
   "cell_type": "markdown",
   "id": "78a951b9-36c6-4c70-82ac-1e3c264523cb",
   "metadata": {
    "deletable": false,
    "editable": false,
    "nbgrader": {
     "cell_type": "markdown",
     "checksum": "a0b6f3d2f6a61ea881062eef6c1f4c28",
     "grade": false,
     "grade_id": "cell-a4bfc9cf4b092cc4",
     "locked": true,
     "schema_version": 3,
     "solution": false,
     "task": false
    },
    "tags": []
   },
   "source": [
    "**Which one(s) of these statement(s) is/are correct?**\n",
    "\n",
    "1. Summing the columns of `Dpro_ii` or the columns of `Dstr_ii` gives the same result.\n",
    "2. Summing the rows of `Dpro_ii` or the rows of `Dstr_ii` gives the same result.\n",
    "3. SO$_2$ contributes only to AP.\n",
    "4. The characterization matrix `C` is essential in calculating `Dpro_ii` and `Dstr_ii`.\n",
    "\n",
    "Define your answer as the variable `answer_5ii` (e.g. `answer_5ii = {1}` if you think the correct statement is statement {1} and `answer_5ii = {1, 2}` if you think the correct statements are statements {1, 2})."
   ]
  },
  {
   "cell_type": "code",
   "execution_count": 61,
   "id": "abca7116-f44e-410d-a63a-76ebba3e4724",
   "metadata": {
    "deletable": false,
    "nbgrader": {
     "cell_type": "code",
     "checksum": "d5a779cac0fe89481d000aaf8b17ee78",
     "grade": false,
     "grade_id": "cell-19459d7f6d0785d5",
     "locked": false,
     "schema_version": 3,
     "solution": true,
     "task": false
    },
    "tags": []
   },
   "outputs": [],
   "source": [
    "answer_5ii = {2, 3, 4}"
   ]
  },
  {
   "cell_type": "markdown",
   "id": "b0f4dbf1-2632-4a51-b499-2d3c1d3f81a6",
   "metadata": {
    "deletable": false,
    "editable": false,
    "nbgrader": {
     "cell_type": "markdown",
     "checksum": "4609f502b32f7032658ff7cf39fb7286",
     "grade": false,
     "grade_id": "cell-3b3e17c9d87b4d01",
     "locked": true,
     "schema_version": 3,
     "solution": false,
     "task": false
    },
    "tags": []
   },
   "source": [
    "**_Run the cell under to check the format of your answer(s)_**"
   ]
  },
  {
   "cell_type": "code",
   "execution_count": 62,
   "id": "ba8a2453-351d-455a-ac0b-f381c42b6a77",
   "metadata": {
    "deletable": false,
    "editable": false,
    "nbgrader": {
     "cell_type": "code",
     "checksum": "9edf4927763f73dcd657d1911b3cf953",
     "grade": true,
     "grade_id": "cell-95988d39a846c587",
     "locked": true,
     "points": 5,
     "schema_version": 3,
     "solution": false,
     "task": false
    },
    "tags": []
   },
   "outputs": [],
   "source": [
    "assert all (type(i) in [set] for i in [answer_5ii]), 'The answer(s) must be a set of values'"
   ]
  }
 ],
 "metadata": {
  "kernelspec": {
   "display_name": "Python 3 (ipykernel)",
   "language": "python",
   "name": "python3"
  },
  "language_info": {
   "codemirror_mode": {
    "name": "ipython",
    "version": 3
   },
   "file_extension": ".py",
   "mimetype": "text/x-python",
   "name": "python",
   "nbconvert_exporter": "python",
   "pygments_lexer": "ipython3",
   "version": "3.10.8"
  }
 },
 "nbformat": 4,
 "nbformat_minor": 5
}
